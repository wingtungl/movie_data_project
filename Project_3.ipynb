{
 "cells": [
  {
   "cell_type": "code",
   "execution_count": 2,
   "id": "309a0700",
   "metadata": {},
   "outputs": [],
   "source": [
    "import requests\n",
    "from api_keys import api_key\n",
    "import pandas as pd\n",
    "import googleapiclient.discovery\n",
    "import googleapiclient.errors\n",
    "import google_auth_oauthlib.flow\n",
    "import os\n",
    "import json\n",
    "from IPython.display import JSON\n",
    "from pathlib import Path"
   ]
  },
  {
   "cell_type": "code",
   "execution_count": null,
   "id": "01ca45ef",
   "metadata": {},
   "outputs": [],
   "source": [
    "# Movie trailer data from Youtube"
   ]
  },
  {
   "cell_type": "code",
   "execution_count": 27,
   "id": "3d780128",
   "metadata": {},
   "outputs": [],
   "source": [
    "#video_id for movie trailers of top 20 movies in 2023 worldwide\n",
    "video_id = ['pBk4NYhWNMM',\n",
    "            'TnGl01FkMMo',\n",
    "            'uYPbbksJxIg',\n",
    "            'bK6ldnjE3Y0',\n",
    "            'u3V5KDHRQvk',\n",
    "            'JqcncLPi9zw',\n",
    "            '32RAq6JzY-w',\n",
    "            'aOb15GVFZxU',\n",
    "            'eoOaKN4qCKw',\n",
    "            'cqGjhVJWtEg',\n",
    "            'shW9i6k8cB0',\n",
    "            'kpGo2_d3oYE',\n",
    "            'avz06PDqDbM',\n",
    "            'HurjfO_TDlQ',\n",
    "            'hXzcyx9V0xw',\n",
    "            'ZlNFpri-Y40',\n",
    "            '5WfTEZJnv_8',\n",
    "            'qEVUtrk8_B4',\n",
    "            'yjRHZEUamCc',\n",
    "            'itnqEauWQZM',\n",
    "            'ZtuFgnxQMrA',\n",
    "            'dG91B3hHyY4',\n",
    "            'eQfMbSe7F2g',\n",
    "            'RDE6Uz73A7g',\n",
    "            'NxW_X4kzeus',\n",
    "            '0VH9WCFV6XQ',\n",
    "            'Z_T0o5uNrlY',\n",
    "            'AHmCH7iB_IM',\n",
    "            'xTaIZo8OJYE',\n",
    "            'hebWYacbdvc',\n",
    "            'r51cYVZWKdY',\n",
    "            'QF-oyCwaArU',\n",
    "            'KudedLV0tP0']"
   ]
  },
  {
   "cell_type": "code",
   "execution_count": 28,
   "id": "208f2ef2",
   "metadata": {},
   "outputs": [
    {
     "data": {
      "application/json": {
       "etag": "-yqF6GN2iPC1TNS2OxZiFhD4YJk",
       "items": [
        {
         "contentDetails": {
          "caption": "true",
          "contentRating": {},
          "definition": "hd",
          "dimension": "2d",
          "duration": "PT2M42S",
          "licensedContent": false,
          "projection": "rectangular"
         },
         "etag": "yL9_GHkbtxmX8KM9TvvSwjGzvAs",
         "id": "pBk4NYhWNMM",
         "kind": "youtube#video",
         "snippet": {
          "categoryId": "1",
          "channelId": "UCjmJDM5pRKbUlVIzDYYWb6g",
          "channelTitle": "Warner Bros. Pictures",
          "defaultAudioLanguage": "en-US",
          "defaultLanguage": "en",
          "description": "Giant blowout party ✅\nPlanned choreography ✅\nNew #BarbieTheMovie Trailer ✅\nOnly in Theaters July 21.\n\nTo live in Barbie Land is to be a perfect being in a perfect place.  Unless you have a full-on existential crisis.  Or you’re a Ken.\n\nPre-order/save Barbie The Album: https://barbiethealbum.lnk.to/BTA\n\nFrom Oscar-nominated writer/director Greta Gerwig (“Little Women,” “Lady Bird”) comes “Barbie,” starring Oscar-nominees Margot Robbie (“Bombshell,” “I, Tonya”) and Ryan Gosling (“La La Land,” “Half Nelson”) as Barbie and Ken, alongside America Ferrera (“End of Watch,” the “How to Train Your Dragon” films), Kate McKinnon (“Bombshell,” “Yesterday”), Issa Rae (“The Photograph,” “Insecure”), Rhea Perlman (“I’ll See You in My Dreams,” “Matilda”), and Will Ferrell (the “Anchorman” films, “Talladega Nights”).  The film also stars Michael Cera (“Scott Pilgrim vs. the World,” “Juno”), Ariana Greenblatt (“Avengers: Infinity War,” “65”), Ana Cruz Kayne (“Little Women”), Emma Mackey (“Emily,” “Sex Education”), Hari Nef (“Assassination Nation,” “Transparent”), Alexandra Shipp (the “X-Men” films), Kingsley Ben-Adir (“One Night in Miami,” “Peaky Blinders”), Simu Liu (“Shang-Chi and the Legend of the Ten Rings”), Ncuti Gatwa (“Sex Education”), Scott Evans (“Grace and Frankie”), Jamie Demetriou (“Cruella”), Connor Swindells (“Sex Education,” “Emma.”), Sharon Rooney (“Dumbo,” “Jerk”), Nicola Coughlan (“Bridgerton,” “Derry Girls”), Ritu Arya (“The Umbrella Academy”), Grammy Award-winning singer/songwriter Dua Lipa and Oscar-winner Helen Mirren (“The Queen”).\n\nGerwig directed “Barbie” from a screenplay by Gerwig & Oscar nominee Noah Baumbach (“Marriage Story,” “The Squid and the Whale”), based on Barbie by Mattel.  The film’s producers are Oscar nominee David Heyman (“Marriage Story,” “Gravity”), Robbie, Tom Ackerley and Robbie Brenner, with Gerwig, Baumbach, Ynon Kreiz, Richard Dickson, Michael Sharp, Josey McNamara, Courtenay Valenti, Toby Emmerich and Cate Adams serving as executive producers.\n\nGerwig’s creative team behind the camera included Oscar-nominated director of photography Rodrigo Prieto (“The Irishman,” “Silence,” “Brokeback Mountain”), six-time Oscar-nominated production designer Sarah Greenwood (“Beauty and the Beast,” “Anna Karenina”), editor Nick Houy (“Little Women,” “Lady Bird”), Oscar-winning costume designer Jacqueline Durran (“Little Women,” “Anna Karenina”), visual effects supervisor Glen Pratt (“Paddington 2,” “Beauty and the Beast”) and music supervisor George Drakoulias (“White Noise,” “Marriage Story”), with music by Oscar winners Mark Ronson and Andrew Wyatt (“A Star Is Born”).\n\nWarner Bros. Pictures Presents a Heyday Films Production, a LuckyChap Entertainment Production, a NB/GG Pictures Production, a Mattel Production, “Barbie.”  The film will be distributed worldwide by Warner Bros. Pictures and released in theaters only nationwide on July 21, 2023 and beginning internationally on July 19, 2023.",
          "liveBroadcastContent": "none",
          "localized": {
           "description": "Giant blowout party ✅\nPlanned choreography ✅\nNew #BarbieTheMovie Trailer ✅\nOnly in Theaters July 21.\n\nTo live in Barbie Land is to be a perfect being in a perfect place.  Unless you have a full-on existential crisis.  Or you’re a Ken.\n\nPre-order/save Barbie The Album: https://barbiethealbum.lnk.to/BTA\n\nFrom Oscar-nominated writer/director Greta Gerwig (“Little Women,” “Lady Bird”) comes “Barbie,” starring Oscar-nominees Margot Robbie (“Bombshell,” “I, Tonya”) and Ryan Gosling (“La La Land,” “Half Nelson”) as Barbie and Ken, alongside America Ferrera (“End of Watch,” the “How to Train Your Dragon” films), Kate McKinnon (“Bombshell,” “Yesterday”), Issa Rae (“The Photograph,” “Insecure”), Rhea Perlman (“I’ll See You in My Dreams,” “Matilda”), and Will Ferrell (the “Anchorman” films, “Talladega Nights”).  The film also stars Michael Cera (“Scott Pilgrim vs. the World,” “Juno”), Ariana Greenblatt (“Avengers: Infinity War,” “65”), Ana Cruz Kayne (“Little Women”), Emma Mackey (“Emily,” “Sex Education”), Hari Nef (“Assassination Nation,” “Transparent”), Alexandra Shipp (the “X-Men” films), Kingsley Ben-Adir (“One Night in Miami,” “Peaky Blinders”), Simu Liu (“Shang-Chi and the Legend of the Ten Rings”), Ncuti Gatwa (“Sex Education”), Scott Evans (“Grace and Frankie”), Jamie Demetriou (“Cruella”), Connor Swindells (“Sex Education,” “Emma.”), Sharon Rooney (“Dumbo,” “Jerk”), Nicola Coughlan (“Bridgerton,” “Derry Girls”), Ritu Arya (“The Umbrella Academy”), Grammy Award-winning singer/songwriter Dua Lipa and Oscar-winner Helen Mirren (“The Queen”).\n\nGerwig directed “Barbie” from a screenplay by Gerwig & Oscar nominee Noah Baumbach (“Marriage Story,” “The Squid and the Whale”), based on Barbie by Mattel.  The film’s producers are Oscar nominee David Heyman (“Marriage Story,” “Gravity”), Robbie, Tom Ackerley and Robbie Brenner, with Gerwig, Baumbach, Ynon Kreiz, Richard Dickson, Michael Sharp, Josey McNamara, Courtenay Valenti, Toby Emmerich and Cate Adams serving as executive producers.\n\nGerwig’s creative team behind the camera included Oscar-nominated director of photography Rodrigo Prieto (“The Irishman,” “Silence,” “Brokeback Mountain”), six-time Oscar-nominated production designer Sarah Greenwood (“Beauty and the Beast,” “Anna Karenina”), editor Nick Houy (“Little Women,” “Lady Bird”), Oscar-winning costume designer Jacqueline Durran (“Little Women,” “Anna Karenina”), visual effects supervisor Glen Pratt (“Paddington 2,” “Beauty and the Beast”) and music supervisor George Drakoulias (“White Noise,” “Marriage Story”), with music by Oscar winners Mark Ronson and Andrew Wyatt (“A Star Is Born”).\n\nWarner Bros. Pictures Presents a Heyday Films Production, a LuckyChap Entertainment Production, a NB/GG Pictures Production, a Mattel Production, “Barbie.”  The film will be distributed worldwide by Warner Bros. Pictures and released in theaters only nationwide on July 21, 2023 and beginning internationally on July 19, 2023.",
           "title": "Barbie | Main Trailer"
          },
          "publishedAt": "2023-05-25T16:00:38Z",
          "tags": [
           "America Ferrera",
           "Ariana Greenblatt",
           "Coming Soon",
           "Dua Lipa",
           "Film",
           "Film Trailer",
           "Film Warner",
           "Greta Gerwig",
           "Issa Rae",
           "Kate McKinnon",
           "Margot Robbie",
           "Michael Cera",
           "Movie",
           "Nicola Coughlan",
           "Official Trailer",
           "Rhea Perlman",
           "Ritu Arya",
           "Ryan Gosling",
           "Trailer",
           "Trailer 2022",
           "WB",
           "Warner",
           "Warner Bros",
           "Warner Brothers",
           "Warner Media",
           "Will Ferrell",
           "barbie",
           "barbieandken",
           "barbiemovie",
           "barbiethemovie",
           "gretagerwig",
           "margotrobbie",
           "ryangosling"
          ],
          "thumbnails": {
           "default": {
            "height": 90,
            "url": "https://i.ytimg.com/vi/pBk4NYhWNMM/default.jpg",
            "width": 120
           },
           "high": {
            "height": 360,
            "url": "https://i.ytimg.com/vi/pBk4NYhWNMM/hqdefault.jpg",
            "width": 480
           },
           "maxres": {
            "height": 720,
            "url": "https://i.ytimg.com/vi/pBk4NYhWNMM/maxresdefault.jpg",
            "width": 1280
           },
           "medium": {
            "height": 180,
            "url": "https://i.ytimg.com/vi/pBk4NYhWNMM/mqdefault.jpg",
            "width": 320
           },
           "standard": {
            "height": 480,
            "url": "https://i.ytimg.com/vi/pBk4NYhWNMM/sddefault.jpg",
            "width": 640
           }
          },
          "title": "Barbie | Main Trailer"
         },
         "statistics": {
          "commentCount": "36925",
          "favoriteCount": "0",
          "likeCount": "892330",
          "viewCount": "79686363"
         }
        },
        {
         "contentDetails": {
          "caption": "true",
          "contentRating": {},
          "definition": "hd",
          "dimension": "2d",
          "duration": "PT2M10S",
          "licensedContent": false,
          "projection": "rectangular"
         },
         "etag": "r3wG5hiVoxeAdaztF7civ4Ip9uA",
         "id": "TnGl01FkMMo",
         "kind": "youtube#video",
         "snippet": {
          "categoryId": "24",
          "channelId": "UCq7OHvWO6Z3u-LztFdrcU-g",
          "channelTitle": "Illumination",
          "defaultAudioLanguage": "en-US",
          "description": "Warp into the new official #SuperMarioMovie trailer.\n\n--\nThe Super Mario Bros. Movie\nOnly In Theaters April 5, 2023\n\nFacebook: https://uni.pictures/SMBFB\nTwitter: https://uni.pictures/SMBTW\nInstagram: https://uni.pictures/SMBIG\nTikTok: https://uni.pictures/SMBTT\nSite: https://uni.pictures/SMBSite\n\nhttps://www.instagram.com/illuminationent\nhttps://www.facebook.com/illuminationent\nhttps://twitter.com/illumination\n--\n\nFrom Nintendo and Illumination comes a new animated film based on the world of Super Mario Bros.\n \nDirected by Aaron Horvath and Michael Jelenic (collaborators on Teen Titans Go!, Teen Titans Go! To the Movies) from a screenplay by Matthew Fogel (The LEGO Movie 2: The Second Part, Minions: The Rise of Gru), the film stars Chris Pratt as Mario, Anya Taylor-Joy as Princess Peach, Charlie Day as Luigi, Jack Black as Bowser, Keegan-Michael Key as Toad, Seth Rogen as Donkey Kong, Fred Armisen as Cranky Kong, Kevin Michael Richardson as Kamek and Sebastian Maniscalco as Spike.\n \nThe film is produced by #Illumination founder and CEO Chris Meledandri and by Shigeru Miyamoto for #Nintendo. The film will be co-financed by Universal Pictures and Nintendo and released worldwide by Universal Pictures.",
          "liveBroadcastContent": "none",
          "localized": {
           "description": "Warp into the new official #SuperMarioMovie trailer.\n\n--\nThe Super Mario Bros. Movie\nOnly In Theaters April 5, 2023\n\nFacebook: https://uni.pictures/SMBFB\nTwitter: https://uni.pictures/SMBTW\nInstagram: https://uni.pictures/SMBIG\nTikTok: https://uni.pictures/SMBTT\nSite: https://uni.pictures/SMBSite\n\nhttps://www.instagram.com/illuminationent\nhttps://www.facebook.com/illuminationent\nhttps://twitter.com/illumination\n--\n\nFrom Nintendo and Illumination comes a new animated film based on the world of Super Mario Bros.\n \nDirected by Aaron Horvath and Michael Jelenic (collaborators on Teen Titans Go!, Teen Titans Go! To the Movies) from a screenplay by Matthew Fogel (The LEGO Movie 2: The Second Part, Minions: The Rise of Gru), the film stars Chris Pratt as Mario, Anya Taylor-Joy as Princess Peach, Charlie Day as Luigi, Jack Black as Bowser, Keegan-Michael Key as Toad, Seth Rogen as Donkey Kong, Fred Armisen as Cranky Kong, Kevin Michael Richardson as Kamek and Sebastian Maniscalco as Spike.\n \nThe film is produced by #Illumination founder and CEO Chris Meledandri and by Shigeru Miyamoto for #Nintendo. The film will be co-financed by Universal Pictures and Nintendo and released worldwide by Universal Pictures.",
           "title": "The Super Mario Bros. Movie | Official Trailer"
          },
          "publishedAt": "2022-11-29T22:05:04Z",
          "tags": [
           "Minions",
           "Movie",
           "Trailer",
           "Despicable Me",
           "banana",
           "kevin",
           "bob",
           "official",
           "Minion",
           "stuart",
           "Illumination",
           "Illumination Entertainment",
           "minions",
           "movie clip",
           "minionnation",
           "super mario movie",
           "super mario bros",
           "the super mario bros movie",
           "chris pratt",
           "jack black",
           "anya taylor joy",
           "seth rogen",
           "charlie day",
           "keegan michael key",
           "chris pratt mario",
           "toad",
           "peach",
           "donkey kong",
           "bowser",
           "luigi",
           "mario",
           "mushroom kingdom",
           "fred armisen",
           "nintendo",
           "nintendo direct"
          ],
          "thumbnails": {
           "default": {
            "height": 90,
            "url": "https://i.ytimg.com/vi/TnGl01FkMMo/default.jpg",
            "width": 120
           },
           "high": {
            "height": 360,
            "url": "https://i.ytimg.com/vi/TnGl01FkMMo/hqdefault.jpg",
            "width": 480
           },
           "maxres": {
            "height": 720,
            "url": "https://i.ytimg.com/vi/TnGl01FkMMo/maxresdefault.jpg",
            "width": 1280
           },
           "medium": {
            "height": 180,
            "url": "https://i.ytimg.com/vi/TnGl01FkMMo/mqdefault.jpg",
            "width": 320
           },
           "standard": {
            "height": 480,
            "url": "https://i.ytimg.com/vi/TnGl01FkMMo/sddefault.jpg",
            "width": 640
           }
          },
          "title": "The Super Mario Bros. Movie | Official Trailer"
         },
         "statistics": {
          "commentCount": "0",
          "favoriteCount": "0",
          "likeCount": "280560",
          "viewCount": "30350430"
         }
        },
        {
         "contentDetails": {
          "caption": "true",
          "contentRating": {},
          "definition": "hd",
          "dimension": "2d",
          "duration": "PT3M7S",
          "licensedContent": true,
          "projection": "rectangular"
         },
         "etag": "mBno215wCAARI1i9GZtSprDCvaU",
         "id": "uYPbbksJxIg",
         "kind": "youtube#video",
         "snippet": {
          "categoryId": "24",
          "channelId": "UCq0OueAsdxH6b8nyAspwViw",
          "channelTitle": "Universal Pictures",
          "defaultAudioLanguage": "en",
          "description": "Oppenheimer - In Theaters 7 21 23\n\nWritten and directed by Christopher Nolan, Oppenheimer is an IMAX®-shot epic thriller that thrusts audiences into the pulse-pounding paradox of the enigmatic man who must risk destroying the world in order to save it. \n \nThe film stars Cillian Murphy as J. Robert Oppenheimer and Emily Blunt as his wife, biologist and botanist Katherine “Kitty” Oppenheimer. Oscar® winner Matt Damon portrays General Leslie Groves Jr., director of the Manhattan Project, and Robert Downey, Jr. plays Lewis Strauss, a founding commissioner of the U.S. Atomic Energy Commission. \n \nAcademy Award® nominee Florence Pugh plays psychiatrist Jean Tatlock, Benny Safdie plays theoretical physicist Edward Teller, Michael Angarano plays Robert Serber and Josh Hartnett plays pioneering American nuclear scientist Ernest Lawrence.\n \nOppenheimer also stars Oscar® winner Rami Malek and reunites Nolan with eight-time Oscar® nominated actor, writer and filmmaker Kenneth Branagh. \n \nThe cast includes Dane DeHaan (Valerian and the City of a Thousand Planets), Dylan Arnold (Halloween franchise), David Krumholtz (The Ballad of Buster Scruggs), Alden Ehrenreich (Solo: A Star Wars Story) and Matthew Modine (The Dark Knight Rises). \n \nThe film is based on the Pulitzer Prize-winning book American Prometheus: The Triumph and Tragedy of J. Robert Oppenheimer by Kai Bird and the late Martin J. Sherwin. The film is produced by Emma Thomas, Atlas Entertainment’s Charles Roven and Christopher Nolan. \n\nOppenheimer is filmed in a combination of IMAX® 65mm and 65mm large-format film photography including, for the first time ever, sections in IMAX® black and white analogue photography. \n\nNolan’s films, including Tenet, Dunkirk, Interstellar, Inception and The Dark Knight trilogy, have earned more than $5 billion at the global box office and have been awarded 11 Oscars and 36 nominations, including two Best Picture nominations. \n\nSocial Handles:\nIG: https://www.instagram.com/oppenheimermovie    \nTW: https://www.twitter.com/@oppenheimerfilm  \nFB: https://www.facebook.com/OppenheimerMovie \nReddit: https://www.reddit.com/user/OppenheimerMovie/\nTwitch: https://www.twitch.tv/oppenheimermovie\nWebsite: https://www.OppenheimerMovie.com   \n#Oppenheimer",
          "liveBroadcastContent": "none",
          "localized": {
           "description": "Oppenheimer - In Theaters 7 21 23\n\nWritten and directed by Christopher Nolan, Oppenheimer is an IMAX®-shot epic thriller that thrusts audiences into the pulse-pounding paradox of the enigmatic man who must risk destroying the world in order to save it. \n \nThe film stars Cillian Murphy as J. Robert Oppenheimer and Emily Blunt as his wife, biologist and botanist Katherine “Kitty” Oppenheimer. Oscar® winner Matt Damon portrays General Leslie Groves Jr., director of the Manhattan Project, and Robert Downey, Jr. plays Lewis Strauss, a founding commissioner of the U.S. Atomic Energy Commission. \n \nAcademy Award® nominee Florence Pugh plays psychiatrist Jean Tatlock, Benny Safdie plays theoretical physicist Edward Teller, Michael Angarano plays Robert Serber and Josh Hartnett plays pioneering American nuclear scientist Ernest Lawrence.\n \nOppenheimer also stars Oscar® winner Rami Malek and reunites Nolan with eight-time Oscar® nominated actor, writer and filmmaker Kenneth Branagh. \n \nThe cast includes Dane DeHaan (Valerian and the City of a Thousand Planets), Dylan Arnold (Halloween franchise), David Krumholtz (The Ballad of Buster Scruggs), Alden Ehrenreich (Solo: A Star Wars Story) and Matthew Modine (The Dark Knight Rises). \n \nThe film is based on the Pulitzer Prize-winning book American Prometheus: The Triumph and Tragedy of J. Robert Oppenheimer by Kai Bird and the late Martin J. Sherwin. The film is produced by Emma Thomas, Atlas Entertainment’s Charles Roven and Christopher Nolan. \n\nOppenheimer is filmed in a combination of IMAX® 65mm and 65mm large-format film photography including, for the first time ever, sections in IMAX® black and white analogue photography. \n\nNolan’s films, including Tenet, Dunkirk, Interstellar, Inception and The Dark Knight trilogy, have earned more than $5 billion at the global box office and have been awarded 11 Oscars and 36 nominations, including two Best Picture nominations. \n\nSocial Handles:\nIG: https://www.instagram.com/oppenheimermovie    \nTW: https://www.twitter.com/@oppenheimerfilm  \nFB: https://www.facebook.com/OppenheimerMovie \nReddit: https://www.reddit.com/user/OppenheimerMovie/\nTwitch: https://www.twitch.tv/oppenheimermovie\nWebsite: https://www.OppenheimerMovie.com   \n#Oppenheimer",
           "title": "Oppenheimer | New Trailer"
          },
          "publishedAt": "2023-05-08T07:01:04Z",
          "thumbnails": {
           "default": {
            "height": 90,
            "url": "https://i.ytimg.com/vi/uYPbbksJxIg/default.jpg",
            "width": 120
           },
           "high": {
            "height": 360,
            "url": "https://i.ytimg.com/vi/uYPbbksJxIg/hqdefault.jpg",
            "width": 480
           },
           "maxres": {
            "height": 720,
            "url": "https://i.ytimg.com/vi/uYPbbksJxIg/maxresdefault.jpg",
            "width": 1280
           },
           "medium": {
            "height": 180,
            "url": "https://i.ytimg.com/vi/uYPbbksJxIg/mqdefault.jpg",
            "width": 320
           },
           "standard": {
            "height": 480,
            "url": "https://i.ytimg.com/vi/uYPbbksJxIg/sddefault.jpg",
            "width": 640
           }
          },
          "title": "Oppenheimer | New Trailer"
         },
         "statistics": {
          "commentCount": "32216",
          "favoriteCount": "0",
          "likeCount": "797356",
          "viewCount": "65931810"
         }
        },
        {
         "contentDetails": {
          "caption": "true",
          "contentRating": {},
          "definition": "hd",
          "dimension": "2d",
          "duration": "PT2M3S",
          "licensedContent": true,
          "projection": "rectangular"
         },
         "etag": "sMOrRx6X9HZe0GDalz5L4mgMtfE",
         "id": "bK6ldnjE3Y0",
         "kind": "youtube#video",
         "snippet": {
          "categoryId": "24",
          "channelId": "UCq0OueAsdxH6b8nyAspwViw",
          "channelTitle": "Universal Pictures",
          "defaultAudioLanguage": "en",
          "description": "Oppenheimer - Only In Theaters 7 21 23\n\nWritten and directed by Christopher Nolan, Oppenheimer is an IMAX®-shot epic thriller that thrusts audiences into the pulse-pounding paradox of the enigmatic man who must risk destroying the world in order to save it. \n \nThe film stars Cillian Murphy as J. Robert Oppenheimer and Emily Blunt as his wife, biologist and botanist Katherine “Kitty” Oppenheimer. Oscar® winner Matt Damon portrays General Leslie Groves Jr., director of the Manhattan Project, and Robert Downey, Jr. plays Lewis Strauss, a founding commissioner of the U.S. Atomic Energy Commission. \n \nAcademy Award® nominee Florence Pugh plays psychiatrist Jean Tatlock, Benny Safdie plays theoretical physicist Edward Teller, Michael Angarano plays Robert Serber and Josh Hartnett plays pioneering American nuclear scientist Ernest Lawrence.\n \nOppenheimer also stars Oscar® winner Rami Malek and reunites Nolan with eight-time Oscar® nominated actor, writer and filmmaker Kenneth Branagh. \n \nThe cast includes Dane DeHaan (Valerian and the City of a Thousand Planets), Dylan Arnold (Halloween franchise), David Krumholtz (The Ballad of Buster Scruggs), Alden Ehrenreich (Solo: A Star Wars Story) and Matthew Modine (The Dark Knight Rises). \n \nThe film is based on the Pulitzer Prize-winning book American Prometheus: The Triumph and Tragedy of J. Robert Oppenheimer by Kai Bird and the late Martin J. Sherwin. The film is produced by Emma Thomas, Atlas Entertainment’s Charles Roven and Christopher Nolan. \n\nOppenheimer is filmed in a combination of IMAX® 65mm and 65mm large-format film photography including, for the first time ever, sections in IMAX® black and white analogue photography. \n\nNolan’s films, including Tenet, Dunkirk, Interstellar, Inception and The Dark Knight trilogy, have earned more than $5 billion at the global box office and have been awarded 11 Oscars and 36 nominations, including two Best Picture nominations. \n\nSocial Handles:\nIG: https://www.instagram.com/oppenheimermovie    \nTW: https://www.twitter.com/@oppenheimerfilm  \nFB: https://www.facebook.com/OppenheimerMovie \nReddit: https://www.reddit.com/user/OppenheimerMovie/\nTwitch: https://www.twitch.tv/oppenheimermovie\nWebsite: https://www.OppenheimerMovie.com   \n#Oppenheimer",
          "liveBroadcastContent": "none",
          "localized": {
           "description": "Oppenheimer - Only In Theaters 7 21 23\n\nWritten and directed by Christopher Nolan, Oppenheimer is an IMAX®-shot epic thriller that thrusts audiences into the pulse-pounding paradox of the enigmatic man who must risk destroying the world in order to save it. \n \nThe film stars Cillian Murphy as J. Robert Oppenheimer and Emily Blunt as his wife, biologist and botanist Katherine “Kitty” Oppenheimer. Oscar® winner Matt Damon portrays General Leslie Groves Jr., director of the Manhattan Project, and Robert Downey, Jr. plays Lewis Strauss, a founding commissioner of the U.S. Atomic Energy Commission. \n \nAcademy Award® nominee Florence Pugh plays psychiatrist Jean Tatlock, Benny Safdie plays theoretical physicist Edward Teller, Michael Angarano plays Robert Serber and Josh Hartnett plays pioneering American nuclear scientist Ernest Lawrence.\n \nOppenheimer also stars Oscar® winner Rami Malek and reunites Nolan with eight-time Oscar® nominated actor, writer and filmmaker Kenneth Branagh. \n \nThe cast includes Dane DeHaan (Valerian and the City of a Thousand Planets), Dylan Arnold (Halloween franchise), David Krumholtz (The Ballad of Buster Scruggs), Alden Ehrenreich (Solo: A Star Wars Story) and Matthew Modine (The Dark Knight Rises). \n \nThe film is based on the Pulitzer Prize-winning book American Prometheus: The Triumph and Tragedy of J. Robert Oppenheimer by Kai Bird and the late Martin J. Sherwin. The film is produced by Emma Thomas, Atlas Entertainment’s Charles Roven and Christopher Nolan. \n\nOppenheimer is filmed in a combination of IMAX® 65mm and 65mm large-format film photography including, for the first time ever, sections in IMAX® black and white analogue photography. \n\nNolan’s films, including Tenet, Dunkirk, Interstellar, Inception and The Dark Knight trilogy, have earned more than $5 billion at the global box office and have been awarded 11 Oscars and 36 nominations, including two Best Picture nominations. \n\nSocial Handles:\nIG: https://www.instagram.com/oppenheimermovie    \nTW: https://www.twitter.com/@oppenheimerfilm  \nFB: https://www.facebook.com/OppenheimerMovie \nReddit: https://www.reddit.com/user/OppenheimerMovie/\nTwitch: https://www.twitch.tv/oppenheimermovie\nWebsite: https://www.OppenheimerMovie.com   \n#Oppenheimer",
           "title": "Oppenheimer | Official Trailer"
          },
          "publishedAt": "2022-12-19T00:29:01Z",
          "thumbnails": {
           "default": {
            "height": 90,
            "url": "https://i.ytimg.com/vi/bK6ldnjE3Y0/default.jpg",
            "width": 120
           },
           "high": {
            "height": 360,
            "url": "https://i.ytimg.com/vi/bK6ldnjE3Y0/hqdefault.jpg",
            "width": 480
           },
           "maxres": {
            "height": 720,
            "url": "https://i.ytimg.com/vi/bK6ldnjE3Y0/maxresdefault.jpg",
            "width": 1280
           },
           "medium": {
            "height": 180,
            "url": "https://i.ytimg.com/vi/bK6ldnjE3Y0/mqdefault.jpg",
            "width": 320
           },
           "standard": {
            "height": 480,
            "url": "https://i.ytimg.com/vi/bK6ldnjE3Y0/sddefault.jpg",
            "width": 640
           }
          },
          "title": "Oppenheimer | Official Trailer"
         },
         "statistics": {
          "commentCount": "16639",
          "favoriteCount": "0",
          "likeCount": "429563",
          "viewCount": "46959315"
         }
        },
        {
         "contentDetails": {
          "caption": "true",
          "contentRating": {},
          "definition": "hd",
          "dimension": "2d",
          "duration": "PT1M57S",
          "licensedContent": true,
          "projection": "rectangular"
         },
         "etag": "SBrQPiEwaa2lWQeyTG96JjjIiYA",
         "id": "u3V5KDHRQvk",
         "kind": "youtube#video",
         "snippet": {
          "categoryId": "24",
          "channelId": "UCvC4D8onUfXzvjTOM-dBfEA",
          "channelTitle": "Marvel Entertainment",
          "defaultAudioLanguage": "en",
          "description": "It’s time to face the music.\n\nWatch the brand-new trailer for Marvel Studios’ Guardians of the Galaxy Vol. 3 that just debuted at Brazil Comic Con. Only in theaters May 5, 2023. \n\n► Watch Marvel on Disney+: https://bit.ly/2XyBSIW\n► Subscribe to Marvel on YouTube: http://bit.ly/WeO3YJ\n\nFollow Marvel on Twitter: ‪https://twitter.com/marvel\nLike Marvel on Facebook: ‪https://www.facebook.com/marvel\nWatch Marvel on Twitch: https://www.twitch.tv/marvel\n\nReward your Marvel fandom by joining Marvel Insider!\nEarn points, then redeem for awesome rewards.\nTerms and conditions apply. \nLearn more at https://www.marvel.com/insider?Osocial=YT&CID=MarvelInsider\n\nFor even more news, stay tuned to:\nTumblr: ‪http://marvelentertainment.tumblr.com/\nInstagram: https://www.instagram.com/marvel\nPinterest: ‪http://pinterest.com/marvelofficial\nReddit: http://reddit.com/u/marvel-official",
          "liveBroadcastContent": "none",
          "localized": {
           "description": "It’s time to face the music.\n\nWatch the brand-new trailer for Marvel Studios’ Guardians of the Galaxy Vol. 3 that just debuted at Brazil Comic Con. Only in theaters May 5, 2023. \n\n► Watch Marvel on Disney+: https://bit.ly/2XyBSIW\n► Subscribe to Marvel on YouTube: http://bit.ly/WeO3YJ\n\nFollow Marvel on Twitter: ‪https://twitter.com/marvel\nLike Marvel on Facebook: ‪https://www.facebook.com/marvel\nWatch Marvel on Twitch: https://www.twitch.tv/marvel\n\nReward your Marvel fandom by joining Marvel Insider!\nEarn points, then redeem for awesome rewards.\nTerms and conditions apply. \nLearn more at https://www.marvel.com/insider?Osocial=YT&CID=MarvelInsider\n\nFor even more news, stay tuned to:\nTumblr: ‪http://marvelentertainment.tumblr.com/\nInstagram: https://www.instagram.com/marvel\nPinterest: ‪http://pinterest.com/marvelofficial\nReddit: http://reddit.com/u/marvel-official",
           "title": "Marvel Studios’ Guardians of the Galaxy Vol. 3 | Official Trailer"
          },
          "publishedAt": "2022-12-01T22:01:32Z",
          "tags": [
           "marvel",
           "comics"
          ],
          "thumbnails": {
           "default": {
            "height": 90,
            "url": "https://i.ytimg.com/vi/u3V5KDHRQvk/default.jpg",
            "width": 120
           },
           "high": {
            "height": 360,
            "url": "https://i.ytimg.com/vi/u3V5KDHRQvk/hqdefault.jpg",
            "width": 480
           },
           "maxres": {
            "height": 720,
            "url": "https://i.ytimg.com/vi/u3V5KDHRQvk/maxresdefault.jpg",
            "width": 1280
           },
           "medium": {
            "height": 180,
            "url": "https://i.ytimg.com/vi/u3V5KDHRQvk/mqdefault.jpg",
            "width": 320
           },
           "standard": {
            "height": 480,
            "url": "https://i.ytimg.com/vi/u3V5KDHRQvk/sddefault.jpg",
            "width": 640
           }
          },
          "title": "Marvel Studios’ Guardians of the Galaxy Vol. 3 | Official Trailer"
         },
         "statistics": {
          "commentCount": "39432",
          "favoriteCount": "0",
          "likeCount": "799939",
          "viewCount": "33736161"
         }
        },
        {
         "contentDetails": {
          "caption": "true",
          "contentRating": {},
          "definition": "hd",
          "dimension": "2d",
          "duration": "PT2M22S",
          "licensedContent": true,
          "projection": "rectangular"
         },
         "etag": "bId09lImgx6VgIi8rMjeiju2kVc",
         "id": "JqcncLPi9zw",
         "kind": "youtube#video",
         "snippet": {
          "categoryId": "24",
          "channelId": "UCvC4D8onUfXzvjTOM-dBfEA",
          "channelTitle": "Marvel Entertainment",
          "defaultAudioLanguage": "en",
          "description": "Get ready for one last ride. \n \nWatch the brand-new trailer for Marvel Studios’ Guardians of the Galaxy Vol. 3, written and directed by James Gunn. Only in theaters May 5. \n\n► Watch Marvel on Disney+: https://bit.ly/2XyBSIW\n► Subscribe to Marvel on YouTube: http://bit.ly/WeO3YJ\n\nFollow Marvel on Twitter: ‪https://twitter.com/marvel\nLike Marvel on Facebook: ‪https://www.facebook.com/marvel\nWatch Marvel on Twitch: https://www.twitch.tv/marvel\n\nReward your Marvel fandom by joining Marvel Insider!\nEarn points, then redeem for awesome rewards.\nTerms and conditions apply. \nLearn more at https://www.marvel.com/insider?Osocial=YT&CID=MarvelInsider\n\nFor even more news, stay tuned to:\nTumblr: ‪http://marvelentertainment.tumblr.com/\nInstagram: https://www.instagram.com/marvel\nPinterest: ‪http://pinterest.com/marvelofficial\nReddit: http://reddit.com/u/marvel-official",
          "liveBroadcastContent": "none",
          "localized": {
           "description": "Get ready for one last ride. \n \nWatch the brand-new trailer for Marvel Studios’ Guardians of the Galaxy Vol. 3, written and directed by James Gunn. Only in theaters May 5. \n\n► Watch Marvel on Disney+: https://bit.ly/2XyBSIW\n► Subscribe to Marvel on YouTube: http://bit.ly/WeO3YJ\n\nFollow Marvel on Twitter: ‪https://twitter.com/marvel\nLike Marvel on Facebook: ‪https://www.facebook.com/marvel\nWatch Marvel on Twitch: https://www.twitch.tv/marvel\n\nReward your Marvel fandom by joining Marvel Insider!\nEarn points, then redeem for awesome rewards.\nTerms and conditions apply. \nLearn more at https://www.marvel.com/insider?Osocial=YT&CID=MarvelInsider\n\nFor even more news, stay tuned to:\nTumblr: ‪http://marvelentertainment.tumblr.com/\nInstagram: https://www.instagram.com/marvel\nPinterest: ‪http://pinterest.com/marvelofficial\nReddit: http://reddit.com/u/marvel-official",
           "title": "Marvel Studios’ Guardians of the Galaxy Vol. 3 | New Trailer"
          },
          "publishedAt": "2023-02-12T23:38:36Z",
          "tags": [
           "marvel",
           "comics",
           "gotg",
           "volume 3",
           "james gunn",
           "guardians of the galaxy",
           "big game"
          ],
          "thumbnails": {
           "default": {
            "height": 90,
            "url": "https://i.ytimg.com/vi/JqcncLPi9zw/default.jpg",
            "width": 120
           },
           "high": {
            "height": 360,
            "url": "https://i.ytimg.com/vi/JqcncLPi9zw/hqdefault.jpg",
            "width": 480
           },
           "maxres": {
            "height": 720,
            "url": "https://i.ytimg.com/vi/JqcncLPi9zw/maxresdefault.jpg",
            "width": 1280
           },
           "medium": {
            "height": 180,
            "url": "https://i.ytimg.com/vi/JqcncLPi9zw/mqdefault.jpg",
            "width": 320
           },
           "standard": {
            "height": 480,
            "url": "https://i.ytimg.com/vi/JqcncLPi9zw/sddefault.jpg",
            "width": 640
           }
          },
          "title": "Marvel Studios’ Guardians of the Galaxy Vol. 3 | New Trailer"
         },
         "statistics": {
          "commentCount": "15668",
          "favoriteCount": "0",
          "likeCount": "382946",
          "viewCount": "19273973"
         }
        },
        {
         "contentDetails": {
          "caption": "true",
          "contentRating": {},
          "definition": "hd",
          "dimension": "2d",
          "duration": "PT3M43S",
          "licensedContent": true,
          "projection": "rectangular"
         },
         "etag": "NKFncKrSvKp09QMUR7AaFdUpu1Q",
         "id": "32RAq6JzY-w",
         "kind": "youtube#video",
         "snippet": {
          "categoryId": "1",
          "channelId": "UCJCx8aQrdx_ueXPmxTD2odQ",
          "channelTitle": "The Fast Saga",
          "defaultAudioLanguage": "en-US",
          "description": "The end of the road begins. \n\nFast X, the tenth film in the Fast & Furious Saga, launches the final chapters of one of cinema’s most storied and popular global franchises, now in its third decade and still going strong with the same core cast and characters as when it began.\n\nOver many missions and against impossible odds, Dom Toretto (Vin Diesel) and his family have outsmarted, out-nerved and outdriven every foe in their path. Now, they confront the most lethal opponent they’ve ever faced: A terrifying threat emerging from the shadows of the past who’s fueled by blood revenge, and who is determined to shatter this family and destroy everything—and everyone—that Dom loves, forever.  \n \nIn 2011’s Fast Five, Dom and his crew took out nefarious Brazilian drug kingpin Hernan Reyes and decapitated his empire on a bridge in Rio De Janeiro. What they didn’t know was that Reyes’ son, Dante (Aquaman’s Jason Momoa), witnessed it all and has spent the last 12 years masterminding a plan to make Dom pay the ultimate price. \n \nDante’s plot will scatter Dom’s family from Los Angeles to the catacombs of Rome, from Brazil to London and from Portugal to Antarctica. New allies will be forged and old enemies will resurface. But everything changes when Dom discovers that his own 8-year-old son (Leo Abelo Perry, Black-ish) is the ultimate target of Dante’s vengeance. \n \nDirected by Louis Leterrier (Clash of the Titans, The Incredible Hulk), Fast X stars returning cast members Michelle Rodriguez, Tyrese Gibson, Chris “Ludacris” Bridges, Nathalie Emmanuel, Jordana Brewster, Sung Kang, Jason Statham, John Cena and Scott Eastwood, with Oscar® winner Helen Mirren and Oscar® winner Charlize Theron. \n \nThe film also features an extraordinary new cast including Oscar® winner Brie Larson as Tess, a rogue representative from the Agency; Alan Richtson (Reacher) as Aimes, the new head of the Agency who doesn’t hold the same fondness for Dom’s crew as his predecessor, Mr. Nobody; Daniela Melchior (The Suicide Squad) as a Brazilian street racer with a powerful tie to Dom’s past; and legendary Oscar® winner Rita Moreno as Dom and Mia’s Abuelita Toretto. \n \nFast X is produced by Neal H. Moritz, Vin Diesel, Justin Lin, Jeff Kirschenbaum and Samantha Vincent. The executive producers are Joseph M. Caracciolo, Jr., David Cain, Chris Morgan, Amanda Lewis and Mark Bomback. www.thefastsaga.com\n\nOfficial Website: https://www.fastxmovie.com/\nFacebook: https://www.facebook.com/TheFastSaga\nInstagram: https://www.instagram.com/TheFastSaga\nTwitter: https://twitter.com/TheFastSaga\nTikTok: https://www.tiktok.com/@thefastsaga\n\n#FASTX",
          "liveBroadcastContent": "none",
          "localized": {
           "description": "The end of the road begins. \n\nFast X, the tenth film in the Fast & Furious Saga, launches the final chapters of one of cinema’s most storied and popular global franchises, now in its third decade and still going strong with the same core cast and characters as when it began.\n\nOver many missions and against impossible odds, Dom Toretto (Vin Diesel) and his family have outsmarted, out-nerved and outdriven every foe in their path. Now, they confront the most lethal opponent they’ve ever faced: A terrifying threat emerging from the shadows of the past who’s fueled by blood revenge, and who is determined to shatter this family and destroy everything—and everyone—that Dom loves, forever.  \n \nIn 2011’s Fast Five, Dom and his crew took out nefarious Brazilian drug kingpin Hernan Reyes and decapitated his empire on a bridge in Rio De Janeiro. What they didn’t know was that Reyes’ son, Dante (Aquaman’s Jason Momoa), witnessed it all and has spent the last 12 years masterminding a plan to make Dom pay the ultimate price. \n \nDante’s plot will scatter Dom’s family from Los Angeles to the catacombs of Rome, from Brazil to London and from Portugal to Antarctica. New allies will be forged and old enemies will resurface. But everything changes when Dom discovers that his own 8-year-old son (Leo Abelo Perry, Black-ish) is the ultimate target of Dante’s vengeance. \n \nDirected by Louis Leterrier (Clash of the Titans, The Incredible Hulk), Fast X stars returning cast members Michelle Rodriguez, Tyrese Gibson, Chris “Ludacris” Bridges, Nathalie Emmanuel, Jordana Brewster, Sung Kang, Jason Statham, John Cena and Scott Eastwood, with Oscar® winner Helen Mirren and Oscar® winner Charlize Theron. \n \nThe film also features an extraordinary new cast including Oscar® winner Brie Larson as Tess, a rogue representative from the Agency; Alan Richtson (Reacher) as Aimes, the new head of the Agency who doesn’t hold the same fondness for Dom’s crew as his predecessor, Mr. Nobody; Daniela Melchior (The Suicide Squad) as a Brazilian street racer with a powerful tie to Dom’s past; and legendary Oscar® winner Rita Moreno as Dom and Mia’s Abuelita Toretto. \n \nFast X is produced by Neal H. Moritz, Vin Diesel, Justin Lin, Jeff Kirschenbaum and Samantha Vincent. The executive producers are Joseph M. Caracciolo, Jr., David Cain, Chris Morgan, Amanda Lewis and Mark Bomback. www.thefastsaga.com\n\nOfficial Website: https://www.fastxmovie.com/\nFacebook: https://www.facebook.com/TheFastSaga\nInstagram: https://www.instagram.com/TheFastSaga\nTwitter: https://twitter.com/TheFastSaga\nTikTok: https://www.tiktok.com/@thefastsaga\n\n#FASTX",
           "title": "FAST X | Official Trailer"
          },
          "publishedAt": "2023-02-10T15:44:35Z",
          "tags": [
           "Fast & Furious",
           "Hobbs & Shaw"
          ],
          "thumbnails": {
           "default": {
            "height": 90,
            "url": "https://i.ytimg.com/vi/32RAq6JzY-w/default.jpg",
            "width": 120
           },
           "high": {
            "height": 360,
            "url": "https://i.ytimg.com/vi/32RAq6JzY-w/hqdefault.jpg",
            "width": 480
           },
           "maxres": {
            "height": 720,
            "url": "https://i.ytimg.com/vi/32RAq6JzY-w/maxresdefault.jpg",
            "width": 1280
           },
           "medium": {
            "height": 180,
            "url": "https://i.ytimg.com/vi/32RAq6JzY-w/mqdefault.jpg",
            "width": 320
           },
           "standard": {
            "height": 480,
            "url": "https://i.ytimg.com/vi/32RAq6JzY-w/sddefault.jpg",
            "width": 640
           }
          },
          "title": "FAST X | Official Trailer"
         },
         "statistics": {
          "commentCount": "31714",
          "favoriteCount": "0",
          "likeCount": "396864",
          "viewCount": "40756623"
         }
        },
        {
         "contentDetails": {
          "caption": "true",
          "contentRating": {},
          "definition": "hd",
          "dimension": "2d",
          "duration": "PT2M36S",
          "licensedContent": true,
          "projection": "rectangular"
         },
         "etag": "QkGK4cCPrXIs4G5J9q0AVQkqD1A",
         "id": "aOb15GVFZxU",
         "kind": "youtube#video",
         "snippet": {
          "categoryId": "1",
          "channelId": "UCJCx8aQrdx_ueXPmxTD2odQ",
          "channelTitle": "The Fast Saga",
          "defaultAudioLanguage": "en-US",
          "description": "Not all races can be won. #FASTX \nGet tickets now: https://tickets.fastxmovie.com/\n\nOfficial Motion Picture Soundtrack Pre-Save: https://fastx.lnk.to/soundtrack!Trailer\nGasolina Remix: https://fastx.lnk.to/GasolinaRemix!FastX\n\nThe end of the road begins. \n\nFast X, the tenth film in the Fast & Furious Saga, launches the final chapters of one of cinema’s most storied and popular global franchises, now in its third decade and still going strong with the same core cast and characters as when it began.\n\nOver many missions and against impossible odds, Dom Toretto (Vin Diesel) and his family have outsmarted, out-nerved and outdriven every foe in their path. Now, they confront the most lethal opponent they’ve ever faced: A terrifying threat emerging from the shadows of the past who’s fueled by blood revenge, and who is determined to shatter this family and destroy everything—and everyone—that Dom loves, forever.  \n \nIn 2011’s Fast Five, Dom and his crew took out nefarious Brazilian drug kingpin Hernan Reyes and decapitated his empire on a bridge in Rio De Janeiro. What they didn’t know was that Reyes’ son, Dante (Aquaman’s Jason Momoa), witnessed it all and has spent the last 12 years masterminding a plan to make Dom pay the ultimate price. \n \nDante’s plot will scatter Dom’s family from Los Angeles to the catacombs of Rome, from Brazil to London and from Portugal to Antarctica. New allies will be forged and old enemies will resurface. But everything changes when Dom discovers that his own 8-year-old son (Leo Abelo Perry, Black-ish) is the ultimate target of Dante’s vengeance. \n \nDirected by Louis Leterrier (Clash of the Titans, The Incredible Hulk), Fast X stars returning cast members Michelle Rodriguez, Tyrese Gibson, Chris “Ludacris” Bridges, Nathalie Emmanuel, Jordana Brewster, Sung Kang, Jason Statham, John Cena and Scott Eastwood, with Oscar® winner Helen Mirren and Oscar® winner Charlize Theron. \n \nThe film also features an extraordinary new cast including Oscar® winner Brie Larson as Tess, a rogue representative from the Agency; Alan Richtson (Reacher) as Aimes, the new head of the Agency who doesn’t hold the same fondness for Dom’s crew as his predecessor, Mr. Nobody; Daniela Melchior (The Suicide Squad) as a Brazilian street racer with a powerful tie to Dom’s past; and legendary Oscar® winner Rita Moreno as Dom and Mia’s Abuelita Toretto. \n \nFast X is produced by Neal H. Moritz, Vin Diesel, Justin Lin, Jeff Kirschenbaum and Samantha Vincent. The executive producers are Joseph M. Caracciolo, Jr., David Cain, Chris Morgan, Amanda Lewis and Mark Bomback. www.thefastsaga.com\n\nOfficial Website: https://www.fastxmovie.com/\nFacebook: https://www.facebook.com/TheFastSaga\nInstagram: https://www.instagram.com/TheFastSaga\nTwitter: https://twitter.com/TheFastSaga\nTikTok: https://www.tiktok.com/@thefastsaga",
          "liveBroadcastContent": "none",
          "localized": {
           "description": "Not all races can be won. #FASTX \nGet tickets now: https://tickets.fastxmovie.com/\n\nOfficial Motion Picture Soundtrack Pre-Save: https://fastx.lnk.to/soundtrack!Trailer\nGasolina Remix: https://fastx.lnk.to/GasolinaRemix!FastX\n\nThe end of the road begins. \n\nFast X, the tenth film in the Fast & Furious Saga, launches the final chapters of one of cinema’s most storied and popular global franchises, now in its third decade and still going strong with the same core cast and characters as when it began.\n\nOver many missions and against impossible odds, Dom Toretto (Vin Diesel) and his family have outsmarted, out-nerved and outdriven every foe in their path. Now, they confront the most lethal opponent they’ve ever faced: A terrifying threat emerging from the shadows of the past who’s fueled by blood revenge, and who is determined to shatter this family and destroy everything—and everyone—that Dom loves, forever.  \n \nIn 2011’s Fast Five, Dom and his crew took out nefarious Brazilian drug kingpin Hernan Reyes and decapitated his empire on a bridge in Rio De Janeiro. What they didn’t know was that Reyes’ son, Dante (Aquaman’s Jason Momoa), witnessed it all and has spent the last 12 years masterminding a plan to make Dom pay the ultimate price. \n \nDante’s plot will scatter Dom’s family from Los Angeles to the catacombs of Rome, from Brazil to London and from Portugal to Antarctica. New allies will be forged and old enemies will resurface. But everything changes when Dom discovers that his own 8-year-old son (Leo Abelo Perry, Black-ish) is the ultimate target of Dante’s vengeance. \n \nDirected by Louis Leterrier (Clash of the Titans, The Incredible Hulk), Fast X stars returning cast members Michelle Rodriguez, Tyrese Gibson, Chris “Ludacris” Bridges, Nathalie Emmanuel, Jordana Brewster, Sung Kang, Jason Statham, John Cena and Scott Eastwood, with Oscar® winner Helen Mirren and Oscar® winner Charlize Theron. \n \nThe film also features an extraordinary new cast including Oscar® winner Brie Larson as Tess, a rogue representative from the Agency; Alan Richtson (Reacher) as Aimes, the new head of the Agency who doesn’t hold the same fondness for Dom’s crew as his predecessor, Mr. Nobody; Daniela Melchior (The Suicide Squad) as a Brazilian street racer with a powerful tie to Dom’s past; and legendary Oscar® winner Rita Moreno as Dom and Mia’s Abuelita Toretto. \n \nFast X is produced by Neal H. Moritz, Vin Diesel, Justin Lin, Jeff Kirschenbaum and Samantha Vincent. The executive producers are Joseph M. Caracciolo, Jr., David Cain, Chris Morgan, Amanda Lewis and Mark Bomback. www.thefastsaga.com\n\nOfficial Website: https://www.fastxmovie.com/\nFacebook: https://www.facebook.com/TheFastSaga\nInstagram: https://www.instagram.com/TheFastSaga\nTwitter: https://twitter.com/TheFastSaga\nTikTok: https://www.tiktok.com/@thefastsaga",
           "title": "FAST X | Official Trailer 2"
          },
          "publishedAt": "2023-04-19T21:00:53Z",
          "tags": [
           "Fast & Furious",
           "Hobbs & Shaw"
          ],
          "thumbnails": {
           "default": {
            "height": 90,
            "url": "https://i.ytimg.com/vi/aOb15GVFZxU/default.jpg",
            "width": 120
           },
           "high": {
            "height": 360,
            "url": "https://i.ytimg.com/vi/aOb15GVFZxU/hqdefault.jpg",
            "width": 480
           },
           "maxres": {
            "height": 720,
            "url": "https://i.ytimg.com/vi/aOb15GVFZxU/maxresdefault.jpg",
            "width": 1280
           },
           "medium": {
            "height": 180,
            "url": "https://i.ytimg.com/vi/aOb15GVFZxU/mqdefault.jpg",
            "width": 320
           },
           "standard": {
            "height": 480,
            "url": "https://i.ytimg.com/vi/aOb15GVFZxU/sddefault.jpg",
            "width": 640
           }
          },
          "title": "FAST X | Official Trailer 2"
         },
         "statistics": {
          "commentCount": "10081",
          "favoriteCount": "0",
          "likeCount": "169198",
          "viewCount": "30998463"
         }
        },
        {
         "contentDetails": {
          "caption": "true",
          "contentRating": {},
          "definition": "hd",
          "dimension": "2d",
          "duration": "PT4M32S",
          "licensedContent": true,
          "projection": "rectangular"
         },
         "etag": "gkRAXrugl7nsrf3tamweqgoPL7w",
         "id": "eoOaKN4qCKw",
         "kind": "youtube#video",
         "snippet": {
          "categoryId": "1",
          "channelId": "UCJCx8aQrdx_ueXPmxTD2odQ",
          "channelTitle": "The Fast Saga",
          "defaultAudioLanguage": "en-US",
          "description": "The end of the road begins Friday. Watch the FINAL TRAILER Now. #FASTX \n\nGet tickets now: https://tickets.fastxmovie.com/\n\nThe end of the road begins. \n\nFast X, the tenth film in the Fast & Furious Saga, launches the final chapters of one of cinema’s most storied and popular global franchises, now in its third decade and still going strong with the same core cast and characters as when it began.\n\nOver many missions and against impossible odds, Dom Toretto (Vin Diesel) and his family have outsmarted, out-nerved and outdriven every foe in their path. Now, they confront the most lethal opponent they’ve ever faced: A terrifying threat emerging from the shadows of the past who’s fueled by blood revenge, and who is determined to shatter this family and destroy everything—and everyone—that Dom loves, forever.  \n \nIn 2011’s Fast Five, Dom and his crew took out nefarious Brazilian drug kingpin Hernan Reyes and decapitated his empire on a bridge in Rio De Janeiro. What they didn’t know was that Reyes’ son, Dante (Aquaman’s Jason Momoa), witnessed it all and has spent the last 12 years masterminding a plan to make Dom pay the ultimate price. \n \nDante’s plot will scatter Dom’s family from Los Angeles to the catacombs of Rome, from Brazil to London and from Portugal to Antarctica. New allies will be forged and old enemies will resurface. But everything changes when Dom discovers that his own 8-year-old son (Leo Abelo Perry, Black-ish) is the ultimate target of Dante’s vengeance. \n \nDirected by Louis Leterrier (Clash of the Titans, The Incredible Hulk), Fast X stars returning cast members Michelle Rodriguez, Tyrese Gibson, Chris “Ludacris” Bridges, Nathalie Emmanuel, Jordana Brewster, Sung Kang, Jason Statham, John Cena and Scott Eastwood, with Oscar® winner Helen Mirren and Oscar® winner Charlize Theron. \n \nThe film also features an extraordinary new cast including Oscar® winner Brie Larson as Tess, a rogue representative from the Agency; Alan Richtson (Reacher) as Aimes, the new head of the Agency who doesn’t hold the same fondness for Dom’s crew as his predecessor, Mr. Nobody; Daniela Melchior (The Suicide Squad) as a Brazilian street racer with a powerful tie to Dom’s past; and legendary Oscar® winner Rita Moreno as Dom and Mia’s Abuelita Toretto. \n \nFast X is produced by Neal H. Moritz, Vin Diesel, Justin Lin, Jeff Kirschenbaum and Samantha Vincent. The executive producers are Joseph M. Caracciolo, Jr., David Cain, Chris Morgan, Amanda Lewis and Mark Bomback. www.thefastsaga.com\n\nOfficial Website: https://www.fastxmovie.com/\nFacebook: https://www.facebook.com/TheFastSaga\nInstagram: https://www.instagram.com/TheFastSaga\nTwitter: https://twitter.com/TheFastSaga\nTikTok: https://www.tiktok.com/@thefastsaga",
          "liveBroadcastContent": "none",
          "localized": {
           "description": "The end of the road begins Friday. Watch the FINAL TRAILER Now. #FASTX \n\nGet tickets now: https://tickets.fastxmovie.com/\n\nThe end of the road begins. \n\nFast X, the tenth film in the Fast & Furious Saga, launches the final chapters of one of cinema’s most storied and popular global franchises, now in its third decade and still going strong with the same core cast and characters as when it began.\n\nOver many missions and against impossible odds, Dom Toretto (Vin Diesel) and his family have outsmarted, out-nerved and outdriven every foe in their path. Now, they confront the most lethal opponent they’ve ever faced: A terrifying threat emerging from the shadows of the past who’s fueled by blood revenge, and who is determined to shatter this family and destroy everything—and everyone—that Dom loves, forever.  \n \nIn 2011’s Fast Five, Dom and his crew took out nefarious Brazilian drug kingpin Hernan Reyes and decapitated his empire on a bridge in Rio De Janeiro. What they didn’t know was that Reyes’ son, Dante (Aquaman’s Jason Momoa), witnessed it all and has spent the last 12 years masterminding a plan to make Dom pay the ultimate price. \n \nDante’s plot will scatter Dom’s family from Los Angeles to the catacombs of Rome, from Brazil to London and from Portugal to Antarctica. New allies will be forged and old enemies will resurface. But everything changes when Dom discovers that his own 8-year-old son (Leo Abelo Perry, Black-ish) is the ultimate target of Dante’s vengeance. \n \nDirected by Louis Leterrier (Clash of the Titans, The Incredible Hulk), Fast X stars returning cast members Michelle Rodriguez, Tyrese Gibson, Chris “Ludacris” Bridges, Nathalie Emmanuel, Jordana Brewster, Sung Kang, Jason Statham, John Cena and Scott Eastwood, with Oscar® winner Helen Mirren and Oscar® winner Charlize Theron. \n \nThe film also features an extraordinary new cast including Oscar® winner Brie Larson as Tess, a rogue representative from the Agency; Alan Richtson (Reacher) as Aimes, the new head of the Agency who doesn’t hold the same fondness for Dom’s crew as his predecessor, Mr. Nobody; Daniela Melchior (The Suicide Squad) as a Brazilian street racer with a powerful tie to Dom’s past; and legendary Oscar® winner Rita Moreno as Dom and Mia’s Abuelita Toretto. \n \nFast X is produced by Neal H. Moritz, Vin Diesel, Justin Lin, Jeff Kirschenbaum and Samantha Vincent. The executive producers are Joseph M. Caracciolo, Jr., David Cain, Chris Morgan, Amanda Lewis and Mark Bomback. www.thefastsaga.com\n\nOfficial Website: https://www.fastxmovie.com/\nFacebook: https://www.facebook.com/TheFastSaga\nInstagram: https://www.instagram.com/TheFastSaga\nTwitter: https://twitter.com/TheFastSaga\nTikTok: https://www.tiktok.com/@thefastsaga",
           "title": "FAST X | Final Trailer"
          },
          "publishedAt": "2023-05-15T16:08:35Z",
          "tags": [
           "Fast & Furious",
           "Hobbs & Shaw"
          ],
          "thumbnails": {
           "default": {
            "height": 90,
            "url": "https://i.ytimg.com/vi/eoOaKN4qCKw/default.jpg",
            "width": 120
           },
           "high": {
            "height": 360,
            "url": "https://i.ytimg.com/vi/eoOaKN4qCKw/hqdefault.jpg",
            "width": 480
           },
           "maxres": {
            "height": 720,
            "url": "https://i.ytimg.com/vi/eoOaKN4qCKw/maxresdefault.jpg",
            "width": 1280
           },
           "medium": {
            "height": 180,
            "url": "https://i.ytimg.com/vi/eoOaKN4qCKw/mqdefault.jpg",
            "width": 320
           },
           "standard": {
            "height": 480,
            "url": "https://i.ytimg.com/vi/eoOaKN4qCKw/sddefault.jpg",
            "width": 640
           }
          },
          "title": "FAST X | Final Trailer"
         },
         "statistics": {
          "commentCount": "12380",
          "favoriteCount": "0",
          "likeCount": "221216",
          "viewCount": "13898505"
         }
        },
        {
         "contentDetails": {
          "caption": "true",
          "contentRating": {},
          "definition": "hd",
          "dimension": "2d",
          "duration": "PT2M30S",
          "licensedContent": true,
          "projection": "rectangular"
         },
         "etag": "QlvoLYaFU0jUiO5uOCAkmu-Oe3Y",
         "id": "cqGjhVJWtEg",
         "kind": "youtube#video",
         "snippet": {
          "categoryId": "24",
          "channelId": "UCz97F7dMxBNOfGYu3rx8aCw",
          "channelTitle": "Sony Pictures Entertainment",
          "defaultAudioLanguage": "en",
          "description": "The next Spider-Man movie is coming to theaters June 2023. Watch the new trailer for Spider-Man: Across the #SpiderVerse now. \n\nSubscribe to Sony Pictures for exclusive content: http://bit.ly/SonyPicsSubscribe \n \nFollow us on Social:\nhttps://www.facebook.com/SpiderVerseMovie  \nhttps://www.twitter.com/SpiderVerse\nhttps://www.instagram.com/SpiderVerseMovie  \nhttps://www.tiktok.com/@spiderversemovie \nhttps://www.acrossthespiderverse.movie\n\nMiles Morales returns for the next chapter of the Oscar®-winning Spider-Verse saga, Spider-Man: Across the Spider-Verse. After reuniting with Gwen Stacy, Brooklyn’s full-time, friendly neighborhood Spider-Man is catapulted across the Multiverse, where he encounters a team of Spider-People charged with protecting its very existence. But when the heroes clash on how to handle a new threat, Miles finds himself pitted against the other Spiders and must redefine what it means to be a hero so he can save the people he loves most.\n \nDirected by:                       \nJoaquim Dos Santos\nKemp Powers\nJustin K. Thompson\n \nScreenplay by:              \nPhil Lord & Christopher Miller and David Callaham\n \nBased on the MARVEL Comic Books\n \nProduced by:                       \nAvi Arad\nAmy Pascal\nPhil Lord\nChristopher Miller\nChristina Steinberg\n \nExecutive Producers:        \nBob Persichetti\nPeter Ramsey\nRodney Rothman\nAditya Sood\nRebecca Karch\nBrian Bendis\n \nCast:                                  \nShameik Moore\nHailee Steinfeld\nJake Johnson\nIssa Rae\nDaniel Kaluuya\nJason Schwartzman\nBrian Tyree Henry\nLuna Lauren Velez\nGreta Lee\nRachel Dratch\nJorma Taccone\nShea Whigham\nand Oscar Isaac                         \n \n#SpiderVerse #SpiderVerseMovie #AcrossTheSpiderVerse #SpiderMan #MilesMorales #SpiderGwen #SonyPictures #SonyPicturesAnimation #OfficialTrailer #Marvel #Movie",
          "liveBroadcastContent": "none",
          "localized": {
           "description": "The next Spider-Man movie is coming to theaters June 2023. Watch the new trailer for Spider-Man: Across the #SpiderVerse now. \n\nSubscribe to Sony Pictures for exclusive content: http://bit.ly/SonyPicsSubscribe \n \nFollow us on Social:\nhttps://www.facebook.com/SpiderVerseMovie  \nhttps://www.twitter.com/SpiderVerse\nhttps://www.instagram.com/SpiderVerseMovie  \nhttps://www.tiktok.com/@spiderversemovie \nhttps://www.acrossthespiderverse.movie\n\nMiles Morales returns for the next chapter of the Oscar®-winning Spider-Verse saga, Spider-Man: Across the Spider-Verse. After reuniting with Gwen Stacy, Brooklyn’s full-time, friendly neighborhood Spider-Man is catapulted across the Multiverse, where he encounters a team of Spider-People charged with protecting its very existence. But when the heroes clash on how to handle a new threat, Miles finds himself pitted against the other Spiders and must redefine what it means to be a hero so he can save the people he loves most.\n \nDirected by:                       \nJoaquim Dos Santos\nKemp Powers\nJustin K. Thompson\n \nScreenplay by:              \nPhil Lord & Christopher Miller and David Callaham\n \nBased on the MARVEL Comic Books\n \nProduced by:                       \nAvi Arad\nAmy Pascal\nPhil Lord\nChristopher Miller\nChristina Steinberg\n \nExecutive Producers:        \nBob Persichetti\nPeter Ramsey\nRodney Rothman\nAditya Sood\nRebecca Karch\nBrian Bendis\n \nCast:                                  \nShameik Moore\nHailee Steinfeld\nJake Johnson\nIssa Rae\nDaniel Kaluuya\nJason Schwartzman\nBrian Tyree Henry\nLuna Lauren Velez\nGreta Lee\nRachel Dratch\nJorma Taccone\nShea Whigham\nand Oscar Isaac                         \n \n#SpiderVerse #SpiderVerseMovie #AcrossTheSpiderVerse #SpiderMan #MilesMorales #SpiderGwen #SonyPictures #SonyPicturesAnimation #OfficialTrailer #Marvel #Movie",
           "title": "SPIDER-MAN: ACROSS THE SPIDER-VERSE - Official Trailer (HD)"
          },
          "publishedAt": "2022-12-13T17:00:07Z",
          "thumbnails": {
           "default": {
            "height": 90,
            "url": "https://i.ytimg.com/vi/cqGjhVJWtEg/default.jpg",
            "width": 120
           },
           "high": {
            "height": 360,
            "url": "https://i.ytimg.com/vi/cqGjhVJWtEg/hqdefault.jpg",
            "width": 480
           },
           "maxres": {
            "height": 720,
            "url": "https://i.ytimg.com/vi/cqGjhVJWtEg/maxresdefault.jpg",
            "width": 1280
           },
           "medium": {
            "height": 180,
            "url": "https://i.ytimg.com/vi/cqGjhVJWtEg/mqdefault.jpg",
            "width": 320
           },
           "standard": {
            "height": 480,
            "url": "https://i.ytimg.com/vi/cqGjhVJWtEg/sddefault.jpg",
            "width": 640
           }
          },
          "title": "SPIDER-MAN: ACROSS THE SPIDER-VERSE - Official Trailer (HD)"
         },
         "statistics": {
          "commentCount": "28539",
          "favoriteCount": "0",
          "likeCount": "919906",
          "viewCount": "36568841"
         }
        },
        {
         "contentDetails": {
          "caption": "false",
          "contentRating": {},
          "definition": "hd",
          "dimension": "2d",
          "duration": "PT2M50S",
          "licensedContent": true,
          "projection": "rectangular"
         },
         "etag": "DXpP75C6n1OTnrvRyar9qTO3pG0",
         "id": "shW9i6k8cB0",
         "kind": "youtube#video",
         "snippet": {
          "categoryId": "24",
          "channelId": "UCz97F7dMxBNOfGYu3rx8aCw",
          "channelTitle": "Sony Pictures Entertainment",
          "defaultAudioLanguage": "en",
          "description": "One Spider-Man wants to change his own destiny. 🕷 Miles Morales returns for the next Spider-Man movie, exclusively in theaters June 2. Watch the new trailer for Across the #SpiderVerse now.\n\nText 718-808-8342 to join the Spider Society.\n\nSubscribe to Sony Pictures for exclusive content: http://bit.ly/SonyPicsSubscribe \n \nFollow us on Social:\nhttps://www.facebook.com/SpiderVerseMovie  \nhttps://www.twitter.com/SpiderVerse\nhttps://www.instagram.com/SpiderVerseMovie  \nhttps://www.tiktok.com/@spiderversemovie \nhttps://www.acrossthespiderverse.movie\n\nMiles Morales returns for the next chapter of the Oscar®-winning Spider-Verse saga, Spider-Man™: Across the Spider-Verse. After reuniting with Gwen Stacy, Brooklyn’s full-time, friendly neighborhood Spider-Man is catapulted across the Multiverse, where he encounters a team of Spider-People charged with protecting its very existence. But when the heroes clash on how to handle a new threat, Miles finds himself pitted against the other Spiders and must redefine what it means to be a hero so he can save the people he loves most.\n \nDirected by:                       \nJoaquim Dos Santos\nKemp Powers\nJustin K. Thompson\n \nScreenplay by:              \nPhil Lord & Christopher Miller and David Callaham\n \nBased on the MARVEL Comic Books\n \nProduced by:                       \nAvi Arad\nAmy Pascal\nPhil Lord\nChristopher Miller\nChristina Steinberg\n \nExecutive Producers:        \nBob Persichetti\nPeter Ramsey\nRodney Rothman\nAditya Sood\nRebecca Karch\nBrian Bendis\n \nCast:                                  \nShameik Moore\nHailee Steinfeld\nJake Johnson\nIssa Rae\nDaniel Kaluuya\nKaran Soni\nJason Schwartzman\nBrian Tyree Henry\nLuna Lauren Velez\nGreta Lee\nRachel Dratch\nJorma Taccone\nShea Whigham\nand Oscar Isaac                         \n \n#SpiderVerse #SpiderVerseMovie #AcrossTheSpiderVerse #SpiderMan #MilesMorales #SpiderGwen #SonyPictures #SonyPicturesAnimation #OfficialTrailer #Marvel #Movie",
          "liveBroadcastContent": "none",
          "localized": {
           "description": "One Spider-Man wants to change his own destiny. 🕷 Miles Morales returns for the next Spider-Man movie, exclusively in theaters June 2. Watch the new trailer for Across the #SpiderVerse now.\n\nText 718-808-8342 to join the Spider Society.\n\nSubscribe to Sony Pictures for exclusive content: http://bit.ly/SonyPicsSubscribe \n \nFollow us on Social:\nhttps://www.facebook.com/SpiderVerseMovie  \nhttps://www.twitter.com/SpiderVerse\nhttps://www.instagram.com/SpiderVerseMovie  \nhttps://www.tiktok.com/@spiderversemovie \nhttps://www.acrossthespiderverse.movie\n\nMiles Morales returns for the next chapter of the Oscar®-winning Spider-Verse saga, Spider-Man™: Across the Spider-Verse. After reuniting with Gwen Stacy, Brooklyn’s full-time, friendly neighborhood Spider-Man is catapulted across the Multiverse, where he encounters a team of Spider-People charged with protecting its very existence. But when the heroes clash on how to handle a new threat, Miles finds himself pitted against the other Spiders and must redefine what it means to be a hero so he can save the people he loves most.\n \nDirected by:                       \nJoaquim Dos Santos\nKemp Powers\nJustin K. Thompson\n \nScreenplay by:              \nPhil Lord & Christopher Miller and David Callaham\n \nBased on the MARVEL Comic Books\n \nProduced by:                       \nAvi Arad\nAmy Pascal\nPhil Lord\nChristopher Miller\nChristina Steinberg\n \nExecutive Producers:        \nBob Persichetti\nPeter Ramsey\nRodney Rothman\nAditya Sood\nRebecca Karch\nBrian Bendis\n \nCast:                                  \nShameik Moore\nHailee Steinfeld\nJake Johnson\nIssa Rae\nDaniel Kaluuya\nKaran Soni\nJason Schwartzman\nBrian Tyree Henry\nLuna Lauren Velez\nGreta Lee\nRachel Dratch\nJorma Taccone\nShea Whigham\nand Oscar Isaac                         \n \n#SpiderVerse #SpiderVerseMovie #AcrossTheSpiderVerse #SpiderMan #MilesMorales #SpiderGwen #SonyPictures #SonyPicturesAnimation #OfficialTrailer #Marvel #Movie",
           "title": "SPIDER-MAN: ACROSS THE SPIDER-VERSE - Official Trailer #2 (HD)"
          },
          "publishedAt": "2023-04-04T07:01:03Z",
          "thumbnails": {
           "default": {
            "height": 90,
            "url": "https://i.ytimg.com/vi/shW9i6k8cB0/default.jpg",
            "width": 120
           },
           "high": {
            "height": 360,
            "url": "https://i.ytimg.com/vi/shW9i6k8cB0/hqdefault.jpg",
            "width": 480
           },
           "maxres": {
            "height": 720,
            "url": "https://i.ytimg.com/vi/shW9i6k8cB0/maxresdefault.jpg",
            "width": 1280
           },
           "medium": {
            "height": 180,
            "url": "https://i.ytimg.com/vi/shW9i6k8cB0/mqdefault.jpg",
            "width": 320
           },
           "standard": {
            "height": 480,
            "url": "https://i.ytimg.com/vi/shW9i6k8cB0/sddefault.jpg",
            "width": 640
           }
          },
          "title": "SPIDER-MAN: ACROSS THE SPIDER-VERSE - Official Trailer #2 (HD)"
         },
         "statistics": {
          "commentCount": "31250",
          "favoriteCount": "0",
          "likeCount": "676234",
          "viewCount": "50792363"
         }
        },
        {
         "contentDetails": {
          "caption": "true",
          "contentRating": {},
          "definition": "hd",
          "dimension": "2d",
          "duration": "PT2M21S",
          "licensedContent": true,
          "projection": "rectangular"
         },
         "etag": "pKLo3Z_2F_D1LD_t1cVYIYQ4mFI",
         "id": "kpGo2_d3oYE",
         "kind": "youtube#video",
         "snippet": {
          "categoryId": "1",
          "channelId": "UCuaFvcY4MhZY3U43mMt1dYQ",
          "channelTitle": "Walt Disney Studios",
          "defaultAudioLanguage": "en-US",
          "description": "Watch and you'll see, some day I'll be, part of your world! Watch the new trailer for #TheLittleMermaid and see the movie in theaters May 26!\n\nThe brand new soundtrack for Disney’s “The Little Mermaid” is available now to Pre-Save, Pre-Add or Pre-Order – https://presave.umusic.com/thelittlemermaidsoundtrack\n\n“The Little Mermaid” is the beloved story of Ariel, a beautiful and spirited young mermaid with a thirst for adventure. The youngest of King Triton’s daughters and the most defiant, Ariel longs to find out more about the world beyond the sea and, while visiting the surface, falls for the dashing Prince Eric. While mermaids are forbidden to interact with humans, Ariel must follow her heart. She makes a deal with the evil sea witch, Ursula, which gives her a chance to experience life on land but ultimately places her life – and her father’s crown – in jeopardy. The film stars singer and actress Halle Bailey (“grown-ish”) as Ariel; Jonah Hauer-King (“A Dog’s Way Home”) as Prince Eric; Tony Award® winner Daveed Diggs (“Hamilton”) as the voice of Sebastian; Awkwafina (“Raya and the Last Dragon”) as the voice of Scuttle; Jacob Tremblay (“Luca”) as the voice of Flounder; Noma Dumezweni (“Mary Poppins Returns”) as Queen Selina; Art Malik (“Homeland”) as Sir Grimsby; with Oscar® winner Javier Bardem (“No Country for Old Men”) as King Triton; and two-time Academy Award® nominee Melissa McCarthy (“Can You Ever Forgive Me?” “Bridesmaids”) as Ursula.      \n \n“The Little Mermaid” is directed by Oscar® nominee Rob Marshall (“Chicago,” “Mary Poppins Returns”) with a screenplay by two-time Oscar nominee David Magee (“Life of Pi,” “Finding Neverland”). The songs feature music from multiple Academy Award® winner Alan Menken (“Beauty and the Beast,” “Aladdin”) and lyrics by Howard Ashman, and new lyrics by three-time Tony Award® winner Lin-Manuel Miranda. The film is produced by two-time Emmy® winner Marc Platt (“Jesus Christ Superstar Live in Concert,” “Grease Live!”), Miranda, two-time Emmy winner John DeLuca (“Tony Bennett: An American Classic”), and Rob Marshall, with Jeffrey Silver (“The Lion King”) serving as executive producer. \n\nHashtag: #TheLittleMermaid\nTwitter: https://twitter.com/littlemermaid\nFacebook: https://www.facebook.com/DisneyTheLittleMermaid\nInstagram: https://www.instagram.com/disneylittlemermaid/",
          "liveBroadcastContent": "none",
          "localized": {
           "description": "Watch and you'll see, some day I'll be, part of your world! Watch the new trailer for #TheLittleMermaid and see the movie in theaters May 26!\n\nThe brand new soundtrack for Disney’s “The Little Mermaid” is available now to Pre-Save, Pre-Add or Pre-Order – https://presave.umusic.com/thelittlemermaidsoundtrack\n\n“The Little Mermaid” is the beloved story of Ariel, a beautiful and spirited young mermaid with a thirst for adventure. The youngest of King Triton’s daughters and the most defiant, Ariel longs to find out more about the world beyond the sea and, while visiting the surface, falls for the dashing Prince Eric. While mermaids are forbidden to interact with humans, Ariel must follow her heart. She makes a deal with the evil sea witch, Ursula, which gives her a chance to experience life on land but ultimately places her life – and her father’s crown – in jeopardy. The film stars singer and actress Halle Bailey (“grown-ish”) as Ariel; Jonah Hauer-King (“A Dog’s Way Home”) as Prince Eric; Tony Award® winner Daveed Diggs (“Hamilton”) as the voice of Sebastian; Awkwafina (“Raya and the Last Dragon”) as the voice of Scuttle; Jacob Tremblay (“Luca”) as the voice of Flounder; Noma Dumezweni (“Mary Poppins Returns”) as Queen Selina; Art Malik (“Homeland”) as Sir Grimsby; with Oscar® winner Javier Bardem (“No Country for Old Men”) as King Triton; and two-time Academy Award® nominee Melissa McCarthy (“Can You Ever Forgive Me?” “Bridesmaids”) as Ursula.      \n \n“The Little Mermaid” is directed by Oscar® nominee Rob Marshall (“Chicago,” “Mary Poppins Returns”) with a screenplay by two-time Oscar nominee David Magee (“Life of Pi,” “Finding Neverland”). The songs feature music from multiple Academy Award® winner Alan Menken (“Beauty and the Beast,” “Aladdin”) and lyrics by Howard Ashman, and new lyrics by three-time Tony Award® winner Lin-Manuel Miranda. The film is produced by two-time Emmy® winner Marc Platt (“Jesus Christ Superstar Live in Concert,” “Grease Live!”), Miranda, two-time Emmy winner John DeLuca (“Tony Bennett: An American Classic”), and Rob Marshall, with Jeffrey Silver (“The Lion King”) serving as executive producer. \n\nHashtag: #TheLittleMermaid\nTwitter: https://twitter.com/littlemermaid\nFacebook: https://www.facebook.com/DisneyTheLittleMermaid\nInstagram: https://www.instagram.com/disneylittlemermaid/",
           "title": "The Little Mermaid | Official Trailer"
          },
          "publishedAt": "2023-03-13T00:59:01Z",
          "tags": [
           "the little mermaid",
           "halle bailey",
           "disney",
           "ursula",
           "scuttle",
           "movie",
           "trailer",
           "prince Eric",
           "Melissa McCarthy",
           "part of your world",
           "under the sea",
           "poor unfortunate souls"
          ],
          "thumbnails": {
           "default": {
            "height": 90,
            "url": "https://i.ytimg.com/vi/kpGo2_d3oYE/default.jpg",
            "width": 120
           },
           "high": {
            "height": 360,
            "url": "https://i.ytimg.com/vi/kpGo2_d3oYE/hqdefault.jpg",
            "width": 480
           },
           "maxres": {
            "height": 720,
            "url": "https://i.ytimg.com/vi/kpGo2_d3oYE/maxresdefault.jpg",
            "width": 1280
           },
           "medium": {
            "height": 180,
            "url": "https://i.ytimg.com/vi/kpGo2_d3oYE/mqdefault.jpg",
            "width": 320
           },
           "standard": {
            "height": 480,
            "url": "https://i.ytimg.com/vi/kpGo2_d3oYE/sddefault.jpg",
            "width": 640
           }
          },
          "title": "The Little Mermaid | Official Trailer"
         },
         "statistics": {
          "commentCount": "76722",
          "favoriteCount": "0",
          "likeCount": "374684",
          "viewCount": "26018835"
         }
        },
        {
         "contentDetails": {
          "caption": "true",
          "contentRating": {},
          "definition": "hd",
          "dimension": "2d",
          "duration": "PT2M28S",
          "licensedContent": true,
          "projection": "rectangular"
         },
         "etag": "w1Uzb2u1HDqwuO3ABGb7SE96Aeg",
         "id": "avz06PDqDbM",
         "kind": "youtube#video",
         "snippet": {
          "categoryId": "1",
          "channelId": "UCF9imwPMSGz4Vq1NiTWCC7g",
          "channelTitle": "Paramount Pictures",
          "defaultAudioLanguage": "en-US",
          "description": "Watch the official trailer for #MissionImpossible – Dead Reckoning Part One, starring Tom Cruise. \n\nWatch Mission: Impossible - Dead Reckoning Part One on Digital TODAY: http://paramnt.us/MissionImpossibleDRP1 🏍️ \n\nSign up for EXCLUSIVE content and updates: https://www.missionimpossible.com/signup/ \n\nIn Mission: Impossible – Dead Reckoning Part One, Ethan Hunt (Tom Cruise) and his IMF team embark on their most dangerous mission yet: To track down a terrifying new weapon that threatens all of humanity before it falls into the wrong hands. With control of the future and the fate of the world at stake, and dark forces from Ethan's past closing in, a deadly race around the globe begins. Confronted by a mysterious, all-powerful enemy, Ethan is forced to consider that nothing can matter more than his mission – not even the lives of those he cares about most.\n\nConnect with #MissionImpossible \n \nTikTok: https://www.tiktok.com/@missionimpossible\nInstagram: https://www.instagram.com/missionimpossible/\nTwitter: https://twitter.com/missionfilm/ \nFacebook: https://www.facebook.com/MissionImpossible/ \n\nParamount Pictures Corporation (PPC), a major global producer and distributor of filmed entertainment, is a unit of Viacom (NASDAQ: VIAB, VIA), home to premier global media brands that create compelling television programs, motion pictures, short-form content, apps, games, consumer products, social media experiences, and other entertainment content for audiences in more than 180 countries.\n \nConnect with Paramount Pictures Online:\n\nOfficial Site: http://www.paramount.com/\nTikTok: https://www.tiktok.com/@paramountpics\nInstagram: http://www.instagram.com/ParamountPics\nTwitter: https://twitter.com/paramountpics\nYouTube: https://www.youtube.com/user/Paramount\nFacebook: https://www.facebook.com/Paramount",
          "liveBroadcastContent": "none",
          "localized": {
           "description": "Watch the official trailer for #MissionImpossible – Dead Reckoning Part One, starring Tom Cruise. \n\nWatch Mission: Impossible - Dead Reckoning Part One on Digital TODAY: http://paramnt.us/MissionImpossibleDRP1 🏍️ \n\nSign up for EXCLUSIVE content and updates: https://www.missionimpossible.com/signup/ \n\nIn Mission: Impossible – Dead Reckoning Part One, Ethan Hunt (Tom Cruise) and his IMF team embark on their most dangerous mission yet: To track down a terrifying new weapon that threatens all of humanity before it falls into the wrong hands. With control of the future and the fate of the world at stake, and dark forces from Ethan's past closing in, a deadly race around the globe begins. Confronted by a mysterious, all-powerful enemy, Ethan is forced to consider that nothing can matter more than his mission – not even the lives of those he cares about most.\n\nConnect with #MissionImpossible \n \nTikTok: https://www.tiktok.com/@missionimpossible\nInstagram: https://www.instagram.com/missionimpossible/\nTwitter: https://twitter.com/missionfilm/ \nFacebook: https://www.facebook.com/MissionImpossible/ \n\nParamount Pictures Corporation (PPC), a major global producer and distributor of filmed entertainment, is a unit of Viacom (NASDAQ: VIAB, VIA), home to premier global media brands that create compelling television programs, motion pictures, short-form content, apps, games, consumer products, social media experiences, and other entertainment content for audiences in more than 180 countries.\n \nConnect with Paramount Pictures Online:\n\nOfficial Site: http://www.paramount.com/\nTikTok: https://www.tiktok.com/@paramountpics\nInstagram: http://www.instagram.com/ParamountPics\nTwitter: https://twitter.com/paramountpics\nYouTube: https://www.youtube.com/user/Paramount\nFacebook: https://www.facebook.com/Paramount",
           "title": "Mission: Impossible – Dead Reckoning Part One | Official Trailer (2023 Movie) - Tom Cruise"
          },
          "publishedAt": "2023-05-17T13:00:00Z",
          "thumbnails": {
           "default": {
            "height": 90,
            "url": "https://i.ytimg.com/vi/avz06PDqDbM/default.jpg",
            "width": 120
           },
           "high": {
            "height": 360,
            "url": "https://i.ytimg.com/vi/avz06PDqDbM/hqdefault.jpg",
            "width": 480
           },
           "maxres": {
            "height": 720,
            "url": "https://i.ytimg.com/vi/avz06PDqDbM/maxresdefault.jpg",
            "width": 1280
           },
           "medium": {
            "height": 180,
            "url": "https://i.ytimg.com/vi/avz06PDqDbM/mqdefault.jpg",
            "width": 320
           },
           "standard": {
            "height": 480,
            "url": "https://i.ytimg.com/vi/avz06PDqDbM/sddefault.jpg",
            "width": 640
           }
          },
          "title": "Mission: Impossible – Dead Reckoning Part One | Official Trailer (2023 Movie) - Tom Cruise"
         },
         "statistics": {
          "commentCount": "14530",
          "favoriteCount": "0",
          "likeCount": "329463",
          "viewCount": "28850466"
         }
        },
        {
         "contentDetails": {
          "caption": "true",
          "contentRating": {},
          "definition": "hd",
          "dimension": "2d",
          "duration": "PT1M8S",
          "licensedContent": true,
          "projection": "rectangular"
         },
         "etag": "F8BmzhWdKkoytZqnGT7aJL7-JdI",
         "id": "HurjfO_TDlQ",
         "kind": "youtube#video",
         "snippet": {
          "categoryId": "1",
          "channelId": "UCF9imwPMSGz4Vq1NiTWCC7g",
          "channelTitle": "Paramount Pictures",
          "defaultAudioLanguage": "en-US",
          "description": "See why #MissionImpossible - Dead Reckoning Part One starring Tom Cruise is 99% CERTIFIED FRESH 🍅. \n\nWatch Mission: Impossible - Dead Reckoning Part One on Digital TODAY: http://paramnt.us/MissionImpossibleDRP1\n\nIn Mission: Impossible – Dead Reckoning Part One, Ethan Hunt (Tom Cruise) and his IMF team embark on their most dangerous mission yet: To track down a terrifying new weapon that threatens all of humanity before it falls into the wrong hands. With control of the future and the fate of the world at stake, and dark forces from Ethan's past closing in, a deadly race around the globe begins. Confronted by a mysterious, all-powerful enemy, Ethan is forced to consider that nothing can matter more than his mission – not even the lives of those he cares about most.\n\nTo sign-up for EXCLUSIVE content and updates: https://www.missionimpossible.com/signup/ \n\nConnect with #MissionImpossible \n \nTikTok: https://www.tiktok.com/@missionimpossible\nInstagram: https://www.instagram.com/missionimpossible/\nTwitter: https://twitter.com/missionfilm/ \nFacebook: https://www.facebook.com/MissionImpossible/ \n\nParamount Pictures Corporation (PPC), a major global producer and distributor of filmed entertainment, is a unit of Viacom (NASDAQ: VIAB, VIA), home to premier global media brands that create compelling television programs, motion pictures, short-form content, apps, games, consumer products, social media experiences, and other entertainment content for audiences in more than 180 countries.\n \nConnect with Paramount Pictures Online:\n\nOfficial Site: http://www.paramount.com/\nTikTok: https://www.tiktok.com/@paramountpics\nInstagram: http://www.instagram.com/ParamountPics\nTwitter: https://twitter.com/paramountpics\nYouTube: https://www.youtube.com/user/Paramount\nFacebook: https://www.facebook.com/Paramount",
          "liveBroadcastContent": "none",
          "localized": {
           "description": "See why #MissionImpossible - Dead Reckoning Part One starring Tom Cruise is 99% CERTIFIED FRESH 🍅. \n\nWatch Mission: Impossible - Dead Reckoning Part One on Digital TODAY: http://paramnt.us/MissionImpossibleDRP1\n\nIn Mission: Impossible – Dead Reckoning Part One, Ethan Hunt (Tom Cruise) and his IMF team embark on their most dangerous mission yet: To track down a terrifying new weapon that threatens all of humanity before it falls into the wrong hands. With control of the future and the fate of the world at stake, and dark forces from Ethan's past closing in, a deadly race around the globe begins. Confronted by a mysterious, all-powerful enemy, Ethan is forced to consider that nothing can matter more than his mission – not even the lives of those he cares about most.\n\nTo sign-up for EXCLUSIVE content and updates: https://www.missionimpossible.com/signup/ \n\nConnect with #MissionImpossible \n \nTikTok: https://www.tiktok.com/@missionimpossible\nInstagram: https://www.instagram.com/missionimpossible/\nTwitter: https://twitter.com/missionfilm/ \nFacebook: https://www.facebook.com/MissionImpossible/ \n\nParamount Pictures Corporation (PPC), a major global producer and distributor of filmed entertainment, is a unit of Viacom (NASDAQ: VIAB, VIA), home to premier global media brands that create compelling television programs, motion pictures, short-form content, apps, games, consumer products, social media experiences, and other entertainment content for audiences in more than 180 countries.\n \nConnect with Paramount Pictures Online:\n\nOfficial Site: http://www.paramount.com/\nTikTok: https://www.tiktok.com/@paramountpics\nInstagram: http://www.instagram.com/ParamountPics\nTwitter: https://twitter.com/paramountpics\nYouTube: https://www.youtube.com/user/Paramount\nFacebook: https://www.facebook.com/Paramount",
           "title": "Mission: Impossible – Dead Reckoning Part One | Final Trailer (2023 Movie) - Tom Cruise"
          },
          "publishedAt": "2023-07-10T13:00:02Z",
          "thumbnails": {
           "default": {
            "height": 90,
            "url": "https://i.ytimg.com/vi/HurjfO_TDlQ/default.jpg",
            "width": 120
           },
           "high": {
            "height": 360,
            "url": "https://i.ytimg.com/vi/HurjfO_TDlQ/hqdefault.jpg",
            "width": 480
           },
           "maxres": {
            "height": 720,
            "url": "https://i.ytimg.com/vi/HurjfO_TDlQ/maxresdefault.jpg",
            "width": 1280
           },
           "medium": {
            "height": 180,
            "url": "https://i.ytimg.com/vi/HurjfO_TDlQ/mqdefault.jpg",
            "width": 320
           },
           "standard": {
            "height": 480,
            "url": "https://i.ytimg.com/vi/HurjfO_TDlQ/sddefault.jpg",
            "width": 640
           }
          },
          "title": "Mission: Impossible – Dead Reckoning Part One | Final Trailer (2023 Movie) - Tom Cruise"
         },
         "statistics": {
          "commentCount": "1264",
          "favoriteCount": "0",
          "likeCount": "31665",
          "viewCount": "5893070"
         }
        },
        {
         "contentDetails": {
          "caption": "true",
          "contentRating": {},
          "definition": "hd",
          "dimension": "2d",
          "duration": "PT2M20S",
          "licensedContent": true,
          "projection": "rectangular"
         },
         "etag": "KX8vHWa3F3YeHgRsAlj2Y8FXDg0",
         "id": "hXzcyx9V0xw",
         "kind": "youtube#video",
         "snippet": {
          "categoryId": "1",
          "channelId": "UC_IRYSp4auq7hKLvziWVH6w",
          "channelTitle": "Pixar",
          "defaultAudioLanguage": "en",
          "description": "This Summer, meet the residents of Element City\n\nWatch the new trailer for Disney and Pixar’s #Elemental and see the movie in 3D, only in theaters June 16!\n\nCheck out a brand-new trailer for Disney and Pixar’s “Elemental,” an all-new original feature film that transports moviegoers to an extraordinary place called Element City, where a host of elements live and work. The trailer showcases each element—air, earth, water and fire—and what sets them apart according to Ember, a quick-witted and fiery woman who’s always stayed close to home in Firetown. In “Elemental,” which opens in theaters on June 16, she finally ventures out of her comfort zone to explore this spectacular world born from the imaginations of Pixar’s filmmakers and specifically crafted for the big-screen experience. Element City is inspired by big cities around the globe and embraces theorized contributions from each elemental community—from giant pine-tree-like buildings and waterfall skyscrapers to a tornado-shaped arena called Cyclone Stadium. \n\nJoining the previously announced voice cast including Leah Lewis and Mamoudou Athie as Ember and Wade, respectively, are Ronnie del Carmen as Ember’s soon-to-be retired dad, Bernie; Shila Ommi as Ember’s love-seeking mom, Cinder; Wendi McLendon-Covey as Wade’s stormy and Air-Ball-loving boss, Gale; Catherine O’Hara as Wade’s welcoming mom, Brook; Mason Wertheimer as Ember’s admiring earth neighbor, Clod; and Joe Pera as an overgrown city bureaucrat, Fern.\n \nDirected by Peter Sohn, produced by Denise Ream, p.g.a., and executive produced by Pete Docter, “Elemental” features a screenplay by John Hoberg & Kat Likkel and Brenda Hsueh with story by Sohn, Hoberg & Likkel and Hsueh. The film’s original score was composed and conducted by Thomas Newman. \n\r\nPixar Instagram: https://www.instagram.com/pixar/\r\nPixar Twitter: https://twitter.com/pixar\r\nPixar Facebook: https://www.facebook.com/pixar\r\n \r\nCopyright: (C) Disney•Pixar",
          "liveBroadcastContent": "none",
          "localized": {
           "description": "This Summer, meet the residents of Element City\n\nWatch the new trailer for Disney and Pixar’s #Elemental and see the movie in 3D, only in theaters June 16!\n\nCheck out a brand-new trailer for Disney and Pixar’s “Elemental,” an all-new original feature film that transports moviegoers to an extraordinary place called Element City, where a host of elements live and work. The trailer showcases each element—air, earth, water and fire—and what sets them apart according to Ember, a quick-witted and fiery woman who’s always stayed close to home in Firetown. In “Elemental,” which opens in theaters on June 16, she finally ventures out of her comfort zone to explore this spectacular world born from the imaginations of Pixar’s filmmakers and specifically crafted for the big-screen experience. Element City is inspired by big cities around the globe and embraces theorized contributions from each elemental community—from giant pine-tree-like buildings and waterfall skyscrapers to a tornado-shaped arena called Cyclone Stadium. \n\nJoining the previously announced voice cast including Leah Lewis and Mamoudou Athie as Ember and Wade, respectively, are Ronnie del Carmen as Ember’s soon-to-be retired dad, Bernie; Shila Ommi as Ember’s love-seeking mom, Cinder; Wendi McLendon-Covey as Wade’s stormy and Air-Ball-loving boss, Gale; Catherine O’Hara as Wade’s welcoming mom, Brook; Mason Wertheimer as Ember’s admiring earth neighbor, Clod; and Joe Pera as an overgrown city bureaucrat, Fern.\n \nDirected by Peter Sohn, produced by Denise Ream, p.g.a., and executive produced by Pete Docter, “Elemental” features a screenplay by John Hoberg & Kat Likkel and Brenda Hsueh with story by Sohn, Hoberg & Likkel and Hsueh. The film’s original score was composed and conducted by Thomas Newman. \n\r\nPixar Instagram: https://www.instagram.com/pixar/\r\nPixar Twitter: https://twitter.com/pixar\r\nPixar Facebook: https://www.facebook.com/pixar\r\n \r\nCopyright: (C) Disney•Pixar",
           "title": "Elemental | Official Trailer"
          },
          "publishedAt": "2023-03-28T12:44:23Z",
          "tags": [
           "Pixar",
           "Disney",
           "Disney Pixar",
           "Pixar Movie",
           "Animation"
          ],
          "thumbnails": {
           "default": {
            "height": 90,
            "url": "https://i.ytimg.com/vi/hXzcyx9V0xw/default.jpg",
            "width": 120
           },
           "high": {
            "height": 360,
            "url": "https://i.ytimg.com/vi/hXzcyx9V0xw/hqdefault.jpg",
            "width": 480
           },
           "maxres": {
            "height": 720,
            "url": "https://i.ytimg.com/vi/hXzcyx9V0xw/maxresdefault.jpg",
            "width": 1280
           },
           "medium": {
            "height": 180,
            "url": "https://i.ytimg.com/vi/hXzcyx9V0xw/mqdefault.jpg",
            "width": 320
           },
           "standard": {
            "height": 480,
            "url": "https://i.ytimg.com/vi/hXzcyx9V0xw/sddefault.jpg",
            "width": 640
           }
          },
          "title": "Elemental | Official Trailer"
         },
         "statistics": {
          "commentCount": "12595",
          "favoriteCount": "0",
          "likeCount": "228897",
          "viewCount": "46500823"
         }
        },
        {
         "contentDetails": {
          "caption": "true",
          "contentRating": {},
          "definition": "hd",
          "dimension": "2d",
          "duration": "PT2M20S",
          "licensedContent": true,
          "projection": "rectangular"
         },
         "etag": "Ofx2h4ipEqpolF8hpmfIgAqZN-8",
         "id": "ZlNFpri-Y40",
         "kind": "youtube#video",
         "snippet": {
          "categoryId": "24",
          "channelId": "UCvC4D8onUfXzvjTOM-dBfEA",
          "channelTitle": "Marvel Entertainment",
          "defaultAudioLanguage": "en",
          "description": "► Subscribe to Marvel on YouTube: http://bit.ly/WeO3YJ\n\nFollow Marvel on Twitter: ‪https://twitter.com/marvel\nLike Marvel on Facebook: ‪https://www.facebook.com/marvel\nWatch Marvel on Twitch: https://www.twitch.tv/marvel\n\nReward your Marvel fandom by joining Marvel Insider!\nEarn points, then redeem for awesome rewards.\nTerms and conditions apply. \nLearn more at https://www.marvel.com/insider?Osocial=YT&CID=MarvelInsider\n\nFor even more news, stay tuned to:\nTumblr: ‪http://marvelentertainment.tumblr.com/\nInstagram: https://www.instagram.com/marvel\nPinterest: ‪http://pinterest.com/marvelofficial\nReddit: http://reddit.com/u/marvel-official",
          "liveBroadcastContent": "none",
          "localized": {
           "description": "► Subscribe to Marvel on YouTube: http://bit.ly/WeO3YJ\n\nFollow Marvel on Twitter: ‪https://twitter.com/marvel\nLike Marvel on Facebook: ‪https://www.facebook.com/marvel\nWatch Marvel on Twitch: https://www.twitch.tv/marvel\n\nReward your Marvel fandom by joining Marvel Insider!\nEarn points, then redeem for awesome rewards.\nTerms and conditions apply. \nLearn more at https://www.marvel.com/insider?Osocial=YT&CID=MarvelInsider\n\nFor even more news, stay tuned to:\nTumblr: ‪http://marvelentertainment.tumblr.com/\nInstagram: https://www.instagram.com/marvel\nPinterest: ‪http://pinterest.com/marvelofficial\nReddit: http://reddit.com/u/marvel-official",
           "title": "Marvel Studios’ Ant-Man and The Wasp: Quantumania | Official Trailer"
          },
          "publishedAt": "2022-10-24T16:00:40Z",
          "tags": [
           "marvel",
           "comics",
           "official",
           "mcu",
           "ant-man",
           "the wasp",
           "quantumania",
           "kang"
          ],
          "thumbnails": {
           "default": {
            "height": 90,
            "url": "https://i.ytimg.com/vi/ZlNFpri-Y40/default.jpg",
            "width": 120
           },
           "high": {
            "height": 360,
            "url": "https://i.ytimg.com/vi/ZlNFpri-Y40/hqdefault.jpg",
            "width": 480
           },
           "maxres": {
            "height": 720,
            "url": "https://i.ytimg.com/vi/ZlNFpri-Y40/maxresdefault.jpg",
            "width": 1280
           },
           "medium": {
            "height": 180,
            "url": "https://i.ytimg.com/vi/ZlNFpri-Y40/mqdefault.jpg",
            "width": 320
           },
           "standard": {
            "height": 480,
            "url": "https://i.ytimg.com/vi/ZlNFpri-Y40/sddefault.jpg",
            "width": 640
           }
          },
          "title": "Marvel Studios’ Ant-Man and The Wasp: Quantumania | Official Trailer"
         },
         "statistics": {
          "commentCount": "40415",
          "favoriteCount": "0",
          "likeCount": "1019991",
          "viewCount": "33627552"
         }
        },
        {
         "contentDetails": {
          "caption": "true",
          "contentRating": {},
          "definition": "hd",
          "dimension": "2d",
          "duration": "PT2M19S",
          "licensedContent": true,
          "projection": "rectangular"
         },
         "etag": "DcboGLnAXOgjyRn61Bd5xMafnok",
         "id": "5WfTEZJnv_8",
         "kind": "youtube#video",
         "snippet": {
          "categoryId": "24",
          "channelId": "UCvC4D8onUfXzvjTOM-dBfEA",
          "channelTitle": "Marvel Entertainment",
          "defaultAudioLanguage": "en",
          "description": "Experience Marvel Studios’ Ant-Man and The Wasp: Quantumania in 3D February 17. Get tickets now: http://www.fandango.com/AntManAndTheWasp \n\n► Subscribe to Marvel on YouTube: http://bit.ly/WeO3YJ\n\nFollow Marvel on Twitter: ‪https://twitter.com/marvel\nLike Marvel on Facebook: ‪https://www.facebook.com/marvel\nWatch Marvel on Twitch: https://www.twitch.tv/marvel\n\nReward your Marvel fandom by joining Marvel Insider!\nEarn points, then redeem for awesome rewards.\nTerms and conditions apply. \nLearn more at https://www.marvel.com/insider?Osocial=YT&CID=MarvelInsider\n\nFor even more news, stay tuned to:\nTumblr: ‪http://marvelentertainment.tumblr.com/\nInstagram: https://www.instagram.com/marvel\nPinterest: ‪http://pinterest.com/marvelofficial\nReddit: http://reddit.com/u/marvel-official",
          "liveBroadcastContent": "none",
          "localized": {
           "description": "Experience Marvel Studios’ Ant-Man and The Wasp: Quantumania in 3D February 17. Get tickets now: http://www.fandango.com/AntManAndTheWasp \n\n► Subscribe to Marvel on YouTube: http://bit.ly/WeO3YJ\n\nFollow Marvel on Twitter: ‪https://twitter.com/marvel\nLike Marvel on Facebook: ‪https://www.facebook.com/marvel\nWatch Marvel on Twitch: https://www.twitch.tv/marvel\n\nReward your Marvel fandom by joining Marvel Insider!\nEarn points, then redeem for awesome rewards.\nTerms and conditions apply. \nLearn more at https://www.marvel.com/insider?Osocial=YT&CID=MarvelInsider\n\nFor even more news, stay tuned to:\nTumblr: ‪http://marvelentertainment.tumblr.com/\nInstagram: https://www.instagram.com/marvel\nPinterest: ‪http://pinterest.com/marvelofficial\nReddit: http://reddit.com/u/marvel-official",
           "title": "Marvel Studios’ Ant-Man and The Wasp: Quantumania | New Trailer"
          },
          "publishedAt": "2023-01-10T03:20:52Z",
          "tags": [
           "marvel",
           "comics"
          ],
          "thumbnails": {
           "default": {
            "height": 90,
            "url": "https://i.ytimg.com/vi/5WfTEZJnv_8/default.jpg",
            "width": 120
           },
           "high": {
            "height": 360,
            "url": "https://i.ytimg.com/vi/5WfTEZJnv_8/hqdefault.jpg",
            "width": 480
           },
           "maxres": {
            "height": 720,
            "url": "https://i.ytimg.com/vi/5WfTEZJnv_8/maxresdefault.jpg",
            "width": 1280
           },
           "medium": {
            "height": 180,
            "url": "https://i.ytimg.com/vi/5WfTEZJnv_8/mqdefault.jpg",
            "width": 320
           },
           "standard": {
            "height": 480,
            "url": "https://i.ytimg.com/vi/5WfTEZJnv_8/sddefault.jpg",
            "width": 640
           }
          },
          "title": "Marvel Studios’ Ant-Man and The Wasp: Quantumania | New Trailer"
         },
         "statistics": {
          "commentCount": "33863",
          "favoriteCount": "0",
          "likeCount": "588401",
          "viewCount": "26184546"
         }
        },
        {
         "contentDetails": {
          "caption": "true",
          "contentRating": {},
          "definition": "hd",
          "dimension": "2d",
          "duration": "PT2M30S",
          "licensedContent": true,
          "projection": "rectangular"
         },
         "etag": "J17qeRjuZDbYEF9nLDTwXAW0ihg",
         "id": "qEVUtrk8_B4",
         "kind": "youtube#video",
         "snippet": {
          "categoryId": "1",
          "channelId": "UCJ6nMHaJPZvsJ-HmUmj1SeA",
          "channelTitle": "Lionsgate Movies",
          "defaultAudioLanguage": "en",
          "description": "#JohnWick4 – Now Available On Digital, 4K Ultra HD™ & Blu-Ray™. Starring Keanu Reeves, Donnie Yen, Bill Skarsgård, Laurence Fishburne, Hiroyuki Sanada, Shamier Anderson, Lance Reddick, Rina Sawayama, Scott Adkins, and Ian McShane. \n\nText 310-564-8005 for classified updates. Subscribe to the LIONSGATE YouTube Channel for the latest movies trailers, clips, and more: \nhttps://bit.ly/2Z6nfym\n\nhttps://www.johnwick.movie\nhttps://www.instagram.com/johnwickmovie/\nhttps://www.facebook.com/johnwickmovie\nhttps://twitter.com/JohnWickMovie\nhttps://www.tiktok.com/@lionsgate\n\nJohn Wick (Keanu Reeves) uncovers a path to defeating the High Table. But before he can earn his freedom, Wick must face off against a new enemy with powerful alliances across the globe and forces that turn old friends into foes.\n\nLionsgate presents, a Thunder Road Films / 87eleven production.",
          "liveBroadcastContent": "none",
          "localized": {
           "description": "#JohnWick4 – Now Available On Digital, 4K Ultra HD™ & Blu-Ray™. Starring Keanu Reeves, Donnie Yen, Bill Skarsgård, Laurence Fishburne, Hiroyuki Sanada, Shamier Anderson, Lance Reddick, Rina Sawayama, Scott Adkins, and Ian McShane. \n\nText 310-564-8005 for classified updates. Subscribe to the LIONSGATE YouTube Channel for the latest movies trailers, clips, and more: \nhttps://bit.ly/2Z6nfym\n\nhttps://www.johnwick.movie\nhttps://www.instagram.com/johnwickmovie/\nhttps://www.facebook.com/johnwickmovie\nhttps://twitter.com/JohnWickMovie\nhttps://www.tiktok.com/@lionsgate\n\nJohn Wick (Keanu Reeves) uncovers a path to defeating the High Table. But before he can earn his freedom, Wick must face off against a new enemy with powerful alliances across the globe and forces that turn old friends into foes.\n\nLionsgate presents, a Thunder Road Films / 87eleven production.",
           "title": "John Wick: Chapter 4 (2023 Movie) Official Trailer – Keanu Reeves, Donnie Yen, Bill Skarsgård"
          },
          "publishedAt": "2022-11-10T17:00:03Z",
          "tags": [
           "John Wick",
           "John Wick 4",
           "John Wick: Chapter 4",
           "John Wick Chapter 4",
           "Chad Stahelski",
           "Michael Finch",
           "Shay Hatten",
           "Derek Kolstad",
           "Keanu Reeves",
           "Donnie Yen",
           "Bill Skarsgård",
           "Laurence Fishburne",
           "Hiroyuki Sanada",
           "Bowery King",
           "Lance Reddick",
           "Rina Sawayama",
           "Ian McShane",
           "Winston",
           "action",
           "Scott Adkins",
           "Natalia Tena",
           "Clancy Brown",
           "hitman",
           "hit man",
           "assassin",
           "martial arts",
           "stunts",
           "babayaga",
           "new john wick",
           "john wick 4 trailer",
           "john wick official trailer"
          ],
          "thumbnails": {
           "default": {
            "height": 90,
            "url": "https://i.ytimg.com/vi/qEVUtrk8_B4/default.jpg",
            "width": 120
           },
           "high": {
            "height": 360,
            "url": "https://i.ytimg.com/vi/qEVUtrk8_B4/hqdefault.jpg",
            "width": 480
           },
           "maxres": {
            "height": 720,
            "url": "https://i.ytimg.com/vi/qEVUtrk8_B4/maxresdefault.jpg",
            "width": 1280
           },
           "medium": {
            "height": 180,
            "url": "https://i.ytimg.com/vi/qEVUtrk8_B4/mqdefault.jpg",
            "width": 320
           },
           "standard": {
            "height": 480,
            "url": "https://i.ytimg.com/vi/qEVUtrk8_B4/sddefault.jpg",
            "width": 640
           }
          },
          "title": "John Wick: Chapter 4 (2023 Movie) Official Trailer – Keanu Reeves, Donnie Yen, Bill Skarsgård"
         },
         "statistics": {
          "commentCount": "30392",
          "favoriteCount": "0",
          "likeCount": "727837",
          "viewCount": "49377024"
         }
        },
        {
         "contentDetails": {
          "caption": "true",
          "contentRating": {},
          "definition": "hd",
          "dimension": "2d",
          "duration": "PT1M31S",
          "licensedContent": true,
          "projection": "rectangular"
         },
         "etag": "R-nwuCjZYM6uHYhS7Otdfje1pAA",
         "id": "yjRHZEUamCc",
         "kind": "youtube#video",
         "snippet": {
          "categoryId": "1",
          "channelId": "UCJ6nMHaJPZvsJ-HmUmj1SeA",
          "channelTitle": "Lionsgate Movies",
          "defaultAudioLanguage": "en",
          "description": "#JohnWick4 – Now Available On Digital, 4K Ultra HD™ & Blu-Ray™. Starring Keanu Reeves, Donnie Yen, Bill Skarsgård, Laurence Fishburne, Hiroyuki Sanada, Shamier Anderson, Lance Reddick, Rina Sawayama, Scott Adkins, and Ian McShane. \n\nText 310-564-8005 for classified updates. Subscribe to the LIONSGATE YouTube Channel for the latest movies trailers, clips, and more: \nhttps://bit.ly/2Z6nfym\n\nhttps://www.johnwick.movie\nhttps://www.instagram.com/johnwickmovie/\nhttps://www.facebook.com/johnwickmovie\nhttps://twitter.com/JohnWickMovie\nhttps://www.tiktok.com/@lionsgate\n\nJohn Wick (Keanu Reeves) uncovers a path to defeating the High Table. But before he can earn his freedom, Wick must face off against a new enemy with powerful alliances across the globe and forces that turn old friends into foes.\n\nLionsgate presents, a Thunder Road Films / 87eleven production.",
          "liveBroadcastContent": "none",
          "localized": {
           "description": "#JohnWick4 – Now Available On Digital, 4K Ultra HD™ & Blu-Ray™. Starring Keanu Reeves, Donnie Yen, Bill Skarsgård, Laurence Fishburne, Hiroyuki Sanada, Shamier Anderson, Lance Reddick, Rina Sawayama, Scott Adkins, and Ian McShane. \n\nText 310-564-8005 for classified updates. Subscribe to the LIONSGATE YouTube Channel for the latest movies trailers, clips, and more: \nhttps://bit.ly/2Z6nfym\n\nhttps://www.johnwick.movie\nhttps://www.instagram.com/johnwickmovie/\nhttps://www.facebook.com/johnwickmovie\nhttps://twitter.com/JohnWickMovie\nhttps://www.tiktok.com/@lionsgate\n\nJohn Wick (Keanu Reeves) uncovers a path to defeating the High Table. But before he can earn his freedom, Wick must face off against a new enemy with powerful alliances across the globe and forces that turn old friends into foes.\n\nLionsgate presents, a Thunder Road Films / 87eleven production.",
           "title": "John Wick: Chapter 4 (2023) Final Trailer – Keanu Reeves, Donnie Yen, Bill Skarsgård"
          },
          "publishedAt": "2023-02-16T15:15:17Z",
          "tags": [
           "John Wick",
           "John Wick 4",
           "John Wick: Chapter 4",
           "John Wick Chapter 4",
           "Chad Stahelski",
           "Michael Finch",
           "Shay Hatten",
           "Derek Kolstad",
           "Keanu Reeves",
           "Donnie Yen",
           "Bill Skarsgård",
           "Laurence Fishburne",
           "Hiroyuki Sanada",
           "Bowery King",
           "Lance Reddick",
           "Rina Sawayama",
           "Ian McShane",
           "Winston",
           "action",
           "Scott Adkins",
           "Natalia Tena",
           "Clancy Brown",
           "hitman",
           "hit man",
           "assassin",
           "martial arts",
           "stunts",
           "babayaga",
           "new john wick",
           "john wick 4 trailer",
           "john wick official trailer",
           "final trailer"
          ],
          "thumbnails": {
           "default": {
            "height": 90,
            "url": "https://i.ytimg.com/vi/yjRHZEUamCc/default.jpg",
            "width": 120
           },
           "high": {
            "height": 360,
            "url": "https://i.ytimg.com/vi/yjRHZEUamCc/hqdefault.jpg",
            "width": 480
           },
           "maxres": {
            "height": 720,
            "url": "https://i.ytimg.com/vi/yjRHZEUamCc/maxresdefault.jpg",
            "width": 1280
           },
           "medium": {
            "height": 180,
            "url": "https://i.ytimg.com/vi/yjRHZEUamCc/mqdefault.jpg",
            "width": 320
           },
           "standard": {
            "height": 480,
            "url": "https://i.ytimg.com/vi/yjRHZEUamCc/sddefault.jpg",
            "width": 640
           }
          },
          "title": "John Wick: Chapter 4 (2023) Final Trailer – Keanu Reeves, Donnie Yen, Bill Skarsgård"
         },
         "statistics": {
          "commentCount": "15405",
          "favoriteCount": "0",
          "likeCount": "325167",
          "viewCount": "31271003"
         }
        },
        {
         "contentDetails": {
          "caption": "true",
          "contentRating": {},
          "definition": "hd",
          "dimension": "2d",
          "duration": "PT2M33S",
          "licensedContent": true,
          "projection": "rectangular"
         },
         "etag": "s_aN2UBUgQhs_uys7WL7AwhEVCc",
         "id": "itnqEauWQZM",
         "kind": "youtube#video",
         "snippet": {
          "categoryId": "1",
          "channelId": "UCF9imwPMSGz4Vq1NiTWCC7g",
          "channelTitle": "Paramount Pictures",
          "defaultAudioLanguage": "en-US",
          "description": "UNITE or FALL. Watch the new trailer for #Transformers: #RiseOfTheBeasts.\n\nBuy or Rent Transformers: Rise of the Beasts today: http://paramnt.us/TransformersROTB\n\nSign up for EXCLUSIVE content and updates: https://paramnt.us/TROTBSignUp\n\nReturning to the action and spectacle that have captured moviegoers around the world, Transformers: Rise of the Beasts will take audiences on a ‘90s globetrotting adventure with the Autobots and introduce a whole new faction of Transformers – the Maximals – to join them as allies in the existing battle for earth. Directed by Steven Caple Jr. and starring Anthony Ramos and Dominique Fishback, the film arrives in theatres June 9, 2023.\n\nTikTok: https://www.tiktok.com/@transformersmovie\nInstagram: https://www.instagram.com/transformersmovie/ \nTwitter: https://twitter.com/transformers \nFacebook: https://www.facebook.com/transformersmovie \n\nParamount Pictures Corporation (PPC), a major global producer and distributor of filmed entertainment, is a unit of Viacom (NASDAQ: VIAB, VIA), home to premier global media brands that create compelling television programs, motion pictures, short-form content, apps, games, consumer products, social media experiences, and other entertainment content for audiences in more than 180 countries.\n \nConnect with Paramount Pictures Online:\n \nOfficial Site: http://www.paramount.com/\nTikTok: https://www.tiktok.com/@paramountpics\nInstagram: http://www.instagram.com/ParamountPics\nTwitter: https://twitter.com/paramountpics\nYouTube: https://www.youtube.com/user/Paramount\nFacebook: https://www.facebook.com/Paramount",
          "liveBroadcastContent": "none",
          "localized": {
           "description": "UNITE or FALL. Watch the new trailer for #Transformers: #RiseOfTheBeasts.\n\nBuy or Rent Transformers: Rise of the Beasts today: http://paramnt.us/TransformersROTB\n\nSign up for EXCLUSIVE content and updates: https://paramnt.us/TROTBSignUp\n\nReturning to the action and spectacle that have captured moviegoers around the world, Transformers: Rise of the Beasts will take audiences on a ‘90s globetrotting adventure with the Autobots and introduce a whole new faction of Transformers – the Maximals – to join them as allies in the existing battle for earth. Directed by Steven Caple Jr. and starring Anthony Ramos and Dominique Fishback, the film arrives in theatres June 9, 2023.\n\nTikTok: https://www.tiktok.com/@transformersmovie\nInstagram: https://www.instagram.com/transformersmovie/ \nTwitter: https://twitter.com/transformers \nFacebook: https://www.facebook.com/transformersmovie \n\nParamount Pictures Corporation (PPC), a major global producer and distributor of filmed entertainment, is a unit of Viacom (NASDAQ: VIAB, VIA), home to premier global media brands that create compelling television programs, motion pictures, short-form content, apps, games, consumer products, social media experiences, and other entertainment content for audiences in more than 180 countries.\n \nConnect with Paramount Pictures Online:\n \nOfficial Site: http://www.paramount.com/\nTikTok: https://www.tiktok.com/@paramountpics\nInstagram: http://www.instagram.com/ParamountPics\nTwitter: https://twitter.com/paramountpics\nYouTube: https://www.youtube.com/user/Paramount\nFacebook: https://www.facebook.com/Paramount",
           "title": "Transformers: Rise of the Beasts | Official Trailer (2023 Movie)"
          },
          "publishedAt": "2023-04-27T13:00:05Z",
          "tags": [
           "transformers rise of the beasts trailer",
           "transformers rise of the beasts",
           "new transformers trailer",
           "anthony ramos",
           "dominique fishback",
           "steven caple jr",
           "ron perlman",
           "pete davidson",
           "peter dinklage",
           "michelle yeoh",
           "michael bay",
           "peter cullen",
           "Tobe Nwigwe",
           "John DiMaggio",
           "David Sobolov",
           "Michaela Jae Rodriguez",
           "Cristo Fernandez",
           "Tongayi Chirisa",
           "Colman Domingo"
          ],
          "thumbnails": {
           "default": {
            "height": 90,
            "url": "https://i.ytimg.com/vi/itnqEauWQZM/default.jpg",
            "width": 120
           },
           "high": {
            "height": 360,
            "url": "https://i.ytimg.com/vi/itnqEauWQZM/hqdefault.jpg",
            "width": 480
           },
           "maxres": {
            "height": 720,
            "url": "https://i.ytimg.com/vi/itnqEauWQZM/maxresdefault.jpg",
            "width": 1280
           },
           "medium": {
            "height": 180,
            "url": "https://i.ytimg.com/vi/itnqEauWQZM/mqdefault.jpg",
            "width": 320
           },
           "standard": {
            "height": 480,
            "url": "https://i.ytimg.com/vi/itnqEauWQZM/sddefault.jpg",
            "width": 640
           }
          },
          "title": "Transformers: Rise of the Beasts | Official Trailer (2023 Movie)"
         },
         "statistics": {
          "commentCount": "27956",
          "favoriteCount": "0",
          "likeCount": "422188",
          "viewCount": "32560453"
         }
        },
        {
         "contentDetails": {
          "caption": "false",
          "contentRating": {},
          "definition": "hd",
          "dimension": "2d",
          "duration": "PT1M40S",
          "licensedContent": true,
          "projection": "rectangular"
         },
         "etag": "AqMfket0OaLfhi0XpQwU13eXEGs",
         "id": "ZtuFgnxQMrA",
         "kind": "youtube#video",
         "snippet": {
          "categoryId": "1",
          "channelId": "UCF9imwPMSGz4Vq1NiTWCC7g",
          "channelTitle": "Paramount Pictures",
          "defaultAudioLanguage": "en-US",
          "description": "Rise of the Beasts is “the best Transformers movie yet.” See it on the biggest screen possible. Watch the final trailer now.\n\nBuy or Rent Transformers: Rise of the Beasts today: http://paramnt.us/TransformersROTB\n\nReturning to the action and spectacle that have captured moviegoers around the world, Transformers: Rise of the Beasts will take audiences on a ‘90s globetrotting adventure with the Autobots and introduce a whole new faction of Transformers – the Maximals – to join them as allies in the existing battle for earth. Directed by Steven Caple Jr. and starring Anthony Ramos and Dominique Fishback, the film arrives in theatres June 9, 2023.\n\nTikTok: https://www.tiktok.com/@transformersmovie\nInstagram: https://www.instagram.com/transformersmovie/\nTwitter: https://twitter.com/transformers \nFacebook: https://www.facebook.com/transformersmovie\n\nParamount Pictures Corporation (PPC), a major global producer and distributor of filmed entertainment, is a unit of Viacom (NASDAQ: VIAB, VIA), home to premier global media brands that create compelling television programs, motion pictures, short-form content, apps, games, consumer products, social media experiences, and other entertainment content for audiences in more than 180 countries.\n \nConnect with Paramount Pictures Online:\n \nOfficial Site: http://www.paramount.com/\nTikTok: https://www.tiktok.com/@paramountpics\nInstagram: http://www.instagram.com/ParamountPics\nTwitter: https://twitter.com/paramountpics\nYouTube:   https://www.youtube.com/user/Paramount   \nFacebook: https://www.facebook.com/Paramount",
          "liveBroadcastContent": "none",
          "localized": {
           "description": "Rise of the Beasts is “the best Transformers movie yet.” See it on the biggest screen possible. Watch the final trailer now.\n\nBuy or Rent Transformers: Rise of the Beasts today: http://paramnt.us/TransformersROTB\n\nReturning to the action and spectacle that have captured moviegoers around the world, Transformers: Rise of the Beasts will take audiences on a ‘90s globetrotting adventure with the Autobots and introduce a whole new faction of Transformers – the Maximals – to join them as allies in the existing battle for earth. Directed by Steven Caple Jr. and starring Anthony Ramos and Dominique Fishback, the film arrives in theatres June 9, 2023.\n\nTikTok: https://www.tiktok.com/@transformersmovie\nInstagram: https://www.instagram.com/transformersmovie/\nTwitter: https://twitter.com/transformers \nFacebook: https://www.facebook.com/transformersmovie\n\nParamount Pictures Corporation (PPC), a major global producer and distributor of filmed entertainment, is a unit of Viacom (NASDAQ: VIAB, VIA), home to premier global media brands that create compelling television programs, motion pictures, short-form content, apps, games, consumer products, social media experiences, and other entertainment content for audiences in more than 180 countries.\n \nConnect with Paramount Pictures Online:\n \nOfficial Site: http://www.paramount.com/\nTikTok: https://www.tiktok.com/@paramountpics\nInstagram: http://www.instagram.com/ParamountPics\nTwitter: https://twitter.com/paramountpics\nYouTube:   https://www.youtube.com/user/Paramount   \nFacebook: https://www.facebook.com/Paramount",
           "title": "Transformers: Rise of the Beasts | Official Final Trailer (2023 Movie)"
          },
          "publishedAt": "2023-06-06T16:08:29Z",
          "tags": [
           "transformers rise of the beasts trailer",
           "transformers rise of the beasts",
           "new transformers trailer",
           "anthony ramos",
           "dominique fishback",
           "steven caple jr",
           "ron perlman",
           "pete davidson",
           "peter dinklage",
           "michelle yeoh",
           "michael bay",
           "peter cullen",
           "Tobe Nwigwe",
           "John DiMaggio",
           "David Sobolov",
           "Michaela Jae Rodriguez",
           "Cristo Fernandez",
           "Tongayi Chirisa",
           "Colman Domingo"
          ],
          "thumbnails": {
           "default": {
            "height": 90,
            "url": "https://i.ytimg.com/vi/ZtuFgnxQMrA/default.jpg",
            "width": 120
           },
           "high": {
            "height": 360,
            "url": "https://i.ytimg.com/vi/ZtuFgnxQMrA/hqdefault.jpg",
            "width": 480
           },
           "maxres": {
            "height": 720,
            "url": "https://i.ytimg.com/vi/ZtuFgnxQMrA/maxresdefault.jpg",
            "width": 1280
           },
           "medium": {
            "height": 180,
            "url": "https://i.ytimg.com/vi/ZtuFgnxQMrA/mqdefault.jpg",
            "width": 320
           },
           "standard": {
            "height": 480,
            "url": "https://i.ytimg.com/vi/ZtuFgnxQMrA/sddefault.jpg",
            "width": 640
           }
          },
          "title": "Transformers: Rise of the Beasts | Official Final Trailer (2023 Movie)"
         },
         "statistics": {
          "commentCount": "4229",
          "favoriteCount": "0",
          "likeCount": "98818",
          "viewCount": "11674862"
         }
        },
        {
         "contentDetails": {
          "caption": "true",
          "contentRating": {},
          "definition": "hd",
          "dimension": "2d",
          "duration": "PT2M52S",
          "licensedContent": false,
          "projection": "rectangular"
         },
         "etag": "xSQAiDbBF-XkfhKWHrPzvfZfjHM",
         "id": "dG91B3hHyY4",
         "kind": "youtube#video",
         "snippet": {
          "categoryId": "1",
          "channelId": "UCjmJDM5pRKbUlVIzDYYWb6g",
          "channelTitle": "Warner Bros. Pictures",
          "defaultAudioLanguage": "en-US",
          "description": "They’re back for seconds. #Meg2 only in theaters August 4.\n\nGet ready for the ultimate adrenaline rush this summer in “Meg 2: The Trench,” a literally larger-than-life thrill ride that supersizes the 2018 blockbuster and takes the action to higher heights and even greater depths with multiple massive Megs and so much more! Dive into uncharted waters with Jason Statham and global action icon Wu Jing as they lead a daring research team on an exploratory dive into the deepest depths of the ocean. Their voyage spirals into chaos when a malevolent mining operation threatens their mission and forces them into a high-stakes battle for survival. Pitted against colossal Megs and relentless environmental plunderers, our heroes must outrun, outsmart, and outswim their merciless predators in a pulse-pounding race against time. Immerse yourself in the most electrifying cinematic experience of the year with “Meg 2: The Trench” – where the depths of the ocean are matched only by the heights of sheer, unstoppable excitement!\n\nWarner Bros. Pictures and CMC Pictures present “Meg 2: The Trench,” with Statham and Jing headlining an ensemble cast that also includes Sophia Cai (“The Meg”), Page Kennedy (“The Meg”), Sergio Peris-Mencheta (“Rambo: Last Blood”), Skyler Samuels (“The Gifted”), and Cliff Curtis (“Avatar” franchise).\n“Meg 2: The Trench” is directed by Ben Wheatley (“In the Earth,” “Free Fire”), from a screenplay by Jon Hoeber & Erich Hoeber (“The Meg,” “Transformers: Rise of the Beasts”) and Dean Georgaris (“The Meg,” “Lara Croft: Toom Raider – The Cradle of Life”), and a screen story by Dean Georgaris and Jon Hoeber & Erich Hoeber, based on the novel The Trench by Steve Alten. The film is produced by Lorenzo di Bonaventura (“The Meg,” “Bumblebee”) and Belle Avery (“The Meg,” “Before the Devil Knows You’re Dead”), and executive produced by Jason Statham, Cate Adams, Ruigang Li, Catherine Xujun Ying, Wu Jing, E. Bennett Walsh, Erik Howsam, Gerald R. Molen and Randy Greenberg. \n\nJoining director Wheatley behind the camera are director of photography Haris Zambarloukous (“Belfast,” “Murder on the Orient Express”), production designer Chris Lowe (“The Gray Man,” “No Time to Die”) and editor Jonathan Amos (“Baby Driver,” “Paddington 2”). The visual effects supervisor is Pete Bebb (“Fantastic Beasts and Where to Find Them,” “Inception”), and costume designer is Lindsay Pugh (“The Matrix Resurrections,” “Krypton”). The music is by Harry Gregson-Williams (“The Meg,” “The Martian”).\n\nWarner Bros. Pictures and CMC Pictures present, in association with DF Pictures, a di Bonaventura/Apelles Entertainment, Inc. production, a Ben Wheatley film, “Meg 2: The Trench.” It will be distributed worldwide by Warner Bros. Pictures and is set to open in theaters in North America on August 4, 2023 and internationally beginning 02 August 2023.",
          "liveBroadcastContent": "none",
          "localized": {
           "description": "They’re back for seconds. #Meg2 only in theaters August 4.\n\nGet ready for the ultimate adrenaline rush this summer in “Meg 2: The Trench,” a literally larger-than-life thrill ride that supersizes the 2018 blockbuster and takes the action to higher heights and even greater depths with multiple massive Megs and so much more! Dive into uncharted waters with Jason Statham and global action icon Wu Jing as they lead a daring research team on an exploratory dive into the deepest depths of the ocean. Their voyage spirals into chaos when a malevolent mining operation threatens their mission and forces them into a high-stakes battle for survival. Pitted against colossal Megs and relentless environmental plunderers, our heroes must outrun, outsmart, and outswim their merciless predators in a pulse-pounding race against time. Immerse yourself in the most electrifying cinematic experience of the year with “Meg 2: The Trench” – where the depths of the ocean are matched only by the heights of sheer, unstoppable excitement!\n\nWarner Bros. Pictures and CMC Pictures present “Meg 2: The Trench,” with Statham and Jing headlining an ensemble cast that also includes Sophia Cai (“The Meg”), Page Kennedy (“The Meg”), Sergio Peris-Mencheta (“Rambo: Last Blood”), Skyler Samuels (“The Gifted”), and Cliff Curtis (“Avatar” franchise).\n“Meg 2: The Trench” is directed by Ben Wheatley (“In the Earth,” “Free Fire”), from a screenplay by Jon Hoeber & Erich Hoeber (“The Meg,” “Transformers: Rise of the Beasts”) and Dean Georgaris (“The Meg,” “Lara Croft: Toom Raider – The Cradle of Life”), and a screen story by Dean Georgaris and Jon Hoeber & Erich Hoeber, based on the novel The Trench by Steve Alten. The film is produced by Lorenzo di Bonaventura (“The Meg,” “Bumblebee”) and Belle Avery (“The Meg,” “Before the Devil Knows You’re Dead”), and executive produced by Jason Statham, Cate Adams, Ruigang Li, Catherine Xujun Ying, Wu Jing, E. Bennett Walsh, Erik Howsam, Gerald R. Molen and Randy Greenberg. \n\nJoining director Wheatley behind the camera are director of photography Haris Zambarloukous (“Belfast,” “Murder on the Orient Express”), production designer Chris Lowe (“The Gray Man,” “No Time to Die”) and editor Jonathan Amos (“Baby Driver,” “Paddington 2”). The visual effects supervisor is Pete Bebb (“Fantastic Beasts and Where to Find Them,” “Inception”), and costume designer is Lindsay Pugh (“The Matrix Resurrections,” “Krypton”). The music is by Harry Gregson-Williams (“The Meg,” “The Martian”).\n\nWarner Bros. Pictures and CMC Pictures present, in association with DF Pictures, a di Bonaventura/Apelles Entertainment, Inc. production, a Ben Wheatley film, “Meg 2: The Trench.” It will be distributed worldwide by Warner Bros. Pictures and is set to open in theaters in North America on August 4, 2023 and internationally beginning 02 August 2023.",
           "title": "MEG 2: THE TRENCH - OFFICIAL TRAILER"
          },
          "publishedAt": "2023-05-08T22:00:15Z",
          "tags": [
           "Belle Avery",
           "Ben Wheatley",
           "CMC Pictures",
           "Cliff Curtis",
           "Coming Soon",
           "DF Pictures",
           "Dean Georgaris",
           "Erich Hoeber",
           "Film",
           "Film Trailer",
           "Film Warner",
           "Jason Statham",
           "Jon Hoeber",
           "Lorenzo di Bonaventura",
           "Meg 2: The Trench",
           "Movie",
           "Official Trailer",
           "Page Kennedy",
           "Sergio Peris-Mencheta",
           "Sienna Guillory",
           "Skyler Samuels",
           "Sophia Cai",
           "Steve Alten",
           "Trailer",
           "Trailer 2023",
           "WB",
           "Warner",
           "Warner Bros",
           "Warner Brothers",
           "Warner Media",
           "Wu Jing",
           "meg",
           "shark",
           "shark attack",
           "sharks",
           "the meg"
          ],
          "thumbnails": {
           "default": {
            "height": 90,
            "url": "https://i.ytimg.com/vi/dG91B3hHyY4/default.jpg",
            "width": 120
           },
           "high": {
            "height": 360,
            "url": "https://i.ytimg.com/vi/dG91B3hHyY4/hqdefault.jpg",
            "width": 480
           },
           "medium": {
            "height": 180,
            "url": "https://i.ytimg.com/vi/dG91B3hHyY4/mqdefault.jpg",
            "width": 320
           },
           "standard": {
            "height": 480,
            "url": "https://i.ytimg.com/vi/dG91B3hHyY4/sddefault.jpg",
            "width": 640
           }
          },
          "title": "MEG 2: THE TRENCH - OFFICIAL TRAILER"
         },
         "statistics": {
          "commentCount": "20664",
          "favoriteCount": "0",
          "likeCount": "315956",
          "viewCount": "46893076"
         }
        },
        {
         "contentDetails": {
          "caption": "true",
          "contentRating": {},
          "definition": "hd",
          "dimension": "2d",
          "duration": "PT2M9S",
          "licensedContent": true,
          "projection": "rectangular"
         },
         "etag": "QQ20NySNd3avhnNwCdcyyvnvfkw",
         "id": "eQfMbSe7F2g",
         "kind": "youtube#video",
         "snippet": {
          "categoryId": "1",
          "channelId": "UCnwY6fAhE3ePu0F2nMP-DLg",
          "channelTitle": "Lucasfilm",
          "defaultAudioLanguage": "en",
          "description": "Indiana Jones and the Dial of Destiny in theaters June 30.\n\nHarrison Ford returns as the legendary hero archaeologist in the highly anticipated fifth installment of the iconic “Indiana Jones” franchise, which is directed by James Mangold (“Ford v Ferrari,” “Logan”). Starring along with Ford are Phoebe Waller-Bridge (“Fleabag”), Antonio Banderas (“Pain and Glory”), John Rhys-Davies (“Raiders of the Lost Ark”), Shaunette Renee Wilson (“Black Panther”), Thomas Kretschmann (“Das Boot”), Toby Jones (“Jurassic World: Fallen Kingdom”), Boyd Holbrook (“Logan”), Oliver Richters (“Black Widow”), Ethann Isidore (“Mortel”) and Mads Mikkelsen (“Fantastic Beasts: The Secrets of Dumbledore”). Directed by James Mangold, the film is produced by Kathleen Kennedy, Frank Marshall and Simon Emanuel, with Steven Spielberg and George Lucas serving as executive producers. John Williams, who has scored each Indy adventure since the original \"Raiders of the Lost Ark\" in 1981, is once again composing the score.",
          "liveBroadcastContent": "none",
          "localized": {
           "description": "Indiana Jones and the Dial of Destiny in theaters June 30.\n\nHarrison Ford returns as the legendary hero archaeologist in the highly anticipated fifth installment of the iconic “Indiana Jones” franchise, which is directed by James Mangold (“Ford v Ferrari,” “Logan”). Starring along with Ford are Phoebe Waller-Bridge (“Fleabag”), Antonio Banderas (“Pain and Glory”), John Rhys-Davies (“Raiders of the Lost Ark”), Shaunette Renee Wilson (“Black Panther”), Thomas Kretschmann (“Das Boot”), Toby Jones (“Jurassic World: Fallen Kingdom”), Boyd Holbrook (“Logan”), Oliver Richters (“Black Widow”), Ethann Isidore (“Mortel”) and Mads Mikkelsen (“Fantastic Beasts: The Secrets of Dumbledore”). Directed by James Mangold, the film is produced by Kathleen Kennedy, Frank Marshall and Simon Emanuel, with Steven Spielberg and George Lucas serving as executive producers. John Williams, who has scored each Indy adventure since the original \"Raiders of the Lost Ark\" in 1981, is once again composing the score.",
           "title": "Indiana Jones and the Dial of Destiny | Official Trailer"
          },
          "publishedAt": "2023-04-07T11:57:51Z",
          "thumbnails": {
           "default": {
            "height": 90,
            "url": "https://i.ytimg.com/vi/eQfMbSe7F2g/default.jpg",
            "width": 120
           },
           "high": {
            "height": 360,
            "url": "https://i.ytimg.com/vi/eQfMbSe7F2g/hqdefault.jpg",
            "width": 480
           },
           "maxres": {
            "height": 720,
            "url": "https://i.ytimg.com/vi/eQfMbSe7F2g/maxresdefault.jpg",
            "width": 1280
           },
           "medium": {
            "height": 180,
            "url": "https://i.ytimg.com/vi/eQfMbSe7F2g/mqdefault.jpg",
            "width": 320
           },
           "standard": {
            "height": 480,
            "url": "https://i.ytimg.com/vi/eQfMbSe7F2g/sddefault.jpg",
            "width": 640
           }
          },
          "title": "Indiana Jones and the Dial of Destiny | Official Trailer"
         },
         "statistics": {
          "commentCount": "19178",
          "favoriteCount": "0",
          "viewCount": "16360565"
         }
        },
        {
         "contentDetails": {
          "caption": "true",
          "contentRating": {},
          "definition": "hd",
          "dimension": "2d",
          "duration": "PT2M49S",
          "licensedContent": true,
          "projection": "rectangular"
         },
         "etag": "Sm3XflloPOeCvqGiuNKzZMZ3260",
         "id": "RDE6Uz73A7g",
         "kind": "youtube#video",
         "snippet": {
          "categoryId": "1",
          "channelId": "UCJ6nMHaJPZvsJ-HmUmj1SeA",
          "channelTitle": "Lionsgate Movies",
          "defaultAudioLanguage": "en",
          "description": "The Hunger Games: The Ballad of Songbirds & Snakes – In Theaters November 17, 2023. Starring Tom Blyth, Rachel Zegler, Peter Dinklage, Hunter Schafer, Josh Andrés Rivera, Jason Schwartzman, and Viola Davis.                \n\nText 717-THG-MKJY to enter the games.\n\nSubscribe to the LIONSGATE YouTube Channel for the latest movie trailers, clips, and more: https://bit.ly/2Z6nfym ​\n\nhttps://hungergames.movie/\nhttps://www.facebook.com/TheHungerGam...\nhttps://www.instagram.com/thehungergames\nhttps://twitter.com/thehungergames\nhttps://www.tiktok.com/@lionsgate\n\nExperience the story of THE HUNGER GAMES — 64 years before Katniss Everdeen volunteered as tribute, and decades before Coriolanus Snow became the tyrannical President of Panem.\n \nTHE HUNGER GAMES: THE BALLAD OF SONGBIRDS & SNAKES follows a young Coriolanus (Tom Blyth) who is the last hope for his failing lineage, the once-proud Snow family that has fallen from grace in a post-war Capitol. With his livelihood threatened, Snow is reluctantly assigned to mentor Lucy Gray Baird (Rachel Zegler), a tribute from the impoverished District 12. But after Lucy Gray’s charm captivates the audience of Panem, Snow sees an opportunity to shift their fates. With everything he has worked for hanging in the balance, Snow unites with Lucy Gray to turn the odds in their favor. Battling his instincts for both good and evil, Snow sets out on a race against time to survive and reveal if he will ultimately become a songbird or a snake.\n\nLionsgate presents, a Color Force / Lionsgate / about:blank production.",
          "liveBroadcastContent": "none",
          "localized": {
           "description": "The Hunger Games: The Ballad of Songbirds & Snakes – In Theaters November 17, 2023. Starring Tom Blyth, Rachel Zegler, Peter Dinklage, Hunter Schafer, Josh Andrés Rivera, Jason Schwartzman, and Viola Davis.                \n\nText 717-THG-MKJY to enter the games.\n\nSubscribe to the LIONSGATE YouTube Channel for the latest movie trailers, clips, and more: https://bit.ly/2Z6nfym ​\n\nhttps://hungergames.movie/\nhttps://www.facebook.com/TheHungerGam...\nhttps://www.instagram.com/thehungergames\nhttps://twitter.com/thehungergames\nhttps://www.tiktok.com/@lionsgate\n\nExperience the story of THE HUNGER GAMES — 64 years before Katniss Everdeen volunteered as tribute, and decades before Coriolanus Snow became the tyrannical President of Panem.\n \nTHE HUNGER GAMES: THE BALLAD OF SONGBIRDS & SNAKES follows a young Coriolanus (Tom Blyth) who is the last hope for his failing lineage, the once-proud Snow family that has fallen from grace in a post-war Capitol. With his livelihood threatened, Snow is reluctantly assigned to mentor Lucy Gray Baird (Rachel Zegler), a tribute from the impoverished District 12. But after Lucy Gray’s charm captivates the audience of Panem, Snow sees an opportunity to shift their fates. With everything he has worked for hanging in the balance, Snow unites with Lucy Gray to turn the odds in their favor. Battling his instincts for both good and evil, Snow sets out on a race against time to survive and reveal if he will ultimately become a songbird or a snake.\n\nLionsgate presents, a Color Force / Lionsgate / about:blank production.",
           "title": "The Hunger Games: The Ballad of Songbirds & Snakes (2023) Official Trailer"
          },
          "publishedAt": "2023-04-27T22:00:03Z",
          "tags": [
           "The Hunger Games: The Ballad of Songbirds and Snakes",
           "The Hunger Games",
           "Hunger Games",
           "The Ballad of Songbirds and Snakes",
           "Ballad of Songbirds and Snakes",
           "Official trailer",
           "The Ballad of Songbirds and Snakes official trailer",
           "the hunger games official trailer",
           "hunger games trailer",
           "Tom Blyth",
           "Rachel Zegler",
           "Coriolanus Snow",
           "post-war capitol",
           "Lucy Gray Baird",
           "District 12",
           "Panem",
           "Susan Collins",
           "adaptation"
          ],
          "thumbnails": {
           "default": {
            "height": 90,
            "url": "https://i.ytimg.com/vi/RDE6Uz73A7g/default.jpg",
            "width": 120
           },
           "high": {
            "height": 360,
            "url": "https://i.ytimg.com/vi/RDE6Uz73A7g/hqdefault.jpg",
            "width": 480
           },
           "maxres": {
            "height": 720,
            "url": "https://i.ytimg.com/vi/RDE6Uz73A7g/maxresdefault.jpg",
            "width": 1280
           },
           "medium": {
            "height": 180,
            "url": "https://i.ytimg.com/vi/RDE6Uz73A7g/mqdefault.jpg",
            "width": 320
           },
           "standard": {
            "height": 480,
            "url": "https://i.ytimg.com/vi/RDE6Uz73A7g/sddefault.jpg",
            "width": 640
           }
          },
          "title": "The Hunger Games: The Ballad of Songbirds & Snakes (2023) Official Trailer"
         },
         "statistics": {
          "commentCount": "14665",
          "favoriteCount": "0",
          "likeCount": "211973",
          "viewCount": "23192324"
         }
        },
        {
         "contentDetails": {
          "caption": "true",
          "contentRating": {},
          "definition": "hd",
          "dimension": "2d",
          "duration": "PT2M46S",
          "licensedContent": true,
          "projection": "rectangular"
         },
         "etag": "8sSBArcJB38Cy3mdfjkqmstgScM",
         "id": "NxW_X4kzeus",
         "kind": "youtube#video",
         "snippet": {
          "categoryId": "1",
          "channelId": "UCJ6nMHaJPZvsJ-HmUmj1SeA",
          "channelTitle": "Lionsgate Movies",
          "defaultAudioLanguage": "en",
          "description": "The Hunger Games: The Ballad of Songbirds & Snakes – In Theaters November 17, 2023. Starring Tom Blyth, Rachel Zegler, Peter Dinklage, Hunter Schafer, Josh Andrés Rivera, Jason Schwartzman, and Viola Davis. \n\nText 717-THG-MKJY to enter the games.\n\nSubscribe to the LIONSGATE YouTube Channel for the latest movie trailers, clips, and more: https://bit.ly/2Z6nfym ​\n\nhttps://hungergames.movie/\nhttps://www.facebook.com/TheHungerGamesMovie\nhttps://www.instagram.com/thehungergames\nhttps://twitter.com/thehungergames\nhttps://www.tiktok.com/@hungergamesofficial\n\nExperience the story of THE HUNGER GAMES — 64 years before Katniss Everdeen volunteered as tribute, and decades before Coriolanus Snow became the tyrannical President of Panem.\n\nTHE HUNGER GAMES: THE BALLAD OF SONGBIRDS & SNAKES follows a young Coriolanus (Tom Blyth) who is the last hope for his failing lineage, the once-proud Snow family that has fallen from grace in a post-war Capitol. With his livelihood threatened, Snow is reluctantly assigned to mentor Lucy Gray Baird (Rachel Zegler), a tribute from the impoverished District 12. But after Lucy Gray’s charm captivates the audience of Panem, Snow sees an opportunity to shift their fates. With everything he has worked for hanging in the balance, Snow unites with Lucy Gray to turn the odds in their favor. Battling his instincts for both good and evil, Snow sets out on a race against time to survive and reveal if he will ultimately become a songbird or a snake.\n\nLionsgate presents, a Color Force / Lionsgate / about:blank production.",
          "liveBroadcastContent": "none",
          "localized": {
           "description": "The Hunger Games: The Ballad of Songbirds & Snakes – In Theaters November 17, 2023. Starring Tom Blyth, Rachel Zegler, Peter Dinklage, Hunter Schafer, Josh Andrés Rivera, Jason Schwartzman, and Viola Davis. \n\nText 717-THG-MKJY to enter the games.\n\nSubscribe to the LIONSGATE YouTube Channel for the latest movie trailers, clips, and more: https://bit.ly/2Z6nfym ​\n\nhttps://hungergames.movie/\nhttps://www.facebook.com/TheHungerGamesMovie\nhttps://www.instagram.com/thehungergames\nhttps://twitter.com/thehungergames\nhttps://www.tiktok.com/@hungergamesofficial\n\nExperience the story of THE HUNGER GAMES — 64 years before Katniss Everdeen volunteered as tribute, and decades before Coriolanus Snow became the tyrannical President of Panem.\n\nTHE HUNGER GAMES: THE BALLAD OF SONGBIRDS & SNAKES follows a young Coriolanus (Tom Blyth) who is the last hope for his failing lineage, the once-proud Snow family that has fallen from grace in a post-war Capitol. With his livelihood threatened, Snow is reluctantly assigned to mentor Lucy Gray Baird (Rachel Zegler), a tribute from the impoverished District 12. But after Lucy Gray’s charm captivates the audience of Panem, Snow sees an opportunity to shift their fates. With everything he has worked for hanging in the balance, Snow unites with Lucy Gray to turn the odds in their favor. Battling his instincts for both good and evil, Snow sets out on a race against time to survive and reveal if he will ultimately become a songbird or a snake.\n\nLionsgate presents, a Color Force / Lionsgate / about:blank production.",
           "title": "The Hunger Games: The Ballad of Songbirds & Snakes (2023) Official Trailer 2"
          },
          "publishedAt": "2023-09-20T12:45:13Z",
          "tags": [
           "The Hunger Games: The Ballad of Songbirds and Snakes",
           "The Hunger Games",
           "Hunger Games",
           "The Ballad of Songbirds and Snakes",
           "Ballad of Songbirds and Snakes",
           "Official trailer",
           "The Ballad of Songbirds and Snakes official trailer",
           "the hunger games official trailer",
           "hunger games trailer",
           "Tom Blyth",
           "Rachel Zegler",
           "Coriolanus Snow",
           "post-war capitol",
           "Lucy Gray Baird",
           "District 12",
           "Panem",
           "Susan Collins",
           "adaptation",
           "trailer 2",
           "hunger games prequel"
          ],
          "thumbnails": {
           "default": {
            "height": 90,
            "url": "https://i.ytimg.com/vi/NxW_X4kzeus/default.jpg",
            "width": 120
           },
           "high": {
            "height": 360,
            "url": "https://i.ytimg.com/vi/NxW_X4kzeus/hqdefault.jpg",
            "width": 480
           },
           "maxres": {
            "height": 720,
            "url": "https://i.ytimg.com/vi/NxW_X4kzeus/maxresdefault.jpg",
            "width": 1280
           },
           "medium": {
            "height": 180,
            "url": "https://i.ytimg.com/vi/NxW_X4kzeus/mqdefault.jpg",
            "width": 320
           },
           "standard": {
            "height": 480,
            "url": "https://i.ytimg.com/vi/NxW_X4kzeus/sddefault.jpg",
            "width": 640
           }
          },
          "title": "The Hunger Games: The Ballad of Songbirds & Snakes (2023) Official Trailer 2"
         },
         "statistics": {
          "commentCount": "8842",
          "favoriteCount": "0",
          "likeCount": "104537",
          "viewCount": "28869360"
         }
        },
        {
         "contentDetails": {
          "caption": "true",
          "contentRating": {},
          "definition": "hd",
          "dimension": "2d",
          "duration": "PT2M27S",
          "licensedContent": true,
          "projection": "rectangular"
         },
         "etag": "NjA5BfsqBdkG5_LmaJMuS43lOjc",
         "id": "0VH9WCFV6XQ",
         "kind": "youtube#video",
         "snippet": {
          "categoryId": "24",
          "channelId": "UCq0OueAsdxH6b8nyAspwViw",
          "channelTitle": "Universal Pictures",
          "defaultAudioLanguage": "en",
          "description": "When the night shift starts, the nightmare begins. Watch the official #FiveNightsAtFreddys trailer now. In Theaters and streaming on Peacock October 27.\n\nCan you survive five nights? \n\nThe terrifying horror game phenomenon becomes a blood-chilling cinematic event, as Blumhouse— the producer of M3GAN, The Black Phone and The Invisible Man— brings Five Nights at Freddy’s to the big screen.             \n\nThe film follows a troubled security guard as he begins working at Freddy Fazbear’s Pizza. While spending his first night on the job, he realizes the night shift at Freddy’s won’t be so easy to make it through.\n\nWebsite: https://www.fivenightsatfreddys.movie/\nInstagram: https://www.instagram.com/fnafmovie/?igshid=NTc4MTIwNjQ2YQ%3D%3D\nTwitter: https://twitter.com/FNAFMovie\nFacebook: https://www.facebook.com/FNAFMovie/\nTikTok: https://www.tiktok.com/@universalpics",
          "liveBroadcastContent": "none",
          "localized": {
           "description": "When the night shift starts, the nightmare begins. Watch the official #FiveNightsAtFreddys trailer now. In Theaters and streaming on Peacock October 27.\n\nCan you survive five nights? \n\nThe terrifying horror game phenomenon becomes a blood-chilling cinematic event, as Blumhouse— the producer of M3GAN, The Black Phone and The Invisible Man— brings Five Nights at Freddy’s to the big screen.             \n\nThe film follows a troubled security guard as he begins working at Freddy Fazbear’s Pizza. While spending his first night on the job, he realizes the night shift at Freddy’s won’t be so easy to make it through.\n\nWebsite: https://www.fivenightsatfreddys.movie/\nInstagram: https://www.instagram.com/fnafmovie/?igshid=NTc4MTIwNjQ2YQ%3D%3D\nTwitter: https://twitter.com/FNAFMovie\nFacebook: https://www.facebook.com/FNAFMovie/\nTikTok: https://www.tiktok.com/@universalpics",
           "title": "Five Nights At Freddy's | Official Trailer"
          },
          "publishedAt": "2023-06-27T14:59:35Z",
          "thumbnails": {
           "default": {
            "height": 90,
            "url": "https://i.ytimg.com/vi/0VH9WCFV6XQ/default.jpg",
            "width": 120
           },
           "high": {
            "height": 360,
            "url": "https://i.ytimg.com/vi/0VH9WCFV6XQ/hqdefault.jpg",
            "width": 480
           },
           "maxres": {
            "height": 720,
            "url": "https://i.ytimg.com/vi/0VH9WCFV6XQ/maxresdefault.jpg",
            "width": 1280
           },
           "medium": {
            "height": 180,
            "url": "https://i.ytimg.com/vi/0VH9WCFV6XQ/mqdefault.jpg",
            "width": 320
           },
           "standard": {
            "height": 480,
            "url": "https://i.ytimg.com/vi/0VH9WCFV6XQ/sddefault.jpg",
            "width": 640
           }
          },
          "title": "Five Nights At Freddy's | Official Trailer"
         },
         "statistics": {
          "commentCount": "66079",
          "favoriteCount": "0",
          "likeCount": "870305",
          "viewCount": "40304116"
         }
        },
        {
         "contentDetails": {
          "caption": "true",
          "contentRating": {},
          "definition": "hd",
          "dimension": "2d",
          "duration": "PT2M2S",
          "licensedContent": true,
          "projection": "rectangular"
         },
         "etag": "X2rLtwTa8hmgFf7aaTrIp3CbNos",
         "id": "Z_T0o5uNrlY",
         "kind": "youtube#video",
         "snippet": {
          "categoryId": "24",
          "channelId": "UCq0OueAsdxH6b8nyAspwViw",
          "channelTitle": "Universal Pictures",
          "defaultAudioLanguage": "en",
          "description": "This Halloween, Freddy and the gang are dying to meet you. #FiveNightsAtFreddys - In theaters and streaming on Peacock October 27.\n\nCan you survive five nights? \n\nThe terrifying horror game phenomenon becomes a blood-chilling cinematic event, as Blumhouse— the producer of M3GAN, The Black Phone and The Invisible Man— brings Five Nights at Freddy’s to the big screen.             \n\nThe film follows a troubled security guard as he begins working at Freddy Fazbear’s Pizza. While spending his first night on the job, he realizes the night shift at Freddy’s won’t be so easy to make it through.\n\nWebsite: https://www.fivenightsatfreddys.movie/\nInstagram: https://www.instagram.com/fnafmovie/?igshid=NTc4MTIwNjQ2YQ%3D%3D\nTwitter: https://twitter.com/FNAFMovie\nFacebook: https://www.facebook.com/FNAFMovie/\nTikTok: https://www.tiktok.com/@universalpics",
          "liveBroadcastContent": "none",
          "localized": {
           "description": "This Halloween, Freddy and the gang are dying to meet you. #FiveNightsAtFreddys - In theaters and streaming on Peacock October 27.\n\nCan you survive five nights? \n\nThe terrifying horror game phenomenon becomes a blood-chilling cinematic event, as Blumhouse— the producer of M3GAN, The Black Phone and The Invisible Man— brings Five Nights at Freddy’s to the big screen.             \n\nThe film follows a troubled security guard as he begins working at Freddy Fazbear’s Pizza. While spending his first night on the job, he realizes the night shift at Freddy’s won’t be so easy to make it through.\n\nWebsite: https://www.fivenightsatfreddys.movie/\nInstagram: https://www.instagram.com/fnafmovie/?igshid=NTc4MTIwNjQ2YQ%3D%3D\nTwitter: https://twitter.com/FNAFMovie\nFacebook: https://www.facebook.com/FNAFMovie/\nTikTok: https://www.tiktok.com/@universalpics",
           "title": "Five Nights at Freddy's | Official Trailer 2"
          },
          "publishedAt": "2023-08-30T18:59:15Z",
          "thumbnails": {
           "default": {
            "height": 90,
            "url": "https://i.ytimg.com/vi/Z_T0o5uNrlY/default.jpg",
            "width": 120
           },
           "high": {
            "height": 360,
            "url": "https://i.ytimg.com/vi/Z_T0o5uNrlY/hqdefault.jpg",
            "width": 480
           },
           "maxres": {
            "height": 720,
            "url": "https://i.ytimg.com/vi/Z_T0o5uNrlY/maxresdefault.jpg",
            "width": 1280
           },
           "medium": {
            "height": 180,
            "url": "https://i.ytimg.com/vi/Z_T0o5uNrlY/mqdefault.jpg",
            "width": 320
           },
           "standard": {
            "height": 480,
            "url": "https://i.ytimg.com/vi/Z_T0o5uNrlY/sddefault.jpg",
            "width": 640
           }
          },
          "title": "Five Nights at Freddy's | Official Trailer 2"
         },
         "statistics": {
          "commentCount": "29326",
          "favoriteCount": "0",
          "likeCount": "528774",
          "viewCount": "23623525"
         }
        },
        {
         "contentDetails": {
          "caption": "true",
          "contentRating": {},
          "definition": "hd",
          "dimension": "2d",
          "duration": "PT2M24S",
          "licensedContent": true,
          "projection": "rectangular"
         },
         "etag": "9lTnmi3KSmqwouYsRfxKOnpmVb4",
         "id": "AHmCH7iB_IM",
         "kind": "youtube#video",
         "snippet": {
          "categoryId": "24",
          "channelId": "UCf5CjDJvsFvtVIhkfmKAwAA",
          "channelTitle": "MGM",
          "defaultAudioLanguage": "en-US",
          "defaultLanguage": "en",
          "description": "There’s no enemy like the past. From director Michael B. Jordan, watch the official #Creed3 trailer now and see the movie in theaters and IMAX 3/3/23.\n\nCREED III\nDirected By: Michael B. Jordan\nScreenplay By: Keenan Coogler and Zach Baylin\nStory By: Ryan Coogler, Keenan Coogler, and Zach Baylin\nCast: Michael B. Jordan, Tessa Thompson, Jonathan Majors, Florian Munteanu\r\n\r\nAbout MGM Studios: Metro-Goldwyn-Mayer Inc. is a leading entertainment company focused on the production and distribution of film and television content globally.  The company owns one of the world’s deepest libraries of premium film and television content.  In addition, MGM has investments in domestic and international television channels, including MGM-branded channels.\r\n\r\nConnect with MGM Studios Online\r\nVisit the MGM Studios WEBSITE: http://www.mgm.com/\r\nLike MGM Studios on FACEBOOK: https://www.facebook.com/mgm/\r\nFollow MGM Studios on TWITTER: https://twitter.com/MGM_Studios\r\n\r\nCREED III | Official Trailer \r\nhttps://www.youtube.com/MGM",
          "liveBroadcastContent": "none",
          "localized": {
           "description": "There’s no enemy like the past. From director Michael B. Jordan, watch the official #Creed3 trailer now and see the movie in theaters and IMAX 3/3/23.\n\nCREED III\nDirected By: Michael B. Jordan\nScreenplay By: Keenan Coogler and Zach Baylin\nStory By: Ryan Coogler, Keenan Coogler, and Zach Baylin\nCast: Michael B. Jordan, Tessa Thompson, Jonathan Majors, Florian Munteanu\r\n\r\nAbout MGM Studios: Metro-Goldwyn-Mayer Inc. is a leading entertainment company focused on the production and distribution of film and television content globally.  The company owns one of the world’s deepest libraries of premium film and television content.  In addition, MGM has investments in domestic and international television channels, including MGM-branded channels.\r\n\r\nConnect with MGM Studios Online\r\nVisit the MGM Studios WEBSITE: http://www.mgm.com/\r\nLike MGM Studios on FACEBOOK: https://www.facebook.com/mgm/\r\nFollow MGM Studios on TWITTER: https://twitter.com/MGM_Studios\r\n\r\nCREED III | Official Trailer \r\nhttps://www.youtube.com/MGM",
           "title": "CREED III | Official Trailer"
          },
          "publishedAt": "2022-10-18T15:59:00Z",
          "tags": [
           "MGM",
           "MGM Studios",
           "Metro-Goldwyn- Mayer",
           "Metro Pictures Corporations",
           "Goldwyn Pictures",
           "Louis B. Mayer Pictures",
           "MGM Pictures",
           "United Artists",
           "Metro MGM/UA",
           "Creed III",
           "Creed 3",
           "Creed 3 Trailer",
           "Creed III Trailer",
           "Creed Trailer",
           "Michael B Jordan",
           "official trailer",
           "Tessa Thompson",
           "Jonathan Majors"
          ],
          "thumbnails": {
           "default": {
            "height": 90,
            "url": "https://i.ytimg.com/vi/AHmCH7iB_IM/default.jpg",
            "width": 120
           },
           "high": {
            "height": 360,
            "url": "https://i.ytimg.com/vi/AHmCH7iB_IM/hqdefault.jpg",
            "width": 480
           },
           "maxres": {
            "height": 720,
            "url": "https://i.ytimg.com/vi/AHmCH7iB_IM/maxresdefault.jpg",
            "width": 1280
           },
           "medium": {
            "height": 180,
            "url": "https://i.ytimg.com/vi/AHmCH7iB_IM/mqdefault.jpg",
            "width": 320
           },
           "standard": {
            "height": 480,
            "url": "https://i.ytimg.com/vi/AHmCH7iB_IM/sddefault.jpg",
            "width": 640
           }
          },
          "title": "CREED III | Official Trailer"
         },
         "statistics": {
          "commentCount": "10994",
          "favoriteCount": "0",
          "likeCount": "199134",
          "viewCount": "18575873"
         }
        },
        {
         "contentDetails": {
          "caption": "true",
          "contentRating": {},
          "definition": "hd",
          "dimension": "2d",
          "duration": "PT2M22S",
          "licensedContent": true,
          "projection": "rectangular"
         },
         "etag": "lXcZKsuKjULELiOq4BPtYOko74c",
         "id": "xTaIZo8OJYE",
         "kind": "youtube#video",
         "snippet": {
          "categoryId": "24",
          "channelId": "UCf5CjDJvsFvtVIhkfmKAwAA",
          "channelTitle": "MGM",
          "defaultAudioLanguage": "en-US",
          "defaultLanguage": "en",
          "description": "Brothers turn enemies. Watch the final trailer for #Creed3 now, starring Michael B. Jordan, Jonathan Majors, and Tessa Thompson. See the film only in theaters March 3.\n\nFollow #Creed3 on Social:\nInstagram: https://www.instagram.com/creedmovie/\nTwitter: https://twitter.com/creedmovie\nFacebook: https://www.facebook.com/creedmovie/\n\nCREED III\nDirected By: Michael B. Jordan\nScreenplay By: Keenan Coogler and Zach Baylin\nStory By: Ryan Coogler, Keenan Coogler, and Zach Baylin\nCast: Michael B. Jordan, Tessa Thompson, Jonathan Majors, Florian Munteanu\n\nAbout MGM Studios: Metro Goldwyn Mayer (MGM) is a leading entertainment company focused on the production and global distribution of film and television content across all platforms. The company owns one of the world’s deepest libraries of premium film and television content as well as the premium pay television network MGM+, which is available throughout the U.S. via cable, satellite, telco and digital distributors.  In addition, MGM has investments in numerous other television channels, digital platforms and interactive ventures and is producing premium short-form content for distribution. \n\nConnect with MGM Studios Online\nVisit the MGM Studios WEBSITE: http://www.mgm.com/\nCheck out MGM on TIKTOK: https://www.tiktok.com/@mgmstudios/ \nFollow MGM Studios on INSTAGRAM: https://www.instagram.com/mgmstudios/ \nFollow MGM Studios on TWITTER: https://twitter.com/mgmstudios\nLike MGM Studios on FACEBOOK: https://www.facebook.com/mgm/ \n\nCREED III | Final Trailer\nhttps://www.youtube.com/MGM",
          "liveBroadcastContent": "none",
          "localized": {
           "description": "Brothers turn enemies. Watch the final trailer for #Creed3 now, starring Michael B. Jordan, Jonathan Majors, and Tessa Thompson. See the film only in theaters March 3.\n\nFollow #Creed3 on Social:\nInstagram: https://www.instagram.com/creedmovie/\nTwitter: https://twitter.com/creedmovie\nFacebook: https://www.facebook.com/creedmovie/\n\nCREED III\nDirected By: Michael B. Jordan\nScreenplay By: Keenan Coogler and Zach Baylin\nStory By: Ryan Coogler, Keenan Coogler, and Zach Baylin\nCast: Michael B. Jordan, Tessa Thompson, Jonathan Majors, Florian Munteanu\n\nAbout MGM Studios: Metro Goldwyn Mayer (MGM) is a leading entertainment company focused on the production and global distribution of film and television content across all platforms. The company owns one of the world’s deepest libraries of premium film and television content as well as the premium pay television network MGM+, which is available throughout the U.S. via cable, satellite, telco and digital distributors.  In addition, MGM has investments in numerous other television channels, digital platforms and interactive ventures and is producing premium short-form content for distribution. \n\nConnect with MGM Studios Online\nVisit the MGM Studios WEBSITE: http://www.mgm.com/\nCheck out MGM on TIKTOK: https://www.tiktok.com/@mgmstudios/ \nFollow MGM Studios on INSTAGRAM: https://www.instagram.com/mgmstudios/ \nFollow MGM Studios on TWITTER: https://twitter.com/mgmstudios\nLike MGM Studios on FACEBOOK: https://www.facebook.com/mgm/ \n\nCREED III | Final Trailer\nhttps://www.youtube.com/MGM",
           "title": "CREED III | Final Trailer"
          },
          "publishedAt": "2023-02-15T17:00:01Z",
          "tags": [
           "MGM",
           "MGM Studios",
           "Metro-Goldwyn- Mayer",
           "Metro Pictures Corporations",
           "Goldwyn Pictures",
           "Louis B. Mayer Pictures",
           "MGM Pictures",
           "United Artists",
           "Metro MGM/UA",
           "Creed III",
           "Creed 3",
           "Creed 3 Trailer",
           "Creed III Trailer",
           "Creed Trailer",
           "Michael B Jordan",
           "official trailer",
           "Tessa Thompson",
           "Jonathan Majors",
           "new movies",
           "new movies 2023",
           "creed III final trailer",
           "creed 3 final trailer"
          ],
          "thumbnails": {
           "default": {
            "height": 90,
            "url": "https://i.ytimg.com/vi/xTaIZo8OJYE/default.jpg",
            "width": 120
           },
           "high": {
            "height": 360,
            "url": "https://i.ytimg.com/vi/xTaIZo8OJYE/hqdefault.jpg",
            "width": 480
           },
           "maxres": {
            "height": 720,
            "url": "https://i.ytimg.com/vi/xTaIZo8OJYE/maxresdefault.jpg",
            "width": 1280
           },
           "medium": {
            "height": 180,
            "url": "https://i.ytimg.com/vi/xTaIZo8OJYE/mqdefault.jpg",
            "width": 320
           },
           "standard": {
            "height": 480,
            "url": "https://i.ytimg.com/vi/xTaIZo8OJYE/sddefault.jpg",
            "width": 640
           }
          },
          "title": "CREED III | Final Trailer"
         },
         "statistics": {
          "commentCount": "4206",
          "favoriteCount": "0",
          "likeCount": "79878",
          "viewCount": "19081579"
         }
        },
        {
         "contentDetails": {
          "caption": "true",
          "contentRating": {},
          "definition": "hd",
          "dimension": "2d",
          "duration": "PT2M57S",
          "licensedContent": false,
          "projection": "rectangular"
         },
         "etag": "cDo15AFlhQ0czPNuwK4dRK-NivQ",
         "id": "hebWYacbdvc",
         "kind": "youtube#video",
         "snippet": {
          "categoryId": "1",
          "channelId": "UCjmJDM5pRKbUlVIzDYYWb6g",
          "channelTitle": "Warner Bros. Pictures",
          "defaultAudioLanguage": "en-US",
          "defaultLanguage": "en",
          "description": "On June 16, worlds collide. Watch the official trailer now for The Flash – only in theaters. #TheFlashMovie \n\nWarner Bros. Pictures presents “The Flash,” directed by Andy Muschietti (the “IT” films, “Mama”). Ezra Miller reprises their role as Barry Allen in the DC Super Hero’s first-ever standalone feature film.\n\nWorlds collide in “The Flash” when Barry uses his superpowers to travel back in time in order to change the events of the past. But when his attempt to save his family inadvertently alters the future, Barry becomes trapped in a reality in which General Zod has returned, threatening annihilation, and there are no Super Heroes to turn to. That is, unless Barry can coax a very different Batman out of retirement and rescue an imprisoned Kryptonian… albeit not the one he’s looking for. Ultimately, to save the world that he is in and return to the future that he knows, Barry’s only hope is to race for his life. But will making the ultimate sacrifice be enough to reset the universe? \n\n“The Flash” ensemble also includes rising star Sasha Calle, Michael Shannon (“Bullet Train,” “Batman v Superman: Dawn of Justice”), Ron Livingston (“Loudermilk,” “The Conjuring”), Maribel Verdú (“Elite,” “Y tu mamá también”), Kiersey Clemons (“Zack Snyder’s Justice League,” “Sweetheart”), Antje Traue (“King of Ravens,” “Man of Steel”) and Michael Keaton (“Spider-Man: Homecoming,” “Batman”).\n\n“The Flash” is produced by Barbara Muschietti (the “IT” films, “Mama”) and Michael Disco (“Rampage,” “San Andreas”). The screenplay is by Christina Hodson (“Birds of Prey,” “Bumblebee”), with a screen story by John Francis Daley & Jonathan Goldstein (“Dungeons & Dragons: Honor Among Thieves,” “Spider-Man: Homecoming”) and Joby Harold (“Transformers: Rise of the Beasts,” “Army of the Dead”), based on characters from DC. The executive producers \nare Toby Emmerich, Walter Hamada, Galen Vaisman and Marianne Jenkins.\n\nJoining director Muschietti behind the camera are director of photography Henry Braham (“Guardians of the Galaxy Vol. 3,” “The Suicide Squad”), production designer Paul Denham Austerberry (“IT Chapter Two,” “The Shape of Water”), editors Jason Ballantine (the “IT” films, “The Great Gatsby”) and Paul Machliss (“The Gentlemen,” “Baby Driver”), and costume designer Alexandra Byrne (“Doctor Strange,” “Guardians of the Galaxy”); the score is by Benjamin Wallfisch \n(“The Invisible Man,” the “IT” films).\n\nWarner Bros. Pictures presents a Double Dream/a Disco Factory production of an Andy Muschietti film, “The Flash.” It will be distributed worldwide by Warner Bros. Pictures and is set to open in theaters in North America on June 16, 2023 and internationally beginning 14 June 2023.",
          "liveBroadcastContent": "none",
          "localized": {
           "description": "On June 16, worlds collide. Watch the official trailer now for The Flash – only in theaters. #TheFlashMovie \n\nWarner Bros. Pictures presents “The Flash,” directed by Andy Muschietti (the “IT” films, “Mama”). Ezra Miller reprises their role as Barry Allen in the DC Super Hero’s first-ever standalone feature film.\n\nWorlds collide in “The Flash” when Barry uses his superpowers to travel back in time in order to change the events of the past. But when his attempt to save his family inadvertently alters the future, Barry becomes trapped in a reality in which General Zod has returned, threatening annihilation, and there are no Super Heroes to turn to. That is, unless Barry can coax a very different Batman out of retirement and rescue an imprisoned Kryptonian… albeit not the one he’s looking for. Ultimately, to save the world that he is in and return to the future that he knows, Barry’s only hope is to race for his life. But will making the ultimate sacrifice be enough to reset the universe? \n\n“The Flash” ensemble also includes rising star Sasha Calle, Michael Shannon (“Bullet Train,” “Batman v Superman: Dawn of Justice”), Ron Livingston (“Loudermilk,” “The Conjuring”), Maribel Verdú (“Elite,” “Y tu mamá también”), Kiersey Clemons (“Zack Snyder’s Justice League,” “Sweetheart”), Antje Traue (“King of Ravens,” “Man of Steel”) and Michael Keaton (“Spider-Man: Homecoming,” “Batman”).\n\n“The Flash” is produced by Barbara Muschietti (the “IT” films, “Mama”) and Michael Disco (“Rampage,” “San Andreas”). The screenplay is by Christina Hodson (“Birds of Prey,” “Bumblebee”), with a screen story by John Francis Daley & Jonathan Goldstein (“Dungeons & Dragons: Honor Among Thieves,” “Spider-Man: Homecoming”) and Joby Harold (“Transformers: Rise of the Beasts,” “Army of the Dead”), based on characters from DC. The executive producers \nare Toby Emmerich, Walter Hamada, Galen Vaisman and Marianne Jenkins.\n\nJoining director Muschietti behind the camera are director of photography Henry Braham (“Guardians of the Galaxy Vol. 3,” “The Suicide Squad”), production designer Paul Denham Austerberry (“IT Chapter Two,” “The Shape of Water”), editors Jason Ballantine (the “IT” films, “The Great Gatsby”) and Paul Machliss (“The Gentlemen,” “Baby Driver”), and costume designer Alexandra Byrne (“Doctor Strange,” “Guardians of the Galaxy”); the score is by Benjamin Wallfisch \n(“The Invisible Man,” the “IT” films).\n\nWarner Bros. Pictures presents a Double Dream/a Disco Factory production of an Andy Muschietti film, “The Flash.” It will be distributed worldwide by Warner Bros. Pictures and is set to open in theaters in North America on June 16, 2023 and internationally beginning 14 June 2023.",
           "title": "The Flash – Official Trailer"
          },
          "publishedAt": "2023-02-12T22:59:38Z",
          "tags": [
           "Andy Muschietti",
           "Barry Allen",
           "Batman",
           "Ben Affleck",
           "Bruce Wayne",
           "Coming Soon",
           "DC",
           "DC Comics",
           "DC Extended Universe",
           "Ezra Miller",
           "Film",
           "Film Trailer",
           "Film Warner",
           "General Zod",
           "Iris West",
           "Kiersey Clemons",
           "Michael Keaton",
           "Michael Shannon",
           "Movie",
           "Multiverse",
           "Official Trailer",
           "Super Hero",
           "Superhero",
           "The Batman",
           "The Flash",
           "Trailer",
           "Trailer 2023",
           "WB",
           "Warner",
           "Warner Bros",
           "Warner Brothers"
          ],
          "thumbnails": {
           "default": {
            "height": 90,
            "url": "https://i.ytimg.com/vi/hebWYacbdvc/default.jpg",
            "width": 120
           },
           "high": {
            "height": 360,
            "url": "https://i.ytimg.com/vi/hebWYacbdvc/hqdefault.jpg",
            "width": 480
           },
           "maxres": {
            "height": 720,
            "url": "https://i.ytimg.com/vi/hebWYacbdvc/maxresdefault.jpg",
            "width": 1280
           },
           "medium": {
            "height": 180,
            "url": "https://i.ytimg.com/vi/hebWYacbdvc/mqdefault.jpg",
            "width": 320
           },
           "standard": {
            "height": 480,
            "url": "https://i.ytimg.com/vi/hebWYacbdvc/sddefault.jpg",
            "width": 640
           }
          },
          "title": "The Flash – Official Trailer"
         },
         "statistics": {
          "commentCount": "23445",
          "favoriteCount": "0",
          "likeCount": "272966",
          "viewCount": "20722789"
         }
        },
        {
         "contentDetails": {
          "caption": "true",
          "contentRating": {},
          "definition": "hd",
          "dimension": "2d",
          "duration": "PT2M52S",
          "licensedContent": false,
          "projection": "rectangular"
         },
         "etag": "HExxqSxJTrCeeF2CDl3SUUszehE",
         "id": "r51cYVZWKdY",
         "kind": "youtube#video",
         "snippet": {
          "categoryId": "1",
          "channelId": "UCiifkYAs_bq1pt_zbNAzYGg",
          "channelTitle": "DC",
          "defaultAudioLanguage": "en-US",
          "defaultLanguage": "en",
          "description": "Watch worlds collide in trailer 2 for The Flash - Only in Theaters June 16. #TheFlashMovie \n\nWarner Bros. Pictures presents “The Flash,” directed by Andy Muschietti (the “IT” films, “Mama”). Ezra Miller reprises their role as Barry Allen in the DC Super Hero’s first-ever standalone feature film.\n\nWorlds collide in “The Flash” when Barry uses his superpowers to travel back in time in order to change the events of the past. But when his attempt to save his family inadvertently alters the future, Barry becomes trapped in a reality in which General Zod has returned, threatening annihilation, and there are no Super Heroes to turn to. That is, unless Barry can coax a very different Batman out of retirement and rescue an imprisoned Kryptonian… albeit not the one he’s looking for. Ultimately, to save the world that he is in and return to the future that he knows, Barry’s only hope is to race for his life. But will making the ultimate sacrifice be enough to reset the universe? \n\n“The Flash” ensemble also includes rising star Sasha Calle, Michael Shannon (“Bullet Train,” “Batman v Superman: Dawn of Justice”), Ron Livingston (“Loudermilk,” “The Conjuring”), Maribel Verdú (“Elite,” “Y tu mamá también”), Kiersey Clemons (“Zack Snyder’s Justice League,” “Sweetheart”), Antje Traue (“King of Ravens,” “Man of Steel”) and Michael Keaton (“Spider-Man: Homecoming,” “Batman”).\n\n“The Flash” is produced by Barbara Muschietti (the “IT” films, “Mama”) and Michael Disco (“Rampage,” “San Andreas”). The screenplay is by Christina Hodson (“Birds of Prey,” “Bumblebee”), with a screen story by John Francis Daley & Jonathan Goldstein (“Dungeons & Dragons: Honor Among Thieves,” “Spider-Man: Homecoming”) and Joby Harold (“Transformers: Rise of the Beasts,” “Army of the Dead”), based on characters from DC. The executive producers are Toby Emmerich, Walter Hamada, Galen Vaisman and Marianne Jenkins.\n\nJoining director Muschietti behind the camera are director of photography Henry Braham (“Guardians of the Galaxy Vol. 3,” “The Suicide Squad”), production designer Paul Denham Austerberry (“IT Chapter Two,” “The Shape of Water”), editors Jason Ballantine (the “IT” films, “The Great Gatsby”) and Paul Machliss (“The Gentlemen,” “Baby Driver”), and costume designer Alexandra Byrne (“Doctor Strange,” “Guardians of the Galaxy”); the score is by Benjamin Wallfisch (“The Invisible Man,” the “IT” films).\n\nWarner Bros. Pictures presents a Double Dream/a Disco Factory production of an Andy Muschietti film, “The Flash.” It will be distributed worldwide by Warner Bros. Pictures and is set to open in theaters in North America on June 16, 2023 and internationally beginning 14 June 2023.",
          "liveBroadcastContent": "none",
          "localized": {
           "description": "Watch worlds collide in trailer 2 for The Flash - Only in Theaters June 16. #TheFlashMovie \n\nWarner Bros. Pictures presents “The Flash,” directed by Andy Muschietti (the “IT” films, “Mama”). Ezra Miller reprises their role as Barry Allen in the DC Super Hero’s first-ever standalone feature film.\n\nWorlds collide in “The Flash” when Barry uses his superpowers to travel back in time in order to change the events of the past. But when his attempt to save his family inadvertently alters the future, Barry becomes trapped in a reality in which General Zod has returned, threatening annihilation, and there are no Super Heroes to turn to. That is, unless Barry can coax a very different Batman out of retirement and rescue an imprisoned Kryptonian… albeit not the one he’s looking for. Ultimately, to save the world that he is in and return to the future that he knows, Barry’s only hope is to race for his life. But will making the ultimate sacrifice be enough to reset the universe? \n\n“The Flash” ensemble also includes rising star Sasha Calle, Michael Shannon (“Bullet Train,” “Batman v Superman: Dawn of Justice”), Ron Livingston (“Loudermilk,” “The Conjuring”), Maribel Verdú (“Elite,” “Y tu mamá también”), Kiersey Clemons (“Zack Snyder’s Justice League,” “Sweetheart”), Antje Traue (“King of Ravens,” “Man of Steel”) and Michael Keaton (“Spider-Man: Homecoming,” “Batman”).\n\n“The Flash” is produced by Barbara Muschietti (the “IT” films, “Mama”) and Michael Disco (“Rampage,” “San Andreas”). The screenplay is by Christina Hodson (“Birds of Prey,” “Bumblebee”), with a screen story by John Francis Daley & Jonathan Goldstein (“Dungeons & Dragons: Honor Among Thieves,” “Spider-Man: Homecoming”) and Joby Harold (“Transformers: Rise of the Beasts,” “Army of the Dead”), based on characters from DC. The executive producers are Toby Emmerich, Walter Hamada, Galen Vaisman and Marianne Jenkins.\n\nJoining director Muschietti behind the camera are director of photography Henry Braham (“Guardians of the Galaxy Vol. 3,” “The Suicide Squad”), production designer Paul Denham Austerberry (“IT Chapter Two,” “The Shape of Water”), editors Jason Ballantine (the “IT” films, “The Great Gatsby”) and Paul Machliss (“The Gentlemen,” “Baby Driver”), and costume designer Alexandra Byrne (“Doctor Strange,” “Guardians of the Galaxy”); the score is by Benjamin Wallfisch (“The Invisible Man,” the “IT” films).\n\nWarner Bros. Pictures presents a Double Dream/a Disco Factory production of an Andy Muschietti film, “The Flash.” It will be distributed worldwide by Warner Bros. Pictures and is set to open in theaters in North America on June 16, 2023 and internationally beginning 14 June 2023.",
           "title": "The Flash - Official Trailer 2"
          },
          "publishedAt": "2023-04-25T19:00:18Z",
          "tags": [
           "Andy Muschietti",
           "Barry Allen",
           "Batman",
           "Ben Affleck",
           "Bruce Wayne",
           "Coming Soon",
           "DC",
           "DC Comics",
           "DC Extended Universe",
           "Ezra Miller",
           "Film",
           "Film Trailer",
           "Film Warner",
           "General Zod",
           "Iris West",
           "Kiersey Clemons",
           "Michael Keaton",
           "Michael Shannon",
           "Movie",
           "Multiverse",
           "Official Trailer",
           "Super Hero",
           "Superhero",
           "The Batman",
           "The Flash",
           "Trailer",
           "Trailer 2023",
           "WB",
           "Warner",
           "Warner Bros",
           "Warner Brothers"
          ],
          "thumbnails": {
           "default": {
            "height": 90,
            "url": "https://i.ytimg.com/vi/r51cYVZWKdY/default.jpg",
            "width": 120
           },
           "high": {
            "height": 360,
            "url": "https://i.ytimg.com/vi/r51cYVZWKdY/hqdefault.jpg",
            "width": 480
           },
           "maxres": {
            "height": 720,
            "url": "https://i.ytimg.com/vi/r51cYVZWKdY/maxresdefault.jpg",
            "width": 1280
           },
           "medium": {
            "height": 180,
            "url": "https://i.ytimg.com/vi/r51cYVZWKdY/mqdefault.jpg",
            "width": 320
           },
           "standard": {
            "height": 480,
            "url": "https://i.ytimg.com/vi/r51cYVZWKdY/sddefault.jpg",
            "width": 640
           }
          },
          "title": "The Flash - Official Trailer 2"
         },
         "statistics": {
          "commentCount": "21105",
          "favoriteCount": "0",
          "likeCount": "267446",
          "viewCount": "32389588"
         }
        },
        {
         "contentDetails": {
          "caption": "true",
          "contentRating": {},
          "definition": "hd",
          "dimension": "2d",
          "duration": "PT2M12S",
          "licensedContent": false,
          "projection": "rectangular"
         },
         "etag": "I2UD3kgs-CkStKqoaR58DbCIeBc",
         "id": "QF-oyCwaArU",
         "kind": "youtube#video",
         "snippet": {
          "categoryId": "1",
          "channelId": "UCjmJDM5pRKbUlVIzDYYWb6g",
          "channelTitle": "Warner Bros. Pictures",
          "defaultAudioLanguage": "en-US",
          "defaultLanguage": "en",
          "description": "On September 8th, the greatest evil in the conjuring universe returns #TheNun2\n\nNew Line Cinema brings you the horror thriller “The Nun II,” the next chapter in the story of “The Nun,” the highest grossing entry in the juggernaut $2 billion “The Conjuring” Universe.\n\n1956 – France. A priest is murdered. An evil is spreading. The sequel to the worldwide smash hit follows Sister Irene as she once again comes face-to-face with Valak, the demon nun.\n\nTaissa Farmiga (“The Nun,” “The Gilded Age”) returns as Sister Irene, joined by Jonas Bloquet (“Tirailleurs,” “The Nun”), Storm Reid (“The Last of Us,” “The Suicide Squad”), Anna Popplewell (“Fairytale,” “The Chronicles of Narnia” trilogy) and Bonnie Aarons (reprising her role from “The Nun”), surrounded by an ensemble cast of international talent.\n\nMichael Chaves (“The Conjuring: The Devil Made Me Do It”) directs, from a screenplay by Ian Goldberg & Richard Naing (“Eli,” “The Autopsy of Jane Doe”) and Akela Cooper (“M3GAN,” “Malignant”),with a story by Cooper, based on characters created by James Wan & Gary Dauberman.\n\nThe Safran Company’s Peter Safran and Atomic Monster’s James Wan produce, continuing their collaboration as filmmakers on all of the previous “Conjuring” films. “The Nun II” is executive produced by Richard Brener, Dave Neustadter, Victoria Palmeri, Gary Dauberman, Michael Clear, Judson Scott and Michael Polaire.\nJoining Chaves behind the camera are director of photography Tristan Nyby (“The Conjuring: The Devil Made Me Do It,” “The Dark and the Wicked”), production designer Stéphane Cressend (“Les Vedettes,” “The French Dispatch”), editor Gregory Plotkin (2022’s “Scream,” “Get Out”), visual effects producer Sophie A. Leclerc (“Finch,” “Lucy”) and costume designer Agnès Béziers (“Oxygen,” “The Breitner Commando”), with composer Marco Beltrami (2022’s “Scream,” ”Venom: Let There Be Carnage”) providing the score.\n\n“The Conjuring” Universe is the highest grossing horror franchise in history with $2+ billion worldwide. Globally, four of “The Conjuring” Universe titles have earned more than $300 million worldwide each (“The Nun,” $366 million; “The Conjuring 2,” $322 million; “The Conjuring,” $320 million; “Annabelle: Creation,” $307 million), and all seven have each grossed more than $200 million. “The Nun” is the top-earning film in the franchise, with more than $366 million worldwide.\n\nNew Line Cinema presents an Atomic Monster / Safran Company production, “The Nun II,” distributed worldwide by Warner Bros. Pictures. It is set to open in North America on September 8, 2023 and internationally beginning 6 September, 2023.",
          "liveBroadcastContent": "none",
          "localized": {
           "description": "On September 8th, the greatest evil in the conjuring universe returns #TheNun2\n\nNew Line Cinema brings you the horror thriller “The Nun II,” the next chapter in the story of “The Nun,” the highest grossing entry in the juggernaut $2 billion “The Conjuring” Universe.\n\n1956 – France. A priest is murdered. An evil is spreading. The sequel to the worldwide smash hit follows Sister Irene as she once again comes face-to-face with Valak, the demon nun.\n\nTaissa Farmiga (“The Nun,” “The Gilded Age”) returns as Sister Irene, joined by Jonas Bloquet (“Tirailleurs,” “The Nun”), Storm Reid (“The Last of Us,” “The Suicide Squad”), Anna Popplewell (“Fairytale,” “The Chronicles of Narnia” trilogy) and Bonnie Aarons (reprising her role from “The Nun”), surrounded by an ensemble cast of international talent.\n\nMichael Chaves (“The Conjuring: The Devil Made Me Do It”) directs, from a screenplay by Ian Goldberg & Richard Naing (“Eli,” “The Autopsy of Jane Doe”) and Akela Cooper (“M3GAN,” “Malignant”),with a story by Cooper, based on characters created by James Wan & Gary Dauberman.\n\nThe Safran Company’s Peter Safran and Atomic Monster’s James Wan produce, continuing their collaboration as filmmakers on all of the previous “Conjuring” films. “The Nun II” is executive produced by Richard Brener, Dave Neustadter, Victoria Palmeri, Gary Dauberman, Michael Clear, Judson Scott and Michael Polaire.\nJoining Chaves behind the camera are director of photography Tristan Nyby (“The Conjuring: The Devil Made Me Do It,” “The Dark and the Wicked”), production designer Stéphane Cressend (“Les Vedettes,” “The French Dispatch”), editor Gregory Plotkin (2022’s “Scream,” “Get Out”), visual effects producer Sophie A. Leclerc (“Finch,” “Lucy”) and costume designer Agnès Béziers (“Oxygen,” “The Breitner Commando”), with composer Marco Beltrami (2022’s “Scream,” ”Venom: Let There Be Carnage”) providing the score.\n\n“The Conjuring” Universe is the highest grossing horror franchise in history with $2+ billion worldwide. Globally, four of “The Conjuring” Universe titles have earned more than $300 million worldwide each (“The Nun,” $366 million; “The Conjuring 2,” $322 million; “The Conjuring,” $320 million; “Annabelle: Creation,” $307 million), and all seven have each grossed more than $200 million. “The Nun” is the top-earning film in the franchise, with more than $366 million worldwide.\n\nNew Line Cinema presents an Atomic Monster / Safran Company production, “The Nun II,” distributed worldwide by Warner Bros. Pictures. It is set to open in North America on September 8, 2023 and internationally beginning 6 September, 2023.",
           "title": "THE NUN II | OFFICIAL TRAILER"
          },
          "publishedAt": "2023-07-06T16:00:29Z",
          "tags": [
           "Anna Popplewell",
           "Annabelle",
           "Coming Soon",
           "Conjuring",
           "Conjuring Universe",
           "Gary Dauberman",
           "Horror",
           "Ian Goldberg",
           "James Wan",
           "Jonas Bloquet",
           "Michael Chaves",
           "Movie",
           "Nun",
           "Nun 2",
           "Richard Naing",
           "Storm Reid",
           "Taissa Famiga",
           "The Conjuring",
           "The Nun",
           "The Nun 2",
           "Trailer 2023"
          ],
          "thumbnails": {
           "default": {
            "height": 90,
            "url": "https://i.ytimg.com/vi/QF-oyCwaArU/default.jpg",
            "width": 120
           },
           "high": {
            "height": 360,
            "url": "https://i.ytimg.com/vi/QF-oyCwaArU/hqdefault.jpg",
            "width": 480
           },
           "maxres": {
            "height": 720,
            "url": "https://i.ytimg.com/vi/QF-oyCwaArU/maxresdefault.jpg",
            "width": 1280
           },
           "medium": {
            "height": 180,
            "url": "https://i.ytimg.com/vi/QF-oyCwaArU/mqdefault.jpg",
            "width": 320
           },
           "standard": {
            "height": 480,
            "url": "https://i.ytimg.com/vi/QF-oyCwaArU/sddefault.jpg",
            "width": 640
           }
          },
          "title": "THE NUN II | OFFICIAL TRAILER"
         },
         "statistics": {
          "commentCount": "14771",
          "favoriteCount": "0",
          "likeCount": "394104",
          "viewCount": "41591862"
         }
        },
        {
         "contentDetails": {
          "caption": "false",
          "contentRating": {},
          "definition": "hd",
          "dimension": "2d",
          "duration": "PT1M30S",
          "licensedContent": false,
          "projection": "rectangular"
         },
         "etag": "NjyUWnxtCtb0J7IC7moq-OfLna4",
         "id": "KudedLV0tP0",
         "kind": "youtube#video",
         "snippet": {
          "categoryId": "10",
          "channelId": "UCqECaJ8Gagnn7YCbPEzWH6g",
          "channelTitle": "Taylor Swift",
          "description": "Get tickets now to see TAYLOR SWIFT | THE ERAS TOUR Concert Film in theaters worldwide now: https://taylor.lnk.to/TSTheErasTourFilmTickets\n\nTaylor Swift | The Eras Tour (Extended Version) At Home now available for rent: https://taylor.lnk.to/TSTheErasTourAtHome\n\nThe cultural phenomenon continues on the big screen! Immerse yourself in this once-in-a-lifetime concert film experience with a breathtaking, cinematic view of the history-making tour. Taylor Swift Eras tour attire and friendship bracelets are strongly encouraged!\n\n►1989 (Taylor's Version) available now: https://taylor.lnk.to/1989taylorsversion \n►Shop Merch: http://taylorswift.lnk.to/store\n\n►Follow Taylor Swift:\nTikTok: http://tiktok.com/@taylorswift\nInstagram: http://instagram.com/taylorswift  \nTwitter: http://twitter.com/taylorswift13  \nSnapchat: http://snapchat.com/add/taylorswift\nFacebook: http://facebook.com/taylorswift  \nTumblr: http://taylorswift.tumblr.com  \nWebsite: http://www.taylorswift.com  \n\n►Follow Taylor Nation Online\nTikTok: http://tiktok.com/@taylornation\nInstagram: http://instagram.com/taylornation  \nTwitter: http://twitter.com/taylornation13\nTumblr: http://taylornation.tumblr.com  \n\n#taylorswift",
          "liveBroadcastContent": "none",
          "localized": {
           "description": "Get tickets now to see TAYLOR SWIFT | THE ERAS TOUR Concert Film in theaters worldwide now: https://taylor.lnk.to/TSTheErasTourFilmTickets\n\nTaylor Swift | The Eras Tour (Extended Version) At Home now available for rent: https://taylor.lnk.to/TSTheErasTourAtHome\n\nThe cultural phenomenon continues on the big screen! Immerse yourself in this once-in-a-lifetime concert film experience with a breathtaking, cinematic view of the history-making tour. Taylor Swift Eras tour attire and friendship bracelets are strongly encouraged!\n\n►1989 (Taylor's Version) available now: https://taylor.lnk.to/1989taylorsversion \n►Shop Merch: http://taylorswift.lnk.to/store\n\n►Follow Taylor Swift:\nTikTok: http://tiktok.com/@taylorswift\nInstagram: http://instagram.com/taylorswift  \nTwitter: http://twitter.com/taylorswift13  \nSnapchat: http://snapchat.com/add/taylorswift\nFacebook: http://facebook.com/taylorswift  \nTumblr: http://taylorswift.tumblr.com  \nWebsite: http://www.taylorswift.com  \n\n►Follow Taylor Nation Online\nTikTok: http://tiktok.com/@taylornation\nInstagram: http://instagram.com/taylornation  \nTwitter: http://twitter.com/taylornation13\nTumblr: http://taylornation.tumblr.com  \n\n#taylorswift",
           "title": "TAYLOR SWIFT | THE ERAS TOUR Concert Film Official Trailer"
          },
          "publishedAt": "2023-08-31T12:17:49Z",
          "tags": [
           "the eras tour",
           "taylor swift",
           "eras tour",
           "taylor swift live",
           "the eras tour stream",
           "taylor swift concert",
           "taylor swift tour",
           "cruel summer"
          ],
          "thumbnails": {
           "default": {
            "height": 90,
            "url": "https://i.ytimg.com/vi/KudedLV0tP0/default.jpg",
            "width": 120
           },
           "high": {
            "height": 360,
            "url": "https://i.ytimg.com/vi/KudedLV0tP0/hqdefault.jpg",
            "width": 480
           },
           "maxres": {
            "height": 720,
            "url": "https://i.ytimg.com/vi/KudedLV0tP0/maxresdefault.jpg",
            "width": 1280
           },
           "medium": {
            "height": 180,
            "url": "https://i.ytimg.com/vi/KudedLV0tP0/mqdefault.jpg",
            "width": 320
           },
           "standard": {
            "height": 480,
            "url": "https://i.ytimg.com/vi/KudedLV0tP0/sddefault.jpg",
            "width": 640
           }
          },
          "title": "TAYLOR SWIFT | THE ERAS TOUR Concert Film Official Trailer"
         },
         "statistics": {
          "commentCount": "19533",
          "favoriteCount": "0",
          "likeCount": "411395",
          "viewCount": "11207600"
         }
        }
       ],
       "kind": "youtube#videoListResponse",
       "pageInfo": {
        "resultsPerPage": 33,
        "totalResults": 33
       }
      },
      "text/plain": [
       "<IPython.core.display.JSON object>"
      ]
     },
     "execution_count": 28,
     "metadata": {
      "application/json": {
       "expanded": false,
       "root": "root"
      }
     },
     "output_type": "execute_result"
    }
   ],
   "source": [
    "#request data from youtube API\n",
    "api_service_name = \"youtube\"\n",
    "api_version = \"v3\"\n",
    "\n",
    "youtube = googleapiclient.discovery.build(\n",
    "    api_service_name, api_version, developerKey=api_key)\n",
    "\n",
    "request = youtube.videos().list(\n",
    "    part=\"snippet,contentDetails,statistics\",\n",
    "    id= video_id\n",
    ")\n",
    "response = request.execute()\n",
    "\n",
    "JSON(response)\n"
   ]
  },
  {
   "cell_type": "code",
   "execution_count": 29,
   "id": "e3625925",
   "metadata": {},
   "outputs": [
    {
     "data": {
      "text/plain": [
       "[{'videoName': 'Barbie | Main Trailer', 'views': '79686363'},\n",
       " {'videoName': 'The Super Mario Bros. Movie | Official Trailer',\n",
       "  'views': '30350430'},\n",
       " {'videoName': 'Oppenheimer | New Trailer', 'views': '65931810'},\n",
       " {'videoName': 'Oppenheimer | Official Trailer', 'views': '46959315'},\n",
       " {'videoName': 'Marvel Studios’ Guardians of the Galaxy Vol. 3 | Official Trailer',\n",
       "  'views': '33736161'},\n",
       " {'videoName': 'Marvel Studios’ Guardians of the Galaxy Vol. 3 | New Trailer',\n",
       "  'views': '19273973'},\n",
       " {'videoName': 'FAST X | Official Trailer', 'views': '40756623'},\n",
       " {'videoName': 'FAST X | Official Trailer 2', 'views': '30998463'},\n",
       " {'videoName': 'FAST X | Final Trailer', 'views': '13898505'},\n",
       " {'videoName': 'SPIDER-MAN: ACROSS THE SPIDER-VERSE - Official Trailer (HD)',\n",
       "  'views': '36568841'},\n",
       " {'videoName': 'SPIDER-MAN: ACROSS THE SPIDER-VERSE - Official Trailer #2 (HD)',\n",
       "  'views': '50792363'},\n",
       " {'videoName': 'The Little Mermaid | Official Trailer', 'views': '26018835'},\n",
       " {'videoName': 'Mission: Impossible – Dead Reckoning Part One | Official Trailer (2023 Movie) - Tom Cruise',\n",
       "  'views': '28850466'},\n",
       " {'videoName': 'Mission: Impossible – Dead Reckoning Part One | Final Trailer (2023 Movie) - Tom Cruise',\n",
       "  'views': '5893070'},\n",
       " {'videoName': 'Elemental | Official Trailer', 'views': '46500823'},\n",
       " {'videoName': 'Marvel Studios’ Ant-Man and The Wasp: Quantumania | Official Trailer',\n",
       "  'views': '33627552'},\n",
       " {'videoName': 'Marvel Studios’ Ant-Man and The Wasp: Quantumania | New Trailer',\n",
       "  'views': '26184546'},\n",
       " {'videoName': 'John Wick: Chapter 4 (2023 Movie) Official Trailer – Keanu Reeves, Donnie Yen, Bill Skarsgård',\n",
       "  'views': '49377024'},\n",
       " {'videoName': 'John Wick: Chapter 4 (2023) Final Trailer – Keanu Reeves, Donnie Yen, Bill Skarsgård',\n",
       "  'views': '31271003'},\n",
       " {'videoName': 'Transformers: Rise of the Beasts | Official Trailer (2023 Movie)',\n",
       "  'views': '32560453'},\n",
       " {'videoName': 'Transformers: Rise of the Beasts | Official Final Trailer (2023 Movie)',\n",
       "  'views': '11674862'},\n",
       " {'videoName': 'MEG 2: THE TRENCH - OFFICIAL TRAILER', 'views': '46893076'},\n",
       " {'videoName': 'Indiana Jones and the Dial of Destiny | Official Trailer',\n",
       "  'views': '16360565'},\n",
       " {'videoName': 'The Hunger Games: The Ballad of Songbirds & Snakes (2023) Official Trailer',\n",
       "  'views': '23192324'},\n",
       " {'videoName': 'The Hunger Games: The Ballad of Songbirds & Snakes (2023) Official Trailer 2',\n",
       "  'views': '28869360'},\n",
       " {'videoName': \"Five Nights At Freddy's | Official Trailer\",\n",
       "  'views': '40304116'},\n",
       " {'videoName': \"Five Nights at Freddy's | Official Trailer 2\",\n",
       "  'views': '23623525'},\n",
       " {'videoName': 'CREED III | Official Trailer', 'views': '18575873'},\n",
       " {'videoName': 'CREED III | Final Trailer', 'views': '19081579'},\n",
       " {'videoName': 'The Flash – Official Trailer', 'views': '20722789'},\n",
       " {'videoName': 'The Flash - Official Trailer 2', 'views': '32389588'},\n",
       " {'videoName': 'THE NUN II | OFFICIAL TRAILER', 'views': '41591862'},\n",
       " {'videoName': 'TAYLOR SWIFT | THE ERAS TOUR Concert Film Official Trailer',\n",
       "  'views': '11207600'}]"
      ]
     },
     "execution_count": 29,
     "metadata": {},
     "output_type": "execute_result"
    }
   ],
   "source": [
    "#loop through videos\n",
    "trailer_data = []\n",
    "\n",
    "for item in response['items']:\n",
    "    data = {'videoName': item['snippet']['title'],\n",
    "           'views': item['statistics']['viewCount'],\n",
    "           }\n",
    "    trailer_data.append(data)\n",
    "    \n",
    "trailer_data\n"
   ]
  },
  {
   "cell_type": "code",
   "execution_count": 30,
   "id": "3361ead3",
   "metadata": {},
   "outputs": [
    {
     "data": {
      "text/html": [
       "<div>\n",
       "<style scoped>\n",
       "    .dataframe tbody tr th:only-of-type {\n",
       "        vertical-align: middle;\n",
       "    }\n",
       "\n",
       "    .dataframe tbody tr th {\n",
       "        vertical-align: top;\n",
       "    }\n",
       "\n",
       "    .dataframe thead th {\n",
       "        text-align: right;\n",
       "    }\n",
       "</style>\n",
       "<table border=\"1\" class=\"dataframe\">\n",
       "  <thead>\n",
       "    <tr style=\"text-align: right;\">\n",
       "      <th></th>\n",
       "      <th>videoName</th>\n",
       "      <th>views</th>\n",
       "    </tr>\n",
       "  </thead>\n",
       "  <tbody>\n",
       "    <tr>\n",
       "      <th>0</th>\n",
       "      <td>Barbie | Main Trailer</td>\n",
       "      <td>79686363</td>\n",
       "    </tr>\n",
       "    <tr>\n",
       "      <th>1</th>\n",
       "      <td>The Super Mario Bros. Movie | Official Trailer</td>\n",
       "      <td>30350430</td>\n",
       "    </tr>\n",
       "    <tr>\n",
       "      <th>2</th>\n",
       "      <td>Oppenheimer | New Trailer</td>\n",
       "      <td>65931810</td>\n",
       "    </tr>\n",
       "    <tr>\n",
       "      <th>3</th>\n",
       "      <td>Oppenheimer | Official Trailer</td>\n",
       "      <td>46959315</td>\n",
       "    </tr>\n",
       "    <tr>\n",
       "      <th>4</th>\n",
       "      <td>Marvel Studios’ Guardians of the Galaxy Vol. 3...</td>\n",
       "      <td>33736161</td>\n",
       "    </tr>\n",
       "    <tr>\n",
       "      <th>5</th>\n",
       "      <td>Marvel Studios’ Guardians of the Galaxy Vol. 3...</td>\n",
       "      <td>19273973</td>\n",
       "    </tr>\n",
       "    <tr>\n",
       "      <th>6</th>\n",
       "      <td>FAST X | Official Trailer</td>\n",
       "      <td>40756623</td>\n",
       "    </tr>\n",
       "    <tr>\n",
       "      <th>7</th>\n",
       "      <td>FAST X | Official Trailer 2</td>\n",
       "      <td>30998463</td>\n",
       "    </tr>\n",
       "    <tr>\n",
       "      <th>8</th>\n",
       "      <td>FAST X | Final Trailer</td>\n",
       "      <td>13898505</td>\n",
       "    </tr>\n",
       "    <tr>\n",
       "      <th>9</th>\n",
       "      <td>SPIDER-MAN: ACROSS THE SPIDER-VERSE - Official...</td>\n",
       "      <td>36568841</td>\n",
       "    </tr>\n",
       "    <tr>\n",
       "      <th>10</th>\n",
       "      <td>SPIDER-MAN: ACROSS THE SPIDER-VERSE - Official...</td>\n",
       "      <td>50792363</td>\n",
       "    </tr>\n",
       "    <tr>\n",
       "      <th>11</th>\n",
       "      <td>The Little Mermaid | Official Trailer</td>\n",
       "      <td>26018835</td>\n",
       "    </tr>\n",
       "    <tr>\n",
       "      <th>12</th>\n",
       "      <td>Mission: Impossible – Dead Reckoning Part One ...</td>\n",
       "      <td>28850466</td>\n",
       "    </tr>\n",
       "    <tr>\n",
       "      <th>13</th>\n",
       "      <td>Mission: Impossible – Dead Reckoning Part One ...</td>\n",
       "      <td>5893070</td>\n",
       "    </tr>\n",
       "    <tr>\n",
       "      <th>14</th>\n",
       "      <td>Elemental | Official Trailer</td>\n",
       "      <td>46500823</td>\n",
       "    </tr>\n",
       "    <tr>\n",
       "      <th>15</th>\n",
       "      <td>Marvel Studios’ Ant-Man and The Wasp: Quantuma...</td>\n",
       "      <td>33627552</td>\n",
       "    </tr>\n",
       "    <tr>\n",
       "      <th>16</th>\n",
       "      <td>Marvel Studios’ Ant-Man and The Wasp: Quantuma...</td>\n",
       "      <td>26184546</td>\n",
       "    </tr>\n",
       "    <tr>\n",
       "      <th>17</th>\n",
       "      <td>John Wick: Chapter 4 (2023 Movie) Official Tra...</td>\n",
       "      <td>49377024</td>\n",
       "    </tr>\n",
       "    <tr>\n",
       "      <th>18</th>\n",
       "      <td>John Wick: Chapter 4 (2023) Final Trailer – Ke...</td>\n",
       "      <td>31271003</td>\n",
       "    </tr>\n",
       "    <tr>\n",
       "      <th>19</th>\n",
       "      <td>Transformers: Rise of the Beasts | Official Tr...</td>\n",
       "      <td>32560453</td>\n",
       "    </tr>\n",
       "    <tr>\n",
       "      <th>20</th>\n",
       "      <td>Transformers: Rise of the Beasts | Official Fi...</td>\n",
       "      <td>11674862</td>\n",
       "    </tr>\n",
       "    <tr>\n",
       "      <th>21</th>\n",
       "      <td>MEG 2: THE TRENCH - OFFICIAL TRAILER</td>\n",
       "      <td>46893076</td>\n",
       "    </tr>\n",
       "    <tr>\n",
       "      <th>22</th>\n",
       "      <td>Indiana Jones and the Dial of Destiny | Offici...</td>\n",
       "      <td>16360565</td>\n",
       "    </tr>\n",
       "    <tr>\n",
       "      <th>23</th>\n",
       "      <td>The Hunger Games: The Ballad of Songbirds &amp; Sn...</td>\n",
       "      <td>23192324</td>\n",
       "    </tr>\n",
       "    <tr>\n",
       "      <th>24</th>\n",
       "      <td>The Hunger Games: The Ballad of Songbirds &amp; Sn...</td>\n",
       "      <td>28869360</td>\n",
       "    </tr>\n",
       "    <tr>\n",
       "      <th>25</th>\n",
       "      <td>Five Nights At Freddy's | Official Trailer</td>\n",
       "      <td>40304116</td>\n",
       "    </tr>\n",
       "    <tr>\n",
       "      <th>26</th>\n",
       "      <td>Five Nights at Freddy's | Official Trailer 2</td>\n",
       "      <td>23623525</td>\n",
       "    </tr>\n",
       "    <tr>\n",
       "      <th>27</th>\n",
       "      <td>CREED III | Official Trailer</td>\n",
       "      <td>18575873</td>\n",
       "    </tr>\n",
       "    <tr>\n",
       "      <th>28</th>\n",
       "      <td>CREED III | Final Trailer</td>\n",
       "      <td>19081579</td>\n",
       "    </tr>\n",
       "    <tr>\n",
       "      <th>29</th>\n",
       "      <td>The Flash – Official Trailer</td>\n",
       "      <td>20722789</td>\n",
       "    </tr>\n",
       "    <tr>\n",
       "      <th>30</th>\n",
       "      <td>The Flash - Official Trailer 2</td>\n",
       "      <td>32389588</td>\n",
       "    </tr>\n",
       "    <tr>\n",
       "      <th>31</th>\n",
       "      <td>THE NUN II | OFFICIAL TRAILER</td>\n",
       "      <td>41591862</td>\n",
       "    </tr>\n",
       "    <tr>\n",
       "      <th>32</th>\n",
       "      <td>TAYLOR SWIFT | THE ERAS TOUR Concert Film Offi...</td>\n",
       "      <td>11207600</td>\n",
       "    </tr>\n",
       "  </tbody>\n",
       "</table>\n",
       "</div>"
      ],
      "text/plain": [
       "                                            videoName     views\n",
       "0                               Barbie | Main Trailer  79686363\n",
       "1      The Super Mario Bros. Movie | Official Trailer  30350430\n",
       "2                           Oppenheimer | New Trailer  65931810\n",
       "3                      Oppenheimer | Official Trailer  46959315\n",
       "4   Marvel Studios’ Guardians of the Galaxy Vol. 3...  33736161\n",
       "5   Marvel Studios’ Guardians of the Galaxy Vol. 3...  19273973\n",
       "6                           FAST X | Official Trailer  40756623\n",
       "7                         FAST X | Official Trailer 2  30998463\n",
       "8                              FAST X | Final Trailer  13898505\n",
       "9   SPIDER-MAN: ACROSS THE SPIDER-VERSE - Official...  36568841\n",
       "10  SPIDER-MAN: ACROSS THE SPIDER-VERSE - Official...  50792363\n",
       "11              The Little Mermaid | Official Trailer  26018835\n",
       "12  Mission: Impossible – Dead Reckoning Part One ...  28850466\n",
       "13  Mission: Impossible – Dead Reckoning Part One ...   5893070\n",
       "14                       Elemental | Official Trailer  46500823\n",
       "15  Marvel Studios’ Ant-Man and The Wasp: Quantuma...  33627552\n",
       "16  Marvel Studios’ Ant-Man and The Wasp: Quantuma...  26184546\n",
       "17  John Wick: Chapter 4 (2023 Movie) Official Tra...  49377024\n",
       "18  John Wick: Chapter 4 (2023) Final Trailer – Ke...  31271003\n",
       "19  Transformers: Rise of the Beasts | Official Tr...  32560453\n",
       "20  Transformers: Rise of the Beasts | Official Fi...  11674862\n",
       "21               MEG 2: THE TRENCH - OFFICIAL TRAILER  46893076\n",
       "22  Indiana Jones and the Dial of Destiny | Offici...  16360565\n",
       "23  The Hunger Games: The Ballad of Songbirds & Sn...  23192324\n",
       "24  The Hunger Games: The Ballad of Songbirds & Sn...  28869360\n",
       "25         Five Nights At Freddy's | Official Trailer  40304116\n",
       "26       Five Nights at Freddy's | Official Trailer 2  23623525\n",
       "27                       CREED III | Official Trailer  18575873\n",
       "28                          CREED III | Final Trailer  19081579\n",
       "29                       The Flash – Official Trailer  20722789\n",
       "30                     The Flash - Official Trailer 2  32389588\n",
       "31                      THE NUN II | OFFICIAL TRAILER  41591862\n",
       "32  TAYLOR SWIFT | THE ERAS TOUR Concert Film Offi...  11207600"
      ]
     },
     "execution_count": 30,
     "metadata": {},
     "output_type": "execute_result"
    }
   ],
   "source": [
    "#Convert to dataframe\n",
    "trailer_data_df = pd.DataFrame(trailer_data)\n",
    "trailer_data_df"
   ]
  },
  {
   "cell_type": "code",
   "execution_count": 31,
   "id": "ecbbb32d-188e-4b37-842a-e9bf19a9a452",
   "metadata": {
    "tags": []
   },
   "outputs": [],
   "source": [
    "trailer_data_df.to_csv(\"Resources/trailer_data.csv\", index=False)"
   ]
  },
  {
   "cell_type": "code",
   "execution_count": null,
   "id": "c929ca78",
   "metadata": {},
   "outputs": [],
   "source": []
  },
  {
   "cell_type": "code",
   "execution_count": null,
   "id": "ec51b9e0-615b-4f76-95f5-e2f136ffdb12",
   "metadata": {},
   "outputs": [],
   "source": [
    "# Worldwide movie data"
   ]
  },
  {
   "cell_type": "code",
   "execution_count": 11,
   "id": "9309398b-4361-4c02-82f3-a435e1d6ecc9",
   "metadata": {
    "tags": []
   },
   "outputs": [
    {
     "data": {
      "text/html": [
       "<div>\n",
       "<style scoped>\n",
       "    .dataframe tbody tr th:only-of-type {\n",
       "        vertical-align: middle;\n",
       "    }\n",
       "\n",
       "    .dataframe tbody tr th {\n",
       "        vertical-align: top;\n",
       "    }\n",
       "\n",
       "    .dataframe thead th {\n",
       "        text-align: right;\n",
       "    }\n",
       "</style>\n",
       "<table border=\"1\" class=\"dataframe\">\n",
       "  <thead>\n",
       "    <tr style=\"text-align: right;\">\n",
       "      <th></th>\n",
       "      <th>Rank</th>\n",
       "      <th>Release Group</th>\n",
       "      <th>Worldwide</th>\n",
       "      <th>Domestic</th>\n",
       "      <th>%</th>\n",
       "      <th>Foreign</th>\n",
       "      <th>%.1</th>\n",
       "    </tr>\n",
       "  </thead>\n",
       "  <tbody>\n",
       "    <tr>\n",
       "      <th>0</th>\n",
       "      <td>1</td>\n",
       "      <td>Barbie</td>\n",
       "      <td>$1,441,820,453</td>\n",
       "      <td>$636,220,453</td>\n",
       "      <td>44.1%</td>\n",
       "      <td>$805,600,000</td>\n",
       "      <td>55.9%</td>\n",
       "    </tr>\n",
       "    <tr>\n",
       "      <th>1</th>\n",
       "      <td>2</td>\n",
       "      <td>The Super Mario Bros. Movie</td>\n",
       "      <td>$1,361,365,341</td>\n",
       "      <td>$574,934,330</td>\n",
       "      <td>42.2%</td>\n",
       "      <td>$786,431,011</td>\n",
       "      <td>57.8%</td>\n",
       "    </tr>\n",
       "    <tr>\n",
       "      <th>2</th>\n",
       "      <td>3</td>\n",
       "      <td>Oppenheimer</td>\n",
       "      <td>$952,010,450</td>\n",
       "      <td>$326,076,450</td>\n",
       "      <td>34.3%</td>\n",
       "      <td>$625,934,000</td>\n",
       "      <td>65.7%</td>\n",
       "    </tr>\n",
       "    <tr>\n",
       "      <th>3</th>\n",
       "      <td>4</td>\n",
       "      <td>Guardians of the Galaxy Vol. 3</td>\n",
       "      <td>$845,555,777</td>\n",
       "      <td>$358,995,815</td>\n",
       "      <td>42.5%</td>\n",
       "      <td>$486,559,962</td>\n",
       "      <td>57.5%</td>\n",
       "    </tr>\n",
       "    <tr>\n",
       "      <th>4</th>\n",
       "      <td>5</td>\n",
       "      <td>Fast X</td>\n",
       "      <td>$704,875,015</td>\n",
       "      <td>$146,126,015</td>\n",
       "      <td>20.7%</td>\n",
       "      <td>$558,749,000</td>\n",
       "      <td>79.3%</td>\n",
       "    </tr>\n",
       "    <tr>\n",
       "      <th>...</th>\n",
       "      <td>...</td>\n",
       "      <td>...</td>\n",
       "      <td>...</td>\n",
       "      <td>...</td>\n",
       "      <td>...</td>\n",
       "      <td>...</td>\n",
       "      <td>...</td>\n",
       "    </tr>\n",
       "    <tr>\n",
       "      <th>195</th>\n",
       "      <td>196</td>\n",
       "      <td>The Miracle Club</td>\n",
       "      <td>$6,823,922</td>\n",
       "      <td>$2,402,780</td>\n",
       "      <td>35.2%</td>\n",
       "      <td>$4,421,142</td>\n",
       "      <td>64.8%</td>\n",
       "    </tr>\n",
       "    <tr>\n",
       "      <th>196</th>\n",
       "      <td>197</td>\n",
       "      <td>Dream Scenario</td>\n",
       "      <td>$6,777,038</td>\n",
       "      <td>$5,591,254</td>\n",
       "      <td>82.5%</td>\n",
       "      <td>$1,185,784</td>\n",
       "      <td>17.5%</td>\n",
       "    </tr>\n",
       "    <tr>\n",
       "      <th>197</th>\n",
       "      <td>198</td>\n",
       "      <td>Blue Giant</td>\n",
       "      <td>$6,761,468</td>\n",
       "      <td>$266,645</td>\n",
       "      <td>3.9%</td>\n",
       "      <td>$6,494,823</td>\n",
       "      <td>96.1%</td>\n",
       "    </tr>\n",
       "    <tr>\n",
       "      <th>198</th>\n",
       "      <td>199</td>\n",
       "      <td>Pravednik</td>\n",
       "      <td>$6,758,440</td>\n",
       "      <td>-</td>\n",
       "      <td>-</td>\n",
       "      <td>$6,758,440</td>\n",
       "      <td>100%</td>\n",
       "    </tr>\n",
       "    <tr>\n",
       "      <th>199</th>\n",
       "      <td>200</td>\n",
       "      <td>The Great Escaper</td>\n",
       "      <td>$6,727,346</td>\n",
       "      <td>-</td>\n",
       "      <td>-</td>\n",
       "      <td>$6,727,346</td>\n",
       "      <td>100%</td>\n",
       "    </tr>\n",
       "  </tbody>\n",
       "</table>\n",
       "<p>200 rows × 7 columns</p>\n",
       "</div>"
      ],
      "text/plain": [
       "     Rank                   Release Group       Worldwide      Domestic  \\\n",
       "0       1                          Barbie  $1,441,820,453  $636,220,453   \n",
       "1       2     The Super Mario Bros. Movie  $1,361,365,341  $574,934,330   \n",
       "2       3                     Oppenheimer    $952,010,450  $326,076,450   \n",
       "3       4  Guardians of the Galaxy Vol. 3    $845,555,777  $358,995,815   \n",
       "4       5                          Fast X    $704,875,015  $146,126,015   \n",
       "..    ...                             ...             ...           ...   \n",
       "195   196                The Miracle Club      $6,823,922    $2,402,780   \n",
       "196   197                  Dream Scenario      $6,777,038    $5,591,254   \n",
       "197   198                      Blue Giant      $6,761,468      $266,645   \n",
       "198   199                       Pravednik      $6,758,440             -   \n",
       "199   200               The Great Escaper      $6,727,346             -   \n",
       "\n",
       "         %       Foreign    %.1  \n",
       "0    44.1%  $805,600,000  55.9%  \n",
       "1    42.2%  $786,431,011  57.8%  \n",
       "2    34.3%  $625,934,000  65.7%  \n",
       "3    42.5%  $486,559,962  57.5%  \n",
       "4    20.7%  $558,749,000  79.3%  \n",
       "..     ...           ...    ...  \n",
       "195  35.2%    $4,421,142  64.8%  \n",
       "196  82.5%    $1,185,784  17.5%  \n",
       "197   3.9%    $6,494,823  96.1%  \n",
       "198      -    $6,758,440   100%  \n",
       "199      -    $6,727,346   100%  \n",
       "\n",
       "[200 rows x 7 columns]"
      ]
     },
     "execution_count": 11,
     "metadata": {},
     "output_type": "execute_result"
    }
   ],
   "source": [
    "url = 'https://www.boxofficemojo.com/year/world/?ref_=bo_nb_ydw_tab'\n",
    "response = requests.get(url)\n",
    "worldwide = pd.read_html(response.text)\n",
    "worldwide_df = worldwide[0] \n",
    "worldwide_df"
   ]
  },
  {
   "cell_type": "code",
   "execution_count": 12,
   "id": "09bd3093-b6b4-4f03-9d1f-8953c9331247",
   "metadata": {
    "tags": []
   },
   "outputs": [],
   "source": [
    "draft_worldwide_df = worldwide_df.drop(worldwide_df.index[20:200])\n"
   ]
  },
  {
   "cell_type": "code",
   "execution_count": 25,
   "id": "f93dd11c-9fb8-4ed1-88c0-ca1f1bc6c0cf",
   "metadata": {},
   "outputs": [
    {
     "data": {
      "text/html": [
       "<div>\n",
       "<style scoped>\n",
       "    .dataframe tbody tr th:only-of-type {\n",
       "        vertical-align: middle;\n",
       "    }\n",
       "\n",
       "    .dataframe tbody tr th {\n",
       "        vertical-align: top;\n",
       "    }\n",
       "\n",
       "    .dataframe thead th {\n",
       "        text-align: right;\n",
       "    }\n",
       "</style>\n",
       "<table border=\"1\" class=\"dataframe\">\n",
       "  <thead>\n",
       "    <tr style=\"text-align: right;\">\n",
       "      <th></th>\n",
       "      <th>Rank</th>\n",
       "      <th>Release Group</th>\n",
       "      <th>Worldwide</th>\n",
       "      <th>Domestic</th>\n",
       "      <th>Foreign</th>\n",
       "    </tr>\n",
       "  </thead>\n",
       "  <tbody>\n",
       "    <tr>\n",
       "      <th>0</th>\n",
       "      <td>1</td>\n",
       "      <td>Barbie</td>\n",
       "      <td>$1,441,820,453</td>\n",
       "      <td>$636,220,453</td>\n",
       "      <td>$805,600,000</td>\n",
       "    </tr>\n",
       "    <tr>\n",
       "      <th>1</th>\n",
       "      <td>2</td>\n",
       "      <td>The Super Mario Bros. Movie</td>\n",
       "      <td>$1,361,365,341</td>\n",
       "      <td>$574,934,330</td>\n",
       "      <td>$786,431,011</td>\n",
       "    </tr>\n",
       "    <tr>\n",
       "      <th>2</th>\n",
       "      <td>3</td>\n",
       "      <td>Oppenheimer</td>\n",
       "      <td>$952,010,450</td>\n",
       "      <td>$326,076,450</td>\n",
       "      <td>$625,934,000</td>\n",
       "    </tr>\n",
       "    <tr>\n",
       "      <th>3</th>\n",
       "      <td>4</td>\n",
       "      <td>Guardians of the Galaxy Vol. 3</td>\n",
       "      <td>$845,555,777</td>\n",
       "      <td>$358,995,815</td>\n",
       "      <td>$486,559,962</td>\n",
       "    </tr>\n",
       "    <tr>\n",
       "      <th>4</th>\n",
       "      <td>5</td>\n",
       "      <td>Fast X</td>\n",
       "      <td>$704,875,015</td>\n",
       "      <td>$146,126,015</td>\n",
       "      <td>$558,749,000</td>\n",
       "    </tr>\n",
       "    <tr>\n",
       "      <th>5</th>\n",
       "      <td>6</td>\n",
       "      <td>Spider-Man: Across the Spider-Verse</td>\n",
       "      <td>$690,516,673</td>\n",
       "      <td>$381,311,319</td>\n",
       "      <td>$309,205,354</td>\n",
       "    </tr>\n",
       "    <tr>\n",
       "      <th>6</th>\n",
       "      <td>7</td>\n",
       "      <td>The Little Mermaid</td>\n",
       "      <td>$569,626,289</td>\n",
       "      <td>$298,172,056</td>\n",
       "      <td>$271,454,233</td>\n",
       "    </tr>\n",
       "    <tr>\n",
       "      <th>7</th>\n",
       "      <td>8</td>\n",
       "      <td>Mission: Impossible - Dead Reckoning Part One</td>\n",
       "      <td>$567,535,383</td>\n",
       "      <td>$172,135,383</td>\n",
       "      <td>$395,400,000</td>\n",
       "    </tr>\n",
       "    <tr>\n",
       "      <th>8</th>\n",
       "      <td>9</td>\n",
       "      <td>Elemental</td>\n",
       "      <td>$496,176,105</td>\n",
       "      <td>$154,426,697</td>\n",
       "      <td>$341,749,408</td>\n",
       "    </tr>\n",
       "    <tr>\n",
       "      <th>9</th>\n",
       "      <td>10</td>\n",
       "      <td>Ant-Man and the Wasp: Quantumania</td>\n",
       "      <td>$476,071,180</td>\n",
       "      <td>$214,504,909</td>\n",
       "      <td>$261,566,271</td>\n",
       "    </tr>\n",
       "    <tr>\n",
       "      <th>10</th>\n",
       "      <td>11</td>\n",
       "      <td>John Wick: Chapter 4</td>\n",
       "      <td>$440,146,694</td>\n",
       "      <td>$187,131,806</td>\n",
       "      <td>$253,014,888</td>\n",
       "    </tr>\n",
       "    <tr>\n",
       "      <th>11</th>\n",
       "      <td>12</td>\n",
       "      <td>Transformers: Rise of the Beasts</td>\n",
       "      <td>$438,966,392</td>\n",
       "      <td>$157,066,392</td>\n",
       "      <td>$281,900,000</td>\n",
       "    </tr>\n",
       "    <tr>\n",
       "      <th>12</th>\n",
       "      <td>13</td>\n",
       "      <td>Meg 2: The Trench</td>\n",
       "      <td>$395,000,317</td>\n",
       "      <td>$82,600,317</td>\n",
       "      <td>$312,400,000</td>\n",
       "    </tr>\n",
       "    <tr>\n",
       "      <th>13</th>\n",
       "      <td>14</td>\n",
       "      <td>Indiana Jones and the Dial of Destiny</td>\n",
       "      <td>$383,963,057</td>\n",
       "      <td>$174,480,468</td>\n",
       "      <td>$209,482,589</td>\n",
       "    </tr>\n",
       "    <tr>\n",
       "      <th>14</th>\n",
       "      <td>15</td>\n",
       "      <td>The Hunger Games: The Ballad of Songbirds &amp; Sn...</td>\n",
       "      <td>$299,736,114</td>\n",
       "      <td>$146,173,590</td>\n",
       "      <td>$153,562,524</td>\n",
       "    </tr>\n",
       "    <tr>\n",
       "      <th>15</th>\n",
       "      <td>16</td>\n",
       "      <td>Five Nights at Freddy's</td>\n",
       "      <td>$289,361,620</td>\n",
       "      <td>$137,275,620</td>\n",
       "      <td>$152,086,000</td>\n",
       "    </tr>\n",
       "    <tr>\n",
       "      <th>16</th>\n",
       "      <td>17</td>\n",
       "      <td>Creed III</td>\n",
       "      <td>$275,248,615</td>\n",
       "      <td>$156,248,615</td>\n",
       "      <td>$119,000,000</td>\n",
       "    </tr>\n",
       "    <tr>\n",
       "      <th>17</th>\n",
       "      <td>18</td>\n",
       "      <td>The Flash</td>\n",
       "      <td>$270,633,313</td>\n",
       "      <td>$108,133,313</td>\n",
       "      <td>$162,500,000</td>\n",
       "    </tr>\n",
       "    <tr>\n",
       "      <th>18</th>\n",
       "      <td>19</td>\n",
       "      <td>The Nun II</td>\n",
       "      <td>$268,067,073</td>\n",
       "      <td>$86,267,073</td>\n",
       "      <td>$181,800,000</td>\n",
       "    </tr>\n",
       "    <tr>\n",
       "      <th>19</th>\n",
       "      <td>20</td>\n",
       "      <td>Taylor Swift: The Eras Tour</td>\n",
       "      <td>$250,134,343</td>\n",
       "      <td>$179,444,207</td>\n",
       "      <td>$70,690,136</td>\n",
       "    </tr>\n",
       "  </tbody>\n",
       "</table>\n",
       "</div>"
      ],
      "text/plain": [
       "    Rank                                      Release Group       Worldwide  \\\n",
       "0      1                                             Barbie  $1,441,820,453   \n",
       "1      2                        The Super Mario Bros. Movie  $1,361,365,341   \n",
       "2      3                                        Oppenheimer    $952,010,450   \n",
       "3      4                     Guardians of the Galaxy Vol. 3    $845,555,777   \n",
       "4      5                                             Fast X    $704,875,015   \n",
       "5      6                Spider-Man: Across the Spider-Verse    $690,516,673   \n",
       "6      7                                 The Little Mermaid    $569,626,289   \n",
       "7      8      Mission: Impossible - Dead Reckoning Part One    $567,535,383   \n",
       "8      9                                          Elemental    $496,176,105   \n",
       "9     10                  Ant-Man and the Wasp: Quantumania    $476,071,180   \n",
       "10    11                               John Wick: Chapter 4    $440,146,694   \n",
       "11    12                   Transformers: Rise of the Beasts    $438,966,392   \n",
       "12    13                                  Meg 2: The Trench    $395,000,317   \n",
       "13    14              Indiana Jones and the Dial of Destiny    $383,963,057   \n",
       "14    15  The Hunger Games: The Ballad of Songbirds & Sn...    $299,736,114   \n",
       "15    16                            Five Nights at Freddy's    $289,361,620   \n",
       "16    17                                          Creed III    $275,248,615   \n",
       "17    18                                          The Flash    $270,633,313   \n",
       "18    19                                         The Nun II    $268,067,073   \n",
       "19    20                        Taylor Swift: The Eras Tour    $250,134,343   \n",
       "\n",
       "        Domestic       Foreign  \n",
       "0   $636,220,453  $805,600,000  \n",
       "1   $574,934,330  $786,431,011  \n",
       "2   $326,076,450  $625,934,000  \n",
       "3   $358,995,815  $486,559,962  \n",
       "4   $146,126,015  $558,749,000  \n",
       "5   $381,311,319  $309,205,354  \n",
       "6   $298,172,056  $271,454,233  \n",
       "7   $172,135,383  $395,400,000  \n",
       "8   $154,426,697  $341,749,408  \n",
       "9   $214,504,909  $261,566,271  \n",
       "10  $187,131,806  $253,014,888  \n",
       "11  $157,066,392  $281,900,000  \n",
       "12   $82,600,317  $312,400,000  \n",
       "13  $174,480,468  $209,482,589  \n",
       "14  $146,173,590  $153,562,524  \n",
       "15  $137,275,620  $152,086,000  \n",
       "16  $156,248,615  $119,000,000  \n",
       "17  $108,133,313  $162,500,000  \n",
       "18   $86,267,073  $181,800,000  \n",
       "19  $179,444,207   $70,690,136  "
      ]
     },
     "execution_count": 25,
     "metadata": {},
     "output_type": "execute_result"
    }
   ],
   "source": [
    "clean_worldwide_df = draft_worldwide_df.drop(columns=['%', '%.1'])\n",
    "clean_worldwide_df                      "
   ]
  },
  {
   "cell_type": "code",
   "execution_count": 29,
   "id": "7c1e4499",
   "metadata": {},
   "outputs": [],
   "source": [
    "#clean_worldwide_df = clean_worldwide_df.set_index('Rank')\n"
   ]
  },
  {
   "cell_type": "code",
   "execution_count": 26,
   "id": "1e6ff8d9",
   "metadata": {},
   "outputs": [
    {
     "data": {
      "text/html": [
       "<div>\n",
       "<style scoped>\n",
       "    .dataframe tbody tr th:only-of-type {\n",
       "        vertical-align: middle;\n",
       "    }\n",
       "\n",
       "    .dataframe tbody tr th {\n",
       "        vertical-align: top;\n",
       "    }\n",
       "\n",
       "    .dataframe thead th {\n",
       "        text-align: right;\n",
       "    }\n",
       "</style>\n",
       "<table border=\"1\" class=\"dataframe\">\n",
       "  <thead>\n",
       "    <tr style=\"text-align: right;\">\n",
       "      <th></th>\n",
       "      <th>Rank</th>\n",
       "      <th>Video Name</th>\n",
       "      <th>Worldwide</th>\n",
       "      <th>Domestic</th>\n",
       "      <th>Outside US</th>\n",
       "    </tr>\n",
       "  </thead>\n",
       "  <tbody>\n",
       "    <tr>\n",
       "      <th>0</th>\n",
       "      <td>1</td>\n",
       "      <td>Barbie</td>\n",
       "      <td>$1,441,820,453</td>\n",
       "      <td>$636,220,453</td>\n",
       "      <td>$805,600,000</td>\n",
       "    </tr>\n",
       "    <tr>\n",
       "      <th>1</th>\n",
       "      <td>2</td>\n",
       "      <td>The Super Mario Bros. Movie</td>\n",
       "      <td>$1,361,365,341</td>\n",
       "      <td>$574,934,330</td>\n",
       "      <td>$786,431,011</td>\n",
       "    </tr>\n",
       "    <tr>\n",
       "      <th>2</th>\n",
       "      <td>3</td>\n",
       "      <td>Oppenheimer</td>\n",
       "      <td>$952,010,450</td>\n",
       "      <td>$326,076,450</td>\n",
       "      <td>$625,934,000</td>\n",
       "    </tr>\n",
       "    <tr>\n",
       "      <th>3</th>\n",
       "      <td>4</td>\n",
       "      <td>Guardians of the Galaxy Vol. 3</td>\n",
       "      <td>$845,555,777</td>\n",
       "      <td>$358,995,815</td>\n",
       "      <td>$486,559,962</td>\n",
       "    </tr>\n",
       "    <tr>\n",
       "      <th>4</th>\n",
       "      <td>5</td>\n",
       "      <td>Fast X</td>\n",
       "      <td>$704,875,015</td>\n",
       "      <td>$146,126,015</td>\n",
       "      <td>$558,749,000</td>\n",
       "    </tr>\n",
       "    <tr>\n",
       "      <th>5</th>\n",
       "      <td>6</td>\n",
       "      <td>Spider-Man: Across the Spider-Verse</td>\n",
       "      <td>$690,516,673</td>\n",
       "      <td>$381,311,319</td>\n",
       "      <td>$309,205,354</td>\n",
       "    </tr>\n",
       "    <tr>\n",
       "      <th>6</th>\n",
       "      <td>7</td>\n",
       "      <td>The Little Mermaid</td>\n",
       "      <td>$569,626,289</td>\n",
       "      <td>$298,172,056</td>\n",
       "      <td>$271,454,233</td>\n",
       "    </tr>\n",
       "    <tr>\n",
       "      <th>7</th>\n",
       "      <td>8</td>\n",
       "      <td>Mission: Impossible - Dead Reckoning Part One</td>\n",
       "      <td>$567,535,383</td>\n",
       "      <td>$172,135,383</td>\n",
       "      <td>$395,400,000</td>\n",
       "    </tr>\n",
       "    <tr>\n",
       "      <th>8</th>\n",
       "      <td>9</td>\n",
       "      <td>Elemental</td>\n",
       "      <td>$496,176,105</td>\n",
       "      <td>$154,426,697</td>\n",
       "      <td>$341,749,408</td>\n",
       "    </tr>\n",
       "    <tr>\n",
       "      <th>9</th>\n",
       "      <td>10</td>\n",
       "      <td>Ant-Man and the Wasp: Quantumania</td>\n",
       "      <td>$476,071,180</td>\n",
       "      <td>$214,504,909</td>\n",
       "      <td>$261,566,271</td>\n",
       "    </tr>\n",
       "    <tr>\n",
       "      <th>10</th>\n",
       "      <td>11</td>\n",
       "      <td>John Wick: Chapter 4</td>\n",
       "      <td>$440,146,694</td>\n",
       "      <td>$187,131,806</td>\n",
       "      <td>$253,014,888</td>\n",
       "    </tr>\n",
       "    <tr>\n",
       "      <th>11</th>\n",
       "      <td>12</td>\n",
       "      <td>Transformers: Rise of the Beasts</td>\n",
       "      <td>$438,966,392</td>\n",
       "      <td>$157,066,392</td>\n",
       "      <td>$281,900,000</td>\n",
       "    </tr>\n",
       "    <tr>\n",
       "      <th>12</th>\n",
       "      <td>13</td>\n",
       "      <td>Meg 2: The Trench</td>\n",
       "      <td>$395,000,317</td>\n",
       "      <td>$82,600,317</td>\n",
       "      <td>$312,400,000</td>\n",
       "    </tr>\n",
       "    <tr>\n",
       "      <th>13</th>\n",
       "      <td>14</td>\n",
       "      <td>Indiana Jones and the Dial of Destiny</td>\n",
       "      <td>$383,963,057</td>\n",
       "      <td>$174,480,468</td>\n",
       "      <td>$209,482,589</td>\n",
       "    </tr>\n",
       "    <tr>\n",
       "      <th>14</th>\n",
       "      <td>15</td>\n",
       "      <td>The Hunger Games: The Ballad of Songbirds &amp; Sn...</td>\n",
       "      <td>$299,736,114</td>\n",
       "      <td>$146,173,590</td>\n",
       "      <td>$153,562,524</td>\n",
       "    </tr>\n",
       "    <tr>\n",
       "      <th>15</th>\n",
       "      <td>16</td>\n",
       "      <td>Five Nights at Freddy's</td>\n",
       "      <td>$289,361,620</td>\n",
       "      <td>$137,275,620</td>\n",
       "      <td>$152,086,000</td>\n",
       "    </tr>\n",
       "    <tr>\n",
       "      <th>16</th>\n",
       "      <td>17</td>\n",
       "      <td>Creed III</td>\n",
       "      <td>$275,248,615</td>\n",
       "      <td>$156,248,615</td>\n",
       "      <td>$119,000,000</td>\n",
       "    </tr>\n",
       "    <tr>\n",
       "      <th>17</th>\n",
       "      <td>18</td>\n",
       "      <td>The Flash</td>\n",
       "      <td>$270,633,313</td>\n",
       "      <td>$108,133,313</td>\n",
       "      <td>$162,500,000</td>\n",
       "    </tr>\n",
       "    <tr>\n",
       "      <th>18</th>\n",
       "      <td>19</td>\n",
       "      <td>The Nun II</td>\n",
       "      <td>$268,067,073</td>\n",
       "      <td>$86,267,073</td>\n",
       "      <td>$181,800,000</td>\n",
       "    </tr>\n",
       "    <tr>\n",
       "      <th>19</th>\n",
       "      <td>20</td>\n",
       "      <td>Taylor Swift: The Eras Tour</td>\n",
       "      <td>$250,134,343</td>\n",
       "      <td>$179,444,207</td>\n",
       "      <td>$70,690,136</td>\n",
       "    </tr>\n",
       "  </tbody>\n",
       "</table>\n",
       "</div>"
      ],
      "text/plain": [
       "    Rank                                         Video Name       Worldwide  \\\n",
       "0      1                                             Barbie  $1,441,820,453   \n",
       "1      2                        The Super Mario Bros. Movie  $1,361,365,341   \n",
       "2      3                                        Oppenheimer    $952,010,450   \n",
       "3      4                     Guardians of the Galaxy Vol. 3    $845,555,777   \n",
       "4      5                                             Fast X    $704,875,015   \n",
       "5      6                Spider-Man: Across the Spider-Verse    $690,516,673   \n",
       "6      7                                 The Little Mermaid    $569,626,289   \n",
       "7      8      Mission: Impossible - Dead Reckoning Part One    $567,535,383   \n",
       "8      9                                          Elemental    $496,176,105   \n",
       "9     10                  Ant-Man and the Wasp: Quantumania    $476,071,180   \n",
       "10    11                               John Wick: Chapter 4    $440,146,694   \n",
       "11    12                   Transformers: Rise of the Beasts    $438,966,392   \n",
       "12    13                                  Meg 2: The Trench    $395,000,317   \n",
       "13    14              Indiana Jones and the Dial of Destiny    $383,963,057   \n",
       "14    15  The Hunger Games: The Ballad of Songbirds & Sn...    $299,736,114   \n",
       "15    16                            Five Nights at Freddy's    $289,361,620   \n",
       "16    17                                          Creed III    $275,248,615   \n",
       "17    18                                          The Flash    $270,633,313   \n",
       "18    19                                         The Nun II    $268,067,073   \n",
       "19    20                        Taylor Swift: The Eras Tour    $250,134,343   \n",
       "\n",
       "        Domestic    Outside US  \n",
       "0   $636,220,453  $805,600,000  \n",
       "1   $574,934,330  $786,431,011  \n",
       "2   $326,076,450  $625,934,000  \n",
       "3   $358,995,815  $486,559,962  \n",
       "4   $146,126,015  $558,749,000  \n",
       "5   $381,311,319  $309,205,354  \n",
       "6   $298,172,056  $271,454,233  \n",
       "7   $172,135,383  $395,400,000  \n",
       "8   $154,426,697  $341,749,408  \n",
       "9   $214,504,909  $261,566,271  \n",
       "10  $187,131,806  $253,014,888  \n",
       "11  $157,066,392  $281,900,000  \n",
       "12   $82,600,317  $312,400,000  \n",
       "13  $174,480,468  $209,482,589  \n",
       "14  $146,173,590  $153,562,524  \n",
       "15  $137,275,620  $152,086,000  \n",
       "16  $156,248,615  $119,000,000  \n",
       "17  $108,133,313  $162,500,000  \n",
       "18   $86,267,073  $181,800,000  \n",
       "19  $179,444,207   $70,690,136  "
      ]
     },
     "execution_count": 26,
     "metadata": {},
     "output_type": "execute_result"
    }
   ],
   "source": [
    "clean_worldwide_df.rename(columns={\"Release Group\": \"Video Name\"}, inplace=True)\n",
    "clean_worldwide_df.rename(columns={\"Foreign\": \"Outside US\"}, inplace=True)\n",
    "clean_worldwide_df"
   ]
  },
  {
   "cell_type": "code",
   "execution_count": 27,
   "id": "aabc3e5e",
   "metadata": {},
   "outputs": [],
   "source": [
    "clean_worldwide_df.to_csv(\"Resources/movie_worldwide_data.csv\", index=False)"
   ]
  },
  {
   "cell_type": "code",
   "execution_count": null,
   "id": "7a34b168",
   "metadata": {},
   "outputs": [],
   "source": []
  },
  {
   "cell_type": "code",
   "execution_count": null,
   "id": "fb095822",
   "metadata": {},
   "outputs": [],
   "source": [
    "#Merge top movie and trailer data "
   ]
  },
  {
   "cell_type": "code",
   "execution_count": 20,
   "id": "87f00c1d",
   "metadata": {},
   "outputs": [
    {
     "data": {
      "text/html": [
       "<div>\n",
       "<style scoped>\n",
       "    .dataframe tbody tr th:only-of-type {\n",
       "        vertical-align: middle;\n",
       "    }\n",
       "\n",
       "    .dataframe tbody tr th {\n",
       "        vertical-align: top;\n",
       "    }\n",
       "\n",
       "    .dataframe thead th {\n",
       "        text-align: right;\n",
       "    }\n",
       "</style>\n",
       "<table border=\"1\" class=\"dataframe\">\n",
       "  <thead>\n",
       "    <tr style=\"text-align: right;\">\n",
       "      <th></th>\n",
       "      <th>videoname</th>\n",
       "      <th>viewcount</th>\n",
       "    </tr>\n",
       "  </thead>\n",
       "  <tbody>\n",
       "    <tr>\n",
       "      <th>0</th>\n",
       "      <td>Barbie</td>\n",
       "      <td>79686363</td>\n",
       "    </tr>\n",
       "    <tr>\n",
       "      <th>1</th>\n",
       "      <td>The Super Mario Bros. Movie</td>\n",
       "      <td>30350430</td>\n",
       "    </tr>\n",
       "    <tr>\n",
       "      <th>2</th>\n",
       "      <td>Oppenheimer</td>\n",
       "      <td>112891125</td>\n",
       "    </tr>\n",
       "    <tr>\n",
       "      <th>3</th>\n",
       "      <td>Guardian of the Galaxy Vol.3</td>\n",
       "      <td>53010134</td>\n",
       "    </tr>\n",
       "    <tr>\n",
       "      <th>4</th>\n",
       "      <td>Fast X</td>\n",
       "      <td>85653591</td>\n",
       "    </tr>\n",
       "  </tbody>\n",
       "</table>\n",
       "</div>"
      ],
      "text/plain": [
       "                      videoname  viewcount\n",
       "0                        Barbie   79686363\n",
       "1   The Super Mario Bros. Movie   30350430\n",
       "2                   Oppenheimer  112891125\n",
       "3  Guardian of the Galaxy Vol.3   53010134\n",
       "4                        Fast X   85653591"
      ]
     },
     "execution_count": 20,
     "metadata": {},
     "output_type": "execute_result"
    }
   ],
   "source": [
    "#Load trailer_clean CSV\n",
    "trailer_clean_data_csv = Path(\"Resources/trailer_clean_data.csv\")\n",
    "\n",
    "#Read CSV\n",
    "trailer_clean_data = pd.read_csv(trailer_clean_data_csv)\n",
    "trailer_clean_data.head()\n"
   ]
  },
  {
   "cell_type": "code",
   "execution_count": 21,
   "id": "554665ad",
   "metadata": {},
   "outputs": [
    {
     "data": {
      "text/html": [
       "<div>\n",
       "<style scoped>\n",
       "    .dataframe tbody tr th:only-of-type {\n",
       "        vertical-align: middle;\n",
       "    }\n",
       "\n",
       "    .dataframe tbody tr th {\n",
       "        vertical-align: top;\n",
       "    }\n",
       "\n",
       "    .dataframe thead th {\n",
       "        text-align: right;\n",
       "    }\n",
       "</style>\n",
       "<table border=\"1\" class=\"dataframe\">\n",
       "  <thead>\n",
       "    <tr style=\"text-align: right;\">\n",
       "      <th></th>\n",
       "      <th>Video Name</th>\n",
       "      <th>viewcount</th>\n",
       "    </tr>\n",
       "  </thead>\n",
       "  <tbody>\n",
       "    <tr>\n",
       "      <th>0</th>\n",
       "      <td>Barbie</td>\n",
       "      <td>79686363</td>\n",
       "    </tr>\n",
       "    <tr>\n",
       "      <th>1</th>\n",
       "      <td>The Super Mario Bros. Movie</td>\n",
       "      <td>30350430</td>\n",
       "    </tr>\n",
       "    <tr>\n",
       "      <th>2</th>\n",
       "      <td>Oppenheimer</td>\n",
       "      <td>112891125</td>\n",
       "    </tr>\n",
       "    <tr>\n",
       "      <th>3</th>\n",
       "      <td>Guardian of the Galaxy Vol.3</td>\n",
       "      <td>53010134</td>\n",
       "    </tr>\n",
       "    <tr>\n",
       "      <th>4</th>\n",
       "      <td>Fast X</td>\n",
       "      <td>85653591</td>\n",
       "    </tr>\n",
       "  </tbody>\n",
       "</table>\n",
       "</div>"
      ],
      "text/plain": [
       "                     Video Name  viewcount\n",
       "0                        Barbie   79686363\n",
       "1   The Super Mario Bros. Movie   30350430\n",
       "2                   Oppenheimer  112891125\n",
       "3  Guardian of the Galaxy Vol.3   53010134\n",
       "4                        Fast X   85653591"
      ]
     },
     "execution_count": 21,
     "metadata": {},
     "output_type": "execute_result"
    }
   ],
   "source": [
    "#Rename column video name\n",
    "trailer_clean_data.rename(columns={\"videoname\": \"Video Name\"}, inplace=True)\n",
    "trailer_clean_data.head()"
   ]
  },
  {
   "cell_type": "code",
   "execution_count": 30,
   "id": "325e6e3a",
   "metadata": {},
   "outputs": [
    {
     "data": {
      "text/html": [
       "<div>\n",
       "<style scoped>\n",
       "    .dataframe tbody tr th:only-of-type {\n",
       "        vertical-align: middle;\n",
       "    }\n",
       "\n",
       "    .dataframe tbody tr th {\n",
       "        vertical-align: top;\n",
       "    }\n",
       "\n",
       "    .dataframe thead th {\n",
       "        text-align: right;\n",
       "    }\n",
       "</style>\n",
       "<table border=\"1\" class=\"dataframe\">\n",
       "  <thead>\n",
       "    <tr style=\"text-align: right;\">\n",
       "      <th></th>\n",
       "      <th>Rank</th>\n",
       "      <th>Video Name</th>\n",
       "      <th>Worldwide</th>\n",
       "      <th>Domestic</th>\n",
       "      <th>Outside US</th>\n",
       "      <th>viewcount</th>\n",
       "    </tr>\n",
       "  </thead>\n",
       "  <tbody>\n",
       "    <tr>\n",
       "      <th>0</th>\n",
       "      <td>1</td>\n",
       "      <td>Barbie</td>\n",
       "      <td>$1,441,820,453</td>\n",
       "      <td>$636,220,453</td>\n",
       "      <td>$805,600,000</td>\n",
       "      <td>79686363</td>\n",
       "    </tr>\n",
       "    <tr>\n",
       "      <th>1</th>\n",
       "      <td>2</td>\n",
       "      <td>The Super Mario Bros. Movie</td>\n",
       "      <td>$1,361,365,341</td>\n",
       "      <td>$574,934,330</td>\n",
       "      <td>$786,431,011</td>\n",
       "      <td>30350430</td>\n",
       "    </tr>\n",
       "    <tr>\n",
       "      <th>2</th>\n",
       "      <td>3</td>\n",
       "      <td>Oppenheimer</td>\n",
       "      <td>$952,010,450</td>\n",
       "      <td>$326,076,450</td>\n",
       "      <td>$625,934,000</td>\n",
       "      <td>112891125</td>\n",
       "    </tr>\n",
       "    <tr>\n",
       "      <th>3</th>\n",
       "      <td>5</td>\n",
       "      <td>Fast X</td>\n",
       "      <td>$704,875,015</td>\n",
       "      <td>$146,126,015</td>\n",
       "      <td>$558,749,000</td>\n",
       "      <td>85653591</td>\n",
       "    </tr>\n",
       "    <tr>\n",
       "      <th>4</th>\n",
       "      <td>6</td>\n",
       "      <td>Spider-Man: Across the Spider-Verse</td>\n",
       "      <td>$690,516,673</td>\n",
       "      <td>$381,311,319</td>\n",
       "      <td>$309,205,354</td>\n",
       "      <td>87361204</td>\n",
       "    </tr>\n",
       "  </tbody>\n",
       "</table>\n",
       "</div>"
      ],
      "text/plain": [
       "   Rank                           Video Name       Worldwide      Domestic  \\\n",
       "0     1                               Barbie  $1,441,820,453  $636,220,453   \n",
       "1     2          The Super Mario Bros. Movie  $1,361,365,341  $574,934,330   \n",
       "2     3                          Oppenheimer    $952,010,450  $326,076,450   \n",
       "3     5                               Fast X    $704,875,015  $146,126,015   \n",
       "4     6  Spider-Man: Across the Spider-Verse    $690,516,673  $381,311,319   \n",
       "\n",
       "     Outside US  viewcount  \n",
       "0  $805,600,000   79686363  \n",
       "1  $786,431,011   30350430  \n",
       "2  $625,934,000  112891125  \n",
       "3  $558,749,000   85653591  \n",
       "4  $309,205,354   87361204  "
      ]
     },
     "execution_count": 30,
     "metadata": {},
     "output_type": "execute_result"
    }
   ],
   "source": [
    "#Merge movie_clean and trailer_clean \n",
    "movie_trailer_df = clean_worldwide_df.merge(trailer_clean_data, how='inner', on = 'Video Name')\n",
    "movie_trailer_df.head()"
   ]
  },
  {
   "cell_type": "code",
   "execution_count": 31,
   "id": "86b4b0a2",
   "metadata": {},
   "outputs": [],
   "source": [
    "movie_trailer_df.to_csv(\"Resources/movie_trailer_data.csv\", index=False)"
   ]
  },
  {
   "cell_type": "code",
   "execution_count": null,
   "id": "9591de78",
   "metadata": {},
   "outputs": [],
   "source": []
  }
 ],
 "metadata": {
  "kernelspec": {
   "display_name": "Python 3 (ipykernel)",
   "language": "python",
   "name": "python3"
  },
  "language_info": {
   "codemirror_mode": {
    "name": "ipython",
    "version": 3
   },
   "file_extension": ".py",
   "mimetype": "text/x-python",
   "name": "python",
   "nbconvert_exporter": "python",
   "pygments_lexer": "ipython3",
   "version": "3.10.13"
  }
 },
 "nbformat": 4,
 "nbformat_minor": 5
}
