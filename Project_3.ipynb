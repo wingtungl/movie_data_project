{
 "cells": [
  {
   "cell_type": "code",
   "execution_count": 2,
   "id": "309a0700",
   "metadata": {},
   "outputs": [],
   "source": [
    "import requests\n",
    "from api_keys import api_key\n",
    "import pandas as pd\n",
    "import googleapiclient.discovery\n",
    "import googleapiclient.errors\n",
    "import google_auth_oauthlib.flow\n",
    "import os\n",
    "import json\n",
    "from IPython.display import JSON\n",
    "from pathlib import Path"
   ]
  },
  {
   "cell_type": "code",
   "execution_count": null,
   "id": "01ca45ef",
   "metadata": {},
   "outputs": [],
   "source": [
    "# Movie trailer data from Youtube (as of 12/27)"
   ]
  },
  {
   "cell_type": "code",
   "execution_count": 7,
   "id": "3d780128",
   "metadata": {},
   "outputs": [],
   "source": [
    "#video_id for movie trailers of top 20 movies in 2023 worldwide\n",
    "video_id = ['pBk4NYhWNMM',\n",
    "            'TnGl01FkMMo',\n",
    "            'uYPbbksJxIg',\n",
    "            'bK6ldnjE3Y0',\n",
    "            'u3V5KDHRQvk',\n",
    "            'JqcncLPi9zw',\n",
    "            '32RAq6JzY-w',\n",
    "            'aOb15GVFZxU',\n",
    "            'eoOaKN4qCKw',\n",
    "            'cqGjhVJWtEg',\n",
    "            'shW9i6k8cB0',\n",
    "            'kpGo2_d3oYE',\n",
    "            'avz06PDqDbM',\n",
    "            'HurjfO_TDlQ',\n",
    "            'hXzcyx9V0xw',\n",
    "            'ZlNFpri-Y40',\n",
    "            '5WfTEZJnv_8',\n",
    "            'qEVUtrk8_B4',\n",
    "            'yjRHZEUamCc',\n",
    "            'itnqEauWQZM',\n",
    "            'ZtuFgnxQMrA',\n",
    "            'dG91B3hHyY4',\n",
    "            'eQfMbSe7F2g',\n",
    "            'RDE6Uz73A7g',\n",
    "            'NxW_X4kzeus',\n",
    "            '0VH9WCFV6XQ',\n",
    "            'Z_T0o5uNrlY',\n",
    "            'AHmCH7iB_IM',\n",
    "            'xTaIZo8OJYE',\n",
    "            'hebWYacbdvc',\n",
    "            'r51cYVZWKdY',\n",
    "            'QF-oyCwaArU',\n",
    "            'otNh9bTjXWg',\n",
    "            'wYmtRhKvmVE']"
   ]
  },
  {
   "cell_type": "code",
   "execution_count": 8,
   "id": "208f2ef2",
   "metadata": {},
   "outputs": [
    {
     "data": {
      "application/json": {
       "etag": "52TH25AVfAUpZgWM5sm5aKiIWsg",
       "items": [
        {
         "contentDetails": {
          "caption": "true",
          "contentRating": {},
          "definition": "hd",
          "dimension": "2d",
          "duration": "PT2M42S",
          "licensedContent": false,
          "projection": "rectangular"
         },
         "etag": "JyZ-OQGTqe4XwPUTDyG1vKjx9S8",
         "id": "pBk4NYhWNMM",
         "kind": "youtube#video",
         "snippet": {
          "categoryId": "1",
          "channelId": "UCjmJDM5pRKbUlVIzDYYWb6g",
          "channelTitle": "Warner Bros. Pictures",
          "defaultAudioLanguage": "en-US",
          "defaultLanguage": "en",
          "description": "Giant blowout party ✅\nPlanned choreography ✅\nNew #BarbieTheMovie Trailer ✅\nOnly in Theaters July 21.\n\nTo live in Barbie Land is to be a perfect being in a perfect place.  Unless you have a full-on existential crisis.  Or you’re a Ken.\n\nPre-order/save Barbie The Album: https://barbiethealbum.lnk.to/BTA\n\nFrom Oscar-nominated writer/director Greta Gerwig (“Little Women,” “Lady Bird”) comes “Barbie,” starring Oscar-nominees Margot Robbie (“Bombshell,” “I, Tonya”) and Ryan Gosling (“La La Land,” “Half Nelson”) as Barbie and Ken, alongside America Ferrera (“End of Watch,” the “How to Train Your Dragon” films), Kate McKinnon (“Bombshell,” “Yesterday”), Issa Rae (“The Photograph,” “Insecure”), Rhea Perlman (“I’ll See You in My Dreams,” “Matilda”), and Will Ferrell (the “Anchorman” films, “Talladega Nights”).  The film also stars Michael Cera (“Scott Pilgrim vs. the World,” “Juno”), Ariana Greenblatt (“Avengers: Infinity War,” “65”), Ana Cruz Kayne (“Little Women”), Emma Mackey (“Emily,” “Sex Education”), Hari Nef (“Assassination Nation,” “Transparent”), Alexandra Shipp (the “X-Men” films), Kingsley Ben-Adir (“One Night in Miami,” “Peaky Blinders”), Simu Liu (“Shang-Chi and the Legend of the Ten Rings”), Ncuti Gatwa (“Sex Education”), Scott Evans (“Grace and Frankie”), Jamie Demetriou (“Cruella”), Connor Swindells (“Sex Education,” “Emma.”), Sharon Rooney (“Dumbo,” “Jerk”), Nicola Coughlan (“Bridgerton,” “Derry Girls”), Ritu Arya (“The Umbrella Academy”), Grammy Award-winning singer/songwriter Dua Lipa and Oscar-winner Helen Mirren (“The Queen”).\n\nGerwig directed “Barbie” from a screenplay by Gerwig & Oscar nominee Noah Baumbach (“Marriage Story,” “The Squid and the Whale”), based on Barbie by Mattel.  The film’s producers are Oscar nominee David Heyman (“Marriage Story,” “Gravity”), Robbie, Tom Ackerley and Robbie Brenner, with Gerwig, Baumbach, Ynon Kreiz, Richard Dickson, Michael Sharp, Josey McNamara, Courtenay Valenti, Toby Emmerich and Cate Adams serving as executive producers.\n\nGerwig’s creative team behind the camera included Oscar-nominated director of photography Rodrigo Prieto (“The Irishman,” “Silence,” “Brokeback Mountain”), six-time Oscar-nominated production designer Sarah Greenwood (“Beauty and the Beast,” “Anna Karenina”), editor Nick Houy (“Little Women,” “Lady Bird”), Oscar-winning costume designer Jacqueline Durran (“Little Women,” “Anna Karenina”), visual effects supervisor Glen Pratt (“Paddington 2,” “Beauty and the Beast”) and music supervisor George Drakoulias (“White Noise,” “Marriage Story”), with music by Oscar winners Mark Ronson and Andrew Wyatt (“A Star Is Born”).\n\nWarner Bros. Pictures Presents a Heyday Films Production, a LuckyChap Entertainment Production, a NB/GG Pictures Production, a Mattel Production, “Barbie.”  The film will be distributed worldwide by Warner Bros. Pictures and released in theaters only nationwide on July 21, 2023 and beginning internationally on July 19, 2023.",
          "liveBroadcastContent": "none",
          "localized": {
           "description": "Giant blowout party ✅\nPlanned choreography ✅\nNew #BarbieTheMovie Trailer ✅\nOnly in Theaters July 21.\n\nTo live in Barbie Land is to be a perfect being in a perfect place.  Unless you have a full-on existential crisis.  Or you’re a Ken.\n\nPre-order/save Barbie The Album: https://barbiethealbum.lnk.to/BTA\n\nFrom Oscar-nominated writer/director Greta Gerwig (“Little Women,” “Lady Bird”) comes “Barbie,” starring Oscar-nominees Margot Robbie (“Bombshell,” “I, Tonya”) and Ryan Gosling (“La La Land,” “Half Nelson”) as Barbie and Ken, alongside America Ferrera (“End of Watch,” the “How to Train Your Dragon” films), Kate McKinnon (“Bombshell,” “Yesterday”), Issa Rae (“The Photograph,” “Insecure”), Rhea Perlman (“I’ll See You in My Dreams,” “Matilda”), and Will Ferrell (the “Anchorman” films, “Talladega Nights”).  The film also stars Michael Cera (“Scott Pilgrim vs. the World,” “Juno”), Ariana Greenblatt (“Avengers: Infinity War,” “65”), Ana Cruz Kayne (“Little Women”), Emma Mackey (“Emily,” “Sex Education”), Hari Nef (“Assassination Nation,” “Transparent”), Alexandra Shipp (the “X-Men” films), Kingsley Ben-Adir (“One Night in Miami,” “Peaky Blinders”), Simu Liu (“Shang-Chi and the Legend of the Ten Rings”), Ncuti Gatwa (“Sex Education”), Scott Evans (“Grace and Frankie”), Jamie Demetriou (“Cruella”), Connor Swindells (“Sex Education,” “Emma.”), Sharon Rooney (“Dumbo,” “Jerk”), Nicola Coughlan (“Bridgerton,” “Derry Girls”), Ritu Arya (“The Umbrella Academy”), Grammy Award-winning singer/songwriter Dua Lipa and Oscar-winner Helen Mirren (“The Queen”).\n\nGerwig directed “Barbie” from a screenplay by Gerwig & Oscar nominee Noah Baumbach (“Marriage Story,” “The Squid and the Whale”), based on Barbie by Mattel.  The film’s producers are Oscar nominee David Heyman (“Marriage Story,” “Gravity”), Robbie, Tom Ackerley and Robbie Brenner, with Gerwig, Baumbach, Ynon Kreiz, Richard Dickson, Michael Sharp, Josey McNamara, Courtenay Valenti, Toby Emmerich and Cate Adams serving as executive producers.\n\nGerwig’s creative team behind the camera included Oscar-nominated director of photography Rodrigo Prieto (“The Irishman,” “Silence,” “Brokeback Mountain”), six-time Oscar-nominated production designer Sarah Greenwood (“Beauty and the Beast,” “Anna Karenina”), editor Nick Houy (“Little Women,” “Lady Bird”), Oscar-winning costume designer Jacqueline Durran (“Little Women,” “Anna Karenina”), visual effects supervisor Glen Pratt (“Paddington 2,” “Beauty and the Beast”) and music supervisor George Drakoulias (“White Noise,” “Marriage Story”), with music by Oscar winners Mark Ronson and Andrew Wyatt (“A Star Is Born”).\n\nWarner Bros. Pictures Presents a Heyday Films Production, a LuckyChap Entertainment Production, a NB/GG Pictures Production, a Mattel Production, “Barbie.”  The film will be distributed worldwide by Warner Bros. Pictures and released in theaters only nationwide on July 21, 2023 and beginning internationally on July 19, 2023.",
           "title": "Barbie | Main Trailer"
          },
          "publishedAt": "2023-05-25T16:00:38Z",
          "tags": [
           "America Ferrera",
           "Ariana Greenblatt",
           "Coming Soon",
           "Dua Lipa",
           "Film",
           "Film Trailer",
           "Film Warner",
           "Greta Gerwig",
           "Issa Rae",
           "Kate McKinnon",
           "Margot Robbie",
           "Michael Cera",
           "Movie",
           "Nicola Coughlan",
           "Official Trailer",
           "Rhea Perlman",
           "Ritu Arya",
           "Ryan Gosling",
           "Trailer",
           "Trailer 2022",
           "WB",
           "Warner",
           "Warner Bros",
           "Warner Brothers",
           "Warner Media",
           "Will Ferrell",
           "barbie",
           "barbieandken",
           "barbiemovie",
           "barbiethemovie",
           "gretagerwig",
           "margotrobbie",
           "ryangosling"
          ],
          "thumbnails": {
           "default": {
            "height": 90,
            "url": "https://i.ytimg.com/vi/pBk4NYhWNMM/default.jpg",
            "width": 120
           },
           "high": {
            "height": 360,
            "url": "https://i.ytimg.com/vi/pBk4NYhWNMM/hqdefault.jpg",
            "width": 480
           },
           "maxres": {
            "height": 720,
            "url": "https://i.ytimg.com/vi/pBk4NYhWNMM/maxresdefault.jpg",
            "width": 1280
           },
           "medium": {
            "height": 180,
            "url": "https://i.ytimg.com/vi/pBk4NYhWNMM/mqdefault.jpg",
            "width": 320
           },
           "standard": {
            "height": 480,
            "url": "https://i.ytimg.com/vi/pBk4NYhWNMM/sddefault.jpg",
            "width": 640
           }
          },
          "title": "Barbie | Main Trailer"
         },
         "statistics": {
          "commentCount": "36961",
          "favoriteCount": "0",
          "likeCount": "892863",
          "viewCount": "79922625"
         }
        },
        {
         "contentDetails": {
          "caption": "true",
          "contentRating": {},
          "definition": "hd",
          "dimension": "2d",
          "duration": "PT2M10S",
          "licensedContent": false,
          "projection": "rectangular"
         },
         "etag": "3FeMBJnYxB2OEciLqzThEEib1Ts",
         "id": "TnGl01FkMMo",
         "kind": "youtube#video",
         "snippet": {
          "categoryId": "24",
          "channelId": "UCq7OHvWO6Z3u-LztFdrcU-g",
          "channelTitle": "Illumination",
          "defaultAudioLanguage": "en-US",
          "description": "Warp into the new official #SuperMarioMovie trailer.\n\n--\nThe Super Mario Bros. Movie\nOnly In Theaters April 5, 2023\n\nFacebook: https://uni.pictures/SMBFB\nTwitter: https://uni.pictures/SMBTW\nInstagram: https://uni.pictures/SMBIG\nTikTok: https://uni.pictures/SMBTT\nSite: https://uni.pictures/SMBSite\n\nhttps://www.instagram.com/illuminationent\nhttps://www.facebook.com/illuminationent\nhttps://twitter.com/illumination\n--\n\nFrom Nintendo and Illumination comes a new animated film based on the world of Super Mario Bros.\n \nDirected by Aaron Horvath and Michael Jelenic (collaborators on Teen Titans Go!, Teen Titans Go! To the Movies) from a screenplay by Matthew Fogel (The LEGO Movie 2: The Second Part, Minions: The Rise of Gru), the film stars Chris Pratt as Mario, Anya Taylor-Joy as Princess Peach, Charlie Day as Luigi, Jack Black as Bowser, Keegan-Michael Key as Toad, Seth Rogen as Donkey Kong, Fred Armisen as Cranky Kong, Kevin Michael Richardson as Kamek and Sebastian Maniscalco as Spike.\n \nThe film is produced by #Illumination founder and CEO Chris Meledandri and by Shigeru Miyamoto for #Nintendo. The film will be co-financed by Universal Pictures and Nintendo and released worldwide by Universal Pictures.",
          "liveBroadcastContent": "none",
          "localized": {
           "description": "Warp into the new official #SuperMarioMovie trailer.\n\n--\nThe Super Mario Bros. Movie\nOnly In Theaters April 5, 2023\n\nFacebook: https://uni.pictures/SMBFB\nTwitter: https://uni.pictures/SMBTW\nInstagram: https://uni.pictures/SMBIG\nTikTok: https://uni.pictures/SMBTT\nSite: https://uni.pictures/SMBSite\n\nhttps://www.instagram.com/illuminationent\nhttps://www.facebook.com/illuminationent\nhttps://twitter.com/illumination\n--\n\nFrom Nintendo and Illumination comes a new animated film based on the world of Super Mario Bros.\n \nDirected by Aaron Horvath and Michael Jelenic (collaborators on Teen Titans Go!, Teen Titans Go! To the Movies) from a screenplay by Matthew Fogel (The LEGO Movie 2: The Second Part, Minions: The Rise of Gru), the film stars Chris Pratt as Mario, Anya Taylor-Joy as Princess Peach, Charlie Day as Luigi, Jack Black as Bowser, Keegan-Michael Key as Toad, Seth Rogen as Donkey Kong, Fred Armisen as Cranky Kong, Kevin Michael Richardson as Kamek and Sebastian Maniscalco as Spike.\n \nThe film is produced by #Illumination founder and CEO Chris Meledandri and by Shigeru Miyamoto for #Nintendo. The film will be co-financed by Universal Pictures and Nintendo and released worldwide by Universal Pictures.",
           "title": "The Super Mario Bros. Movie | Official Trailer"
          },
          "publishedAt": "2022-11-29T22:05:04Z",
          "tags": [
           "Minions",
           "Movie",
           "Trailer",
           "Despicable Me",
           "banana",
           "kevin",
           "bob",
           "official",
           "Minion",
           "stuart",
           "Illumination",
           "Illumination Entertainment",
           "minions",
           "movie clip",
           "minionnation",
           "super mario movie",
           "super mario bros",
           "the super mario bros movie",
           "chris pratt",
           "jack black",
           "anya taylor joy",
           "seth rogen",
           "charlie day",
           "keegan michael key",
           "chris pratt mario",
           "toad",
           "peach",
           "donkey kong",
           "bowser",
           "luigi",
           "mario",
           "mushroom kingdom",
           "fred armisen",
           "nintendo",
           "nintendo direct"
          ],
          "thumbnails": {
           "default": {
            "height": 90,
            "url": "https://i.ytimg.com/vi/TnGl01FkMMo/default.jpg",
            "width": 120
           },
           "high": {
            "height": 360,
            "url": "https://i.ytimg.com/vi/TnGl01FkMMo/hqdefault.jpg",
            "width": 480
           },
           "maxres": {
            "height": 720,
            "url": "https://i.ytimg.com/vi/TnGl01FkMMo/maxresdefault.jpg",
            "width": 1280
           },
           "medium": {
            "height": 180,
            "url": "https://i.ytimg.com/vi/TnGl01FkMMo/mqdefault.jpg",
            "width": 320
           },
           "standard": {
            "height": 480,
            "url": "https://i.ytimg.com/vi/TnGl01FkMMo/sddefault.jpg",
            "width": 640
           }
          },
          "title": "The Super Mario Bros. Movie | Official Trailer"
         },
         "statistics": {
          "commentCount": "0",
          "favoriteCount": "0",
          "likeCount": "280674",
          "viewCount": "30401495"
         }
        },
        {
         "contentDetails": {
          "caption": "true",
          "contentRating": {},
          "definition": "hd",
          "dimension": "2d",
          "duration": "PT3M7S",
          "licensedContent": true,
          "projection": "rectangular"
         },
         "etag": "OUHpeMdBAMfQuV3klM209EDEL0g",
         "id": "uYPbbksJxIg",
         "kind": "youtube#video",
         "snippet": {
          "categoryId": "24",
          "channelId": "UCq0OueAsdxH6b8nyAspwViw",
          "channelTitle": "Universal Pictures",
          "defaultAudioLanguage": "en",
          "description": "Oppenheimer - In Theaters 7 21 23\n\nWritten and directed by Christopher Nolan, Oppenheimer is an IMAX®-shot epic thriller that thrusts audiences into the pulse-pounding paradox of the enigmatic man who must risk destroying the world in order to save it. \n \nThe film stars Cillian Murphy as J. Robert Oppenheimer and Emily Blunt as his wife, biologist and botanist Katherine “Kitty” Oppenheimer. Oscar® winner Matt Damon portrays General Leslie Groves Jr., director of the Manhattan Project, and Robert Downey, Jr. plays Lewis Strauss, a founding commissioner of the U.S. Atomic Energy Commission. \n \nAcademy Award® nominee Florence Pugh plays psychiatrist Jean Tatlock, Benny Safdie plays theoretical physicist Edward Teller, Michael Angarano plays Robert Serber and Josh Hartnett plays pioneering American nuclear scientist Ernest Lawrence.\n \nOppenheimer also stars Oscar® winner Rami Malek and reunites Nolan with eight-time Oscar® nominated actor, writer and filmmaker Kenneth Branagh. \n \nThe cast includes Dane DeHaan (Valerian and the City of a Thousand Planets), Dylan Arnold (Halloween franchise), David Krumholtz (The Ballad of Buster Scruggs), Alden Ehrenreich (Solo: A Star Wars Story) and Matthew Modine (The Dark Knight Rises). \n \nThe film is based on the Pulitzer Prize-winning book American Prometheus: The Triumph and Tragedy of J. Robert Oppenheimer by Kai Bird and the late Martin J. Sherwin. The film is produced by Emma Thomas, Atlas Entertainment’s Charles Roven and Christopher Nolan. \n\nOppenheimer is filmed in a combination of IMAX® 65mm and 65mm large-format film photography including, for the first time ever, sections in IMAX® black and white analogue photography. \n\nNolan’s films, including Tenet, Dunkirk, Interstellar, Inception and The Dark Knight trilogy, have earned more than $5 billion at the global box office and have been awarded 11 Oscars and 36 nominations, including two Best Picture nominations. \n\nSocial Handles:\nIG: https://www.instagram.com/oppenheimermovie    \nTW: https://www.twitter.com/@oppenheimerfilm  \nFB: https://www.facebook.com/OppenheimerMovie \nReddit: https://www.reddit.com/user/OppenheimerMovie/\nTwitch: https://www.twitch.tv/oppenheimermovie\nWebsite: https://www.OppenheimerMovie.com   \n#Oppenheimer",
          "liveBroadcastContent": "none",
          "localized": {
           "description": "Oppenheimer - In Theaters 7 21 23\n\nWritten and directed by Christopher Nolan, Oppenheimer is an IMAX®-shot epic thriller that thrusts audiences into the pulse-pounding paradox of the enigmatic man who must risk destroying the world in order to save it. \n \nThe film stars Cillian Murphy as J. Robert Oppenheimer and Emily Blunt as his wife, biologist and botanist Katherine “Kitty” Oppenheimer. Oscar® winner Matt Damon portrays General Leslie Groves Jr., director of the Manhattan Project, and Robert Downey, Jr. plays Lewis Strauss, a founding commissioner of the U.S. Atomic Energy Commission. \n \nAcademy Award® nominee Florence Pugh plays psychiatrist Jean Tatlock, Benny Safdie plays theoretical physicist Edward Teller, Michael Angarano plays Robert Serber and Josh Hartnett plays pioneering American nuclear scientist Ernest Lawrence.\n \nOppenheimer also stars Oscar® winner Rami Malek and reunites Nolan with eight-time Oscar® nominated actor, writer and filmmaker Kenneth Branagh. \n \nThe cast includes Dane DeHaan (Valerian and the City of a Thousand Planets), Dylan Arnold (Halloween franchise), David Krumholtz (The Ballad of Buster Scruggs), Alden Ehrenreich (Solo: A Star Wars Story) and Matthew Modine (The Dark Knight Rises). \n \nThe film is based on the Pulitzer Prize-winning book American Prometheus: The Triumph and Tragedy of J. Robert Oppenheimer by Kai Bird and the late Martin J. Sherwin. The film is produced by Emma Thomas, Atlas Entertainment’s Charles Roven and Christopher Nolan. \n\nOppenheimer is filmed in a combination of IMAX® 65mm and 65mm large-format film photography including, for the first time ever, sections in IMAX® black and white analogue photography. \n\nNolan’s films, including Tenet, Dunkirk, Interstellar, Inception and The Dark Knight trilogy, have earned more than $5 billion at the global box office and have been awarded 11 Oscars and 36 nominations, including two Best Picture nominations. \n\nSocial Handles:\nIG: https://www.instagram.com/oppenheimermovie    \nTW: https://www.twitter.com/@oppenheimerfilm  \nFB: https://www.facebook.com/OppenheimerMovie \nReddit: https://www.reddit.com/user/OppenheimerMovie/\nTwitch: https://www.twitch.tv/oppenheimermovie\nWebsite: https://www.OppenheimerMovie.com   \n#Oppenheimer",
           "title": "Oppenheimer | New Trailer"
          },
          "publishedAt": "2023-05-08T07:01:04Z",
          "thumbnails": {
           "default": {
            "height": 90,
            "url": "https://i.ytimg.com/vi/uYPbbksJxIg/default.jpg",
            "width": 120
           },
           "high": {
            "height": 360,
            "url": "https://i.ytimg.com/vi/uYPbbksJxIg/hqdefault.jpg",
            "width": 480
           },
           "maxres": {
            "height": 720,
            "url": "https://i.ytimg.com/vi/uYPbbksJxIg/maxresdefault.jpg",
            "width": 1280
           },
           "medium": {
            "height": 180,
            "url": "https://i.ytimg.com/vi/uYPbbksJxIg/mqdefault.jpg",
            "width": 320
           },
           "standard": {
            "height": 480,
            "url": "https://i.ytimg.com/vi/uYPbbksJxIg/sddefault.jpg",
            "width": 640
           }
          },
          "title": "Oppenheimer | New Trailer"
         },
         "statistics": {
          "commentCount": "32247",
          "favoriteCount": "0",
          "likeCount": "798070",
          "viewCount": "66095962"
         }
        },
        {
         "contentDetails": {
          "caption": "true",
          "contentRating": {},
          "definition": "hd",
          "dimension": "2d",
          "duration": "PT2M3S",
          "licensedContent": true,
          "projection": "rectangular"
         },
         "etag": "LGSZMhblUjUzAeVsElNC4-Tv970",
         "id": "bK6ldnjE3Y0",
         "kind": "youtube#video",
         "snippet": {
          "categoryId": "24",
          "channelId": "UCq0OueAsdxH6b8nyAspwViw",
          "channelTitle": "Universal Pictures",
          "defaultAudioLanguage": "en",
          "description": "Oppenheimer - Only In Theaters 7 21 23\n\nWritten and directed by Christopher Nolan, Oppenheimer is an IMAX®-shot epic thriller that thrusts audiences into the pulse-pounding paradox of the enigmatic man who must risk destroying the world in order to save it. \n \nThe film stars Cillian Murphy as J. Robert Oppenheimer and Emily Blunt as his wife, biologist and botanist Katherine “Kitty” Oppenheimer. Oscar® winner Matt Damon portrays General Leslie Groves Jr., director of the Manhattan Project, and Robert Downey, Jr. plays Lewis Strauss, a founding commissioner of the U.S. Atomic Energy Commission. \n \nAcademy Award® nominee Florence Pugh plays psychiatrist Jean Tatlock, Benny Safdie plays theoretical physicist Edward Teller, Michael Angarano plays Robert Serber and Josh Hartnett plays pioneering American nuclear scientist Ernest Lawrence.\n \nOppenheimer also stars Oscar® winner Rami Malek and reunites Nolan with eight-time Oscar® nominated actor, writer and filmmaker Kenneth Branagh. \n \nThe cast includes Dane DeHaan (Valerian and the City of a Thousand Planets), Dylan Arnold (Halloween franchise), David Krumholtz (The Ballad of Buster Scruggs), Alden Ehrenreich (Solo: A Star Wars Story) and Matthew Modine (The Dark Knight Rises). \n \nThe film is based on the Pulitzer Prize-winning book American Prometheus: The Triumph and Tragedy of J. Robert Oppenheimer by Kai Bird and the late Martin J. Sherwin. The film is produced by Emma Thomas, Atlas Entertainment’s Charles Roven and Christopher Nolan. \n\nOppenheimer is filmed in a combination of IMAX® 65mm and 65mm large-format film photography including, for the first time ever, sections in IMAX® black and white analogue photography. \n\nNolan’s films, including Tenet, Dunkirk, Interstellar, Inception and The Dark Knight trilogy, have earned more than $5 billion at the global box office and have been awarded 11 Oscars and 36 nominations, including two Best Picture nominations. \n\nSocial Handles:\nIG: https://www.instagram.com/oppenheimermovie    \nTW: https://www.twitter.com/@oppenheimerfilm  \nFB: https://www.facebook.com/OppenheimerMovie \nReddit: https://www.reddit.com/user/OppenheimerMovie/\nTwitch: https://www.twitch.tv/oppenheimermovie\nWebsite: https://www.OppenheimerMovie.com   \n#Oppenheimer",
          "liveBroadcastContent": "none",
          "localized": {
           "description": "Oppenheimer - Only In Theaters 7 21 23\n\nWritten and directed by Christopher Nolan, Oppenheimer is an IMAX®-shot epic thriller that thrusts audiences into the pulse-pounding paradox of the enigmatic man who must risk destroying the world in order to save it. \n \nThe film stars Cillian Murphy as J. Robert Oppenheimer and Emily Blunt as his wife, biologist and botanist Katherine “Kitty” Oppenheimer. Oscar® winner Matt Damon portrays General Leslie Groves Jr., director of the Manhattan Project, and Robert Downey, Jr. plays Lewis Strauss, a founding commissioner of the U.S. Atomic Energy Commission. \n \nAcademy Award® nominee Florence Pugh plays psychiatrist Jean Tatlock, Benny Safdie plays theoretical physicist Edward Teller, Michael Angarano plays Robert Serber and Josh Hartnett plays pioneering American nuclear scientist Ernest Lawrence.\n \nOppenheimer also stars Oscar® winner Rami Malek and reunites Nolan with eight-time Oscar® nominated actor, writer and filmmaker Kenneth Branagh. \n \nThe cast includes Dane DeHaan (Valerian and the City of a Thousand Planets), Dylan Arnold (Halloween franchise), David Krumholtz (The Ballad of Buster Scruggs), Alden Ehrenreich (Solo: A Star Wars Story) and Matthew Modine (The Dark Knight Rises). \n \nThe film is based on the Pulitzer Prize-winning book American Prometheus: The Triumph and Tragedy of J. Robert Oppenheimer by Kai Bird and the late Martin J. Sherwin. The film is produced by Emma Thomas, Atlas Entertainment’s Charles Roven and Christopher Nolan. \n\nOppenheimer is filmed in a combination of IMAX® 65mm and 65mm large-format film photography including, for the first time ever, sections in IMAX® black and white analogue photography. \n\nNolan’s films, including Tenet, Dunkirk, Interstellar, Inception and The Dark Knight trilogy, have earned more than $5 billion at the global box office and have been awarded 11 Oscars and 36 nominations, including two Best Picture nominations. \n\nSocial Handles:\nIG: https://www.instagram.com/oppenheimermovie    \nTW: https://www.twitter.com/@oppenheimerfilm  \nFB: https://www.facebook.com/OppenheimerMovie \nReddit: https://www.reddit.com/user/OppenheimerMovie/\nTwitch: https://www.twitch.tv/oppenheimermovie\nWebsite: https://www.OppenheimerMovie.com   \n#Oppenheimer",
           "title": "Oppenheimer | Official Trailer"
          },
          "publishedAt": "2022-12-19T00:29:01Z",
          "thumbnails": {
           "default": {
            "height": 90,
            "url": "https://i.ytimg.com/vi/bK6ldnjE3Y0/default.jpg",
            "width": 120
           },
           "high": {
            "height": 360,
            "url": "https://i.ytimg.com/vi/bK6ldnjE3Y0/hqdefault.jpg",
            "width": 480
           },
           "maxres": {
            "height": 720,
            "url": "https://i.ytimg.com/vi/bK6ldnjE3Y0/maxresdefault.jpg",
            "width": 1280
           },
           "medium": {
            "height": 180,
            "url": "https://i.ytimg.com/vi/bK6ldnjE3Y0/mqdefault.jpg",
            "width": 320
           },
           "standard": {
            "height": 480,
            "url": "https://i.ytimg.com/vi/bK6ldnjE3Y0/sddefault.jpg",
            "width": 640
           }
          },
          "title": "Oppenheimer | Official Trailer"
         },
         "statistics": {
          "commentCount": "16643",
          "favoriteCount": "0",
          "likeCount": "429674",
          "viewCount": "47001163"
         }
        },
        {
         "contentDetails": {
          "caption": "true",
          "contentRating": {},
          "definition": "hd",
          "dimension": "2d",
          "duration": "PT1M57S",
          "licensedContent": true,
          "projection": "rectangular"
         },
         "etag": "w8VW75OwiW6Pk15dO__CtL4wtoI",
         "id": "u3V5KDHRQvk",
         "kind": "youtube#video",
         "snippet": {
          "categoryId": "24",
          "channelId": "UCvC4D8onUfXzvjTOM-dBfEA",
          "channelTitle": "Marvel Entertainment",
          "defaultAudioLanguage": "en",
          "description": "It’s time to face the music.\n\nWatch the brand-new trailer for Marvel Studios’ Guardians of the Galaxy Vol. 3 that just debuted at Brazil Comic Con. Only in theaters May 5, 2023. \n\n► Watch Marvel on Disney+: https://bit.ly/2XyBSIW\n► Subscribe to Marvel on YouTube: http://bit.ly/WeO3YJ\n\nFollow Marvel on Twitter: ‪https://twitter.com/marvel\nLike Marvel on Facebook: ‪https://www.facebook.com/marvel\nWatch Marvel on Twitch: https://www.twitch.tv/marvel\n\nReward your Marvel fandom by joining Marvel Insider!\nEarn points, then redeem for awesome rewards.\nTerms and conditions apply. \nLearn more at https://www.marvel.com/insider?Osocial=YT&CID=MarvelInsider\n\nFor even more news, stay tuned to:\nTumblr: ‪http://marvelentertainment.tumblr.com/\nInstagram: https://www.instagram.com/marvel\nPinterest: ‪http://pinterest.com/marvelofficial\nReddit: http://reddit.com/u/marvel-official",
          "liveBroadcastContent": "none",
          "localized": {
           "description": "It’s time to face the music.\n\nWatch the brand-new trailer for Marvel Studios’ Guardians of the Galaxy Vol. 3 that just debuted at Brazil Comic Con. Only in theaters May 5, 2023. \n\n► Watch Marvel on Disney+: https://bit.ly/2XyBSIW\n► Subscribe to Marvel on YouTube: http://bit.ly/WeO3YJ\n\nFollow Marvel on Twitter: ‪https://twitter.com/marvel\nLike Marvel on Facebook: ‪https://www.facebook.com/marvel\nWatch Marvel on Twitch: https://www.twitch.tv/marvel\n\nReward your Marvel fandom by joining Marvel Insider!\nEarn points, then redeem for awesome rewards.\nTerms and conditions apply. \nLearn more at https://www.marvel.com/insider?Osocial=YT&CID=MarvelInsider\n\nFor even more news, stay tuned to:\nTumblr: ‪http://marvelentertainment.tumblr.com/\nInstagram: https://www.instagram.com/marvel\nPinterest: ‪http://pinterest.com/marvelofficial\nReddit: http://reddit.com/u/marvel-official",
           "title": "Marvel Studios’ Guardians of the Galaxy Vol. 3 | Official Trailer"
          },
          "publishedAt": "2022-12-01T22:01:32Z",
          "tags": [
           "marvel",
           "comics"
          ],
          "thumbnails": {
           "default": {
            "height": 90,
            "url": "https://i.ytimg.com/vi/u3V5KDHRQvk/default.jpg",
            "width": 120
           },
           "high": {
            "height": 360,
            "url": "https://i.ytimg.com/vi/u3V5KDHRQvk/hqdefault.jpg",
            "width": 480
           },
           "maxres": {
            "height": 720,
            "url": "https://i.ytimg.com/vi/u3V5KDHRQvk/maxresdefault.jpg",
            "width": 1280
           },
           "medium": {
            "height": 180,
            "url": "https://i.ytimg.com/vi/u3V5KDHRQvk/mqdefault.jpg",
            "width": 320
           },
           "standard": {
            "height": 480,
            "url": "https://i.ytimg.com/vi/u3V5KDHRQvk/sddefault.jpg",
            "width": 640
           }
          },
          "title": "Marvel Studios’ Guardians of the Galaxy Vol. 3 | Official Trailer"
         },
         "statistics": {
          "commentCount": "39443",
          "favoriteCount": "0",
          "likeCount": "799997",
          "viewCount": "33770969"
         }
        },
        {
         "contentDetails": {
          "caption": "true",
          "contentRating": {},
          "definition": "hd",
          "dimension": "2d",
          "duration": "PT2M22S",
          "licensedContent": true,
          "projection": "rectangular"
         },
         "etag": "xgTAZjfmOP_O_hdmzc1D5OCCnEc",
         "id": "JqcncLPi9zw",
         "kind": "youtube#video",
         "snippet": {
          "categoryId": "24",
          "channelId": "UCvC4D8onUfXzvjTOM-dBfEA",
          "channelTitle": "Marvel Entertainment",
          "defaultAudioLanguage": "en",
          "description": "Get ready for one last ride. \n \nWatch the brand-new trailer for Marvel Studios’ Guardians of the Galaxy Vol. 3, written and directed by James Gunn. Only in theaters May 5. \n\n► Watch Marvel on Disney+: https://bit.ly/2XyBSIW\n► Subscribe to Marvel on YouTube: http://bit.ly/WeO3YJ\n\nFollow Marvel on Twitter: ‪https://twitter.com/marvel\nLike Marvel on Facebook: ‪https://www.facebook.com/marvel\nWatch Marvel on Twitch: https://www.twitch.tv/marvel\n\nReward your Marvel fandom by joining Marvel Insider!\nEarn points, then redeem for awesome rewards.\nTerms and conditions apply. \nLearn more at https://www.marvel.com/insider?Osocial=YT&CID=MarvelInsider\n\nFor even more news, stay tuned to:\nTumblr: ‪http://marvelentertainment.tumblr.com/\nInstagram: https://www.instagram.com/marvel\nPinterest: ‪http://pinterest.com/marvelofficial\nReddit: http://reddit.com/u/marvel-official",
          "liveBroadcastContent": "none",
          "localized": {
           "description": "Get ready for one last ride. \n \nWatch the brand-new trailer for Marvel Studios’ Guardians of the Galaxy Vol. 3, written and directed by James Gunn. Only in theaters May 5. \n\n► Watch Marvel on Disney+: https://bit.ly/2XyBSIW\n► Subscribe to Marvel on YouTube: http://bit.ly/WeO3YJ\n\nFollow Marvel on Twitter: ‪https://twitter.com/marvel\nLike Marvel on Facebook: ‪https://www.facebook.com/marvel\nWatch Marvel on Twitch: https://www.twitch.tv/marvel\n\nReward your Marvel fandom by joining Marvel Insider!\nEarn points, then redeem for awesome rewards.\nTerms and conditions apply. \nLearn more at https://www.marvel.com/insider?Osocial=YT&CID=MarvelInsider\n\nFor even more news, stay tuned to:\nTumblr: ‪http://marvelentertainment.tumblr.com/\nInstagram: https://www.instagram.com/marvel\nPinterest: ‪http://pinterest.com/marvelofficial\nReddit: http://reddit.com/u/marvel-official",
           "title": "Marvel Studios’ Guardians of the Galaxy Vol. 3 | New Trailer"
          },
          "publishedAt": "2023-02-12T23:38:36Z",
          "tags": [
           "marvel",
           "comics",
           "gotg",
           "volume 3",
           "james gunn",
           "guardians of the galaxy",
           "big game"
          ],
          "thumbnails": {
           "default": {
            "height": 90,
            "url": "https://i.ytimg.com/vi/JqcncLPi9zw/default.jpg",
            "width": 120
           },
           "high": {
            "height": 360,
            "url": "https://i.ytimg.com/vi/JqcncLPi9zw/hqdefault.jpg",
            "width": 480
           },
           "maxres": {
            "height": 720,
            "url": "https://i.ytimg.com/vi/JqcncLPi9zw/maxresdefault.jpg",
            "width": 1280
           },
           "medium": {
            "height": 180,
            "url": "https://i.ytimg.com/vi/JqcncLPi9zw/mqdefault.jpg",
            "width": 320
           },
           "standard": {
            "height": 480,
            "url": "https://i.ytimg.com/vi/JqcncLPi9zw/sddefault.jpg",
            "width": 640
           }
          },
          "title": "Marvel Studios’ Guardians of the Galaxy Vol. 3 | New Trailer"
         },
         "statistics": {
          "commentCount": "15670",
          "favoriteCount": "0",
          "likeCount": "382939",
          "viewCount": "19289752"
         }
        },
        {
         "contentDetails": {
          "caption": "true",
          "contentRating": {},
          "definition": "hd",
          "dimension": "2d",
          "duration": "PT3M43S",
          "licensedContent": true,
          "projection": "rectangular"
         },
         "etag": "9NFirWkbmNQUfMFvN72MORMSTFM",
         "id": "32RAq6JzY-w",
         "kind": "youtube#video",
         "snippet": {
          "categoryId": "1",
          "channelId": "UCJCx8aQrdx_ueXPmxTD2odQ",
          "channelTitle": "The Fast Saga",
          "defaultAudioLanguage": "en-US",
          "description": "The end of the road begins. \n\nFast X, the tenth film in the Fast & Furious Saga, launches the final chapters of one of cinema’s most storied and popular global franchises, now in its third decade and still going strong with the same core cast and characters as when it began.\n\nOver many missions and against impossible odds, Dom Toretto (Vin Diesel) and his family have outsmarted, out-nerved and outdriven every foe in their path. Now, they confront the most lethal opponent they’ve ever faced: A terrifying threat emerging from the shadows of the past who’s fueled by blood revenge, and who is determined to shatter this family and destroy everything—and everyone—that Dom loves, forever.  \n \nIn 2011’s Fast Five, Dom and his crew took out nefarious Brazilian drug kingpin Hernan Reyes and decapitated his empire on a bridge in Rio De Janeiro. What they didn’t know was that Reyes’ son, Dante (Aquaman’s Jason Momoa), witnessed it all and has spent the last 12 years masterminding a plan to make Dom pay the ultimate price. \n \nDante’s plot will scatter Dom’s family from Los Angeles to the catacombs of Rome, from Brazil to London and from Portugal to Antarctica. New allies will be forged and old enemies will resurface. But everything changes when Dom discovers that his own 8-year-old son (Leo Abelo Perry, Black-ish) is the ultimate target of Dante’s vengeance. \n \nDirected by Louis Leterrier (Clash of the Titans, The Incredible Hulk), Fast X stars returning cast members Michelle Rodriguez, Tyrese Gibson, Chris “Ludacris” Bridges, Nathalie Emmanuel, Jordana Brewster, Sung Kang, Jason Statham, John Cena and Scott Eastwood, with Oscar® winner Helen Mirren and Oscar® winner Charlize Theron. \n \nThe film also features an extraordinary new cast including Oscar® winner Brie Larson as Tess, a rogue representative from the Agency; Alan Richtson (Reacher) as Aimes, the new head of the Agency who doesn’t hold the same fondness for Dom’s crew as his predecessor, Mr. Nobody; Daniela Melchior (The Suicide Squad) as a Brazilian street racer with a powerful tie to Dom’s past; and legendary Oscar® winner Rita Moreno as Dom and Mia’s Abuelita Toretto. \n \nFast X is produced by Neal H. Moritz, Vin Diesel, Justin Lin, Jeff Kirschenbaum and Samantha Vincent. The executive producers are Joseph M. Caracciolo, Jr., David Cain, Chris Morgan, Amanda Lewis and Mark Bomback. www.thefastsaga.com\n\nOfficial Website: https://www.fastxmovie.com/\nFacebook: https://www.facebook.com/TheFastSaga\nInstagram: https://www.instagram.com/TheFastSaga\nTwitter: https://twitter.com/TheFastSaga\nTikTok: https://www.tiktok.com/@thefastsaga\n\n#FASTX",
          "liveBroadcastContent": "none",
          "localized": {
           "description": "The end of the road begins. \n\nFast X, the tenth film in the Fast & Furious Saga, launches the final chapters of one of cinema’s most storied and popular global franchises, now in its third decade and still going strong with the same core cast and characters as when it began.\n\nOver many missions and against impossible odds, Dom Toretto (Vin Diesel) and his family have outsmarted, out-nerved and outdriven every foe in their path. Now, they confront the most lethal opponent they’ve ever faced: A terrifying threat emerging from the shadows of the past who’s fueled by blood revenge, and who is determined to shatter this family and destroy everything—and everyone—that Dom loves, forever.  \n \nIn 2011’s Fast Five, Dom and his crew took out nefarious Brazilian drug kingpin Hernan Reyes and decapitated his empire on a bridge in Rio De Janeiro. What they didn’t know was that Reyes’ son, Dante (Aquaman’s Jason Momoa), witnessed it all and has spent the last 12 years masterminding a plan to make Dom pay the ultimate price. \n \nDante’s plot will scatter Dom’s family from Los Angeles to the catacombs of Rome, from Brazil to London and from Portugal to Antarctica. New allies will be forged and old enemies will resurface. But everything changes when Dom discovers that his own 8-year-old son (Leo Abelo Perry, Black-ish) is the ultimate target of Dante’s vengeance. \n \nDirected by Louis Leterrier (Clash of the Titans, The Incredible Hulk), Fast X stars returning cast members Michelle Rodriguez, Tyrese Gibson, Chris “Ludacris” Bridges, Nathalie Emmanuel, Jordana Brewster, Sung Kang, Jason Statham, John Cena and Scott Eastwood, with Oscar® winner Helen Mirren and Oscar® winner Charlize Theron. \n \nThe film also features an extraordinary new cast including Oscar® winner Brie Larson as Tess, a rogue representative from the Agency; Alan Richtson (Reacher) as Aimes, the new head of the Agency who doesn’t hold the same fondness for Dom’s crew as his predecessor, Mr. Nobody; Daniela Melchior (The Suicide Squad) as a Brazilian street racer with a powerful tie to Dom’s past; and legendary Oscar® winner Rita Moreno as Dom and Mia’s Abuelita Toretto. \n \nFast X is produced by Neal H. Moritz, Vin Diesel, Justin Lin, Jeff Kirschenbaum and Samantha Vincent. The executive producers are Joseph M. Caracciolo, Jr., David Cain, Chris Morgan, Amanda Lewis and Mark Bomback. www.thefastsaga.com\n\nOfficial Website: https://www.fastxmovie.com/\nFacebook: https://www.facebook.com/TheFastSaga\nInstagram: https://www.instagram.com/TheFastSaga\nTwitter: https://twitter.com/TheFastSaga\nTikTok: https://www.tiktok.com/@thefastsaga\n\n#FASTX",
           "title": "FAST X | Official Trailer"
          },
          "publishedAt": "2023-02-10T15:44:35Z",
          "tags": [
           "Fast & Furious",
           "Hobbs & Shaw"
          ],
          "thumbnails": {
           "default": {
            "height": 90,
            "url": "https://i.ytimg.com/vi/32RAq6JzY-w/default.jpg",
            "width": 120
           },
           "high": {
            "height": 360,
            "url": "https://i.ytimg.com/vi/32RAq6JzY-w/hqdefault.jpg",
            "width": 480
           },
           "maxres": {
            "height": 720,
            "url": "https://i.ytimg.com/vi/32RAq6JzY-w/maxresdefault.jpg",
            "width": 1280
           },
           "medium": {
            "height": 180,
            "url": "https://i.ytimg.com/vi/32RAq6JzY-w/mqdefault.jpg",
            "width": 320
           },
           "standard": {
            "height": 480,
            "url": "https://i.ytimg.com/vi/32RAq6JzY-w/sddefault.jpg",
            "width": 640
           }
          },
          "title": "FAST X | Official Trailer"
         },
         "statistics": {
          "commentCount": "31727",
          "favoriteCount": "0",
          "likeCount": "396950",
          "viewCount": "40793447"
         }
        },
        {
         "contentDetails": {
          "caption": "true",
          "contentRating": {},
          "definition": "hd",
          "dimension": "2d",
          "duration": "PT2M36S",
          "licensedContent": true,
          "projection": "rectangular"
         },
         "etag": "i6p-c6YtMz4w5OW8tthet-yOYKA",
         "id": "aOb15GVFZxU",
         "kind": "youtube#video",
         "snippet": {
          "categoryId": "1",
          "channelId": "UCJCx8aQrdx_ueXPmxTD2odQ",
          "channelTitle": "The Fast Saga",
          "defaultAudioLanguage": "en-US",
          "description": "Not all races can be won. #FASTX \nGet tickets now: https://tickets.fastxmovie.com/\n\nOfficial Motion Picture Soundtrack Pre-Save: https://fastx.lnk.to/soundtrack!Trailer\nGasolina Remix: https://fastx.lnk.to/GasolinaRemix!FastX\n\nThe end of the road begins. \n\nFast X, the tenth film in the Fast & Furious Saga, launches the final chapters of one of cinema’s most storied and popular global franchises, now in its third decade and still going strong with the same core cast and characters as when it began.\n\nOver many missions and against impossible odds, Dom Toretto (Vin Diesel) and his family have outsmarted, out-nerved and outdriven every foe in their path. Now, they confront the most lethal opponent they’ve ever faced: A terrifying threat emerging from the shadows of the past who’s fueled by blood revenge, and who is determined to shatter this family and destroy everything—and everyone—that Dom loves, forever.  \n \nIn 2011’s Fast Five, Dom and his crew took out nefarious Brazilian drug kingpin Hernan Reyes and decapitated his empire on a bridge in Rio De Janeiro. What they didn’t know was that Reyes’ son, Dante (Aquaman’s Jason Momoa), witnessed it all and has spent the last 12 years masterminding a plan to make Dom pay the ultimate price. \n \nDante’s plot will scatter Dom’s family from Los Angeles to the catacombs of Rome, from Brazil to London and from Portugal to Antarctica. New allies will be forged and old enemies will resurface. But everything changes when Dom discovers that his own 8-year-old son (Leo Abelo Perry, Black-ish) is the ultimate target of Dante’s vengeance. \n \nDirected by Louis Leterrier (Clash of the Titans, The Incredible Hulk), Fast X stars returning cast members Michelle Rodriguez, Tyrese Gibson, Chris “Ludacris” Bridges, Nathalie Emmanuel, Jordana Brewster, Sung Kang, Jason Statham, John Cena and Scott Eastwood, with Oscar® winner Helen Mirren and Oscar® winner Charlize Theron. \n \nThe film also features an extraordinary new cast including Oscar® winner Brie Larson as Tess, a rogue representative from the Agency; Alan Richtson (Reacher) as Aimes, the new head of the Agency who doesn’t hold the same fondness for Dom’s crew as his predecessor, Mr. Nobody; Daniela Melchior (The Suicide Squad) as a Brazilian street racer with a powerful tie to Dom’s past; and legendary Oscar® winner Rita Moreno as Dom and Mia’s Abuelita Toretto. \n \nFast X is produced by Neal H. Moritz, Vin Diesel, Justin Lin, Jeff Kirschenbaum and Samantha Vincent. The executive producers are Joseph M. Caracciolo, Jr., David Cain, Chris Morgan, Amanda Lewis and Mark Bomback. www.thefastsaga.com\n\nOfficial Website: https://www.fastxmovie.com/\nFacebook: https://www.facebook.com/TheFastSaga\nInstagram: https://www.instagram.com/TheFastSaga\nTwitter: https://twitter.com/TheFastSaga\nTikTok: https://www.tiktok.com/@thefastsaga",
          "liveBroadcastContent": "none",
          "localized": {
           "description": "Not all races can be won. #FASTX \nGet tickets now: https://tickets.fastxmovie.com/\n\nOfficial Motion Picture Soundtrack Pre-Save: https://fastx.lnk.to/soundtrack!Trailer\nGasolina Remix: https://fastx.lnk.to/GasolinaRemix!FastX\n\nThe end of the road begins. \n\nFast X, the tenth film in the Fast & Furious Saga, launches the final chapters of one of cinema’s most storied and popular global franchises, now in its third decade and still going strong with the same core cast and characters as when it began.\n\nOver many missions and against impossible odds, Dom Toretto (Vin Diesel) and his family have outsmarted, out-nerved and outdriven every foe in their path. Now, they confront the most lethal opponent they’ve ever faced: A terrifying threat emerging from the shadows of the past who’s fueled by blood revenge, and who is determined to shatter this family and destroy everything—and everyone—that Dom loves, forever.  \n \nIn 2011’s Fast Five, Dom and his crew took out nefarious Brazilian drug kingpin Hernan Reyes and decapitated his empire on a bridge in Rio De Janeiro. What they didn’t know was that Reyes’ son, Dante (Aquaman’s Jason Momoa), witnessed it all and has spent the last 12 years masterminding a plan to make Dom pay the ultimate price. \n \nDante’s plot will scatter Dom’s family from Los Angeles to the catacombs of Rome, from Brazil to London and from Portugal to Antarctica. New allies will be forged and old enemies will resurface. But everything changes when Dom discovers that his own 8-year-old son (Leo Abelo Perry, Black-ish) is the ultimate target of Dante’s vengeance. \n \nDirected by Louis Leterrier (Clash of the Titans, The Incredible Hulk), Fast X stars returning cast members Michelle Rodriguez, Tyrese Gibson, Chris “Ludacris” Bridges, Nathalie Emmanuel, Jordana Brewster, Sung Kang, Jason Statham, John Cena and Scott Eastwood, with Oscar® winner Helen Mirren and Oscar® winner Charlize Theron. \n \nThe film also features an extraordinary new cast including Oscar® winner Brie Larson as Tess, a rogue representative from the Agency; Alan Richtson (Reacher) as Aimes, the new head of the Agency who doesn’t hold the same fondness for Dom’s crew as his predecessor, Mr. Nobody; Daniela Melchior (The Suicide Squad) as a Brazilian street racer with a powerful tie to Dom’s past; and legendary Oscar® winner Rita Moreno as Dom and Mia’s Abuelita Toretto. \n \nFast X is produced by Neal H. Moritz, Vin Diesel, Justin Lin, Jeff Kirschenbaum and Samantha Vincent. The executive producers are Joseph M. Caracciolo, Jr., David Cain, Chris Morgan, Amanda Lewis and Mark Bomback. www.thefastsaga.com\n\nOfficial Website: https://www.fastxmovie.com/\nFacebook: https://www.facebook.com/TheFastSaga\nInstagram: https://www.instagram.com/TheFastSaga\nTwitter: https://twitter.com/TheFastSaga\nTikTok: https://www.tiktok.com/@thefastsaga",
           "title": "FAST X | Official Trailer 2"
          },
          "publishedAt": "2023-04-19T21:00:53Z",
          "tags": [
           "Fast & Furious",
           "Hobbs & Shaw"
          ],
          "thumbnails": {
           "default": {
            "height": 90,
            "url": "https://i.ytimg.com/vi/aOb15GVFZxU/default.jpg",
            "width": 120
           },
           "high": {
            "height": 360,
            "url": "https://i.ytimg.com/vi/aOb15GVFZxU/hqdefault.jpg",
            "width": 480
           },
           "maxres": {
            "height": 720,
            "url": "https://i.ytimg.com/vi/aOb15GVFZxU/maxresdefault.jpg",
            "width": 1280
           },
           "medium": {
            "height": 180,
            "url": "https://i.ytimg.com/vi/aOb15GVFZxU/mqdefault.jpg",
            "width": 320
           },
           "standard": {
            "height": 480,
            "url": "https://i.ytimg.com/vi/aOb15GVFZxU/sddefault.jpg",
            "width": 640
           }
          },
          "title": "FAST X | Official Trailer 2"
         },
         "statistics": {
          "commentCount": "10076",
          "favoriteCount": "0",
          "likeCount": "169189",
          "viewCount": "31007244"
         }
        },
        {
         "contentDetails": {
          "caption": "true",
          "contentRating": {},
          "definition": "hd",
          "dimension": "2d",
          "duration": "PT4M32S",
          "licensedContent": true,
          "projection": "rectangular"
         },
         "etag": "YZQ9lkx-DRFHIgWkzYJvaSt3Mjw",
         "id": "eoOaKN4qCKw",
         "kind": "youtube#video",
         "snippet": {
          "categoryId": "1",
          "channelId": "UCJCx8aQrdx_ueXPmxTD2odQ",
          "channelTitle": "The Fast Saga",
          "defaultAudioLanguage": "en-US",
          "description": "The end of the road begins Friday. Watch the FINAL TRAILER Now. #FASTX \n\nGet tickets now: https://tickets.fastxmovie.com/\n\nThe end of the road begins. \n\nFast X, the tenth film in the Fast & Furious Saga, launches the final chapters of one of cinema’s most storied and popular global franchises, now in its third decade and still going strong with the same core cast and characters as when it began.\n\nOver many missions and against impossible odds, Dom Toretto (Vin Diesel) and his family have outsmarted, out-nerved and outdriven every foe in their path. Now, they confront the most lethal opponent they’ve ever faced: A terrifying threat emerging from the shadows of the past who’s fueled by blood revenge, and who is determined to shatter this family and destroy everything—and everyone—that Dom loves, forever.  \n \nIn 2011’s Fast Five, Dom and his crew took out nefarious Brazilian drug kingpin Hernan Reyes and decapitated his empire on a bridge in Rio De Janeiro. What they didn’t know was that Reyes’ son, Dante (Aquaman’s Jason Momoa), witnessed it all and has spent the last 12 years masterminding a plan to make Dom pay the ultimate price. \n \nDante’s plot will scatter Dom’s family from Los Angeles to the catacombs of Rome, from Brazil to London and from Portugal to Antarctica. New allies will be forged and old enemies will resurface. But everything changes when Dom discovers that his own 8-year-old son (Leo Abelo Perry, Black-ish) is the ultimate target of Dante’s vengeance. \n \nDirected by Louis Leterrier (Clash of the Titans, The Incredible Hulk), Fast X stars returning cast members Michelle Rodriguez, Tyrese Gibson, Chris “Ludacris” Bridges, Nathalie Emmanuel, Jordana Brewster, Sung Kang, Jason Statham, John Cena and Scott Eastwood, with Oscar® winner Helen Mirren and Oscar® winner Charlize Theron. \n \nThe film also features an extraordinary new cast including Oscar® winner Brie Larson as Tess, a rogue representative from the Agency; Alan Richtson (Reacher) as Aimes, the new head of the Agency who doesn’t hold the same fondness for Dom’s crew as his predecessor, Mr. Nobody; Daniela Melchior (The Suicide Squad) as a Brazilian street racer with a powerful tie to Dom’s past; and legendary Oscar® winner Rita Moreno as Dom and Mia’s Abuelita Toretto. \n \nFast X is produced by Neal H. Moritz, Vin Diesel, Justin Lin, Jeff Kirschenbaum and Samantha Vincent. The executive producers are Joseph M. Caracciolo, Jr., David Cain, Chris Morgan, Amanda Lewis and Mark Bomback. www.thefastsaga.com\n\nOfficial Website: https://www.fastxmovie.com/\nFacebook: https://www.facebook.com/TheFastSaga\nInstagram: https://www.instagram.com/TheFastSaga\nTwitter: https://twitter.com/TheFastSaga\nTikTok: https://www.tiktok.com/@thefastsaga",
          "liveBroadcastContent": "none",
          "localized": {
           "description": "The end of the road begins Friday. Watch the FINAL TRAILER Now. #FASTX \n\nGet tickets now: https://tickets.fastxmovie.com/\n\nThe end of the road begins. \n\nFast X, the tenth film in the Fast & Furious Saga, launches the final chapters of one of cinema’s most storied and popular global franchises, now in its third decade and still going strong with the same core cast and characters as when it began.\n\nOver many missions and against impossible odds, Dom Toretto (Vin Diesel) and his family have outsmarted, out-nerved and outdriven every foe in their path. Now, they confront the most lethal opponent they’ve ever faced: A terrifying threat emerging from the shadows of the past who’s fueled by blood revenge, and who is determined to shatter this family and destroy everything—and everyone—that Dom loves, forever.  \n \nIn 2011’s Fast Five, Dom and his crew took out nefarious Brazilian drug kingpin Hernan Reyes and decapitated his empire on a bridge in Rio De Janeiro. What they didn’t know was that Reyes’ son, Dante (Aquaman’s Jason Momoa), witnessed it all and has spent the last 12 years masterminding a plan to make Dom pay the ultimate price. \n \nDante’s plot will scatter Dom’s family from Los Angeles to the catacombs of Rome, from Brazil to London and from Portugal to Antarctica. New allies will be forged and old enemies will resurface. But everything changes when Dom discovers that his own 8-year-old son (Leo Abelo Perry, Black-ish) is the ultimate target of Dante’s vengeance. \n \nDirected by Louis Leterrier (Clash of the Titans, The Incredible Hulk), Fast X stars returning cast members Michelle Rodriguez, Tyrese Gibson, Chris “Ludacris” Bridges, Nathalie Emmanuel, Jordana Brewster, Sung Kang, Jason Statham, John Cena and Scott Eastwood, with Oscar® winner Helen Mirren and Oscar® winner Charlize Theron. \n \nThe film also features an extraordinary new cast including Oscar® winner Brie Larson as Tess, a rogue representative from the Agency; Alan Richtson (Reacher) as Aimes, the new head of the Agency who doesn’t hold the same fondness for Dom’s crew as his predecessor, Mr. Nobody; Daniela Melchior (The Suicide Squad) as a Brazilian street racer with a powerful tie to Dom’s past; and legendary Oscar® winner Rita Moreno as Dom and Mia’s Abuelita Toretto. \n \nFast X is produced by Neal H. Moritz, Vin Diesel, Justin Lin, Jeff Kirschenbaum and Samantha Vincent. The executive producers are Joseph M. Caracciolo, Jr., David Cain, Chris Morgan, Amanda Lewis and Mark Bomback. www.thefastsaga.com\n\nOfficial Website: https://www.fastxmovie.com/\nFacebook: https://www.facebook.com/TheFastSaga\nInstagram: https://www.instagram.com/TheFastSaga\nTwitter: https://twitter.com/TheFastSaga\nTikTok: https://www.tiktok.com/@thefastsaga",
           "title": "FAST X | Final Trailer"
          },
          "publishedAt": "2023-05-15T16:08:35Z",
          "tags": [
           "Fast & Furious",
           "Hobbs & Shaw"
          ],
          "thumbnails": {
           "default": {
            "height": 90,
            "url": "https://i.ytimg.com/vi/eoOaKN4qCKw/default.jpg",
            "width": 120
           },
           "high": {
            "height": 360,
            "url": "https://i.ytimg.com/vi/eoOaKN4qCKw/hqdefault.jpg",
            "width": 480
           },
           "maxres": {
            "height": 720,
            "url": "https://i.ytimg.com/vi/eoOaKN4qCKw/maxresdefault.jpg",
            "width": 1280
           },
           "medium": {
            "height": 180,
            "url": "https://i.ytimg.com/vi/eoOaKN4qCKw/mqdefault.jpg",
            "width": 320
           },
           "standard": {
            "height": 480,
            "url": "https://i.ytimg.com/vi/eoOaKN4qCKw/sddefault.jpg",
            "width": 640
           }
          },
          "title": "FAST X | Final Trailer"
         },
         "statistics": {
          "commentCount": "12354",
          "favoriteCount": "0",
          "likeCount": "221324",
          "viewCount": "13935201"
         }
        },
        {
         "contentDetails": {
          "caption": "true",
          "contentRating": {},
          "definition": "hd",
          "dimension": "2d",
          "duration": "PT2M30S",
          "licensedContent": true,
          "projection": "rectangular"
         },
         "etag": "Z_XZguhRdZM7GFpj1xHOITV1MiY",
         "id": "cqGjhVJWtEg",
         "kind": "youtube#video",
         "snippet": {
          "categoryId": "24",
          "channelId": "UCz97F7dMxBNOfGYu3rx8aCw",
          "channelTitle": "Sony Pictures Entertainment",
          "defaultAudioLanguage": "en",
          "description": "The next Spider-Man movie is coming to theaters June 2023. Watch the new trailer for Spider-Man: Across the #SpiderVerse now. \n\nSubscribe to Sony Pictures for exclusive content: http://bit.ly/SonyPicsSubscribe \n \nFollow us on Social:\nhttps://www.facebook.com/SpiderVerseMovie  \nhttps://www.twitter.com/SpiderVerse\nhttps://www.instagram.com/SpiderVerseMovie  \nhttps://www.tiktok.com/@spiderversemovie \nhttps://www.acrossthespiderverse.movie\n\nMiles Morales returns for the next chapter of the Oscar®-winning Spider-Verse saga, Spider-Man: Across the Spider-Verse. After reuniting with Gwen Stacy, Brooklyn’s full-time, friendly neighborhood Spider-Man is catapulted across the Multiverse, where he encounters a team of Spider-People charged with protecting its very existence. But when the heroes clash on how to handle a new threat, Miles finds himself pitted against the other Spiders and must redefine what it means to be a hero so he can save the people he loves most.\n \nDirected by:                       \nJoaquim Dos Santos\nKemp Powers\nJustin K. Thompson\n \nScreenplay by:              \nPhil Lord & Christopher Miller and David Callaham\n \nBased on the MARVEL Comic Books\n \nProduced by:                       \nAvi Arad\nAmy Pascal\nPhil Lord\nChristopher Miller\nChristina Steinberg\n \nExecutive Producers:        \nBob Persichetti\nPeter Ramsey\nRodney Rothman\nAditya Sood\nRebecca Karch\nBrian Bendis\n \nCast:                                  \nShameik Moore\nHailee Steinfeld\nJake Johnson\nIssa Rae\nDaniel Kaluuya\nJason Schwartzman\nBrian Tyree Henry\nLuna Lauren Velez\nGreta Lee\nRachel Dratch\nJorma Taccone\nShea Whigham\nand Oscar Isaac                         \n \n#SpiderVerse #SpiderVerseMovie #AcrossTheSpiderVerse #SpiderMan #MilesMorales #SpiderGwen #SonyPictures #SonyPicturesAnimation #OfficialTrailer #Marvel #Movie",
          "liveBroadcastContent": "none",
          "localized": {
           "description": "The next Spider-Man movie is coming to theaters June 2023. Watch the new trailer for Spider-Man: Across the #SpiderVerse now. \n\nSubscribe to Sony Pictures for exclusive content: http://bit.ly/SonyPicsSubscribe \n \nFollow us on Social:\nhttps://www.facebook.com/SpiderVerseMovie  \nhttps://www.twitter.com/SpiderVerse\nhttps://www.instagram.com/SpiderVerseMovie  \nhttps://www.tiktok.com/@spiderversemovie \nhttps://www.acrossthespiderverse.movie\n\nMiles Morales returns for the next chapter of the Oscar®-winning Spider-Verse saga, Spider-Man: Across the Spider-Verse. After reuniting with Gwen Stacy, Brooklyn’s full-time, friendly neighborhood Spider-Man is catapulted across the Multiverse, where he encounters a team of Spider-People charged with protecting its very existence. But when the heroes clash on how to handle a new threat, Miles finds himself pitted against the other Spiders and must redefine what it means to be a hero so he can save the people he loves most.\n \nDirected by:                       \nJoaquim Dos Santos\nKemp Powers\nJustin K. Thompson\n \nScreenplay by:              \nPhil Lord & Christopher Miller and David Callaham\n \nBased on the MARVEL Comic Books\n \nProduced by:                       \nAvi Arad\nAmy Pascal\nPhil Lord\nChristopher Miller\nChristina Steinberg\n \nExecutive Producers:        \nBob Persichetti\nPeter Ramsey\nRodney Rothman\nAditya Sood\nRebecca Karch\nBrian Bendis\n \nCast:                                  \nShameik Moore\nHailee Steinfeld\nJake Johnson\nIssa Rae\nDaniel Kaluuya\nJason Schwartzman\nBrian Tyree Henry\nLuna Lauren Velez\nGreta Lee\nRachel Dratch\nJorma Taccone\nShea Whigham\nand Oscar Isaac                         \n \n#SpiderVerse #SpiderVerseMovie #AcrossTheSpiderVerse #SpiderMan #MilesMorales #SpiderGwen #SonyPictures #SonyPicturesAnimation #OfficialTrailer #Marvel #Movie",
           "title": "SPIDER-MAN: ACROSS THE SPIDER-VERSE - Official Trailer (HD)"
          },
          "publishedAt": "2022-12-13T17:00:07Z",
          "thumbnails": {
           "default": {
            "height": 90,
            "url": "https://i.ytimg.com/vi/cqGjhVJWtEg/default.jpg",
            "width": 120
           },
           "high": {
            "height": 360,
            "url": "https://i.ytimg.com/vi/cqGjhVJWtEg/hqdefault.jpg",
            "width": 480
           },
           "maxres": {
            "height": 720,
            "url": "https://i.ytimg.com/vi/cqGjhVJWtEg/maxresdefault.jpg",
            "width": 1280
           },
           "medium": {
            "height": 180,
            "url": "https://i.ytimg.com/vi/cqGjhVJWtEg/mqdefault.jpg",
            "width": 320
           },
           "standard": {
            "height": 480,
            "url": "https://i.ytimg.com/vi/cqGjhVJWtEg/sddefault.jpg",
            "width": 640
           }
          },
          "title": "SPIDER-MAN: ACROSS THE SPIDER-VERSE - Official Trailer (HD)"
         },
         "statistics": {
          "commentCount": "28542",
          "favoriteCount": "0",
          "likeCount": "919882",
          "viewCount": "36586556"
         }
        },
        {
         "contentDetails": {
          "caption": "false",
          "contentRating": {},
          "definition": "hd",
          "dimension": "2d",
          "duration": "PT2M50S",
          "licensedContent": true,
          "projection": "rectangular"
         },
         "etag": "GjsgG0ujGloWt_-uL57ohYg7kA8",
         "id": "shW9i6k8cB0",
         "kind": "youtube#video",
         "snippet": {
          "categoryId": "24",
          "channelId": "UCz97F7dMxBNOfGYu3rx8aCw",
          "channelTitle": "Sony Pictures Entertainment",
          "defaultAudioLanguage": "en",
          "description": "One Spider-Man wants to change his own destiny. 🕷 Miles Morales returns for the next Spider-Man movie, exclusively in theaters June 2. Watch the new trailer for Across the #SpiderVerse now.\n\nText 718-808-8342 to join the Spider Society.\n\nSubscribe to Sony Pictures for exclusive content: http://bit.ly/SonyPicsSubscribe \n \nFollow us on Social:\nhttps://www.facebook.com/SpiderVerseMovie  \nhttps://www.twitter.com/SpiderVerse\nhttps://www.instagram.com/SpiderVerseMovie  \nhttps://www.tiktok.com/@spiderversemovie \nhttps://www.acrossthespiderverse.movie\n\nMiles Morales returns for the next chapter of the Oscar®-winning Spider-Verse saga, Spider-Man™: Across the Spider-Verse. After reuniting with Gwen Stacy, Brooklyn’s full-time, friendly neighborhood Spider-Man is catapulted across the Multiverse, where he encounters a team of Spider-People charged with protecting its very existence. But when the heroes clash on how to handle a new threat, Miles finds himself pitted against the other Spiders and must redefine what it means to be a hero so he can save the people he loves most.\n \nDirected by:                       \nJoaquim Dos Santos\nKemp Powers\nJustin K. Thompson\n \nScreenplay by:              \nPhil Lord & Christopher Miller and David Callaham\n \nBased on the MARVEL Comic Books\n \nProduced by:                       \nAvi Arad\nAmy Pascal\nPhil Lord\nChristopher Miller\nChristina Steinberg\n \nExecutive Producers:        \nBob Persichetti\nPeter Ramsey\nRodney Rothman\nAditya Sood\nRebecca Karch\nBrian Bendis\n \nCast:                                  \nShameik Moore\nHailee Steinfeld\nJake Johnson\nIssa Rae\nDaniel Kaluuya\nKaran Soni\nJason Schwartzman\nBrian Tyree Henry\nLuna Lauren Velez\nGreta Lee\nRachel Dratch\nJorma Taccone\nShea Whigham\nand Oscar Isaac                         \n \n#SpiderVerse #SpiderVerseMovie #AcrossTheSpiderVerse #SpiderMan #MilesMorales #SpiderGwen #SonyPictures #SonyPicturesAnimation #OfficialTrailer #Marvel #Movie",
          "liveBroadcastContent": "none",
          "localized": {
           "description": "One Spider-Man wants to change his own destiny. 🕷 Miles Morales returns for the next Spider-Man movie, exclusively in theaters June 2. Watch the new trailer for Across the #SpiderVerse now.\n\nText 718-808-8342 to join the Spider Society.\n\nSubscribe to Sony Pictures for exclusive content: http://bit.ly/SonyPicsSubscribe \n \nFollow us on Social:\nhttps://www.facebook.com/SpiderVerseMovie  \nhttps://www.twitter.com/SpiderVerse\nhttps://www.instagram.com/SpiderVerseMovie  \nhttps://www.tiktok.com/@spiderversemovie \nhttps://www.acrossthespiderverse.movie\n\nMiles Morales returns for the next chapter of the Oscar®-winning Spider-Verse saga, Spider-Man™: Across the Spider-Verse. After reuniting with Gwen Stacy, Brooklyn’s full-time, friendly neighborhood Spider-Man is catapulted across the Multiverse, where he encounters a team of Spider-People charged with protecting its very existence. But when the heroes clash on how to handle a new threat, Miles finds himself pitted against the other Spiders and must redefine what it means to be a hero so he can save the people he loves most.\n \nDirected by:                       \nJoaquim Dos Santos\nKemp Powers\nJustin K. Thompson\n \nScreenplay by:              \nPhil Lord & Christopher Miller and David Callaham\n \nBased on the MARVEL Comic Books\n \nProduced by:                       \nAvi Arad\nAmy Pascal\nPhil Lord\nChristopher Miller\nChristina Steinberg\n \nExecutive Producers:        \nBob Persichetti\nPeter Ramsey\nRodney Rothman\nAditya Sood\nRebecca Karch\nBrian Bendis\n \nCast:                                  \nShameik Moore\nHailee Steinfeld\nJake Johnson\nIssa Rae\nDaniel Kaluuya\nKaran Soni\nJason Schwartzman\nBrian Tyree Henry\nLuna Lauren Velez\nGreta Lee\nRachel Dratch\nJorma Taccone\nShea Whigham\nand Oscar Isaac                         \n \n#SpiderVerse #SpiderVerseMovie #AcrossTheSpiderVerse #SpiderMan #MilesMorales #SpiderGwen #SonyPictures #SonyPicturesAnimation #OfficialTrailer #Marvel #Movie",
           "title": "SPIDER-MAN: ACROSS THE SPIDER-VERSE - Official Trailer #2 (HD)"
          },
          "publishedAt": "2023-04-04T07:01:03Z",
          "thumbnails": {
           "default": {
            "height": 90,
            "url": "https://i.ytimg.com/vi/shW9i6k8cB0/default.jpg",
            "width": 120
           },
           "high": {
            "height": 360,
            "url": "https://i.ytimg.com/vi/shW9i6k8cB0/hqdefault.jpg",
            "width": 480
           },
           "maxres": {
            "height": 720,
            "url": "https://i.ytimg.com/vi/shW9i6k8cB0/maxresdefault.jpg",
            "width": 1280
           },
           "medium": {
            "height": 180,
            "url": "https://i.ytimg.com/vi/shW9i6k8cB0/mqdefault.jpg",
            "width": 320
           },
           "standard": {
            "height": 480,
            "url": "https://i.ytimg.com/vi/shW9i6k8cB0/sddefault.jpg",
            "width": 640
           }
          },
          "title": "SPIDER-MAN: ACROSS THE SPIDER-VERSE - Official Trailer #2 (HD)"
         },
         "statistics": {
          "commentCount": "31271",
          "favoriteCount": "0",
          "likeCount": "676397",
          "viewCount": "50852384"
         }
        },
        {
         "contentDetails": {
          "caption": "true",
          "contentRating": {},
          "definition": "hd",
          "dimension": "2d",
          "duration": "PT2M21S",
          "licensedContent": true,
          "projection": "rectangular"
         },
         "etag": "uJBg3VSHxwKwoDqvrQrCQmMq8rE",
         "id": "kpGo2_d3oYE",
         "kind": "youtube#video",
         "snippet": {
          "categoryId": "1",
          "channelId": "UCuaFvcY4MhZY3U43mMt1dYQ",
          "channelTitle": "Walt Disney Studios",
          "defaultAudioLanguage": "en-US",
          "description": "Watch and you'll see, some day I'll be, part of your world! Watch the new trailer for #TheLittleMermaid and see the movie in theaters May 26!\n\nThe brand new soundtrack for Disney’s “The Little Mermaid” is available now to Pre-Save, Pre-Add or Pre-Order – https://presave.umusic.com/thelittlemermaidsoundtrack\n\n“The Little Mermaid” is the beloved story of Ariel, a beautiful and spirited young mermaid with a thirst for adventure. The youngest of King Triton’s daughters and the most defiant, Ariel longs to find out more about the world beyond the sea and, while visiting the surface, falls for the dashing Prince Eric. While mermaids are forbidden to interact with humans, Ariel must follow her heart. She makes a deal with the evil sea witch, Ursula, which gives her a chance to experience life on land but ultimately places her life – and her father’s crown – in jeopardy. The film stars singer and actress Halle Bailey (“grown-ish”) as Ariel; Jonah Hauer-King (“A Dog’s Way Home”) as Prince Eric; Tony Award® winner Daveed Diggs (“Hamilton”) as the voice of Sebastian; Awkwafina (“Raya and the Last Dragon”) as the voice of Scuttle; Jacob Tremblay (“Luca”) as the voice of Flounder; Noma Dumezweni (“Mary Poppins Returns”) as Queen Selina; Art Malik (“Homeland”) as Sir Grimsby; with Oscar® winner Javier Bardem (“No Country for Old Men”) as King Triton; and two-time Academy Award® nominee Melissa McCarthy (“Can You Ever Forgive Me?” “Bridesmaids”) as Ursula.      \n \n“The Little Mermaid” is directed by Oscar® nominee Rob Marshall (“Chicago,” “Mary Poppins Returns”) with a screenplay by two-time Oscar nominee David Magee (“Life of Pi,” “Finding Neverland”). The songs feature music from multiple Academy Award® winner Alan Menken (“Beauty and the Beast,” “Aladdin”) and lyrics by Howard Ashman, and new lyrics by three-time Tony Award® winner Lin-Manuel Miranda. The film is produced by two-time Emmy® winner Marc Platt (“Jesus Christ Superstar Live in Concert,” “Grease Live!”), Miranda, two-time Emmy winner John DeLuca (“Tony Bennett: An American Classic”), and Rob Marshall, with Jeffrey Silver (“The Lion King”) serving as executive producer. \n\nHashtag: #TheLittleMermaid\nTwitter: https://twitter.com/littlemermaid\nFacebook: https://www.facebook.com/DisneyTheLittleMermaid\nInstagram: https://www.instagram.com/disneylittlemermaid/",
          "liveBroadcastContent": "none",
          "localized": {
           "description": "Watch and you'll see, some day I'll be, part of your world! Watch the new trailer for #TheLittleMermaid and see the movie in theaters May 26!\n\nThe brand new soundtrack for Disney’s “The Little Mermaid” is available now to Pre-Save, Pre-Add or Pre-Order – https://presave.umusic.com/thelittlemermaidsoundtrack\n\n“The Little Mermaid” is the beloved story of Ariel, a beautiful and spirited young mermaid with a thirst for adventure. The youngest of King Triton’s daughters and the most defiant, Ariel longs to find out more about the world beyond the sea and, while visiting the surface, falls for the dashing Prince Eric. While mermaids are forbidden to interact with humans, Ariel must follow her heart. She makes a deal with the evil sea witch, Ursula, which gives her a chance to experience life on land but ultimately places her life – and her father’s crown – in jeopardy. The film stars singer and actress Halle Bailey (“grown-ish”) as Ariel; Jonah Hauer-King (“A Dog’s Way Home”) as Prince Eric; Tony Award® winner Daveed Diggs (“Hamilton”) as the voice of Sebastian; Awkwafina (“Raya and the Last Dragon”) as the voice of Scuttle; Jacob Tremblay (“Luca”) as the voice of Flounder; Noma Dumezweni (“Mary Poppins Returns”) as Queen Selina; Art Malik (“Homeland”) as Sir Grimsby; with Oscar® winner Javier Bardem (“No Country for Old Men”) as King Triton; and two-time Academy Award® nominee Melissa McCarthy (“Can You Ever Forgive Me?” “Bridesmaids”) as Ursula.      \n \n“The Little Mermaid” is directed by Oscar® nominee Rob Marshall (“Chicago,” “Mary Poppins Returns”) with a screenplay by two-time Oscar nominee David Magee (“Life of Pi,” “Finding Neverland”). The songs feature music from multiple Academy Award® winner Alan Menken (“Beauty and the Beast,” “Aladdin”) and lyrics by Howard Ashman, and new lyrics by three-time Tony Award® winner Lin-Manuel Miranda. The film is produced by two-time Emmy® winner Marc Platt (“Jesus Christ Superstar Live in Concert,” “Grease Live!”), Miranda, two-time Emmy winner John DeLuca (“Tony Bennett: An American Classic”), and Rob Marshall, with Jeffrey Silver (“The Lion King”) serving as executive producer. \n\nHashtag: #TheLittleMermaid\nTwitter: https://twitter.com/littlemermaid\nFacebook: https://www.facebook.com/DisneyTheLittleMermaid\nInstagram: https://www.instagram.com/disneylittlemermaid/",
           "title": "The Little Mermaid | Official Trailer"
          },
          "publishedAt": "2023-03-13T00:59:01Z",
          "tags": [
           "the little mermaid",
           "halle bailey",
           "disney",
           "ursula",
           "scuttle",
           "movie",
           "trailer",
           "prince Eric",
           "Melissa McCarthy",
           "part of your world",
           "under the sea",
           "poor unfortunate souls"
          ],
          "thumbnails": {
           "default": {
            "height": 90,
            "url": "https://i.ytimg.com/vi/kpGo2_d3oYE/default.jpg",
            "width": 120
           },
           "high": {
            "height": 360,
            "url": "https://i.ytimg.com/vi/kpGo2_d3oYE/hqdefault.jpg",
            "width": 480
           },
           "maxres": {
            "height": 720,
            "url": "https://i.ytimg.com/vi/kpGo2_d3oYE/maxresdefault.jpg",
            "width": 1280
           },
           "medium": {
            "height": 180,
            "url": "https://i.ytimg.com/vi/kpGo2_d3oYE/mqdefault.jpg",
            "width": 320
           },
           "standard": {
            "height": 480,
            "url": "https://i.ytimg.com/vi/kpGo2_d3oYE/sddefault.jpg",
            "width": 640
           }
          },
          "title": "The Little Mermaid | Official Trailer"
         },
         "statistics": {
          "commentCount": "76708",
          "favoriteCount": "0",
          "likeCount": "374707",
          "viewCount": "26057586"
         }
        },
        {
         "contentDetails": {
          "caption": "true",
          "contentRating": {},
          "definition": "hd",
          "dimension": "2d",
          "duration": "PT2M28S",
          "licensedContent": true,
          "projection": "rectangular"
         },
         "etag": "RyXxSXZs8xrF69DSH4sMNJpMAcE",
         "id": "avz06PDqDbM",
         "kind": "youtube#video",
         "snippet": {
          "categoryId": "1",
          "channelId": "UCF9imwPMSGz4Vq1NiTWCC7g",
          "channelTitle": "Paramount Pictures",
          "defaultAudioLanguage": "en-US",
          "description": "Watch the official trailer for #MissionImpossible – Dead Reckoning Part One, starring Tom Cruise. \n\nWatch Mission: Impossible - Dead Reckoning Part One on Digital TODAY: http://paramnt.us/MissionImpossibleDRP1 🏍️ \n\nSign up for EXCLUSIVE content and updates: https://www.missionimpossible.com/signup/ \n\nIn Mission: Impossible – Dead Reckoning Part One, Ethan Hunt (Tom Cruise) and his IMF team embark on their most dangerous mission yet: To track down a terrifying new weapon that threatens all of humanity before it falls into the wrong hands. With control of the future and the fate of the world at stake, and dark forces from Ethan's past closing in, a deadly race around the globe begins. Confronted by a mysterious, all-powerful enemy, Ethan is forced to consider that nothing can matter more than his mission – not even the lives of those he cares about most.\n\nConnect with #MissionImpossible \n \nTikTok: https://www.tiktok.com/@missionimpossible\nInstagram: https://www.instagram.com/missionimpossible/\nTwitter: https://twitter.com/missionfilm/ \nFacebook: https://www.facebook.com/MissionImpossible/ \n\nParamount Pictures Corporation (PPC), a major global producer and distributor of filmed entertainment, is a unit of Viacom (NASDAQ: VIAB, VIA), home to premier global media brands that create compelling television programs, motion pictures, short-form content, apps, games, consumer products, social media experiences, and other entertainment content for audiences in more than 180 countries.\n \nConnect with Paramount Pictures Online:\n\nOfficial Site: http://www.paramount.com/\nTikTok: https://www.tiktok.com/@paramountpics\nInstagram: http://www.instagram.com/ParamountPics\nTwitter: https://twitter.com/paramountpics\nYouTube: https://www.youtube.com/user/Paramount\nFacebook: https://www.facebook.com/Paramount",
          "liveBroadcastContent": "none",
          "localized": {
           "description": "Watch the official trailer for #MissionImpossible – Dead Reckoning Part One, starring Tom Cruise. \n\nWatch Mission: Impossible - Dead Reckoning Part One on Digital TODAY: http://paramnt.us/MissionImpossibleDRP1 🏍️ \n\nSign up for EXCLUSIVE content and updates: https://www.missionimpossible.com/signup/ \n\nIn Mission: Impossible – Dead Reckoning Part One, Ethan Hunt (Tom Cruise) and his IMF team embark on their most dangerous mission yet: To track down a terrifying new weapon that threatens all of humanity before it falls into the wrong hands. With control of the future and the fate of the world at stake, and dark forces from Ethan's past closing in, a deadly race around the globe begins. Confronted by a mysterious, all-powerful enemy, Ethan is forced to consider that nothing can matter more than his mission – not even the lives of those he cares about most.\n\nConnect with #MissionImpossible \n \nTikTok: https://www.tiktok.com/@missionimpossible\nInstagram: https://www.instagram.com/missionimpossible/\nTwitter: https://twitter.com/missionfilm/ \nFacebook: https://www.facebook.com/MissionImpossible/ \n\nParamount Pictures Corporation (PPC), a major global producer and distributor of filmed entertainment, is a unit of Viacom (NASDAQ: VIAB, VIA), home to premier global media brands that create compelling television programs, motion pictures, short-form content, apps, games, consumer products, social media experiences, and other entertainment content for audiences in more than 180 countries.\n \nConnect with Paramount Pictures Online:\n\nOfficial Site: http://www.paramount.com/\nTikTok: https://www.tiktok.com/@paramountpics\nInstagram: http://www.instagram.com/ParamountPics\nTwitter: https://twitter.com/paramountpics\nYouTube: https://www.youtube.com/user/Paramount\nFacebook: https://www.facebook.com/Paramount",
           "title": "Mission: Impossible – Dead Reckoning Part One | Official Trailer (2023 Movie) - Tom Cruise"
          },
          "publishedAt": "2023-05-17T13:00:00Z",
          "thumbnails": {
           "default": {
            "height": 90,
            "url": "https://i.ytimg.com/vi/avz06PDqDbM/default.jpg",
            "width": 120
           },
           "high": {
            "height": 360,
            "url": "https://i.ytimg.com/vi/avz06PDqDbM/hqdefault.jpg",
            "width": 480
           },
           "maxres": {
            "height": 720,
            "url": "https://i.ytimg.com/vi/avz06PDqDbM/maxresdefault.jpg",
            "width": 1280
           },
           "medium": {
            "height": 180,
            "url": "https://i.ytimg.com/vi/avz06PDqDbM/mqdefault.jpg",
            "width": 320
           },
           "standard": {
            "height": 480,
            "url": "https://i.ytimg.com/vi/avz06PDqDbM/sddefault.jpg",
            "width": 640
           }
          },
          "title": "Mission: Impossible – Dead Reckoning Part One | Official Trailer (2023 Movie) - Tom Cruise"
         },
         "statistics": {
          "commentCount": "14534",
          "favoriteCount": "0",
          "likeCount": "329667",
          "viewCount": "28939657"
         }
        },
        {
         "contentDetails": {
          "caption": "true",
          "contentRating": {},
          "definition": "hd",
          "dimension": "2d",
          "duration": "PT1M8S",
          "licensedContent": true,
          "projection": "rectangular"
         },
         "etag": "asgOeOfM3yBTYBXRNo88N1IhX1k",
         "id": "HurjfO_TDlQ",
         "kind": "youtube#video",
         "snippet": {
          "categoryId": "1",
          "channelId": "UCF9imwPMSGz4Vq1NiTWCC7g",
          "channelTitle": "Paramount Pictures",
          "defaultAudioLanguage": "en-US",
          "description": "See why #MissionImpossible - Dead Reckoning Part One starring Tom Cruise is 99% CERTIFIED FRESH 🍅. \n\nWatch Mission: Impossible - Dead Reckoning Part One on Digital TODAY: http://paramnt.us/MissionImpossibleDRP1\n\nIn Mission: Impossible – Dead Reckoning Part One, Ethan Hunt (Tom Cruise) and his IMF team embark on their most dangerous mission yet: To track down a terrifying new weapon that threatens all of humanity before it falls into the wrong hands. With control of the future and the fate of the world at stake, and dark forces from Ethan's past closing in, a deadly race around the globe begins. Confronted by a mysterious, all-powerful enemy, Ethan is forced to consider that nothing can matter more than his mission – not even the lives of those he cares about most.\n\nTo sign-up for EXCLUSIVE content and updates: https://www.missionimpossible.com/signup/ \n\nConnect with #MissionImpossible \n \nTikTok: https://www.tiktok.com/@missionimpossible\nInstagram: https://www.instagram.com/missionimpossible/\nTwitter: https://twitter.com/missionfilm/ \nFacebook: https://www.facebook.com/MissionImpossible/ \n\nParamount Pictures Corporation (PPC), a major global producer and distributor of filmed entertainment, is a unit of Viacom (NASDAQ: VIAB, VIA), home to premier global media brands that create compelling television programs, motion pictures, short-form content, apps, games, consumer products, social media experiences, and other entertainment content for audiences in more than 180 countries.\n \nConnect with Paramount Pictures Online:\n\nOfficial Site: http://www.paramount.com/\nTikTok: https://www.tiktok.com/@paramountpics\nInstagram: http://www.instagram.com/ParamountPics\nTwitter: https://twitter.com/paramountpics\nYouTube: https://www.youtube.com/user/Paramount\nFacebook: https://www.facebook.com/Paramount",
          "liveBroadcastContent": "none",
          "localized": {
           "description": "See why #MissionImpossible - Dead Reckoning Part One starring Tom Cruise is 99% CERTIFIED FRESH 🍅. \n\nWatch Mission: Impossible - Dead Reckoning Part One on Digital TODAY: http://paramnt.us/MissionImpossibleDRP1\n\nIn Mission: Impossible – Dead Reckoning Part One, Ethan Hunt (Tom Cruise) and his IMF team embark on their most dangerous mission yet: To track down a terrifying new weapon that threatens all of humanity before it falls into the wrong hands. With control of the future and the fate of the world at stake, and dark forces from Ethan's past closing in, a deadly race around the globe begins. Confronted by a mysterious, all-powerful enemy, Ethan is forced to consider that nothing can matter more than his mission – not even the lives of those he cares about most.\n\nTo sign-up for EXCLUSIVE content and updates: https://www.missionimpossible.com/signup/ \n\nConnect with #MissionImpossible \n \nTikTok: https://www.tiktok.com/@missionimpossible\nInstagram: https://www.instagram.com/missionimpossible/\nTwitter: https://twitter.com/missionfilm/ \nFacebook: https://www.facebook.com/MissionImpossible/ \n\nParamount Pictures Corporation (PPC), a major global producer and distributor of filmed entertainment, is a unit of Viacom (NASDAQ: VIAB, VIA), home to premier global media brands that create compelling television programs, motion pictures, short-form content, apps, games, consumer products, social media experiences, and other entertainment content for audiences in more than 180 countries.\n \nConnect with Paramount Pictures Online:\n\nOfficial Site: http://www.paramount.com/\nTikTok: https://www.tiktok.com/@paramountpics\nInstagram: http://www.instagram.com/ParamountPics\nTwitter: https://twitter.com/paramountpics\nYouTube: https://www.youtube.com/user/Paramount\nFacebook: https://www.facebook.com/Paramount",
           "title": "Mission: Impossible – Dead Reckoning Part One | Final Trailer (2023 Movie) - Tom Cruise"
          },
          "publishedAt": "2023-07-10T13:00:02Z",
          "thumbnails": {
           "default": {
            "height": 90,
            "url": "https://i.ytimg.com/vi/HurjfO_TDlQ/default.jpg",
            "width": 120
           },
           "high": {
            "height": 360,
            "url": "https://i.ytimg.com/vi/HurjfO_TDlQ/hqdefault.jpg",
            "width": 480
           },
           "maxres": {
            "height": 720,
            "url": "https://i.ytimg.com/vi/HurjfO_TDlQ/maxresdefault.jpg",
            "width": 1280
           },
           "medium": {
            "height": 180,
            "url": "https://i.ytimg.com/vi/HurjfO_TDlQ/mqdefault.jpg",
            "width": 320
           },
           "standard": {
            "height": 480,
            "url": "https://i.ytimg.com/vi/HurjfO_TDlQ/sddefault.jpg",
            "width": 640
           }
          },
          "title": "Mission: Impossible – Dead Reckoning Part One | Final Trailer (2023 Movie) - Tom Cruise"
         },
         "statistics": {
          "commentCount": "1265",
          "favoriteCount": "0",
          "likeCount": "31684",
          "viewCount": "5899912"
         }
        },
        {
         "contentDetails": {
          "caption": "true",
          "contentRating": {},
          "definition": "hd",
          "dimension": "2d",
          "duration": "PT2M20S",
          "licensedContent": true,
          "projection": "rectangular"
         },
         "etag": "BfLNchjHHwtxleVwqJ_fHYuD5is",
         "id": "hXzcyx9V0xw",
         "kind": "youtube#video",
         "snippet": {
          "categoryId": "1",
          "channelId": "UC_IRYSp4auq7hKLvziWVH6w",
          "channelTitle": "Pixar",
          "defaultAudioLanguage": "en",
          "description": "This Summer, meet the residents of Element City\n\nWatch the new trailer for Disney and Pixar’s #Elemental and see the movie in 3D, only in theaters June 16!\n\nCheck out a brand-new trailer for Disney and Pixar’s “Elemental,” an all-new original feature film that transports moviegoers to an extraordinary place called Element City, where a host of elements live and work. The trailer showcases each element—air, earth, water and fire—and what sets them apart according to Ember, a quick-witted and fiery woman who’s always stayed close to home in Firetown. In “Elemental,” which opens in theaters on June 16, she finally ventures out of her comfort zone to explore this spectacular world born from the imaginations of Pixar’s filmmakers and specifically crafted for the big-screen experience. Element City is inspired by big cities around the globe and embraces theorized contributions from each elemental community—from giant pine-tree-like buildings and waterfall skyscrapers to a tornado-shaped arena called Cyclone Stadium. \n\nJoining the previously announced voice cast including Leah Lewis and Mamoudou Athie as Ember and Wade, respectively, are Ronnie del Carmen as Ember’s soon-to-be retired dad, Bernie; Shila Ommi as Ember’s love-seeking mom, Cinder; Wendi McLendon-Covey as Wade’s stormy and Air-Ball-loving boss, Gale; Catherine O’Hara as Wade’s welcoming mom, Brook; Mason Wertheimer as Ember’s admiring earth neighbor, Clod; and Joe Pera as an overgrown city bureaucrat, Fern.\n \nDirected by Peter Sohn, produced by Denise Ream, p.g.a., and executive produced by Pete Docter, “Elemental” features a screenplay by John Hoberg & Kat Likkel and Brenda Hsueh with story by Sohn, Hoberg & Likkel and Hsueh. The film’s original score was composed and conducted by Thomas Newman. \n\r\nPixar Instagram: https://www.instagram.com/pixar/\r\nPixar Twitter: https://twitter.com/pixar\r\nPixar Facebook: https://www.facebook.com/pixar\r\n \r\nCopyright: (C) Disney•Pixar",
          "liveBroadcastContent": "none",
          "localized": {
           "description": "This Summer, meet the residents of Element City\n\nWatch the new trailer for Disney and Pixar’s #Elemental and see the movie in 3D, only in theaters June 16!\n\nCheck out a brand-new trailer for Disney and Pixar’s “Elemental,” an all-new original feature film that transports moviegoers to an extraordinary place called Element City, where a host of elements live and work. The trailer showcases each element—air, earth, water and fire—and what sets them apart according to Ember, a quick-witted and fiery woman who’s always stayed close to home in Firetown. In “Elemental,” which opens in theaters on June 16, she finally ventures out of her comfort zone to explore this spectacular world born from the imaginations of Pixar’s filmmakers and specifically crafted for the big-screen experience. Element City is inspired by big cities around the globe and embraces theorized contributions from each elemental community—from giant pine-tree-like buildings and waterfall skyscrapers to a tornado-shaped arena called Cyclone Stadium. \n\nJoining the previously announced voice cast including Leah Lewis and Mamoudou Athie as Ember and Wade, respectively, are Ronnie del Carmen as Ember’s soon-to-be retired dad, Bernie; Shila Ommi as Ember’s love-seeking mom, Cinder; Wendi McLendon-Covey as Wade’s stormy and Air-Ball-loving boss, Gale; Catherine O’Hara as Wade’s welcoming mom, Brook; Mason Wertheimer as Ember’s admiring earth neighbor, Clod; and Joe Pera as an overgrown city bureaucrat, Fern.\n \nDirected by Peter Sohn, produced by Denise Ream, p.g.a., and executive produced by Pete Docter, “Elemental” features a screenplay by John Hoberg & Kat Likkel and Brenda Hsueh with story by Sohn, Hoberg & Likkel and Hsueh. The film’s original score was composed and conducted by Thomas Newman. \n\r\nPixar Instagram: https://www.instagram.com/pixar/\r\nPixar Twitter: https://twitter.com/pixar\r\nPixar Facebook: https://www.facebook.com/pixar\r\n \r\nCopyright: (C) Disney•Pixar",
           "title": "Elemental | Official Trailer"
          },
          "publishedAt": "2023-03-28T12:44:23Z",
          "tags": [
           "Pixar",
           "Disney",
           "Disney Pixar",
           "Pixar Movie",
           "Animation"
          ],
          "thumbnails": {
           "default": {
            "height": 90,
            "url": "https://i.ytimg.com/vi/hXzcyx9V0xw/default.jpg",
            "width": 120
           },
           "high": {
            "height": 360,
            "url": "https://i.ytimg.com/vi/hXzcyx9V0xw/hqdefault.jpg",
            "width": 480
           },
           "maxres": {
            "height": 720,
            "url": "https://i.ytimg.com/vi/hXzcyx9V0xw/maxresdefault.jpg",
            "width": 1280
           },
           "medium": {
            "height": 180,
            "url": "https://i.ytimg.com/vi/hXzcyx9V0xw/mqdefault.jpg",
            "width": 320
           },
           "standard": {
            "height": 480,
            "url": "https://i.ytimg.com/vi/hXzcyx9V0xw/sddefault.jpg",
            "width": 640
           }
          },
          "title": "Elemental | Official Trailer"
         },
         "statistics": {
          "commentCount": "12594",
          "favoriteCount": "0",
          "likeCount": "228999",
          "viewCount": "46568237"
         }
        },
        {
         "contentDetails": {
          "caption": "true",
          "contentRating": {},
          "definition": "hd",
          "dimension": "2d",
          "duration": "PT2M20S",
          "licensedContent": true,
          "projection": "rectangular"
         },
         "etag": "tOnMBFuP97Bjyhomy1crPMdvutA",
         "id": "ZlNFpri-Y40",
         "kind": "youtube#video",
         "snippet": {
          "categoryId": "24",
          "channelId": "UCvC4D8onUfXzvjTOM-dBfEA",
          "channelTitle": "Marvel Entertainment",
          "defaultAudioLanguage": "en",
          "description": "► Subscribe to Marvel on YouTube: http://bit.ly/WeO3YJ\n\nFollow Marvel on Twitter: ‪https://twitter.com/marvel\nLike Marvel on Facebook: ‪https://www.facebook.com/marvel\nWatch Marvel on Twitch: https://www.twitch.tv/marvel\n\nReward your Marvel fandom by joining Marvel Insider!\nEarn points, then redeem for awesome rewards.\nTerms and conditions apply. \nLearn more at https://www.marvel.com/insider?Osocial=YT&CID=MarvelInsider\n\nFor even more news, stay tuned to:\nTumblr: ‪http://marvelentertainment.tumblr.com/\nInstagram: https://www.instagram.com/marvel\nPinterest: ‪http://pinterest.com/marvelofficial\nReddit: http://reddit.com/u/marvel-official",
          "liveBroadcastContent": "none",
          "localized": {
           "description": "► Subscribe to Marvel on YouTube: http://bit.ly/WeO3YJ\n\nFollow Marvel on Twitter: ‪https://twitter.com/marvel\nLike Marvel on Facebook: ‪https://www.facebook.com/marvel\nWatch Marvel on Twitch: https://www.twitch.tv/marvel\n\nReward your Marvel fandom by joining Marvel Insider!\nEarn points, then redeem for awesome rewards.\nTerms and conditions apply. \nLearn more at https://www.marvel.com/insider?Osocial=YT&CID=MarvelInsider\n\nFor even more news, stay tuned to:\nTumblr: ‪http://marvelentertainment.tumblr.com/\nInstagram: https://www.instagram.com/marvel\nPinterest: ‪http://pinterest.com/marvelofficial\nReddit: http://reddit.com/u/marvel-official",
           "title": "Marvel Studios’ Ant-Man and The Wasp: Quantumania | Official Trailer"
          },
          "publishedAt": "2022-10-24T16:00:40Z",
          "tags": [
           "marvel",
           "comics",
           "official",
           "mcu",
           "ant-man",
           "the wasp",
           "quantumania",
           "kang"
          ],
          "thumbnails": {
           "default": {
            "height": 90,
            "url": "https://i.ytimg.com/vi/ZlNFpri-Y40/default.jpg",
            "width": 120
           },
           "high": {
            "height": 360,
            "url": "https://i.ytimg.com/vi/ZlNFpri-Y40/hqdefault.jpg",
            "width": 480
           },
           "maxres": {
            "height": 720,
            "url": "https://i.ytimg.com/vi/ZlNFpri-Y40/maxresdefault.jpg",
            "width": 1280
           },
           "medium": {
            "height": 180,
            "url": "https://i.ytimg.com/vi/ZlNFpri-Y40/mqdefault.jpg",
            "width": 320
           },
           "standard": {
            "height": 480,
            "url": "https://i.ytimg.com/vi/ZlNFpri-Y40/sddefault.jpg",
            "width": 640
           }
          },
          "title": "Marvel Studios’ Ant-Man and The Wasp: Quantumania | Official Trailer"
         },
         "statistics": {
          "commentCount": "40423",
          "favoriteCount": "0",
          "likeCount": "1019884",
          "viewCount": "33645596"
         }
        },
        {
         "contentDetails": {
          "caption": "true",
          "contentRating": {},
          "definition": "hd",
          "dimension": "2d",
          "duration": "PT2M19S",
          "licensedContent": true,
          "projection": "rectangular"
         },
         "etag": "KlGw3uU4q3afLP_nboxk_Vo6XE8",
         "id": "5WfTEZJnv_8",
         "kind": "youtube#video",
         "snippet": {
          "categoryId": "24",
          "channelId": "UCvC4D8onUfXzvjTOM-dBfEA",
          "channelTitle": "Marvel Entertainment",
          "defaultAudioLanguage": "en",
          "description": "Experience Marvel Studios’ Ant-Man and The Wasp: Quantumania in 3D February 17. Get tickets now: http://www.fandango.com/AntManAndTheWasp \n\n► Subscribe to Marvel on YouTube: http://bit.ly/WeO3YJ\n\nFollow Marvel on Twitter: ‪https://twitter.com/marvel\nLike Marvel on Facebook: ‪https://www.facebook.com/marvel\nWatch Marvel on Twitch: https://www.twitch.tv/marvel\n\nReward your Marvel fandom by joining Marvel Insider!\nEarn points, then redeem for awesome rewards.\nTerms and conditions apply. \nLearn more at https://www.marvel.com/insider?Osocial=YT&CID=MarvelInsider\n\nFor even more news, stay tuned to:\nTumblr: ‪http://marvelentertainment.tumblr.com/\nInstagram: https://www.instagram.com/marvel\nPinterest: ‪http://pinterest.com/marvelofficial\nReddit: http://reddit.com/u/marvel-official",
          "liveBroadcastContent": "none",
          "localized": {
           "description": "Experience Marvel Studios’ Ant-Man and The Wasp: Quantumania in 3D February 17. Get tickets now: http://www.fandango.com/AntManAndTheWasp \n\n► Subscribe to Marvel on YouTube: http://bit.ly/WeO3YJ\n\nFollow Marvel on Twitter: ‪https://twitter.com/marvel\nLike Marvel on Facebook: ‪https://www.facebook.com/marvel\nWatch Marvel on Twitch: https://www.twitch.tv/marvel\n\nReward your Marvel fandom by joining Marvel Insider!\nEarn points, then redeem for awesome rewards.\nTerms and conditions apply. \nLearn more at https://www.marvel.com/insider?Osocial=YT&CID=MarvelInsider\n\nFor even more news, stay tuned to:\nTumblr: ‪http://marvelentertainment.tumblr.com/\nInstagram: https://www.instagram.com/marvel\nPinterest: ‪http://pinterest.com/marvelofficial\nReddit: http://reddit.com/u/marvel-official",
           "title": "Marvel Studios’ Ant-Man and The Wasp: Quantumania | New Trailer"
          },
          "publishedAt": "2023-01-10T03:20:52Z",
          "tags": [
           "marvel",
           "comics"
          ],
          "thumbnails": {
           "default": {
            "height": 90,
            "url": "https://i.ytimg.com/vi/5WfTEZJnv_8/default.jpg",
            "width": 120
           },
           "high": {
            "height": 360,
            "url": "https://i.ytimg.com/vi/5WfTEZJnv_8/hqdefault.jpg",
            "width": 480
           },
           "maxres": {
            "height": 720,
            "url": "https://i.ytimg.com/vi/5WfTEZJnv_8/maxresdefault.jpg",
            "width": 1280
           },
           "medium": {
            "height": 180,
            "url": "https://i.ytimg.com/vi/5WfTEZJnv_8/mqdefault.jpg",
            "width": 320
           },
           "standard": {
            "height": 480,
            "url": "https://i.ytimg.com/vi/5WfTEZJnv_8/sddefault.jpg",
            "width": 640
           }
          },
          "title": "Marvel Studios’ Ant-Man and The Wasp: Quantumania | New Trailer"
         },
         "statistics": {
          "commentCount": "33862",
          "favoriteCount": "0",
          "likeCount": "588377",
          "viewCount": "26195186"
         }
        },
        {
         "contentDetails": {
          "caption": "true",
          "contentRating": {},
          "definition": "hd",
          "dimension": "2d",
          "duration": "PT2M30S",
          "licensedContent": true,
          "projection": "rectangular"
         },
         "etag": "qEhvt7_T58snYjDs6TujR9_GtGQ",
         "id": "qEVUtrk8_B4",
         "kind": "youtube#video",
         "snippet": {
          "categoryId": "1",
          "channelId": "UCJ6nMHaJPZvsJ-HmUmj1SeA",
          "channelTitle": "Lionsgate Movies",
          "defaultAudioLanguage": "en",
          "description": "#JohnWick4 – Now Available On Digital, 4K Ultra HD™ & Blu-Ray™. Starring Keanu Reeves, Donnie Yen, Bill Skarsgård, Laurence Fishburne, Hiroyuki Sanada, Shamier Anderson, Lance Reddick, Rina Sawayama, Scott Adkins, and Ian McShane. \n\nText 310-564-8005 for classified updates. Subscribe to the LIONSGATE YouTube Channel for the latest movies trailers, clips, and more: \nhttps://bit.ly/2Z6nfym\n\nhttps://www.johnwick.movie\nhttps://www.instagram.com/johnwickmovie/\nhttps://www.facebook.com/johnwickmovie\nhttps://twitter.com/JohnWickMovie\nhttps://www.tiktok.com/@lionsgate\n\nJohn Wick (Keanu Reeves) uncovers a path to defeating the High Table. But before he can earn his freedom, Wick must face off against a new enemy with powerful alliances across the globe and forces that turn old friends into foes.\n\nLionsgate presents, a Thunder Road Films / 87eleven production.",
          "liveBroadcastContent": "none",
          "localized": {
           "description": "#JohnWick4 – Now Available On Digital, 4K Ultra HD™ & Blu-Ray™. Starring Keanu Reeves, Donnie Yen, Bill Skarsgård, Laurence Fishburne, Hiroyuki Sanada, Shamier Anderson, Lance Reddick, Rina Sawayama, Scott Adkins, and Ian McShane. \n\nText 310-564-8005 for classified updates. Subscribe to the LIONSGATE YouTube Channel for the latest movies trailers, clips, and more: \nhttps://bit.ly/2Z6nfym\n\nhttps://www.johnwick.movie\nhttps://www.instagram.com/johnwickmovie/\nhttps://www.facebook.com/johnwickmovie\nhttps://twitter.com/JohnWickMovie\nhttps://www.tiktok.com/@lionsgate\n\nJohn Wick (Keanu Reeves) uncovers a path to defeating the High Table. But before he can earn his freedom, Wick must face off against a new enemy with powerful alliances across the globe and forces that turn old friends into foes.\n\nLionsgate presents, a Thunder Road Films / 87eleven production.",
           "title": "John Wick: Chapter 4 (2023 Movie) Official Trailer – Keanu Reeves, Donnie Yen, Bill Skarsgård"
          },
          "publishedAt": "2022-11-10T17:00:03Z",
          "tags": [
           "John Wick",
           "John Wick 4",
           "John Wick: Chapter 4",
           "John Wick Chapter 4",
           "Chad Stahelski",
           "Michael Finch",
           "Shay Hatten",
           "Derek Kolstad",
           "Keanu Reeves",
           "Donnie Yen",
           "Bill Skarsgård",
           "Laurence Fishburne",
           "Hiroyuki Sanada",
           "Bowery King",
           "Lance Reddick",
           "Rina Sawayama",
           "Ian McShane",
           "Winston",
           "action",
           "Scott Adkins",
           "Natalia Tena",
           "Clancy Brown",
           "hitman",
           "hit man",
           "assassin",
           "martial arts",
           "stunts",
           "babayaga",
           "new john wick",
           "john wick 4 trailer",
           "john wick official trailer"
          ],
          "thumbnails": {
           "default": {
            "height": 90,
            "url": "https://i.ytimg.com/vi/qEVUtrk8_B4/default.jpg",
            "width": 120
           },
           "high": {
            "height": 360,
            "url": "https://i.ytimg.com/vi/qEVUtrk8_B4/hqdefault.jpg",
            "width": 480
           },
           "maxres": {
            "height": 720,
            "url": "https://i.ytimg.com/vi/qEVUtrk8_B4/maxresdefault.jpg",
            "width": 1280
           },
           "medium": {
            "height": 180,
            "url": "https://i.ytimg.com/vi/qEVUtrk8_B4/mqdefault.jpg",
            "width": 320
           },
           "standard": {
            "height": 480,
            "url": "https://i.ytimg.com/vi/qEVUtrk8_B4/sddefault.jpg",
            "width": 640
           }
          },
          "title": "John Wick: Chapter 4 (2023 Movie) Official Trailer – Keanu Reeves, Donnie Yen, Bill Skarsgård"
         },
         "statistics": {
          "commentCount": "30389",
          "favoriteCount": "0",
          "likeCount": "727909",
          "viewCount": "49421526"
         }
        },
        {
         "contentDetails": {
          "caption": "true",
          "contentRating": {},
          "definition": "hd",
          "dimension": "2d",
          "duration": "PT1M31S",
          "licensedContent": true,
          "projection": "rectangular"
         },
         "etag": "aDpvbMAB821BrcbjaxWLk77qK5k",
         "id": "yjRHZEUamCc",
         "kind": "youtube#video",
         "snippet": {
          "categoryId": "1",
          "channelId": "UCJ6nMHaJPZvsJ-HmUmj1SeA",
          "channelTitle": "Lionsgate Movies",
          "defaultAudioLanguage": "en",
          "description": "#JohnWick4 – Now Available On Digital, 4K Ultra HD™ & Blu-Ray™. Starring Keanu Reeves, Donnie Yen, Bill Skarsgård, Laurence Fishburne, Hiroyuki Sanada, Shamier Anderson, Lance Reddick, Rina Sawayama, Scott Adkins, and Ian McShane. \n\nText 310-564-8005 for classified updates. Subscribe to the LIONSGATE YouTube Channel for the latest movies trailers, clips, and more: \nhttps://bit.ly/2Z6nfym\n\nhttps://www.johnwick.movie\nhttps://www.instagram.com/johnwickmovie/\nhttps://www.facebook.com/johnwickmovie\nhttps://twitter.com/JohnWickMovie\nhttps://www.tiktok.com/@lionsgate\n\nJohn Wick (Keanu Reeves) uncovers a path to defeating the High Table. But before he can earn his freedom, Wick must face off against a new enemy with powerful alliances across the globe and forces that turn old friends into foes.\n\nLionsgate presents, a Thunder Road Films / 87eleven production.",
          "liveBroadcastContent": "none",
          "localized": {
           "description": "#JohnWick4 – Now Available On Digital, 4K Ultra HD™ & Blu-Ray™. Starring Keanu Reeves, Donnie Yen, Bill Skarsgård, Laurence Fishburne, Hiroyuki Sanada, Shamier Anderson, Lance Reddick, Rina Sawayama, Scott Adkins, and Ian McShane. \n\nText 310-564-8005 for classified updates. Subscribe to the LIONSGATE YouTube Channel for the latest movies trailers, clips, and more: \nhttps://bit.ly/2Z6nfym\n\nhttps://www.johnwick.movie\nhttps://www.instagram.com/johnwickmovie/\nhttps://www.facebook.com/johnwickmovie\nhttps://twitter.com/JohnWickMovie\nhttps://www.tiktok.com/@lionsgate\n\nJohn Wick (Keanu Reeves) uncovers a path to defeating the High Table. But before he can earn his freedom, Wick must face off against a new enemy with powerful alliances across the globe and forces that turn old friends into foes.\n\nLionsgate presents, a Thunder Road Films / 87eleven production.",
           "title": "John Wick: Chapter 4 (2023) Final Trailer – Keanu Reeves, Donnie Yen, Bill Skarsgård"
          },
          "publishedAt": "2023-02-16T15:15:17Z",
          "tags": [
           "John Wick",
           "John Wick 4",
           "John Wick: Chapter 4",
           "John Wick Chapter 4",
           "Chad Stahelski",
           "Michael Finch",
           "Shay Hatten",
           "Derek Kolstad",
           "Keanu Reeves",
           "Donnie Yen",
           "Bill Skarsgård",
           "Laurence Fishburne",
           "Hiroyuki Sanada",
           "Bowery King",
           "Lance Reddick",
           "Rina Sawayama",
           "Ian McShane",
           "Winston",
           "action",
           "Scott Adkins",
           "Natalia Tena",
           "Clancy Brown",
           "hitman",
           "hit man",
           "assassin",
           "martial arts",
           "stunts",
           "babayaga",
           "new john wick",
           "john wick 4 trailer",
           "john wick official trailer",
           "final trailer"
          ],
          "thumbnails": {
           "default": {
            "height": 90,
            "url": "https://i.ytimg.com/vi/yjRHZEUamCc/default.jpg",
            "width": 120
           },
           "high": {
            "height": 360,
            "url": "https://i.ytimg.com/vi/yjRHZEUamCc/hqdefault.jpg",
            "width": 480
           },
           "maxres": {
            "height": 720,
            "url": "https://i.ytimg.com/vi/yjRHZEUamCc/maxresdefault.jpg",
            "width": 1280
           },
           "medium": {
            "height": 180,
            "url": "https://i.ytimg.com/vi/yjRHZEUamCc/mqdefault.jpg",
            "width": 320
           },
           "standard": {
            "height": 480,
            "url": "https://i.ytimg.com/vi/yjRHZEUamCc/sddefault.jpg",
            "width": 640
           }
          },
          "title": "John Wick: Chapter 4 (2023) Final Trailer – Keanu Reeves, Donnie Yen, Bill Skarsgård"
         },
         "statistics": {
          "commentCount": "15402",
          "favoriteCount": "0",
          "likeCount": "325261",
          "viewCount": "31312679"
         }
        },
        {
         "contentDetails": {
          "caption": "true",
          "contentRating": {},
          "definition": "hd",
          "dimension": "2d",
          "duration": "PT2M33S",
          "licensedContent": true,
          "projection": "rectangular"
         },
         "etag": "TBbiAoMVVgTGnKZXeVSZ10_Z0QQ",
         "id": "itnqEauWQZM",
         "kind": "youtube#video",
         "snippet": {
          "categoryId": "1",
          "channelId": "UCF9imwPMSGz4Vq1NiTWCC7g",
          "channelTitle": "Paramount Pictures",
          "defaultAudioLanguage": "en-US",
          "description": "UNITE or FALL. Watch the new trailer for #Transformers: #RiseOfTheBeasts.\n\nBuy or Rent Transformers: Rise of the Beasts today: http://paramnt.us/TransformersROTB\n\nSign up for EXCLUSIVE content and updates: https://paramnt.us/TROTBSignUp\n\nReturning to the action and spectacle that have captured moviegoers around the world, Transformers: Rise of the Beasts will take audiences on a ‘90s globetrotting adventure with the Autobots and introduce a whole new faction of Transformers – the Maximals – to join them as allies in the existing battle for earth. Directed by Steven Caple Jr. and starring Anthony Ramos and Dominique Fishback, the film arrives in theatres June 9, 2023.\n\nTikTok: https://www.tiktok.com/@transformersmovie\nInstagram: https://www.instagram.com/transformersmovie/ \nTwitter: https://twitter.com/transformers \nFacebook: https://www.facebook.com/transformersmovie \n\nParamount Pictures Corporation (PPC), a major global producer and distributor of filmed entertainment, is a unit of Viacom (NASDAQ: VIAB, VIA), home to premier global media brands that create compelling television programs, motion pictures, short-form content, apps, games, consumer products, social media experiences, and other entertainment content for audiences in more than 180 countries.\n \nConnect with Paramount Pictures Online:\n \nOfficial Site: http://www.paramount.com/\nTikTok: https://www.tiktok.com/@paramountpics\nInstagram: http://www.instagram.com/ParamountPics\nTwitter: https://twitter.com/paramountpics\nYouTube: https://www.youtube.com/user/Paramount\nFacebook: https://www.facebook.com/Paramount",
          "liveBroadcastContent": "none",
          "localized": {
           "description": "UNITE or FALL. Watch the new trailer for #Transformers: #RiseOfTheBeasts.\n\nBuy or Rent Transformers: Rise of the Beasts today: http://paramnt.us/TransformersROTB\n\nSign up for EXCLUSIVE content and updates: https://paramnt.us/TROTBSignUp\n\nReturning to the action and spectacle that have captured moviegoers around the world, Transformers: Rise of the Beasts will take audiences on a ‘90s globetrotting adventure with the Autobots and introduce a whole new faction of Transformers – the Maximals – to join them as allies in the existing battle for earth. Directed by Steven Caple Jr. and starring Anthony Ramos and Dominique Fishback, the film arrives in theatres June 9, 2023.\n\nTikTok: https://www.tiktok.com/@transformersmovie\nInstagram: https://www.instagram.com/transformersmovie/ \nTwitter: https://twitter.com/transformers \nFacebook: https://www.facebook.com/transformersmovie \n\nParamount Pictures Corporation (PPC), a major global producer and distributor of filmed entertainment, is a unit of Viacom (NASDAQ: VIAB, VIA), home to premier global media brands that create compelling television programs, motion pictures, short-form content, apps, games, consumer products, social media experiences, and other entertainment content for audiences in more than 180 countries.\n \nConnect with Paramount Pictures Online:\n \nOfficial Site: http://www.paramount.com/\nTikTok: https://www.tiktok.com/@paramountpics\nInstagram: http://www.instagram.com/ParamountPics\nTwitter: https://twitter.com/paramountpics\nYouTube: https://www.youtube.com/user/Paramount\nFacebook: https://www.facebook.com/Paramount",
           "title": "Transformers: Rise of the Beasts | Official Trailer (2023 Movie)"
          },
          "publishedAt": "2023-04-27T13:00:05Z",
          "tags": [
           "transformers rise of the beasts trailer",
           "transformers rise of the beasts",
           "new transformers trailer",
           "anthony ramos",
           "dominique fishback",
           "steven caple jr",
           "ron perlman",
           "pete davidson",
           "peter dinklage",
           "michelle yeoh",
           "michael bay",
           "peter cullen",
           "Tobe Nwigwe",
           "John DiMaggio",
           "David Sobolov",
           "Michaela Jae Rodriguez",
           "Cristo Fernandez",
           "Tongayi Chirisa",
           "Colman Domingo"
          ],
          "thumbnails": {
           "default": {
            "height": 90,
            "url": "https://i.ytimg.com/vi/itnqEauWQZM/default.jpg",
            "width": 120
           },
           "high": {
            "height": 360,
            "url": "https://i.ytimg.com/vi/itnqEauWQZM/hqdefault.jpg",
            "width": 480
           },
           "maxres": {
            "height": 720,
            "url": "https://i.ytimg.com/vi/itnqEauWQZM/maxresdefault.jpg",
            "width": 1280
           },
           "medium": {
            "height": 180,
            "url": "https://i.ytimg.com/vi/itnqEauWQZM/mqdefault.jpg",
            "width": 320
           },
           "standard": {
            "height": 480,
            "url": "https://i.ytimg.com/vi/itnqEauWQZM/sddefault.jpg",
            "width": 640
           }
          },
          "title": "Transformers: Rise of the Beasts | Official Trailer (2023 Movie)"
         },
         "statistics": {
          "commentCount": "27966",
          "favoriteCount": "0",
          "likeCount": "422322",
          "viewCount": "32632352"
         }
        },
        {
         "contentDetails": {
          "caption": "false",
          "contentRating": {},
          "definition": "hd",
          "dimension": "2d",
          "duration": "PT1M40S",
          "licensedContent": true,
          "projection": "rectangular"
         },
         "etag": "8Imm-E73S7DhNXjrpOxCsbW0T9Y",
         "id": "ZtuFgnxQMrA",
         "kind": "youtube#video",
         "snippet": {
          "categoryId": "1",
          "channelId": "UCF9imwPMSGz4Vq1NiTWCC7g",
          "channelTitle": "Paramount Pictures",
          "defaultAudioLanguage": "en-US",
          "description": "Rise of the Beasts is “the best Transformers movie yet.” See it on the biggest screen possible. Watch the final trailer now.\n\nBuy or Rent Transformers: Rise of the Beasts today: http://paramnt.us/TransformersROTB\n\nReturning to the action and spectacle that have captured moviegoers around the world, Transformers: Rise of the Beasts will take audiences on a ‘90s globetrotting adventure with the Autobots and introduce a whole new faction of Transformers – the Maximals – to join them as allies in the existing battle for earth. Directed by Steven Caple Jr. and starring Anthony Ramos and Dominique Fishback, the film arrives in theatres June 9, 2023.\n\nTikTok: https://www.tiktok.com/@transformersmovie\nInstagram: https://www.instagram.com/transformersmovie/\nTwitter: https://twitter.com/transformers \nFacebook: https://www.facebook.com/transformersmovie\n\nParamount Pictures Corporation (PPC), a major global producer and distributor of filmed entertainment, is a unit of Viacom (NASDAQ: VIAB, VIA), home to premier global media brands that create compelling television programs, motion pictures, short-form content, apps, games, consumer products, social media experiences, and other entertainment content for audiences in more than 180 countries.\n \nConnect with Paramount Pictures Online:\n \nOfficial Site: http://www.paramount.com/\nTikTok: https://www.tiktok.com/@paramountpics\nInstagram: http://www.instagram.com/ParamountPics\nTwitter: https://twitter.com/paramountpics\nYouTube:   https://www.youtube.com/user/Paramount   \nFacebook: https://www.facebook.com/Paramount",
          "liveBroadcastContent": "none",
          "localized": {
           "description": "Rise of the Beasts is “the best Transformers movie yet.” See it on the biggest screen possible. Watch the final trailer now.\n\nBuy or Rent Transformers: Rise of the Beasts today: http://paramnt.us/TransformersROTB\n\nReturning to the action and spectacle that have captured moviegoers around the world, Transformers: Rise of the Beasts will take audiences on a ‘90s globetrotting adventure with the Autobots and introduce a whole new faction of Transformers – the Maximals – to join them as allies in the existing battle for earth. Directed by Steven Caple Jr. and starring Anthony Ramos and Dominique Fishback, the film arrives in theatres June 9, 2023.\n\nTikTok: https://www.tiktok.com/@transformersmovie\nInstagram: https://www.instagram.com/transformersmovie/\nTwitter: https://twitter.com/transformers \nFacebook: https://www.facebook.com/transformersmovie\n\nParamount Pictures Corporation (PPC), a major global producer and distributor of filmed entertainment, is a unit of Viacom (NASDAQ: VIAB, VIA), home to premier global media brands that create compelling television programs, motion pictures, short-form content, apps, games, consumer products, social media experiences, and other entertainment content for audiences in more than 180 countries.\n \nConnect with Paramount Pictures Online:\n \nOfficial Site: http://www.paramount.com/\nTikTok: https://www.tiktok.com/@paramountpics\nInstagram: http://www.instagram.com/ParamountPics\nTwitter: https://twitter.com/paramountpics\nYouTube:   https://www.youtube.com/user/Paramount   \nFacebook: https://www.facebook.com/Paramount",
           "title": "Transformers: Rise of the Beasts | Official Final Trailer (2023 Movie)"
          },
          "publishedAt": "2023-06-06T16:08:29Z",
          "tags": [
           "transformers rise of the beasts trailer",
           "transformers rise of the beasts",
           "new transformers trailer",
           "anthony ramos",
           "dominique fishback",
           "steven caple jr",
           "ron perlman",
           "pete davidson",
           "peter dinklage",
           "michelle yeoh",
           "michael bay",
           "peter cullen",
           "Tobe Nwigwe",
           "John DiMaggio",
           "David Sobolov",
           "Michaela Jae Rodriguez",
           "Cristo Fernandez",
           "Tongayi Chirisa",
           "Colman Domingo"
          ],
          "thumbnails": {
           "default": {
            "height": 90,
            "url": "https://i.ytimg.com/vi/ZtuFgnxQMrA/default.jpg",
            "width": 120
           },
           "high": {
            "height": 360,
            "url": "https://i.ytimg.com/vi/ZtuFgnxQMrA/hqdefault.jpg",
            "width": 480
           },
           "maxres": {
            "height": 720,
            "url": "https://i.ytimg.com/vi/ZtuFgnxQMrA/maxresdefault.jpg",
            "width": 1280
           },
           "medium": {
            "height": 180,
            "url": "https://i.ytimg.com/vi/ZtuFgnxQMrA/mqdefault.jpg",
            "width": 320
           },
           "standard": {
            "height": 480,
            "url": "https://i.ytimg.com/vi/ZtuFgnxQMrA/sddefault.jpg",
            "width": 640
           }
          },
          "title": "Transformers: Rise of the Beasts | Official Final Trailer (2023 Movie)"
         },
         "statistics": {
          "commentCount": "4221",
          "favoriteCount": "0",
          "likeCount": "98817",
          "viewCount": "11683269"
         }
        },
        {
         "contentDetails": {
          "caption": "true",
          "contentRating": {},
          "definition": "hd",
          "dimension": "2d",
          "duration": "PT2M52S",
          "licensedContent": false,
          "projection": "rectangular"
         },
         "etag": "YjYtb3AzZEJUm5w2xPDWvV8y9QQ",
         "id": "dG91B3hHyY4",
         "kind": "youtube#video",
         "snippet": {
          "categoryId": "1",
          "channelId": "UCjmJDM5pRKbUlVIzDYYWb6g",
          "channelTitle": "Warner Bros. Pictures",
          "defaultAudioLanguage": "en-US",
          "description": "They’re back for seconds. #Meg2 only in theaters August 4.\n\nGet ready for the ultimate adrenaline rush this summer in “Meg 2: The Trench,” a literally larger-than-life thrill ride that supersizes the 2018 blockbuster and takes the action to higher heights and even greater depths with multiple massive Megs and so much more! Dive into uncharted waters with Jason Statham and global action icon Wu Jing as they lead a daring research team on an exploratory dive into the deepest depths of the ocean. Their voyage spirals into chaos when a malevolent mining operation threatens their mission and forces them into a high-stakes battle for survival. Pitted against colossal Megs and relentless environmental plunderers, our heroes must outrun, outsmart, and outswim their merciless predators in a pulse-pounding race against time. Immerse yourself in the most electrifying cinematic experience of the year with “Meg 2: The Trench” – where the depths of the ocean are matched only by the heights of sheer, unstoppable excitement!\n\nWarner Bros. Pictures and CMC Pictures present “Meg 2: The Trench,” with Statham and Jing headlining an ensemble cast that also includes Sophia Cai (“The Meg”), Page Kennedy (“The Meg”), Sergio Peris-Mencheta (“Rambo: Last Blood”), Skyler Samuels (“The Gifted”), and Cliff Curtis (“Avatar” franchise).\n“Meg 2: The Trench” is directed by Ben Wheatley (“In the Earth,” “Free Fire”), from a screenplay by Jon Hoeber & Erich Hoeber (“The Meg,” “Transformers: Rise of the Beasts”) and Dean Georgaris (“The Meg,” “Lara Croft: Toom Raider – The Cradle of Life”), and a screen story by Dean Georgaris and Jon Hoeber & Erich Hoeber, based on the novel The Trench by Steve Alten. The film is produced by Lorenzo di Bonaventura (“The Meg,” “Bumblebee”) and Belle Avery (“The Meg,” “Before the Devil Knows You’re Dead”), and executive produced by Jason Statham, Cate Adams, Ruigang Li, Catherine Xujun Ying, Wu Jing, E. Bennett Walsh, Erik Howsam, Gerald R. Molen and Randy Greenberg. \n\nJoining director Wheatley behind the camera are director of photography Haris Zambarloukous (“Belfast,” “Murder on the Orient Express”), production designer Chris Lowe (“The Gray Man,” “No Time to Die”) and editor Jonathan Amos (“Baby Driver,” “Paddington 2”). The visual effects supervisor is Pete Bebb (“Fantastic Beasts and Where to Find Them,” “Inception”), and costume designer is Lindsay Pugh (“The Matrix Resurrections,” “Krypton”). The music is by Harry Gregson-Williams (“The Meg,” “The Martian”).\n\nWarner Bros. Pictures and CMC Pictures present, in association with DF Pictures, a di Bonaventura/Apelles Entertainment, Inc. production, a Ben Wheatley film, “Meg 2: The Trench.” It will be distributed worldwide by Warner Bros. Pictures and is set to open in theaters in North America on August 4, 2023 and internationally beginning 02 August 2023.",
          "liveBroadcastContent": "none",
          "localized": {
           "description": "They’re back for seconds. #Meg2 only in theaters August 4.\n\nGet ready for the ultimate adrenaline rush this summer in “Meg 2: The Trench,” a literally larger-than-life thrill ride that supersizes the 2018 blockbuster and takes the action to higher heights and even greater depths with multiple massive Megs and so much more! Dive into uncharted waters with Jason Statham and global action icon Wu Jing as they lead a daring research team on an exploratory dive into the deepest depths of the ocean. Their voyage spirals into chaos when a malevolent mining operation threatens their mission and forces them into a high-stakes battle for survival. Pitted against colossal Megs and relentless environmental plunderers, our heroes must outrun, outsmart, and outswim their merciless predators in a pulse-pounding race against time. Immerse yourself in the most electrifying cinematic experience of the year with “Meg 2: The Trench” – where the depths of the ocean are matched only by the heights of sheer, unstoppable excitement!\n\nWarner Bros. Pictures and CMC Pictures present “Meg 2: The Trench,” with Statham and Jing headlining an ensemble cast that also includes Sophia Cai (“The Meg”), Page Kennedy (“The Meg”), Sergio Peris-Mencheta (“Rambo: Last Blood”), Skyler Samuels (“The Gifted”), and Cliff Curtis (“Avatar” franchise).\n“Meg 2: The Trench” is directed by Ben Wheatley (“In the Earth,” “Free Fire”), from a screenplay by Jon Hoeber & Erich Hoeber (“The Meg,” “Transformers: Rise of the Beasts”) and Dean Georgaris (“The Meg,” “Lara Croft: Toom Raider – The Cradle of Life”), and a screen story by Dean Georgaris and Jon Hoeber & Erich Hoeber, based on the novel The Trench by Steve Alten. The film is produced by Lorenzo di Bonaventura (“The Meg,” “Bumblebee”) and Belle Avery (“The Meg,” “Before the Devil Knows You’re Dead”), and executive produced by Jason Statham, Cate Adams, Ruigang Li, Catherine Xujun Ying, Wu Jing, E. Bennett Walsh, Erik Howsam, Gerald R. Molen and Randy Greenberg. \n\nJoining director Wheatley behind the camera are director of photography Haris Zambarloukous (“Belfast,” “Murder on the Orient Express”), production designer Chris Lowe (“The Gray Man,” “No Time to Die”) and editor Jonathan Amos (“Baby Driver,” “Paddington 2”). The visual effects supervisor is Pete Bebb (“Fantastic Beasts and Where to Find Them,” “Inception”), and costume designer is Lindsay Pugh (“The Matrix Resurrections,” “Krypton”). The music is by Harry Gregson-Williams (“The Meg,” “The Martian”).\n\nWarner Bros. Pictures and CMC Pictures present, in association with DF Pictures, a di Bonaventura/Apelles Entertainment, Inc. production, a Ben Wheatley film, “Meg 2: The Trench.” It will be distributed worldwide by Warner Bros. Pictures and is set to open in theaters in North America on August 4, 2023 and internationally beginning 02 August 2023.",
           "title": "MEG 2: THE TRENCH - OFFICIAL TRAILER"
          },
          "publishedAt": "2023-05-08T22:00:15Z",
          "tags": [
           "Belle Avery",
           "Ben Wheatley",
           "CMC Pictures",
           "Cliff Curtis",
           "Coming Soon",
           "DF Pictures",
           "Dean Georgaris",
           "Erich Hoeber",
           "Film",
           "Film Trailer",
           "Film Warner",
           "Jason Statham",
           "Jon Hoeber",
           "Lorenzo di Bonaventura",
           "Meg 2: The Trench",
           "Movie",
           "Official Trailer",
           "Page Kennedy",
           "Sergio Peris-Mencheta",
           "Sienna Guillory",
           "Skyler Samuels",
           "Sophia Cai",
           "Steve Alten",
           "Trailer",
           "Trailer 2023",
           "WB",
           "Warner",
           "Warner Bros",
           "Warner Brothers",
           "Warner Media",
           "Wu Jing",
           "meg",
           "shark",
           "shark attack",
           "sharks",
           "the meg"
          ],
          "thumbnails": {
           "default": {
            "height": 90,
            "url": "https://i.ytimg.com/vi/dG91B3hHyY4/default.jpg",
            "width": 120
           },
           "high": {
            "height": 360,
            "url": "https://i.ytimg.com/vi/dG91B3hHyY4/hqdefault.jpg",
            "width": 480
           },
           "medium": {
            "height": 180,
            "url": "https://i.ytimg.com/vi/dG91B3hHyY4/mqdefault.jpg",
            "width": 320
           },
           "standard": {
            "height": 480,
            "url": "https://i.ytimg.com/vi/dG91B3hHyY4/sddefault.jpg",
            "width": 640
           }
          },
          "title": "MEG 2: THE TRENCH - OFFICIAL TRAILER"
         },
         "statistics": {
          "commentCount": "20665",
          "favoriteCount": "0",
          "likeCount": "316028",
          "viewCount": "46942856"
         }
        },
        {
         "contentDetails": {
          "caption": "true",
          "contentRating": {},
          "definition": "hd",
          "dimension": "2d",
          "duration": "PT2M9S",
          "licensedContent": true,
          "projection": "rectangular"
         },
         "etag": "Os2_XOwMiWq9VH5PgrhSgGMS1H0",
         "id": "eQfMbSe7F2g",
         "kind": "youtube#video",
         "snippet": {
          "categoryId": "1",
          "channelId": "UCnwY6fAhE3ePu0F2nMP-DLg",
          "channelTitle": "Lucasfilm",
          "defaultAudioLanguage": "en",
          "description": "Indiana Jones and the Dial of Destiny in theaters June 30.\n\nHarrison Ford returns as the legendary hero archaeologist in the highly anticipated fifth installment of the iconic “Indiana Jones” franchise, which is directed by James Mangold (“Ford v Ferrari,” “Logan”). Starring along with Ford are Phoebe Waller-Bridge (“Fleabag”), Antonio Banderas (“Pain and Glory”), John Rhys-Davies (“Raiders of the Lost Ark”), Shaunette Renee Wilson (“Black Panther”), Thomas Kretschmann (“Das Boot”), Toby Jones (“Jurassic World: Fallen Kingdom”), Boyd Holbrook (“Logan”), Oliver Richters (“Black Widow”), Ethann Isidore (“Mortel”) and Mads Mikkelsen (“Fantastic Beasts: The Secrets of Dumbledore”). Directed by James Mangold, the film is produced by Kathleen Kennedy, Frank Marshall and Simon Emanuel, with Steven Spielberg and George Lucas serving as executive producers. John Williams, who has scored each Indy adventure since the original \"Raiders of the Lost Ark\" in 1981, is once again composing the score.",
          "liveBroadcastContent": "none",
          "localized": {
           "description": "Indiana Jones and the Dial of Destiny in theaters June 30.\n\nHarrison Ford returns as the legendary hero archaeologist in the highly anticipated fifth installment of the iconic “Indiana Jones” franchise, which is directed by James Mangold (“Ford v Ferrari,” “Logan”). Starring along with Ford are Phoebe Waller-Bridge (“Fleabag”), Antonio Banderas (“Pain and Glory”), John Rhys-Davies (“Raiders of the Lost Ark”), Shaunette Renee Wilson (“Black Panther”), Thomas Kretschmann (“Das Boot”), Toby Jones (“Jurassic World: Fallen Kingdom”), Boyd Holbrook (“Logan”), Oliver Richters (“Black Widow”), Ethann Isidore (“Mortel”) and Mads Mikkelsen (“Fantastic Beasts: The Secrets of Dumbledore”). Directed by James Mangold, the film is produced by Kathleen Kennedy, Frank Marshall and Simon Emanuel, with Steven Spielberg and George Lucas serving as executive producers. John Williams, who has scored each Indy adventure since the original \"Raiders of the Lost Ark\" in 1981, is once again composing the score.",
           "title": "Indiana Jones and the Dial of Destiny | Official Trailer"
          },
          "publishedAt": "2023-04-07T11:57:51Z",
          "thumbnails": {
           "default": {
            "height": 90,
            "url": "https://i.ytimg.com/vi/eQfMbSe7F2g/default.jpg",
            "width": 120
           },
           "high": {
            "height": 360,
            "url": "https://i.ytimg.com/vi/eQfMbSe7F2g/hqdefault.jpg",
            "width": 480
           },
           "maxres": {
            "height": 720,
            "url": "https://i.ytimg.com/vi/eQfMbSe7F2g/maxresdefault.jpg",
            "width": 1280
           },
           "medium": {
            "height": 180,
            "url": "https://i.ytimg.com/vi/eQfMbSe7F2g/mqdefault.jpg",
            "width": 320
           },
           "standard": {
            "height": 480,
            "url": "https://i.ytimg.com/vi/eQfMbSe7F2g/sddefault.jpg",
            "width": 640
           }
          },
          "title": "Indiana Jones and the Dial of Destiny | Official Trailer"
         },
         "statistics": {
          "commentCount": "19178",
          "favoriteCount": "0",
          "viewCount": "16408874"
         }
        },
        {
         "contentDetails": {
          "caption": "true",
          "contentRating": {},
          "definition": "hd",
          "dimension": "2d",
          "duration": "PT2M49S",
          "licensedContent": true,
          "projection": "rectangular"
         },
         "etag": "exaFZZzVXk1HTNocV3r0FMB8fGg",
         "id": "RDE6Uz73A7g",
         "kind": "youtube#video",
         "snippet": {
          "categoryId": "1",
          "channelId": "UCJ6nMHaJPZvsJ-HmUmj1SeA",
          "channelTitle": "Lionsgate Movies",
          "defaultAudioLanguage": "en",
          "description": "The Hunger Games: The Ballad of Songbirds & Snakes – In Theaters November 17, 2023. Starring Tom Blyth, Rachel Zegler, Peter Dinklage, Hunter Schafer, Josh Andrés Rivera, Jason Schwartzman, and Viola Davis.                \n\nText 717-THG-MKJY to enter the games.\n\nSubscribe to the LIONSGATE YouTube Channel for the latest movie trailers, clips, and more: https://bit.ly/2Z6nfym ​\n\nhttps://hungergames.movie/\nhttps://www.facebook.com/TheHungerGam...\nhttps://www.instagram.com/thehungergames\nhttps://twitter.com/thehungergames\nhttps://www.tiktok.com/@lionsgate\n\nExperience the story of THE HUNGER GAMES — 64 years before Katniss Everdeen volunteered as tribute, and decades before Coriolanus Snow became the tyrannical President of Panem.\n \nTHE HUNGER GAMES: THE BALLAD OF SONGBIRDS & SNAKES follows a young Coriolanus (Tom Blyth) who is the last hope for his failing lineage, the once-proud Snow family that has fallen from grace in a post-war Capitol. With his livelihood threatened, Snow is reluctantly assigned to mentor Lucy Gray Baird (Rachel Zegler), a tribute from the impoverished District 12. But after Lucy Gray’s charm captivates the audience of Panem, Snow sees an opportunity to shift their fates. With everything he has worked for hanging in the balance, Snow unites with Lucy Gray to turn the odds in their favor. Battling his instincts for both good and evil, Snow sets out on a race against time to survive and reveal if he will ultimately become a songbird or a snake.\n\nLionsgate presents, a Color Force / Lionsgate / about:blank production.",
          "liveBroadcastContent": "none",
          "localized": {
           "description": "The Hunger Games: The Ballad of Songbirds & Snakes – In Theaters November 17, 2023. Starring Tom Blyth, Rachel Zegler, Peter Dinklage, Hunter Schafer, Josh Andrés Rivera, Jason Schwartzman, and Viola Davis.                \n\nText 717-THG-MKJY to enter the games.\n\nSubscribe to the LIONSGATE YouTube Channel for the latest movie trailers, clips, and more: https://bit.ly/2Z6nfym ​\n\nhttps://hungergames.movie/\nhttps://www.facebook.com/TheHungerGam...\nhttps://www.instagram.com/thehungergames\nhttps://twitter.com/thehungergames\nhttps://www.tiktok.com/@lionsgate\n\nExperience the story of THE HUNGER GAMES — 64 years before Katniss Everdeen volunteered as tribute, and decades before Coriolanus Snow became the tyrannical President of Panem.\n \nTHE HUNGER GAMES: THE BALLAD OF SONGBIRDS & SNAKES follows a young Coriolanus (Tom Blyth) who is the last hope for his failing lineage, the once-proud Snow family that has fallen from grace in a post-war Capitol. With his livelihood threatened, Snow is reluctantly assigned to mentor Lucy Gray Baird (Rachel Zegler), a tribute from the impoverished District 12. But after Lucy Gray’s charm captivates the audience of Panem, Snow sees an opportunity to shift their fates. With everything he has worked for hanging in the balance, Snow unites with Lucy Gray to turn the odds in their favor. Battling his instincts for both good and evil, Snow sets out on a race against time to survive and reveal if he will ultimately become a songbird or a snake.\n\nLionsgate presents, a Color Force / Lionsgate / about:blank production.",
           "title": "The Hunger Games: The Ballad of Songbirds & Snakes (2023) Official Trailer"
          },
          "publishedAt": "2023-04-27T22:00:03Z",
          "tags": [
           "The Hunger Games: The Ballad of Songbirds and Snakes",
           "The Hunger Games",
           "Hunger Games",
           "The Ballad of Songbirds and Snakes",
           "Ballad of Songbirds and Snakes",
           "Official trailer",
           "The Ballad of Songbirds and Snakes official trailer",
           "the hunger games official trailer",
           "hunger games trailer",
           "Tom Blyth",
           "Rachel Zegler",
           "Coriolanus Snow",
           "post-war capitol",
           "Lucy Gray Baird",
           "District 12",
           "Panem",
           "Susan Collins",
           "adaptation"
          ],
          "thumbnails": {
           "default": {
            "height": 90,
            "url": "https://i.ytimg.com/vi/RDE6Uz73A7g/default.jpg",
            "width": 120
           },
           "high": {
            "height": 360,
            "url": "https://i.ytimg.com/vi/RDE6Uz73A7g/hqdefault.jpg",
            "width": 480
           },
           "maxres": {
            "height": 720,
            "url": "https://i.ytimg.com/vi/RDE6Uz73A7g/maxresdefault.jpg",
            "width": 1280
           },
           "medium": {
            "height": 180,
            "url": "https://i.ytimg.com/vi/RDE6Uz73A7g/mqdefault.jpg",
            "width": 320
           },
           "standard": {
            "height": 480,
            "url": "https://i.ytimg.com/vi/RDE6Uz73A7g/sddefault.jpg",
            "width": 640
           }
          },
          "title": "The Hunger Games: The Ballad of Songbirds & Snakes (2023) Official Trailer"
         },
         "statistics": {
          "commentCount": "14661",
          "favoriteCount": "0",
          "likeCount": "212702",
          "viewCount": "23335749"
         }
        },
        {
         "contentDetails": {
          "caption": "true",
          "contentRating": {},
          "definition": "hd",
          "dimension": "2d",
          "duration": "PT2M46S",
          "licensedContent": true,
          "projection": "rectangular"
         },
         "etag": "CBTISnBTQpSFeCbSYB2VUZoVNBM",
         "id": "NxW_X4kzeus",
         "kind": "youtube#video",
         "snippet": {
          "categoryId": "1",
          "channelId": "UCJ6nMHaJPZvsJ-HmUmj1SeA",
          "channelTitle": "Lionsgate Movies",
          "defaultAudioLanguage": "en",
          "description": "The Hunger Games: The Ballad of Songbirds & Snakes – In Theaters November 17, 2023. Starring Tom Blyth, Rachel Zegler, Peter Dinklage, Hunter Schafer, Josh Andrés Rivera, Jason Schwartzman, and Viola Davis. \n\nText 717-THG-MKJY to enter the games.\n\nSubscribe to the LIONSGATE YouTube Channel for the latest movie trailers, clips, and more: https://bit.ly/2Z6nfym ​\n\nhttps://hungergames.movie/\nhttps://www.facebook.com/TheHungerGamesMovie\nhttps://www.instagram.com/thehungergames\nhttps://twitter.com/thehungergames\nhttps://www.tiktok.com/@hungergamesofficial\n\nExperience the story of THE HUNGER GAMES — 64 years before Katniss Everdeen volunteered as tribute, and decades before Coriolanus Snow became the tyrannical President of Panem.\n\nTHE HUNGER GAMES: THE BALLAD OF SONGBIRDS & SNAKES follows a young Coriolanus (Tom Blyth) who is the last hope for his failing lineage, the once-proud Snow family that has fallen from grace in a post-war Capitol. With his livelihood threatened, Snow is reluctantly assigned to mentor Lucy Gray Baird (Rachel Zegler), a tribute from the impoverished District 12. But after Lucy Gray’s charm captivates the audience of Panem, Snow sees an opportunity to shift their fates. With everything he has worked for hanging in the balance, Snow unites with Lucy Gray to turn the odds in their favor. Battling his instincts for both good and evil, Snow sets out on a race against time to survive and reveal if he will ultimately become a songbird or a snake.\n\nLionsgate presents, a Color Force / Lionsgate / about:blank production.",
          "liveBroadcastContent": "none",
          "localized": {
           "description": "The Hunger Games: The Ballad of Songbirds & Snakes – In Theaters November 17, 2023. Starring Tom Blyth, Rachel Zegler, Peter Dinklage, Hunter Schafer, Josh Andrés Rivera, Jason Schwartzman, and Viola Davis. \n\nText 717-THG-MKJY to enter the games.\n\nSubscribe to the LIONSGATE YouTube Channel for the latest movie trailers, clips, and more: https://bit.ly/2Z6nfym ​\n\nhttps://hungergames.movie/\nhttps://www.facebook.com/TheHungerGamesMovie\nhttps://www.instagram.com/thehungergames\nhttps://twitter.com/thehungergames\nhttps://www.tiktok.com/@hungergamesofficial\n\nExperience the story of THE HUNGER GAMES — 64 years before Katniss Everdeen volunteered as tribute, and decades before Coriolanus Snow became the tyrannical President of Panem.\n\nTHE HUNGER GAMES: THE BALLAD OF SONGBIRDS & SNAKES follows a young Coriolanus (Tom Blyth) who is the last hope for his failing lineage, the once-proud Snow family that has fallen from grace in a post-war Capitol. With his livelihood threatened, Snow is reluctantly assigned to mentor Lucy Gray Baird (Rachel Zegler), a tribute from the impoverished District 12. But after Lucy Gray’s charm captivates the audience of Panem, Snow sees an opportunity to shift their fates. With everything he has worked for hanging in the balance, Snow unites with Lucy Gray to turn the odds in their favor. Battling his instincts for both good and evil, Snow sets out on a race against time to survive and reveal if he will ultimately become a songbird or a snake.\n\nLionsgate presents, a Color Force / Lionsgate / about:blank production.",
           "title": "The Hunger Games: The Ballad of Songbirds & Snakes (2023) Official Trailer 2"
          },
          "publishedAt": "2023-09-20T12:45:13Z",
          "tags": [
           "The Hunger Games: The Ballad of Songbirds and Snakes",
           "The Hunger Games",
           "Hunger Games",
           "The Ballad of Songbirds and Snakes",
           "Ballad of Songbirds and Snakes",
           "Official trailer",
           "The Ballad of Songbirds and Snakes official trailer",
           "the hunger games official trailer",
           "hunger games trailer",
           "Tom Blyth",
           "Rachel Zegler",
           "Coriolanus Snow",
           "post-war capitol",
           "Lucy Gray Baird",
           "District 12",
           "Panem",
           "Susan Collins",
           "adaptation",
           "trailer 2",
           "hunger games prequel"
          ],
          "thumbnails": {
           "default": {
            "height": 90,
            "url": "https://i.ytimg.com/vi/NxW_X4kzeus/default.jpg",
            "width": 120
           },
           "high": {
            "height": 360,
            "url": "https://i.ytimg.com/vi/NxW_X4kzeus/hqdefault.jpg",
            "width": 480
           },
           "maxres": {
            "height": 720,
            "url": "https://i.ytimg.com/vi/NxW_X4kzeus/maxresdefault.jpg",
            "width": 1280
           },
           "medium": {
            "height": 180,
            "url": "https://i.ytimg.com/vi/NxW_X4kzeus/mqdefault.jpg",
            "width": 320
           },
           "standard": {
            "height": 480,
            "url": "https://i.ytimg.com/vi/NxW_X4kzeus/sddefault.jpg",
            "width": 640
           }
          },
          "title": "The Hunger Games: The Ballad of Songbirds & Snakes (2023) Official Trailer 2"
         },
         "statistics": {
          "commentCount": "8787",
          "favoriteCount": "0",
          "likeCount": "105503",
          "viewCount": "29144607"
         }
        },
        {
         "contentDetails": {
          "caption": "true",
          "contentRating": {},
          "definition": "hd",
          "dimension": "2d",
          "duration": "PT2M27S",
          "licensedContent": true,
          "projection": "rectangular"
         },
         "etag": "duD7ecsohG2zlF1rPItj_16ii64",
         "id": "0VH9WCFV6XQ",
         "kind": "youtube#video",
         "snippet": {
          "categoryId": "24",
          "channelId": "UCq0OueAsdxH6b8nyAspwViw",
          "channelTitle": "Universal Pictures",
          "defaultAudioLanguage": "en",
          "description": "When the night shift starts, the nightmare begins. Watch the official #FiveNightsAtFreddys trailer now. In Theaters and streaming on Peacock October 27.\n\nCan you survive five nights? \n\nThe terrifying horror game phenomenon becomes a blood-chilling cinematic event, as Blumhouse— the producer of M3GAN, The Black Phone and The Invisible Man— brings Five Nights at Freddy’s to the big screen.             \n\nThe film follows a troubled security guard as he begins working at Freddy Fazbear’s Pizza. While spending his first night on the job, he realizes the night shift at Freddy’s won’t be so easy to make it through.\n\nWebsite: https://www.fivenightsatfreddys.movie/\nInstagram: https://www.instagram.com/fnafmovie/?igshid=NTc4MTIwNjQ2YQ%3D%3D\nTwitter: https://twitter.com/FNAFMovie\nFacebook: https://www.facebook.com/FNAFMovie/\nTikTok: https://www.tiktok.com/@universalpics",
          "liveBroadcastContent": "none",
          "localized": {
           "description": "When the night shift starts, the nightmare begins. Watch the official #FiveNightsAtFreddys trailer now. In Theaters and streaming on Peacock October 27.\n\nCan you survive five nights? \n\nThe terrifying horror game phenomenon becomes a blood-chilling cinematic event, as Blumhouse— the producer of M3GAN, The Black Phone and The Invisible Man— brings Five Nights at Freddy’s to the big screen.             \n\nThe film follows a troubled security guard as he begins working at Freddy Fazbear’s Pizza. While spending his first night on the job, he realizes the night shift at Freddy’s won’t be so easy to make it through.\n\nWebsite: https://www.fivenightsatfreddys.movie/\nInstagram: https://www.instagram.com/fnafmovie/?igshid=NTc4MTIwNjQ2YQ%3D%3D\nTwitter: https://twitter.com/FNAFMovie\nFacebook: https://www.facebook.com/FNAFMovie/\nTikTok: https://www.tiktok.com/@universalpics",
           "title": "Five Nights At Freddy's | Official Trailer"
          },
          "publishedAt": "2023-06-27T14:59:35Z",
          "thumbnails": {
           "default": {
            "height": 90,
            "url": "https://i.ytimg.com/vi/0VH9WCFV6XQ/default.jpg",
            "width": 120
           },
           "high": {
            "height": 360,
            "url": "https://i.ytimg.com/vi/0VH9WCFV6XQ/hqdefault.jpg",
            "width": 480
           },
           "maxres": {
            "height": 720,
            "url": "https://i.ytimg.com/vi/0VH9WCFV6XQ/maxresdefault.jpg",
            "width": 1280
           },
           "medium": {
            "height": 180,
            "url": "https://i.ytimg.com/vi/0VH9WCFV6XQ/mqdefault.jpg",
            "width": 320
           },
           "standard": {
            "height": 480,
            "url": "https://i.ytimg.com/vi/0VH9WCFV6XQ/sddefault.jpg",
            "width": 640
           }
          },
          "title": "Five Nights At Freddy's | Official Trailer"
         },
         "statistics": {
          "commentCount": "66092",
          "favoriteCount": "0",
          "likeCount": "871023",
          "viewCount": "40490074"
         }
        },
        {
         "contentDetails": {
          "caption": "true",
          "contentRating": {},
          "definition": "hd",
          "dimension": "2d",
          "duration": "PT2M2S",
          "licensedContent": true,
          "projection": "rectangular"
         },
         "etag": "8WvqQmpmW57AWPdaBDjD2hxC-sg",
         "id": "Z_T0o5uNrlY",
         "kind": "youtube#video",
         "snippet": {
          "categoryId": "24",
          "channelId": "UCq0OueAsdxH6b8nyAspwViw",
          "channelTitle": "Universal Pictures",
          "defaultAudioLanguage": "en",
          "description": "This Halloween, Freddy and the gang are dying to meet you. #FiveNightsAtFreddys - In theaters and streaming on Peacock October 27.\n\nCan you survive five nights? \n\nThe terrifying horror game phenomenon becomes a blood-chilling cinematic event, as Blumhouse— the producer of M3GAN, The Black Phone and The Invisible Man— brings Five Nights at Freddy’s to the big screen.             \n\nThe film follows a troubled security guard as he begins working at Freddy Fazbear’s Pizza. While spending his first night on the job, he realizes the night shift at Freddy’s won’t be so easy to make it through.\n\nWebsite: https://www.fivenightsatfreddys.movie/\nInstagram: https://www.instagram.com/fnafmovie/?igshid=NTc4MTIwNjQ2YQ%3D%3D\nTwitter: https://twitter.com/FNAFMovie\nFacebook: https://www.facebook.com/FNAFMovie/\nTikTok: https://www.tiktok.com/@universalpics",
          "liveBroadcastContent": "none",
          "localized": {
           "description": "This Halloween, Freddy and the gang are dying to meet you. #FiveNightsAtFreddys - In theaters and streaming on Peacock October 27.\n\nCan you survive five nights? \n\nThe terrifying horror game phenomenon becomes a blood-chilling cinematic event, as Blumhouse— the producer of M3GAN, The Black Phone and The Invisible Man— brings Five Nights at Freddy’s to the big screen.             \n\nThe film follows a troubled security guard as he begins working at Freddy Fazbear’s Pizza. While spending his first night on the job, he realizes the night shift at Freddy’s won’t be so easy to make it through.\n\nWebsite: https://www.fivenightsatfreddys.movie/\nInstagram: https://www.instagram.com/fnafmovie/?igshid=NTc4MTIwNjQ2YQ%3D%3D\nTwitter: https://twitter.com/FNAFMovie\nFacebook: https://www.facebook.com/FNAFMovie/\nTikTok: https://www.tiktok.com/@universalpics",
           "title": "Five Nights at Freddy's | Official Trailer 2"
          },
          "publishedAt": "2023-08-30T18:59:15Z",
          "thumbnails": {
           "default": {
            "height": 90,
            "url": "https://i.ytimg.com/vi/Z_T0o5uNrlY/default.jpg",
            "width": 120
           },
           "high": {
            "height": 360,
            "url": "https://i.ytimg.com/vi/Z_T0o5uNrlY/hqdefault.jpg",
            "width": 480
           },
           "maxres": {
            "height": 720,
            "url": "https://i.ytimg.com/vi/Z_T0o5uNrlY/maxresdefault.jpg",
            "width": 1280
           },
           "medium": {
            "height": 180,
            "url": "https://i.ytimg.com/vi/Z_T0o5uNrlY/mqdefault.jpg",
            "width": 320
           },
           "standard": {
            "height": 480,
            "url": "https://i.ytimg.com/vi/Z_T0o5uNrlY/sddefault.jpg",
            "width": 640
           }
          },
          "title": "Five Nights at Freddy's | Official Trailer 2"
         },
         "statistics": {
          "commentCount": "29325",
          "favoriteCount": "0",
          "likeCount": "529083",
          "viewCount": "23736855"
         }
        },
        {
         "contentDetails": {
          "caption": "true",
          "contentRating": {},
          "definition": "hd",
          "dimension": "2d",
          "duration": "PT2M24S",
          "licensedContent": true,
          "projection": "rectangular"
         },
         "etag": "liIEELJNPfAiIxmcNPqDy9yQta4",
         "id": "AHmCH7iB_IM",
         "kind": "youtube#video",
         "snippet": {
          "categoryId": "24",
          "channelId": "UCf5CjDJvsFvtVIhkfmKAwAA",
          "channelTitle": "MGM",
          "defaultAudioLanguage": "en-US",
          "defaultLanguage": "en",
          "description": "There’s no enemy like the past. From director Michael B. Jordan, watch the official #Creed3 trailer now and see the movie in theaters and IMAX 3/3/23.\n\nCREED III\nDirected By: Michael B. Jordan\nScreenplay By: Keenan Coogler and Zach Baylin\nStory By: Ryan Coogler, Keenan Coogler, and Zach Baylin\nCast: Michael B. Jordan, Tessa Thompson, Jonathan Majors, Florian Munteanu\r\n\r\nAbout MGM Studios: Metro-Goldwyn-Mayer Inc. is a leading entertainment company focused on the production and distribution of film and television content globally.  The company owns one of the world’s deepest libraries of premium film and television content.  In addition, MGM has investments in domestic and international television channels, including MGM-branded channels.\r\n\r\nConnect with MGM Studios Online\r\nVisit the MGM Studios WEBSITE: http://www.mgm.com/\r\nLike MGM Studios on FACEBOOK: https://www.facebook.com/mgm/\r\nFollow MGM Studios on TWITTER: https://twitter.com/MGM_Studios\r\n\r\nCREED III | Official Trailer \r\nhttps://www.youtube.com/MGM",
          "liveBroadcastContent": "none",
          "localized": {
           "description": "There’s no enemy like the past. From director Michael B. Jordan, watch the official #Creed3 trailer now and see the movie in theaters and IMAX 3/3/23.\n\nCREED III\nDirected By: Michael B. Jordan\nScreenplay By: Keenan Coogler and Zach Baylin\nStory By: Ryan Coogler, Keenan Coogler, and Zach Baylin\nCast: Michael B. Jordan, Tessa Thompson, Jonathan Majors, Florian Munteanu\r\n\r\nAbout MGM Studios: Metro-Goldwyn-Mayer Inc. is a leading entertainment company focused on the production and distribution of film and television content globally.  The company owns one of the world’s deepest libraries of premium film and television content.  In addition, MGM has investments in domestic and international television channels, including MGM-branded channels.\r\n\r\nConnect with MGM Studios Online\r\nVisit the MGM Studios WEBSITE: http://www.mgm.com/\r\nLike MGM Studios on FACEBOOK: https://www.facebook.com/mgm/\r\nFollow MGM Studios on TWITTER: https://twitter.com/MGM_Studios\r\n\r\nCREED III | Official Trailer \r\nhttps://www.youtube.com/MGM",
           "title": "CREED III | Official Trailer"
          },
          "publishedAt": "2022-10-18T15:59:00Z",
          "tags": [
           "MGM",
           "MGM Studios",
           "Metro-Goldwyn- Mayer",
           "Metro Pictures Corporations",
           "Goldwyn Pictures",
           "Louis B. Mayer Pictures",
           "MGM Pictures",
           "United Artists",
           "Metro MGM/UA",
           "Creed III",
           "Creed 3",
           "Creed 3 Trailer",
           "Creed III Trailer",
           "Creed Trailer",
           "Michael B Jordan",
           "official trailer",
           "Tessa Thompson",
           "Jonathan Majors"
          ],
          "thumbnails": {
           "default": {
            "height": 90,
            "url": "https://i.ytimg.com/vi/AHmCH7iB_IM/default.jpg",
            "width": 120
           },
           "high": {
            "height": 360,
            "url": "https://i.ytimg.com/vi/AHmCH7iB_IM/hqdefault.jpg",
            "width": 480
           },
           "maxres": {
            "height": 720,
            "url": "https://i.ytimg.com/vi/AHmCH7iB_IM/maxresdefault.jpg",
            "width": 1280
           },
           "medium": {
            "height": 180,
            "url": "https://i.ytimg.com/vi/AHmCH7iB_IM/mqdefault.jpg",
            "width": 320
           },
           "standard": {
            "height": 480,
            "url": "https://i.ytimg.com/vi/AHmCH7iB_IM/sddefault.jpg",
            "width": 640
           }
          },
          "title": "CREED III | Official Trailer"
         },
         "statistics": {
          "commentCount": "10994",
          "favoriteCount": "0",
          "likeCount": "199168",
          "viewCount": "18592536"
         }
        },
        {
         "contentDetails": {
          "caption": "true",
          "contentRating": {},
          "definition": "hd",
          "dimension": "2d",
          "duration": "PT2M22S",
          "licensedContent": true,
          "projection": "rectangular"
         },
         "etag": "w7CaSvo9O9KHJFqFOReFTrbYdbc",
         "id": "xTaIZo8OJYE",
         "kind": "youtube#video",
         "snippet": {
          "categoryId": "24",
          "channelId": "UCf5CjDJvsFvtVIhkfmKAwAA",
          "channelTitle": "MGM",
          "defaultAudioLanguage": "en-US",
          "defaultLanguage": "en",
          "description": "Brothers turn enemies. Watch the final trailer for #Creed3 now, starring Michael B. Jordan, Jonathan Majors, and Tessa Thompson. See the film only in theaters March 3.\n\nFollow #Creed3 on Social:\nInstagram: https://www.instagram.com/creedmovie/\nTwitter: https://twitter.com/creedmovie\nFacebook: https://www.facebook.com/creedmovie/\n\nCREED III\nDirected By: Michael B. Jordan\nScreenplay By: Keenan Coogler and Zach Baylin\nStory By: Ryan Coogler, Keenan Coogler, and Zach Baylin\nCast: Michael B. Jordan, Tessa Thompson, Jonathan Majors, Florian Munteanu\n\nAbout MGM Studios: Metro Goldwyn Mayer (MGM) is a leading entertainment company focused on the production and global distribution of film and television content across all platforms. The company owns one of the world’s deepest libraries of premium film and television content as well as the premium pay television network MGM+, which is available throughout the U.S. via cable, satellite, telco and digital distributors.  In addition, MGM has investments in numerous other television channels, digital platforms and interactive ventures and is producing premium short-form content for distribution. \n\nConnect with MGM Studios Online\nVisit the MGM Studios WEBSITE: http://www.mgm.com/\nCheck out MGM on TIKTOK: https://www.tiktok.com/@mgmstudios/ \nFollow MGM Studios on INSTAGRAM: https://www.instagram.com/mgmstudios/ \nFollow MGM Studios on TWITTER: https://twitter.com/mgmstudios\nLike MGM Studios on FACEBOOK: https://www.facebook.com/mgm/ \n\nCREED III | Final Trailer\nhttps://www.youtube.com/MGM",
          "liveBroadcastContent": "none",
          "localized": {
           "description": "Brothers turn enemies. Watch the final trailer for #Creed3 now, starring Michael B. Jordan, Jonathan Majors, and Tessa Thompson. See the film only in theaters March 3.\n\nFollow #Creed3 on Social:\nInstagram: https://www.instagram.com/creedmovie/\nTwitter: https://twitter.com/creedmovie\nFacebook: https://www.facebook.com/creedmovie/\n\nCREED III\nDirected By: Michael B. Jordan\nScreenplay By: Keenan Coogler and Zach Baylin\nStory By: Ryan Coogler, Keenan Coogler, and Zach Baylin\nCast: Michael B. Jordan, Tessa Thompson, Jonathan Majors, Florian Munteanu\n\nAbout MGM Studios: Metro Goldwyn Mayer (MGM) is a leading entertainment company focused on the production and global distribution of film and television content across all platforms. The company owns one of the world’s deepest libraries of premium film and television content as well as the premium pay television network MGM+, which is available throughout the U.S. via cable, satellite, telco and digital distributors.  In addition, MGM has investments in numerous other television channels, digital platforms and interactive ventures and is producing premium short-form content for distribution. \n\nConnect with MGM Studios Online\nVisit the MGM Studios WEBSITE: http://www.mgm.com/\nCheck out MGM on TIKTOK: https://www.tiktok.com/@mgmstudios/ \nFollow MGM Studios on INSTAGRAM: https://www.instagram.com/mgmstudios/ \nFollow MGM Studios on TWITTER: https://twitter.com/mgmstudios\nLike MGM Studios on FACEBOOK: https://www.facebook.com/mgm/ \n\nCREED III | Final Trailer\nhttps://www.youtube.com/MGM",
           "title": "CREED III | Final Trailer"
          },
          "publishedAt": "2023-02-15T17:00:01Z",
          "tags": [
           "MGM",
           "MGM Studios",
           "Metro-Goldwyn- Mayer",
           "Metro Pictures Corporations",
           "Goldwyn Pictures",
           "Louis B. Mayer Pictures",
           "MGM Pictures",
           "United Artists",
           "Metro MGM/UA",
           "Creed III",
           "Creed 3",
           "Creed 3 Trailer",
           "Creed III Trailer",
           "Creed Trailer",
           "Michael B Jordan",
           "official trailer",
           "Tessa Thompson",
           "Jonathan Majors",
           "new movies",
           "new movies 2023",
           "creed III final trailer",
           "creed 3 final trailer"
          ],
          "thumbnails": {
           "default": {
            "height": 90,
            "url": "https://i.ytimg.com/vi/xTaIZo8OJYE/default.jpg",
            "width": 120
           },
           "high": {
            "height": 360,
            "url": "https://i.ytimg.com/vi/xTaIZo8OJYE/hqdefault.jpg",
            "width": 480
           },
           "maxres": {
            "height": 720,
            "url": "https://i.ytimg.com/vi/xTaIZo8OJYE/maxresdefault.jpg",
            "width": 1280
           },
           "medium": {
            "height": 180,
            "url": "https://i.ytimg.com/vi/xTaIZo8OJYE/mqdefault.jpg",
            "width": 320
           },
           "standard": {
            "height": 480,
            "url": "https://i.ytimg.com/vi/xTaIZo8OJYE/sddefault.jpg",
            "width": 640
           }
          },
          "title": "CREED III | Final Trailer"
         },
         "statistics": {
          "commentCount": "4205",
          "favoriteCount": "0",
          "likeCount": "79876",
          "viewCount": "19086776"
         }
        },
        {
         "contentDetails": {
          "caption": "true",
          "contentRating": {},
          "definition": "hd",
          "dimension": "2d",
          "duration": "PT2M57S",
          "licensedContent": false,
          "projection": "rectangular"
         },
         "etag": "VGNNhqOHsriZliAwWORUnfw32yY",
         "id": "hebWYacbdvc",
         "kind": "youtube#video",
         "snippet": {
          "categoryId": "1",
          "channelId": "UCjmJDM5pRKbUlVIzDYYWb6g",
          "channelTitle": "Warner Bros. Pictures",
          "defaultAudioLanguage": "en-US",
          "defaultLanguage": "en",
          "description": "On June 16, worlds collide. Watch the official trailer now for The Flash – only in theaters. #TheFlashMovie \n\nWarner Bros. Pictures presents “The Flash,” directed by Andy Muschietti (the “IT” films, “Mama”). Ezra Miller reprises their role as Barry Allen in the DC Super Hero’s first-ever standalone feature film.\n\nWorlds collide in “The Flash” when Barry uses his superpowers to travel back in time in order to change the events of the past. But when his attempt to save his family inadvertently alters the future, Barry becomes trapped in a reality in which General Zod has returned, threatening annihilation, and there are no Super Heroes to turn to. That is, unless Barry can coax a very different Batman out of retirement and rescue an imprisoned Kryptonian… albeit not the one he’s looking for. Ultimately, to save the world that he is in and return to the future that he knows, Barry’s only hope is to race for his life. But will making the ultimate sacrifice be enough to reset the universe? \n\n“The Flash” ensemble also includes rising star Sasha Calle, Michael Shannon (“Bullet Train,” “Batman v Superman: Dawn of Justice”), Ron Livingston (“Loudermilk,” “The Conjuring”), Maribel Verdú (“Elite,” “Y tu mamá también”), Kiersey Clemons (“Zack Snyder’s Justice League,” “Sweetheart”), Antje Traue (“King of Ravens,” “Man of Steel”) and Michael Keaton (“Spider-Man: Homecoming,” “Batman”).\n\n“The Flash” is produced by Barbara Muschietti (the “IT” films, “Mama”) and Michael Disco (“Rampage,” “San Andreas”). The screenplay is by Christina Hodson (“Birds of Prey,” “Bumblebee”), with a screen story by John Francis Daley & Jonathan Goldstein (“Dungeons & Dragons: Honor Among Thieves,” “Spider-Man: Homecoming”) and Joby Harold (“Transformers: Rise of the Beasts,” “Army of the Dead”), based on characters from DC. The executive producers \nare Toby Emmerich, Walter Hamada, Galen Vaisman and Marianne Jenkins.\n\nJoining director Muschietti behind the camera are director of photography Henry Braham (“Guardians of the Galaxy Vol. 3,” “The Suicide Squad”), production designer Paul Denham Austerberry (“IT Chapter Two,” “The Shape of Water”), editors Jason Ballantine (the “IT” films, “The Great Gatsby”) and Paul Machliss (“The Gentlemen,” “Baby Driver”), and costume designer Alexandra Byrne (“Doctor Strange,” “Guardians of the Galaxy”); the score is by Benjamin Wallfisch \n(“The Invisible Man,” the “IT” films).\n\nWarner Bros. Pictures presents a Double Dream/a Disco Factory production of an Andy Muschietti film, “The Flash.” It will be distributed worldwide by Warner Bros. Pictures and is set to open in theaters in North America on June 16, 2023 and internationally beginning 14 June 2023.",
          "liveBroadcastContent": "none",
          "localized": {
           "description": "On June 16, worlds collide. Watch the official trailer now for The Flash – only in theaters. #TheFlashMovie \n\nWarner Bros. Pictures presents “The Flash,” directed by Andy Muschietti (the “IT” films, “Mama”). Ezra Miller reprises their role as Barry Allen in the DC Super Hero’s first-ever standalone feature film.\n\nWorlds collide in “The Flash” when Barry uses his superpowers to travel back in time in order to change the events of the past. But when his attempt to save his family inadvertently alters the future, Barry becomes trapped in a reality in which General Zod has returned, threatening annihilation, and there are no Super Heroes to turn to. That is, unless Barry can coax a very different Batman out of retirement and rescue an imprisoned Kryptonian… albeit not the one he’s looking for. Ultimately, to save the world that he is in and return to the future that he knows, Barry’s only hope is to race for his life. But will making the ultimate sacrifice be enough to reset the universe? \n\n“The Flash” ensemble also includes rising star Sasha Calle, Michael Shannon (“Bullet Train,” “Batman v Superman: Dawn of Justice”), Ron Livingston (“Loudermilk,” “The Conjuring”), Maribel Verdú (“Elite,” “Y tu mamá también”), Kiersey Clemons (“Zack Snyder’s Justice League,” “Sweetheart”), Antje Traue (“King of Ravens,” “Man of Steel”) and Michael Keaton (“Spider-Man: Homecoming,” “Batman”).\n\n“The Flash” is produced by Barbara Muschietti (the “IT” films, “Mama”) and Michael Disco (“Rampage,” “San Andreas”). The screenplay is by Christina Hodson (“Birds of Prey,” “Bumblebee”), with a screen story by John Francis Daley & Jonathan Goldstein (“Dungeons & Dragons: Honor Among Thieves,” “Spider-Man: Homecoming”) and Joby Harold (“Transformers: Rise of the Beasts,” “Army of the Dead”), based on characters from DC. The executive producers \nare Toby Emmerich, Walter Hamada, Galen Vaisman and Marianne Jenkins.\n\nJoining director Muschietti behind the camera are director of photography Henry Braham (“Guardians of the Galaxy Vol. 3,” “The Suicide Squad”), production designer Paul Denham Austerberry (“IT Chapter Two,” “The Shape of Water”), editors Jason Ballantine (the “IT” films, “The Great Gatsby”) and Paul Machliss (“The Gentlemen,” “Baby Driver”), and costume designer Alexandra Byrne (“Doctor Strange,” “Guardians of the Galaxy”); the score is by Benjamin Wallfisch \n(“The Invisible Man,” the “IT” films).\n\nWarner Bros. Pictures presents a Double Dream/a Disco Factory production of an Andy Muschietti film, “The Flash.” It will be distributed worldwide by Warner Bros. Pictures and is set to open in theaters in North America on June 16, 2023 and internationally beginning 14 June 2023.",
           "title": "The Flash – Official Trailer"
          },
          "publishedAt": "2023-02-12T22:59:38Z",
          "tags": [
           "Andy Muschietti",
           "Barry Allen",
           "Batman",
           "Ben Affleck",
           "Bruce Wayne",
           "Coming Soon",
           "DC",
           "DC Comics",
           "DC Extended Universe",
           "Ezra Miller",
           "Film",
           "Film Trailer",
           "Film Warner",
           "General Zod",
           "Iris West",
           "Kiersey Clemons",
           "Michael Keaton",
           "Michael Shannon",
           "Movie",
           "Multiverse",
           "Official Trailer",
           "Super Hero",
           "Superhero",
           "The Batman",
           "The Flash",
           "Trailer",
           "Trailer 2023",
           "WB",
           "Warner",
           "Warner Bros",
           "Warner Brothers"
          ],
          "thumbnails": {
           "default": {
            "height": 90,
            "url": "https://i.ytimg.com/vi/hebWYacbdvc/default.jpg",
            "width": 120
           },
           "high": {
            "height": 360,
            "url": "https://i.ytimg.com/vi/hebWYacbdvc/hqdefault.jpg",
            "width": 480
           },
           "maxres": {
            "height": 720,
            "url": "https://i.ytimg.com/vi/hebWYacbdvc/maxresdefault.jpg",
            "width": 1280
           },
           "medium": {
            "height": 180,
            "url": "https://i.ytimg.com/vi/hebWYacbdvc/mqdefault.jpg",
            "width": 320
           },
           "standard": {
            "height": 480,
            "url": "https://i.ytimg.com/vi/hebWYacbdvc/sddefault.jpg",
            "width": 640
           }
          },
          "title": "The Flash – Official Trailer"
         },
         "statistics": {
          "commentCount": "23448",
          "favoriteCount": "0",
          "likeCount": "273038",
          "viewCount": "20747823"
         }
        },
        {
         "contentDetails": {
          "caption": "true",
          "contentRating": {},
          "definition": "hd",
          "dimension": "2d",
          "duration": "PT2M52S",
          "licensedContent": false,
          "projection": "rectangular"
         },
         "etag": "H7HT2lXTA_NqLGQSv0vxuzr-YYQ",
         "id": "r51cYVZWKdY",
         "kind": "youtube#video",
         "snippet": {
          "categoryId": "1",
          "channelId": "UCiifkYAs_bq1pt_zbNAzYGg",
          "channelTitle": "DC",
          "defaultAudioLanguage": "en-US",
          "defaultLanguage": "en",
          "description": "Watch worlds collide in trailer 2 for The Flash - Only in Theaters June 16. #TheFlashMovie \n\nWarner Bros. Pictures presents “The Flash,” directed by Andy Muschietti (the “IT” films, “Mama”). Ezra Miller reprises their role as Barry Allen in the DC Super Hero’s first-ever standalone feature film.\n\nWorlds collide in “The Flash” when Barry uses his superpowers to travel back in time in order to change the events of the past. But when his attempt to save his family inadvertently alters the future, Barry becomes trapped in a reality in which General Zod has returned, threatening annihilation, and there are no Super Heroes to turn to. That is, unless Barry can coax a very different Batman out of retirement and rescue an imprisoned Kryptonian… albeit not the one he’s looking for. Ultimately, to save the world that he is in and return to the future that he knows, Barry’s only hope is to race for his life. But will making the ultimate sacrifice be enough to reset the universe? \n\n“The Flash” ensemble also includes rising star Sasha Calle, Michael Shannon (“Bullet Train,” “Batman v Superman: Dawn of Justice”), Ron Livingston (“Loudermilk,” “The Conjuring”), Maribel Verdú (“Elite,” “Y tu mamá también”), Kiersey Clemons (“Zack Snyder’s Justice League,” “Sweetheart”), Antje Traue (“King of Ravens,” “Man of Steel”) and Michael Keaton (“Spider-Man: Homecoming,” “Batman”).\n\n“The Flash” is produced by Barbara Muschietti (the “IT” films, “Mama”) and Michael Disco (“Rampage,” “San Andreas”). The screenplay is by Christina Hodson (“Birds of Prey,” “Bumblebee”), with a screen story by John Francis Daley & Jonathan Goldstein (“Dungeons & Dragons: Honor Among Thieves,” “Spider-Man: Homecoming”) and Joby Harold (“Transformers: Rise of the Beasts,” “Army of the Dead”), based on characters from DC. The executive producers are Toby Emmerich, Walter Hamada, Galen Vaisman and Marianne Jenkins.\n\nJoining director Muschietti behind the camera are director of photography Henry Braham (“Guardians of the Galaxy Vol. 3,” “The Suicide Squad”), production designer Paul Denham Austerberry (“IT Chapter Two,” “The Shape of Water”), editors Jason Ballantine (the “IT” films, “The Great Gatsby”) and Paul Machliss (“The Gentlemen,” “Baby Driver”), and costume designer Alexandra Byrne (“Doctor Strange,” “Guardians of the Galaxy”); the score is by Benjamin Wallfisch (“The Invisible Man,” the “IT” films).\n\nWarner Bros. Pictures presents a Double Dream/a Disco Factory production of an Andy Muschietti film, “The Flash.” It will be distributed worldwide by Warner Bros. Pictures and is set to open in theaters in North America on June 16, 2023 and internationally beginning 14 June 2023.",
          "liveBroadcastContent": "none",
          "localized": {
           "description": "Watch worlds collide in trailer 2 for The Flash - Only in Theaters June 16. #TheFlashMovie \n\nWarner Bros. Pictures presents “The Flash,” directed by Andy Muschietti (the “IT” films, “Mama”). Ezra Miller reprises their role as Barry Allen in the DC Super Hero’s first-ever standalone feature film.\n\nWorlds collide in “The Flash” when Barry uses his superpowers to travel back in time in order to change the events of the past. But when his attempt to save his family inadvertently alters the future, Barry becomes trapped in a reality in which General Zod has returned, threatening annihilation, and there are no Super Heroes to turn to. That is, unless Barry can coax a very different Batman out of retirement and rescue an imprisoned Kryptonian… albeit not the one he’s looking for. Ultimately, to save the world that he is in and return to the future that he knows, Barry’s only hope is to race for his life. But will making the ultimate sacrifice be enough to reset the universe? \n\n“The Flash” ensemble also includes rising star Sasha Calle, Michael Shannon (“Bullet Train,” “Batman v Superman: Dawn of Justice”), Ron Livingston (“Loudermilk,” “The Conjuring”), Maribel Verdú (“Elite,” “Y tu mamá también”), Kiersey Clemons (“Zack Snyder’s Justice League,” “Sweetheart”), Antje Traue (“King of Ravens,” “Man of Steel”) and Michael Keaton (“Spider-Man: Homecoming,” “Batman”).\n\n“The Flash” is produced by Barbara Muschietti (the “IT” films, “Mama”) and Michael Disco (“Rampage,” “San Andreas”). The screenplay is by Christina Hodson (“Birds of Prey,” “Bumblebee”), with a screen story by John Francis Daley & Jonathan Goldstein (“Dungeons & Dragons: Honor Among Thieves,” “Spider-Man: Homecoming”) and Joby Harold (“Transformers: Rise of the Beasts,” “Army of the Dead”), based on characters from DC. The executive producers are Toby Emmerich, Walter Hamada, Galen Vaisman and Marianne Jenkins.\n\nJoining director Muschietti behind the camera are director of photography Henry Braham (“Guardians of the Galaxy Vol. 3,” “The Suicide Squad”), production designer Paul Denham Austerberry (“IT Chapter Two,” “The Shape of Water”), editors Jason Ballantine (the “IT” films, “The Great Gatsby”) and Paul Machliss (“The Gentlemen,” “Baby Driver”), and costume designer Alexandra Byrne (“Doctor Strange,” “Guardians of the Galaxy”); the score is by Benjamin Wallfisch (“The Invisible Man,” the “IT” films).\n\nWarner Bros. Pictures presents a Double Dream/a Disco Factory production of an Andy Muschietti film, “The Flash.” It will be distributed worldwide by Warner Bros. Pictures and is set to open in theaters in North America on June 16, 2023 and internationally beginning 14 June 2023.",
           "title": "The Flash - Official Trailer 2"
          },
          "publishedAt": "2023-04-25T19:00:18Z",
          "tags": [
           "Andy Muschietti",
           "Barry Allen",
           "Batman",
           "Ben Affleck",
           "Bruce Wayne",
           "Coming Soon",
           "DC",
           "DC Comics",
           "DC Extended Universe",
           "Ezra Miller",
           "Film",
           "Film Trailer",
           "Film Warner",
           "General Zod",
           "Iris West",
           "Kiersey Clemons",
           "Michael Keaton",
           "Michael Shannon",
           "Movie",
           "Multiverse",
           "Official Trailer",
           "Super Hero",
           "Superhero",
           "The Batman",
           "The Flash",
           "Trailer",
           "Trailer 2023",
           "WB",
           "Warner",
           "Warner Bros",
           "Warner Brothers"
          ],
          "thumbnails": {
           "default": {
            "height": 90,
            "url": "https://i.ytimg.com/vi/r51cYVZWKdY/default.jpg",
            "width": 120
           },
           "high": {
            "height": 360,
            "url": "https://i.ytimg.com/vi/r51cYVZWKdY/hqdefault.jpg",
            "width": 480
           },
           "maxres": {
            "height": 720,
            "url": "https://i.ytimg.com/vi/r51cYVZWKdY/maxresdefault.jpg",
            "width": 1280
           },
           "medium": {
            "height": 180,
            "url": "https://i.ytimg.com/vi/r51cYVZWKdY/mqdefault.jpg",
            "width": 320
           },
           "standard": {
            "height": 480,
            "url": "https://i.ytimg.com/vi/r51cYVZWKdY/sddefault.jpg",
            "width": 640
           }
          },
          "title": "The Flash - Official Trailer 2"
         },
         "statistics": {
          "commentCount": "21105",
          "favoriteCount": "0",
          "likeCount": "267436",
          "viewCount": "32399320"
         }
        },
        {
         "contentDetails": {
          "caption": "true",
          "contentRating": {},
          "definition": "hd",
          "dimension": "2d",
          "duration": "PT2M12S",
          "licensedContent": false,
          "projection": "rectangular"
         },
         "etag": "dWx7GiS8VSbPRZi3DxWJvqobokk",
         "id": "QF-oyCwaArU",
         "kind": "youtube#video",
         "snippet": {
          "categoryId": "1",
          "channelId": "UCjmJDM5pRKbUlVIzDYYWb6g",
          "channelTitle": "Warner Bros. Pictures",
          "defaultAudioLanguage": "en-US",
          "defaultLanguage": "en",
          "description": "On September 8th, the greatest evil in the conjuring universe returns #TheNun2\n\nNew Line Cinema brings you the horror thriller “The Nun II,” the next chapter in the story of “The Nun,” the highest grossing entry in the juggernaut $2 billion “The Conjuring” Universe.\n\n1956 – France. A priest is murdered. An evil is spreading. The sequel to the worldwide smash hit follows Sister Irene as she once again comes face-to-face with Valak, the demon nun.\n\nTaissa Farmiga (“The Nun,” “The Gilded Age”) returns as Sister Irene, joined by Jonas Bloquet (“Tirailleurs,” “The Nun”), Storm Reid (“The Last of Us,” “The Suicide Squad”), Anna Popplewell (“Fairytale,” “The Chronicles of Narnia” trilogy) and Bonnie Aarons (reprising her role from “The Nun”), surrounded by an ensemble cast of international talent.\n\nMichael Chaves (“The Conjuring: The Devil Made Me Do It”) directs, from a screenplay by Ian Goldberg & Richard Naing (“Eli,” “The Autopsy of Jane Doe”) and Akela Cooper (“M3GAN,” “Malignant”),with a story by Cooper, based on characters created by James Wan & Gary Dauberman.\n\nThe Safran Company’s Peter Safran and Atomic Monster’s James Wan produce, continuing their collaboration as filmmakers on all of the previous “Conjuring” films. “The Nun II” is executive produced by Richard Brener, Dave Neustadter, Victoria Palmeri, Gary Dauberman, Michael Clear, Judson Scott and Michael Polaire.\nJoining Chaves behind the camera are director of photography Tristan Nyby (“The Conjuring: The Devil Made Me Do It,” “The Dark and the Wicked”), production designer Stéphane Cressend (“Les Vedettes,” “The French Dispatch”), editor Gregory Plotkin (2022’s “Scream,” “Get Out”), visual effects producer Sophie A. Leclerc (“Finch,” “Lucy”) and costume designer Agnès Béziers (“Oxygen,” “The Breitner Commando”), with composer Marco Beltrami (2022’s “Scream,” ”Venom: Let There Be Carnage”) providing the score.\n\n“The Conjuring” Universe is the highest grossing horror franchise in history with $2+ billion worldwide. Globally, four of “The Conjuring” Universe titles have earned more than $300 million worldwide each (“The Nun,” $366 million; “The Conjuring 2,” $322 million; “The Conjuring,” $320 million; “Annabelle: Creation,” $307 million), and all seven have each grossed more than $200 million. “The Nun” is the top-earning film in the franchise, with more than $366 million worldwide.\n\nNew Line Cinema presents an Atomic Monster / Safran Company production, “The Nun II,” distributed worldwide by Warner Bros. Pictures. It is set to open in North America on September 8, 2023 and internationally beginning 6 September, 2023.",
          "liveBroadcastContent": "none",
          "localized": {
           "description": "On September 8th, the greatest evil in the conjuring universe returns #TheNun2\n\nNew Line Cinema brings you the horror thriller “The Nun II,” the next chapter in the story of “The Nun,” the highest grossing entry in the juggernaut $2 billion “The Conjuring” Universe.\n\n1956 – France. A priest is murdered. An evil is spreading. The sequel to the worldwide smash hit follows Sister Irene as she once again comes face-to-face with Valak, the demon nun.\n\nTaissa Farmiga (“The Nun,” “The Gilded Age”) returns as Sister Irene, joined by Jonas Bloquet (“Tirailleurs,” “The Nun”), Storm Reid (“The Last of Us,” “The Suicide Squad”), Anna Popplewell (“Fairytale,” “The Chronicles of Narnia” trilogy) and Bonnie Aarons (reprising her role from “The Nun”), surrounded by an ensemble cast of international talent.\n\nMichael Chaves (“The Conjuring: The Devil Made Me Do It”) directs, from a screenplay by Ian Goldberg & Richard Naing (“Eli,” “The Autopsy of Jane Doe”) and Akela Cooper (“M3GAN,” “Malignant”),with a story by Cooper, based on characters created by James Wan & Gary Dauberman.\n\nThe Safran Company’s Peter Safran and Atomic Monster’s James Wan produce, continuing their collaboration as filmmakers on all of the previous “Conjuring” films. “The Nun II” is executive produced by Richard Brener, Dave Neustadter, Victoria Palmeri, Gary Dauberman, Michael Clear, Judson Scott and Michael Polaire.\nJoining Chaves behind the camera are director of photography Tristan Nyby (“The Conjuring: The Devil Made Me Do It,” “The Dark and the Wicked”), production designer Stéphane Cressend (“Les Vedettes,” “The French Dispatch”), editor Gregory Plotkin (2022’s “Scream,” “Get Out”), visual effects producer Sophie A. Leclerc (“Finch,” “Lucy”) and costume designer Agnès Béziers (“Oxygen,” “The Breitner Commando”), with composer Marco Beltrami (2022’s “Scream,” ”Venom: Let There Be Carnage”) providing the score.\n\n“The Conjuring” Universe is the highest grossing horror franchise in history with $2+ billion worldwide. Globally, four of “The Conjuring” Universe titles have earned more than $300 million worldwide each (“The Nun,” $366 million; “The Conjuring 2,” $322 million; “The Conjuring,” $320 million; “Annabelle: Creation,” $307 million), and all seven have each grossed more than $200 million. “The Nun” is the top-earning film in the franchise, with more than $366 million worldwide.\n\nNew Line Cinema presents an Atomic Monster / Safran Company production, “The Nun II,” distributed worldwide by Warner Bros. Pictures. It is set to open in North America on September 8, 2023 and internationally beginning 6 September, 2023.",
           "title": "THE NUN II | OFFICIAL TRAILER"
          },
          "publishedAt": "2023-07-06T16:00:29Z",
          "tags": [
           "Anna Popplewell",
           "Annabelle",
           "Coming Soon",
           "Conjuring",
           "Conjuring Universe",
           "Gary Dauberman",
           "Horror",
           "Ian Goldberg",
           "James Wan",
           "Jonas Bloquet",
           "Michael Chaves",
           "Movie",
           "Nun",
           "Nun 2",
           "Richard Naing",
           "Storm Reid",
           "Taissa Famiga",
           "The Conjuring",
           "The Nun",
           "The Nun 2",
           "Trailer 2023"
          ],
          "thumbnails": {
           "default": {
            "height": 90,
            "url": "https://i.ytimg.com/vi/QF-oyCwaArU/default.jpg",
            "width": 120
           },
           "high": {
            "height": 360,
            "url": "https://i.ytimg.com/vi/QF-oyCwaArU/hqdefault.jpg",
            "width": 480
           },
           "maxres": {
            "height": 720,
            "url": "https://i.ytimg.com/vi/QF-oyCwaArU/maxresdefault.jpg",
            "width": 1280
           },
           "medium": {
            "height": 180,
            "url": "https://i.ytimg.com/vi/QF-oyCwaArU/mqdefault.jpg",
            "width": 320
           },
           "standard": {
            "height": 480,
            "url": "https://i.ytimg.com/vi/QF-oyCwaArU/sddefault.jpg",
            "width": 640
           }
          },
          "title": "THE NUN II | OFFICIAL TRAILER"
         },
         "statistics": {
          "commentCount": "14773",
          "favoriteCount": "0",
          "likeCount": "394438",
          "viewCount": "41725608"
         }
        },
        {
         "contentDetails": {
          "caption": "true",
          "contentRating": {},
          "definition": "hd",
          "dimension": "2d",
          "duration": "PT2M28S",
          "licensedContent": false,
          "projection": "rectangular"
         },
         "etag": "SEyRItSwZuHAGIgyHqrNPGHPmcg",
         "id": "otNh9bTjXWg",
         "kind": "youtube#video",
         "snippet": {
          "categoryId": "1",
          "channelId": "UCjmJDM5pRKbUlVIzDYYWb6g",
          "channelTitle": "Warner Bros. Pictures",
          "defaultAudioLanguage": "en-US",
          "defaultLanguage": "en",
          "description": "Only in theaters December 15. #WonkaMovie\n\nBased on the extraordinary character at the center of Charlie and the Chocolate Factory, Roald Dahl’s most iconic children’s book and one of the best-selling children’s books of all time, “Wonka” tells the wondrous story of how the world’s greatest inventor, magician and chocolate-maker became the beloved Willy Wonka we know today.\n\nFrom Paul King, writer/director of the “Paddington” films, David Heyman, producer of “Harry Potter,” “Gravity,” “Fantastic Beasts” and “Paddington,” and producers Alexandra Derbyshire (the “Paddington” films, “Jurassic World: Dominion”) and Luke Kelly (“Roald Dahl’s The Witches”), comes an intoxicating mix of magic and music, mayhem and emotion, all told with fabulous heart and humor. Starring Timothée Chalamet in the title role, this irresistibly vivid and inventive big screen spectacle will introduce audiences to a young Willy Wonka, chock-full of ideas and determined to change the world one delectable bite at a time—proving that the best things in life begin with a dream, and if you’re lucky enough to meet Willy Wonka, anything is possible.\n\nStarring alongside Chalamet are Calah Lane (“The Day Shall Come”), Emmy and Peabody Award winner Keegan-Michael Key (“The Prom,” “Schmigadoon”), Paterson Joseph (“Vigil,” “Noughts + Crosses”), Matt Lucas (“Paddington,” “Little Britain”), Mathew Baynton (“The Wrong Mans,” “Ghosts”), Oscar nominee Sally Hawkins (“The Shape of Water,” the “Paddington” films, “Spencer”), Rowan Atkinson (the “Johnny English” and “Mr. Bean” films, “Love Actually”), Jim Carter (“Downton Abbey”), with Oscar winner Olivia Colman (“The Favourite”). The film also stars Natasha Rothwell (“White Lotus,” “Insecure”), Rich Fulcher (“Marriage Story,” “Disenchantment”), Rakhee Thakrar (“Sex Education,” “Four Weddings and a Funeral”), Tom Davis (“Paddington 2,” “King Gary”) and Kobna Holdbrook-Smith (“Paddington 2,” “Zack Snyder’s Justice League,” “Mary Poppins Returns”).\n\nSimon Farnaby (“Paddington 2”) & Paul King wrote the screenplay, based on a story by King and characters created by Roald Dahl. Michael Siegel, Cate Adams, Rosie Alison and Tim Wellspring are serving as executive producers. King’s behind-the-scenes creative team includes director of photography Chung-Hoon Chung (“Last Night in Soho,” “Ah-ga-ssi”); Oscar-nominated production designer Nathan Crowley (“Tenet,” “Dunkirk”); editor Mark Everson (the “Paddington” films); Oscar-winning costume designer Lindy Hemming (the “Paddington” films, “Topsy-Turvy”); and composer Joby Talbot (the “Sing” films). Neil Hannon of the band The Divine Comedy is writing original songs for the film.\n\nWarner Bros. Pictures Presents, in Association with Village Roadshow Pictures, a Heyday Films Production, a Paul King Confection, “Wonka,” set to open in theaters and in IMAX internationally beginning in December 2023 and in North America on December 15, 2023; it will be distributed worldwide by Warner Bros. Pictures.",
          "liveBroadcastContent": "none",
          "localized": {
           "description": "Only in theaters December 15. #WonkaMovie\n\nBased on the extraordinary character at the center of Charlie and the Chocolate Factory, Roald Dahl’s most iconic children’s book and one of the best-selling children’s books of all time, “Wonka” tells the wondrous story of how the world’s greatest inventor, magician and chocolate-maker became the beloved Willy Wonka we know today.\n\nFrom Paul King, writer/director of the “Paddington” films, David Heyman, producer of “Harry Potter,” “Gravity,” “Fantastic Beasts” and “Paddington,” and producers Alexandra Derbyshire (the “Paddington” films, “Jurassic World: Dominion”) and Luke Kelly (“Roald Dahl’s The Witches”), comes an intoxicating mix of magic and music, mayhem and emotion, all told with fabulous heart and humor. Starring Timothée Chalamet in the title role, this irresistibly vivid and inventive big screen spectacle will introduce audiences to a young Willy Wonka, chock-full of ideas and determined to change the world one delectable bite at a time—proving that the best things in life begin with a dream, and if you’re lucky enough to meet Willy Wonka, anything is possible.\n\nStarring alongside Chalamet are Calah Lane (“The Day Shall Come”), Emmy and Peabody Award winner Keegan-Michael Key (“The Prom,” “Schmigadoon”), Paterson Joseph (“Vigil,” “Noughts + Crosses”), Matt Lucas (“Paddington,” “Little Britain”), Mathew Baynton (“The Wrong Mans,” “Ghosts”), Oscar nominee Sally Hawkins (“The Shape of Water,” the “Paddington” films, “Spencer”), Rowan Atkinson (the “Johnny English” and “Mr. Bean” films, “Love Actually”), Jim Carter (“Downton Abbey”), with Oscar winner Olivia Colman (“The Favourite”). The film also stars Natasha Rothwell (“White Lotus,” “Insecure”), Rich Fulcher (“Marriage Story,” “Disenchantment”), Rakhee Thakrar (“Sex Education,” “Four Weddings and a Funeral”), Tom Davis (“Paddington 2,” “King Gary”) and Kobna Holdbrook-Smith (“Paddington 2,” “Zack Snyder’s Justice League,” “Mary Poppins Returns”).\n\nSimon Farnaby (“Paddington 2”) & Paul King wrote the screenplay, based on a story by King and characters created by Roald Dahl. Michael Siegel, Cate Adams, Rosie Alison and Tim Wellspring are serving as executive producers. King’s behind-the-scenes creative team includes director of photography Chung-Hoon Chung (“Last Night in Soho,” “Ah-ga-ssi”); Oscar-nominated production designer Nathan Crowley (“Tenet,” “Dunkirk”); editor Mark Everson (the “Paddington” films); Oscar-winning costume designer Lindy Hemming (the “Paddington” films, “Topsy-Turvy”); and composer Joby Talbot (the “Sing” films). Neil Hannon of the band The Divine Comedy is writing original songs for the film.\n\nWarner Bros. Pictures Presents, in Association with Village Roadshow Pictures, a Heyday Films Production, a Paul King Confection, “Wonka,” set to open in theaters and in IMAX internationally beginning in December 2023 and in North America on December 15, 2023; it will be distributed worldwide by Warner Bros. Pictures.",
           "title": "WONKA | Official Trailer"
          },
          "publishedAt": "2023-07-11T16:00:39Z",
          "tags": [
           "Alexandra Ferguson Derbyshire",
           "Coming Soon",
           "Film",
           "Film Trailer",
           "Film Warner",
           "Hugh Grant",
           "HughGrant",
           "Luke Kelly",
           "Michael Siegel",
           "Movie",
           "Official Trailer",
           "Olivia Colman",
           "OliviaColman",
           "Paul King",
           "PaulKing",
           "Timothée Chalamet",
           "TimothéeChalamet",
           "Trailer",
           "Trailer 2022",
           "WB",
           "Warner",
           "Warner Bros",
           "Warner Brothers",
           "Warner Media",
           "adventure",
           "comedy",
           "family David Heyman",
           "wonka",
           "wonka movie"
          ],
          "thumbnails": {
           "default": {
            "height": 90,
            "url": "https://i.ytimg.com/vi/otNh9bTjXWg/default.jpg",
            "width": 120
           },
           "high": {
            "height": 360,
            "url": "https://i.ytimg.com/vi/otNh9bTjXWg/hqdefault.jpg",
            "width": 480
           },
           "maxres": {
            "height": 720,
            "url": "https://i.ytimg.com/vi/otNh9bTjXWg/maxresdefault.jpg",
            "width": 1280
           },
           "medium": {
            "height": 180,
            "url": "https://i.ytimg.com/vi/otNh9bTjXWg/mqdefault.jpg",
            "width": 320
           },
           "standard": {
            "height": 480,
            "url": "https://i.ytimg.com/vi/otNh9bTjXWg/sddefault.jpg",
            "width": 640
           }
          },
          "title": "WONKA | Official Trailer"
         },
         "statistics": {
          "commentCount": "29166",
          "favoriteCount": "0",
          "likeCount": "463048",
          "viewCount": "37715684"
         }
        },
        {
         "contentDetails": {
          "caption": "true",
          "contentRating": {},
          "definition": "hd",
          "dimension": "2d",
          "duration": "PT2M44S",
          "licensedContent": false,
          "projection": "rectangular"
         },
         "etag": "FOuk1IqfktR8uG4lO72Iq3D2thc",
         "id": "wYmtRhKvmVE",
         "kind": "youtube#video",
         "snippet": {
          "categoryId": "1",
          "channelId": "UCjmJDM5pRKbUlVIzDYYWb6g",
          "channelTitle": "Warner Bros. Pictures",
          "defaultAudioLanguage": "en-US",
          "defaultLanguage": "en",
          "description": "Step into a world of pure imagination✨ #WonkaMovie - Only in theaters December 15.\n\nBased on the extraordinary character at the center of Charlie and the Chocolate Factory, Roald Dahl’s most iconic children’s book and one of the best-selling children’s books of all time, “Wonka” tells the wondrous story of how the world’s greatest inventor, magician and chocolate-maker became the beloved Willy Wonka we know today. \n\nFrom Paul King, writer/director of the “Paddington” films, David Heyman, producer of “Harry Potter,” “Gravity,” “Fantastic Beasts” and “Paddington,” and producers Alexandra Derbyshire (the “Paddington” films, “Jurassic World: Dominion”) and Luke Kelly (“Roald Dahl’s The Witches”), comes an intoxicating mix of magic and music, mayhem and emotion, all told with fabulous heart and humor.  Starring Timothée Chalamet in the title role, this irresistibly vivid and inventive big screen spectacle will introduce audiences to a young Willy Wonka, chock-full of ideas and determined to change the world one delectable bite at a time—proving that the best things in life begin with a dream, and if you’re lucky enough to meet Willy Wonka, anything is possible. \n\nStarring alongside Chalamet are Calah Lane (“The Day Shall Come”), Emmy and Peabody Award winner Keegan-Michael Key (“The Prom,” “Schmigadoon”), Paterson Joseph (“Vigil,” “Noughts + Crosses”), Matt Lucas (“Paddington,” “Little Britain”), Mathew Baynton (“The Wrong Mans,” “Ghosts”), Oscar nominee Sally Hawkins (“The Shape of Water,” the “Paddington” films, “Spencer”), Rowan Atkinson (the “Johnny English” and “Mr. Bean” films, “Love Actually”), Jim Carter (“Downton Abbey”), with Oscar winner Olivia Colman (“The Favourite,” “The Lost Daughter”) and Hugh Grant (“Paddington 2,” “A Very English Scandal”). The film also stars Natasha Rothwell (“White Lotus,” “Insecure”), Rich Fulcher (“Marriage Story,” “Disenchantment”), Rakhee Thakrar (“Sex Education,” “Four Weddings and a Funeral”), Tom Davis (“Paddington 2,” “King Gary”) and Kobna Holdbrook-Smith (“Paddington 2,” “Zack Snyder’s Justice League,” “Mary Poppins Returns”). \n\nSimon Farnaby (“Paddington 2”) & Paul King wrote the screenplay, based on a story by King and characters created by Roald Dahl.  Michael Siegel, Cate Adams, Rosie Alison and Tim Wellspring are serving as executive producers.  King’s behind-the-scenes creative team includes director of photography Chung-Hoon Chung (“Last Night in Soho,” “Ah-ga-ssi”); Oscar-nominated production designer Nathan Crowley (“Tenet,” “Dunkirk”); editor Mark Everson (the “Paddington” films); Oscar-winning costume designer Lindy Hemming (the “Paddington” films, “Topsy-Turvy”); and composer Joby Talbot (the “Sing” films).  Neil Hannon of the band The Divine Comedy is writing original songs for the film. \n\nWarner Bros. Pictures Presents, in Association with Village Roadshow Pictures, a Heyday Films Production, a Paul King Confection, “Wonka,” set to open in theaters and in IMAX internationally beginning 6 December 2023 and in North America on December 15, 2023; it will be distributed worldwide by Warner Bros. Pictures.",
          "liveBroadcastContent": "none",
          "localized": {
           "description": "Step into a world of pure imagination✨ #WonkaMovie - Only in theaters December 15.\n\nBased on the extraordinary character at the center of Charlie and the Chocolate Factory, Roald Dahl’s most iconic children’s book and one of the best-selling children’s books of all time, “Wonka” tells the wondrous story of how the world’s greatest inventor, magician and chocolate-maker became the beloved Willy Wonka we know today. \n\nFrom Paul King, writer/director of the “Paddington” films, David Heyman, producer of “Harry Potter,” “Gravity,” “Fantastic Beasts” and “Paddington,” and producers Alexandra Derbyshire (the “Paddington” films, “Jurassic World: Dominion”) and Luke Kelly (“Roald Dahl’s The Witches”), comes an intoxicating mix of magic and music, mayhem and emotion, all told with fabulous heart and humor.  Starring Timothée Chalamet in the title role, this irresistibly vivid and inventive big screen spectacle will introduce audiences to a young Willy Wonka, chock-full of ideas and determined to change the world one delectable bite at a time—proving that the best things in life begin with a dream, and if you’re lucky enough to meet Willy Wonka, anything is possible. \n\nStarring alongside Chalamet are Calah Lane (“The Day Shall Come”), Emmy and Peabody Award winner Keegan-Michael Key (“The Prom,” “Schmigadoon”), Paterson Joseph (“Vigil,” “Noughts + Crosses”), Matt Lucas (“Paddington,” “Little Britain”), Mathew Baynton (“The Wrong Mans,” “Ghosts”), Oscar nominee Sally Hawkins (“The Shape of Water,” the “Paddington” films, “Spencer”), Rowan Atkinson (the “Johnny English” and “Mr. Bean” films, “Love Actually”), Jim Carter (“Downton Abbey”), with Oscar winner Olivia Colman (“The Favourite,” “The Lost Daughter”) and Hugh Grant (“Paddington 2,” “A Very English Scandal”). The film also stars Natasha Rothwell (“White Lotus,” “Insecure”), Rich Fulcher (“Marriage Story,” “Disenchantment”), Rakhee Thakrar (“Sex Education,” “Four Weddings and a Funeral”), Tom Davis (“Paddington 2,” “King Gary”) and Kobna Holdbrook-Smith (“Paddington 2,” “Zack Snyder’s Justice League,” “Mary Poppins Returns”). \n\nSimon Farnaby (“Paddington 2”) & Paul King wrote the screenplay, based on a story by King and characters created by Roald Dahl.  Michael Siegel, Cate Adams, Rosie Alison and Tim Wellspring are serving as executive producers.  King’s behind-the-scenes creative team includes director of photography Chung-Hoon Chung (“Last Night in Soho,” “Ah-ga-ssi”); Oscar-nominated production designer Nathan Crowley (“Tenet,” “Dunkirk”); editor Mark Everson (the “Paddington” films); Oscar-winning costume designer Lindy Hemming (the “Paddington” films, “Topsy-Turvy”); and composer Joby Talbot (the “Sing” films).  Neil Hannon of the band The Divine Comedy is writing original songs for the film. \n\nWarner Bros. Pictures Presents, in Association with Village Roadshow Pictures, a Heyday Films Production, a Paul King Confection, “Wonka,” set to open in theaters and in IMAX internationally beginning 6 December 2023 and in North America on December 15, 2023; it will be distributed worldwide by Warner Bros. Pictures.",
           "title": "Wonka | Trailer #2"
          },
          "publishedAt": "2023-10-12T16:00:44Z",
          "tags": [
           "Alexandra Ferguson Derbyshire",
           "ChocolateFactory",
           "Coming Soon",
           "David Heyman",
           "December",
           "Film",
           "Film Trailer",
           "Film Warner",
           "Hugh Grant",
           "HughGrant",
           "Luke Kelly",
           "Michael Siegel",
           "Movie",
           "Official Trailer",
           "Olivia Colman",
           "OliviaColman",
           "OoompaLoompa",
           "Paul King",
           "PaulKing",
           "PureImagination",
           "TimotheeChalamet",
           "TimothéeChalamet",
           "Trailer",
           "Trailer 2023",
           "WB",
           "Warner",
           "Warner Bros",
           "Warner Brothers",
           "Warner Media",
           "Wonka",
           "Wonka Movie",
           "adventure",
           "comedy",
           "family"
          ],
          "thumbnails": {
           "default": {
            "height": 90,
            "url": "https://i.ytimg.com/vi/wYmtRhKvmVE/default.jpg",
            "width": 120
           },
           "high": {
            "height": 360,
            "url": "https://i.ytimg.com/vi/wYmtRhKvmVE/hqdefault.jpg",
            "width": 480
           },
           "maxres": {
            "height": 720,
            "url": "https://i.ytimg.com/vi/wYmtRhKvmVE/maxresdefault.jpg",
            "width": 1280
           },
           "medium": {
            "height": 180,
            "url": "https://i.ytimg.com/vi/wYmtRhKvmVE/mqdefault.jpg",
            "width": 320
           },
           "standard": {
            "height": 480,
            "url": "https://i.ytimg.com/vi/wYmtRhKvmVE/sddefault.jpg",
            "width": 640
           }
          },
          "title": "Wonka | Trailer #2"
         },
         "statistics": {
          "commentCount": "5424",
          "favoriteCount": "0",
          "likeCount": "70594",
          "viewCount": "12626941"
         }
        }
       ],
       "kind": "youtube#videoListResponse",
       "pageInfo": {
        "resultsPerPage": 34,
        "totalResults": 34
       }
      },
      "text/plain": [
       "<IPython.core.display.JSON object>"
      ]
     },
     "execution_count": 8,
     "metadata": {
      "application/json": {
       "expanded": false,
       "root": "root"
      }
     },
     "output_type": "execute_result"
    }
   ],
   "source": [
    "#request data from youtube API\n",
    "api_service_name = \"youtube\"\n",
    "api_version = \"v3\"\n",
    "\n",
    "youtube = googleapiclient.discovery.build(\n",
    "    api_service_name, api_version, developerKey=api_key)\n",
    "\n",
    "request = youtube.videos().list(\n",
    "    part=\"snippet,contentDetails,statistics\",\n",
    "    id= video_id\n",
    ")\n",
    "response = request.execute()\n",
    "\n",
    "JSON(response)\n"
   ]
  },
  {
   "cell_type": "code",
   "execution_count": 9,
   "id": "e3625925",
   "metadata": {},
   "outputs": [
    {
     "data": {
      "text/plain": [
       "[{'videoName': 'Barbie | Main Trailer', 'views': '79922625'},\n",
       " {'videoName': 'The Super Mario Bros. Movie | Official Trailer',\n",
       "  'views': '30401495'},\n",
       " {'videoName': 'Oppenheimer | New Trailer', 'views': '66095962'},\n",
       " {'videoName': 'Oppenheimer | Official Trailer', 'views': '47001163'},\n",
       " {'videoName': 'Marvel Studios’ Guardians of the Galaxy Vol. 3 | Official Trailer',\n",
       "  'views': '33770969'},\n",
       " {'videoName': 'Marvel Studios’ Guardians of the Galaxy Vol. 3 | New Trailer',\n",
       "  'views': '19289752'},\n",
       " {'videoName': 'FAST X | Official Trailer', 'views': '40793447'},\n",
       " {'videoName': 'FAST X | Official Trailer 2', 'views': '31007244'},\n",
       " {'videoName': 'FAST X | Final Trailer', 'views': '13935201'},\n",
       " {'videoName': 'SPIDER-MAN: ACROSS THE SPIDER-VERSE - Official Trailer (HD)',\n",
       "  'views': '36586556'},\n",
       " {'videoName': 'SPIDER-MAN: ACROSS THE SPIDER-VERSE - Official Trailer #2 (HD)',\n",
       "  'views': '50852384'},\n",
       " {'videoName': 'The Little Mermaid | Official Trailer', 'views': '26057586'},\n",
       " {'videoName': 'Mission: Impossible – Dead Reckoning Part One | Official Trailer (2023 Movie) - Tom Cruise',\n",
       "  'views': '28939657'},\n",
       " {'videoName': 'Mission: Impossible – Dead Reckoning Part One | Final Trailer (2023 Movie) - Tom Cruise',\n",
       "  'views': '5899912'},\n",
       " {'videoName': 'Elemental | Official Trailer', 'views': '46568237'},\n",
       " {'videoName': 'Marvel Studios’ Ant-Man and The Wasp: Quantumania | Official Trailer',\n",
       "  'views': '33645596'},\n",
       " {'videoName': 'Marvel Studios’ Ant-Man and The Wasp: Quantumania | New Trailer',\n",
       "  'views': '26195186'},\n",
       " {'videoName': 'John Wick: Chapter 4 (2023 Movie) Official Trailer – Keanu Reeves, Donnie Yen, Bill Skarsgård',\n",
       "  'views': '49421526'},\n",
       " {'videoName': 'John Wick: Chapter 4 (2023) Final Trailer – Keanu Reeves, Donnie Yen, Bill Skarsgård',\n",
       "  'views': '31312679'},\n",
       " {'videoName': 'Transformers: Rise of the Beasts | Official Trailer (2023 Movie)',\n",
       "  'views': '32632352'},\n",
       " {'videoName': 'Transformers: Rise of the Beasts | Official Final Trailer (2023 Movie)',\n",
       "  'views': '11683269'},\n",
       " {'videoName': 'MEG 2: THE TRENCH - OFFICIAL TRAILER', 'views': '46942856'},\n",
       " {'videoName': 'Indiana Jones and the Dial of Destiny | Official Trailer',\n",
       "  'views': '16408874'},\n",
       " {'videoName': 'The Hunger Games: The Ballad of Songbirds & Snakes (2023) Official Trailer',\n",
       "  'views': '23335749'},\n",
       " {'videoName': 'The Hunger Games: The Ballad of Songbirds & Snakes (2023) Official Trailer 2',\n",
       "  'views': '29144607'},\n",
       " {'videoName': \"Five Nights At Freddy's | Official Trailer\",\n",
       "  'views': '40490074'},\n",
       " {'videoName': \"Five Nights at Freddy's | Official Trailer 2\",\n",
       "  'views': '23736855'},\n",
       " {'videoName': 'CREED III | Official Trailer', 'views': '18592536'},\n",
       " {'videoName': 'CREED III | Final Trailer', 'views': '19086776'},\n",
       " {'videoName': 'The Flash – Official Trailer', 'views': '20747823'},\n",
       " {'videoName': 'The Flash - Official Trailer 2', 'views': '32399320'},\n",
       " {'videoName': 'THE NUN II | OFFICIAL TRAILER', 'views': '41725608'},\n",
       " {'videoName': 'WONKA | Official Trailer', 'views': '37715684'},\n",
       " {'videoName': 'Wonka | Trailer #2', 'views': '12626941'}]"
      ]
     },
     "execution_count": 9,
     "metadata": {},
     "output_type": "execute_result"
    }
   ],
   "source": [
    "#loop through videos\n",
    "trailer_data = []\n",
    "\n",
    "for item in response['items']:\n",
    "    data = {'videoName': item['snippet']['title'],\n",
    "           'views': item['statistics']['viewCount'],\n",
    "           }\n",
    "    trailer_data.append(data)\n",
    "    \n",
    "trailer_data\n"
   ]
  },
  {
   "cell_type": "code",
   "execution_count": 10,
   "id": "3361ead3",
   "metadata": {},
   "outputs": [
    {
     "data": {
      "text/html": [
       "<div>\n",
       "<style scoped>\n",
       "    .dataframe tbody tr th:only-of-type {\n",
       "        vertical-align: middle;\n",
       "    }\n",
       "\n",
       "    .dataframe tbody tr th {\n",
       "        vertical-align: top;\n",
       "    }\n",
       "\n",
       "    .dataframe thead th {\n",
       "        text-align: right;\n",
       "    }\n",
       "</style>\n",
       "<table border=\"1\" class=\"dataframe\">\n",
       "  <thead>\n",
       "    <tr style=\"text-align: right;\">\n",
       "      <th></th>\n",
       "      <th>videoName</th>\n",
       "      <th>views</th>\n",
       "    </tr>\n",
       "  </thead>\n",
       "  <tbody>\n",
       "    <tr>\n",
       "      <th>0</th>\n",
       "      <td>Barbie | Main Trailer</td>\n",
       "      <td>79922625</td>\n",
       "    </tr>\n",
       "    <tr>\n",
       "      <th>1</th>\n",
       "      <td>The Super Mario Bros. Movie | Official Trailer</td>\n",
       "      <td>30401495</td>\n",
       "    </tr>\n",
       "    <tr>\n",
       "      <th>2</th>\n",
       "      <td>Oppenheimer | New Trailer</td>\n",
       "      <td>66095962</td>\n",
       "    </tr>\n",
       "    <tr>\n",
       "      <th>3</th>\n",
       "      <td>Oppenheimer | Official Trailer</td>\n",
       "      <td>47001163</td>\n",
       "    </tr>\n",
       "    <tr>\n",
       "      <th>4</th>\n",
       "      <td>Marvel Studios’ Guardians of the Galaxy Vol. 3...</td>\n",
       "      <td>33770969</td>\n",
       "    </tr>\n",
       "    <tr>\n",
       "      <th>5</th>\n",
       "      <td>Marvel Studios’ Guardians of the Galaxy Vol. 3...</td>\n",
       "      <td>19289752</td>\n",
       "    </tr>\n",
       "    <tr>\n",
       "      <th>6</th>\n",
       "      <td>FAST X | Official Trailer</td>\n",
       "      <td>40793447</td>\n",
       "    </tr>\n",
       "    <tr>\n",
       "      <th>7</th>\n",
       "      <td>FAST X | Official Trailer 2</td>\n",
       "      <td>31007244</td>\n",
       "    </tr>\n",
       "    <tr>\n",
       "      <th>8</th>\n",
       "      <td>FAST X | Final Trailer</td>\n",
       "      <td>13935201</td>\n",
       "    </tr>\n",
       "    <tr>\n",
       "      <th>9</th>\n",
       "      <td>SPIDER-MAN: ACROSS THE SPIDER-VERSE - Official...</td>\n",
       "      <td>36586556</td>\n",
       "    </tr>\n",
       "    <tr>\n",
       "      <th>10</th>\n",
       "      <td>SPIDER-MAN: ACROSS THE SPIDER-VERSE - Official...</td>\n",
       "      <td>50852384</td>\n",
       "    </tr>\n",
       "    <tr>\n",
       "      <th>11</th>\n",
       "      <td>The Little Mermaid | Official Trailer</td>\n",
       "      <td>26057586</td>\n",
       "    </tr>\n",
       "    <tr>\n",
       "      <th>12</th>\n",
       "      <td>Mission: Impossible – Dead Reckoning Part One ...</td>\n",
       "      <td>28939657</td>\n",
       "    </tr>\n",
       "    <tr>\n",
       "      <th>13</th>\n",
       "      <td>Mission: Impossible – Dead Reckoning Part One ...</td>\n",
       "      <td>5899912</td>\n",
       "    </tr>\n",
       "    <tr>\n",
       "      <th>14</th>\n",
       "      <td>Elemental | Official Trailer</td>\n",
       "      <td>46568237</td>\n",
       "    </tr>\n",
       "    <tr>\n",
       "      <th>15</th>\n",
       "      <td>Marvel Studios’ Ant-Man and The Wasp: Quantuma...</td>\n",
       "      <td>33645596</td>\n",
       "    </tr>\n",
       "    <tr>\n",
       "      <th>16</th>\n",
       "      <td>Marvel Studios’ Ant-Man and The Wasp: Quantuma...</td>\n",
       "      <td>26195186</td>\n",
       "    </tr>\n",
       "    <tr>\n",
       "      <th>17</th>\n",
       "      <td>John Wick: Chapter 4 (2023 Movie) Official Tra...</td>\n",
       "      <td>49421526</td>\n",
       "    </tr>\n",
       "    <tr>\n",
       "      <th>18</th>\n",
       "      <td>John Wick: Chapter 4 (2023) Final Trailer – Ke...</td>\n",
       "      <td>31312679</td>\n",
       "    </tr>\n",
       "    <tr>\n",
       "      <th>19</th>\n",
       "      <td>Transformers: Rise of the Beasts | Official Tr...</td>\n",
       "      <td>32632352</td>\n",
       "    </tr>\n",
       "    <tr>\n",
       "      <th>20</th>\n",
       "      <td>Transformers: Rise of the Beasts | Official Fi...</td>\n",
       "      <td>11683269</td>\n",
       "    </tr>\n",
       "    <tr>\n",
       "      <th>21</th>\n",
       "      <td>MEG 2: THE TRENCH - OFFICIAL TRAILER</td>\n",
       "      <td>46942856</td>\n",
       "    </tr>\n",
       "    <tr>\n",
       "      <th>22</th>\n",
       "      <td>Indiana Jones and the Dial of Destiny | Offici...</td>\n",
       "      <td>16408874</td>\n",
       "    </tr>\n",
       "    <tr>\n",
       "      <th>23</th>\n",
       "      <td>The Hunger Games: The Ballad of Songbirds &amp; Sn...</td>\n",
       "      <td>23335749</td>\n",
       "    </tr>\n",
       "    <tr>\n",
       "      <th>24</th>\n",
       "      <td>The Hunger Games: The Ballad of Songbirds &amp; Sn...</td>\n",
       "      <td>29144607</td>\n",
       "    </tr>\n",
       "    <tr>\n",
       "      <th>25</th>\n",
       "      <td>Five Nights At Freddy's | Official Trailer</td>\n",
       "      <td>40490074</td>\n",
       "    </tr>\n",
       "    <tr>\n",
       "      <th>26</th>\n",
       "      <td>Five Nights at Freddy's | Official Trailer 2</td>\n",
       "      <td>23736855</td>\n",
       "    </tr>\n",
       "    <tr>\n",
       "      <th>27</th>\n",
       "      <td>CREED III | Official Trailer</td>\n",
       "      <td>18592536</td>\n",
       "    </tr>\n",
       "    <tr>\n",
       "      <th>28</th>\n",
       "      <td>CREED III | Final Trailer</td>\n",
       "      <td>19086776</td>\n",
       "    </tr>\n",
       "    <tr>\n",
       "      <th>29</th>\n",
       "      <td>The Flash – Official Trailer</td>\n",
       "      <td>20747823</td>\n",
       "    </tr>\n",
       "    <tr>\n",
       "      <th>30</th>\n",
       "      <td>The Flash - Official Trailer 2</td>\n",
       "      <td>32399320</td>\n",
       "    </tr>\n",
       "    <tr>\n",
       "      <th>31</th>\n",
       "      <td>THE NUN II | OFFICIAL TRAILER</td>\n",
       "      <td>41725608</td>\n",
       "    </tr>\n",
       "    <tr>\n",
       "      <th>32</th>\n",
       "      <td>WONKA | Official Trailer</td>\n",
       "      <td>37715684</td>\n",
       "    </tr>\n",
       "    <tr>\n",
       "      <th>33</th>\n",
       "      <td>Wonka | Trailer #2</td>\n",
       "      <td>12626941</td>\n",
       "    </tr>\n",
       "  </tbody>\n",
       "</table>\n",
       "</div>"
      ],
      "text/plain": [
       "                                            videoName     views\n",
       "0                               Barbie | Main Trailer  79922625\n",
       "1      The Super Mario Bros. Movie | Official Trailer  30401495\n",
       "2                           Oppenheimer | New Trailer  66095962\n",
       "3                      Oppenheimer | Official Trailer  47001163\n",
       "4   Marvel Studios’ Guardians of the Galaxy Vol. 3...  33770969\n",
       "5   Marvel Studios’ Guardians of the Galaxy Vol. 3...  19289752\n",
       "6                           FAST X | Official Trailer  40793447\n",
       "7                         FAST X | Official Trailer 2  31007244\n",
       "8                              FAST X | Final Trailer  13935201\n",
       "9   SPIDER-MAN: ACROSS THE SPIDER-VERSE - Official...  36586556\n",
       "10  SPIDER-MAN: ACROSS THE SPIDER-VERSE - Official...  50852384\n",
       "11              The Little Mermaid | Official Trailer  26057586\n",
       "12  Mission: Impossible – Dead Reckoning Part One ...  28939657\n",
       "13  Mission: Impossible – Dead Reckoning Part One ...   5899912\n",
       "14                       Elemental | Official Trailer  46568237\n",
       "15  Marvel Studios’ Ant-Man and The Wasp: Quantuma...  33645596\n",
       "16  Marvel Studios’ Ant-Man and The Wasp: Quantuma...  26195186\n",
       "17  John Wick: Chapter 4 (2023 Movie) Official Tra...  49421526\n",
       "18  John Wick: Chapter 4 (2023) Final Trailer – Ke...  31312679\n",
       "19  Transformers: Rise of the Beasts | Official Tr...  32632352\n",
       "20  Transformers: Rise of the Beasts | Official Fi...  11683269\n",
       "21               MEG 2: THE TRENCH - OFFICIAL TRAILER  46942856\n",
       "22  Indiana Jones and the Dial of Destiny | Offici...  16408874\n",
       "23  The Hunger Games: The Ballad of Songbirds & Sn...  23335749\n",
       "24  The Hunger Games: The Ballad of Songbirds & Sn...  29144607\n",
       "25         Five Nights At Freddy's | Official Trailer  40490074\n",
       "26       Five Nights at Freddy's | Official Trailer 2  23736855\n",
       "27                       CREED III | Official Trailer  18592536\n",
       "28                          CREED III | Final Trailer  19086776\n",
       "29                       The Flash – Official Trailer  20747823\n",
       "30                     The Flash - Official Trailer 2  32399320\n",
       "31                      THE NUN II | OFFICIAL TRAILER  41725608\n",
       "32                           WONKA | Official Trailer  37715684\n",
       "33                                 Wonka | Trailer #2  12626941"
      ]
     },
     "execution_count": 10,
     "metadata": {},
     "output_type": "execute_result"
    }
   ],
   "source": [
    "#Convert to dataframe\n",
    "trailer_data_df = pd.DataFrame(trailer_data)\n",
    "trailer_data_df"
   ]
  },
  {
   "cell_type": "code",
   "execution_count": 11,
   "id": "ecbbb32d-188e-4b37-842a-e9bf19a9a452",
   "metadata": {
    "tags": []
   },
   "outputs": [],
   "source": [
    "trailer_data_df.to_csv(\"Resources/trailer_data.csv\", index=False)"
   ]
  },
  {
   "cell_type": "code",
   "execution_count": null,
   "id": "c929ca78",
   "metadata": {},
   "outputs": [],
   "source": []
  },
  {
   "cell_type": "code",
   "execution_count": null,
   "id": "ec51b9e0-615b-4f76-95f5-e2f136ffdb12",
   "metadata": {},
   "outputs": [],
   "source": [
    "# Worldwide movie data (as of 12/27)"
   ]
  },
  {
   "cell_type": "code",
   "execution_count": 2,
   "id": "9309398b-4361-4c02-82f3-a435e1d6ecc9",
   "metadata": {
    "tags": []
   },
   "outputs": [
    {
     "data": {
      "text/html": [
       "<div>\n",
       "<style scoped>\n",
       "    .dataframe tbody tr th:only-of-type {\n",
       "        vertical-align: middle;\n",
       "    }\n",
       "\n",
       "    .dataframe tbody tr th {\n",
       "        vertical-align: top;\n",
       "    }\n",
       "\n",
       "    .dataframe thead th {\n",
       "        text-align: right;\n",
       "    }\n",
       "</style>\n",
       "<table border=\"1\" class=\"dataframe\">\n",
       "  <thead>\n",
       "    <tr style=\"text-align: right;\">\n",
       "      <th></th>\n",
       "      <th>Rank</th>\n",
       "      <th>Release Group</th>\n",
       "      <th>Worldwide</th>\n",
       "      <th>Domestic</th>\n",
       "      <th>%</th>\n",
       "      <th>Foreign</th>\n",
       "      <th>%.1</th>\n",
       "    </tr>\n",
       "  </thead>\n",
       "  <tbody>\n",
       "    <tr>\n",
       "      <th>0</th>\n",
       "      <td>1</td>\n",
       "      <td>Barbie</td>\n",
       "      <td>$1,441,820,453</td>\n",
       "      <td>$636,220,453</td>\n",
       "      <td>44.1%</td>\n",
       "      <td>$805,600,000</td>\n",
       "      <td>55.9%</td>\n",
       "    </tr>\n",
       "    <tr>\n",
       "      <th>1</th>\n",
       "      <td>2</td>\n",
       "      <td>The Super Mario Bros. Movie</td>\n",
       "      <td>$1,361,367,353</td>\n",
       "      <td>$574,934,330</td>\n",
       "      <td>42.2%</td>\n",
       "      <td>$786,433,023</td>\n",
       "      <td>57.8%</td>\n",
       "    </tr>\n",
       "    <tr>\n",
       "      <th>2</th>\n",
       "      <td>3</td>\n",
       "      <td>Oppenheimer</td>\n",
       "      <td>$952,021,870</td>\n",
       "      <td>$326,087,870</td>\n",
       "      <td>34.3%</td>\n",
       "      <td>$625,934,000</td>\n",
       "      <td>65.7%</td>\n",
       "    </tr>\n",
       "    <tr>\n",
       "      <th>3</th>\n",
       "      <td>4</td>\n",
       "      <td>Guardians of the Galaxy Vol. 3</td>\n",
       "      <td>$845,555,777</td>\n",
       "      <td>$358,995,815</td>\n",
       "      <td>42.5%</td>\n",
       "      <td>$486,559,962</td>\n",
       "      <td>57.5%</td>\n",
       "    </tr>\n",
       "    <tr>\n",
       "      <th>4</th>\n",
       "      <td>5</td>\n",
       "      <td>Fast X</td>\n",
       "      <td>$704,875,015</td>\n",
       "      <td>$146,126,015</td>\n",
       "      <td>20.7%</td>\n",
       "      <td>$558,749,000</td>\n",
       "      <td>79.3%</td>\n",
       "    </tr>\n",
       "    <tr>\n",
       "      <th>...</th>\n",
       "      <td>...</td>\n",
       "      <td>...</td>\n",
       "      <td>...</td>\n",
       "      <td>...</td>\n",
       "      <td>...</td>\n",
       "      <td>...</td>\n",
       "      <td>...</td>\n",
       "    </tr>\n",
       "    <tr>\n",
       "      <th>195</th>\n",
       "      <td>196</td>\n",
       "      <td>Ferrari</td>\n",
       "      <td>$7,009,409</td>\n",
       "      <td>$4,422,103</td>\n",
       "      <td>63.1%</td>\n",
       "      <td>$2,587,306</td>\n",
       "      <td>36.9%</td>\n",
       "    </tr>\n",
       "    <tr>\n",
       "      <th>196</th>\n",
       "      <td>197</td>\n",
       "      <td>Knights of the Zodiac</td>\n",
       "      <td>$6,986,177</td>\n",
       "      <td>$1,090,155</td>\n",
       "      <td>15.6%</td>\n",
       "      <td>$5,896,022</td>\n",
       "      <td>84.4%</td>\n",
       "    </tr>\n",
       "    <tr>\n",
       "      <th>197</th>\n",
       "      <td>198</td>\n",
       "      <td>Leo</td>\n",
       "      <td>$6,978,436</td>\n",
       "      <td>-</td>\n",
       "      <td>-</td>\n",
       "      <td>$6,978,436</td>\n",
       "      <td>100%</td>\n",
       "    </tr>\n",
       "    <tr>\n",
       "      <th>198</th>\n",
       "      <td>199</td>\n",
       "      <td>Salaar</td>\n",
       "      <td>$6,922,557</td>\n",
       "      <td>$6,306,000</td>\n",
       "      <td>91.1%</td>\n",
       "      <td>$616,557</td>\n",
       "      <td>8.9%</td>\n",
       "    </tr>\n",
       "    <tr>\n",
       "      <th>199</th>\n",
       "      <td>200</td>\n",
       "      <td>A Difficult Year</td>\n",
       "      <td>$6,881,647</td>\n",
       "      <td>-</td>\n",
       "      <td>-</td>\n",
       "      <td>$6,881,647</td>\n",
       "      <td>100%</td>\n",
       "    </tr>\n",
       "  </tbody>\n",
       "</table>\n",
       "<p>200 rows × 7 columns</p>\n",
       "</div>"
      ],
      "text/plain": [
       "     Rank                   Release Group       Worldwide      Domestic  \\\n",
       "0       1                          Barbie  $1,441,820,453  $636,220,453   \n",
       "1       2     The Super Mario Bros. Movie  $1,361,367,353  $574,934,330   \n",
       "2       3                     Oppenheimer    $952,021,870  $326,087,870   \n",
       "3       4  Guardians of the Galaxy Vol. 3    $845,555,777  $358,995,815   \n",
       "4       5                          Fast X    $704,875,015  $146,126,015   \n",
       "..    ...                             ...             ...           ...   \n",
       "195   196                         Ferrari      $7,009,409    $4,422,103   \n",
       "196   197           Knights of the Zodiac      $6,986,177    $1,090,155   \n",
       "197   198                             Leo      $6,978,436             -   \n",
       "198   199                          Salaar      $6,922,557    $6,306,000   \n",
       "199   200                A Difficult Year      $6,881,647             -   \n",
       "\n",
       "         %       Foreign    %.1  \n",
       "0    44.1%  $805,600,000  55.9%  \n",
       "1    42.2%  $786,433,023  57.8%  \n",
       "2    34.3%  $625,934,000  65.7%  \n",
       "3    42.5%  $486,559,962  57.5%  \n",
       "4    20.7%  $558,749,000  79.3%  \n",
       "..     ...           ...    ...  \n",
       "195  63.1%    $2,587,306  36.9%  \n",
       "196  15.6%    $5,896,022  84.4%  \n",
       "197      -    $6,978,436   100%  \n",
       "198  91.1%      $616,557   8.9%  \n",
       "199      -    $6,881,647   100%  \n",
       "\n",
       "[200 rows x 7 columns]"
      ]
     },
     "execution_count": 2,
     "metadata": {},
     "output_type": "execute_result"
    }
   ],
   "source": [
    "url = 'https://www.boxofficemojo.com/year/world/?ref_=bo_nb_ydw_tab'\n",
    "response = requests.get(url)\n",
    "worldwide = pd.read_html(response.text)\n",
    "worldwide_df = worldwide[0] \n",
    "worldwide_df"
   ]
  },
  {
   "cell_type": "code",
   "execution_count": 3,
   "id": "09bd3093-b6b4-4f03-9d1f-8953c9331247",
   "metadata": {
    "tags": []
   },
   "outputs": [],
   "source": [
    "draft_worldwide_df = worldwide_df.drop(worldwide_df.index[20:200])\n"
   ]
  },
  {
   "cell_type": "code",
   "execution_count": 7,
   "id": "f93dd11c-9fb8-4ed1-88c0-ca1f1bc6c0cf",
   "metadata": {},
   "outputs": [
    {
     "ename": "NameError",
     "evalue": "name 'draft_worldwide_df' is not defined",
     "output_type": "error",
     "traceback": [
      "\u001b[0;31m---------------------------------------------------------------------------\u001b[0m",
      "\u001b[0;31mNameError\u001b[0m                                 Traceback (most recent call last)",
      "Cell \u001b[0;32mIn[7], line 1\u001b[0m\n\u001b[0;32m----> 1\u001b[0m clean_worldwide_df \u001b[38;5;241m=\u001b[39m \u001b[43mdraft_worldwide_df\u001b[49m\u001b[38;5;241m.\u001b[39mdrop(columns\u001b[38;5;241m=\u001b[39m[\u001b[38;5;124m'\u001b[39m\u001b[38;5;124m%\u001b[39m\u001b[38;5;124m'\u001b[39m, \u001b[38;5;124m'\u001b[39m\u001b[38;5;124m%\u001b[39m\u001b[38;5;124m.1\u001b[39m\u001b[38;5;124m'\u001b[39m])\n\u001b[1;32m      2\u001b[0m clean_worldwide_df\n",
      "\u001b[0;31mNameError\u001b[0m: name 'draft_worldwide_df' is not defined"
     ]
    }
   ],
   "source": [
    "clean_worldwide_df = draft_worldwide_df.drop(columns=['%', '%.1'])\n",
    "clean_worldwide_df                      "
   ]
  },
  {
   "cell_type": "code",
   "execution_count": null,
   "id": "7c1e4499",
   "metadata": {},
   "outputs": [],
   "source": [
    "#clean_worldwide_df = clean_worldwide_df.set_index('Rank')\n"
   ]
  },
  {
   "cell_type": "code",
   "execution_count": 6,
   "id": "1e6ff8d9",
   "metadata": {},
   "outputs": [
    {
     "ename": "NameError",
     "evalue": "name 'clean_worldwide_df' is not defined",
     "output_type": "error",
     "traceback": [
      "\u001b[0;31m---------------------------------------------------------------------------\u001b[0m",
      "\u001b[0;31mNameError\u001b[0m                                 Traceback (most recent call last)",
      "Cell \u001b[0;32mIn[6], line 1\u001b[0m\n\u001b[0;32m----> 1\u001b[0m \u001b[43mclean_worldwide_df\u001b[49m\u001b[38;5;241m.\u001b[39mrename(columns\u001b[38;5;241m=\u001b[39m{\u001b[38;5;124m\"\u001b[39m\u001b[38;5;124mRelease Group\u001b[39m\u001b[38;5;124m\"\u001b[39m: \u001b[38;5;124m\"\u001b[39m\u001b[38;5;124mVideo Name\u001b[39m\u001b[38;5;124m\"\u001b[39m}, inplace\u001b[38;5;241m=\u001b[39m\u001b[38;5;28;01mTrue\u001b[39;00m)\n\u001b[1;32m      2\u001b[0m clean_worldwide_df\u001b[38;5;241m.\u001b[39mrename(columns\u001b[38;5;241m=\u001b[39m{\u001b[38;5;124m\"\u001b[39m\u001b[38;5;124mForeign\u001b[39m\u001b[38;5;124m\"\u001b[39m: \u001b[38;5;124m\"\u001b[39m\u001b[38;5;124mOutside US\u001b[39m\u001b[38;5;124m\"\u001b[39m}, inplace\u001b[38;5;241m=\u001b[39m\u001b[38;5;28;01mTrue\u001b[39;00m)\n\u001b[1;32m      3\u001b[0m clean_worldwide_df\n",
      "\u001b[0;31mNameError\u001b[0m: name 'clean_worldwide_df' is not defined"
     ]
    }
   ],
   "source": [
    "clean_worldwide_df.rename(columns={\"Release Group\": \"Video Name\"}, inplace=True)\n",
    "clean_worldwide_df.rename(columns={\"Foreign\": \"Outside US\"}, inplace=True)\n",
    "clean_worldwide_df"
   ]
  },
  {
   "cell_type": "code",
   "execution_count": 6,
   "id": "aabc3e5e",
   "metadata": {},
   "outputs": [],
   "source": [
    "clean_worldwide_df.to_csv(\"Resources/movie_worldwide_data.csv\", index=False)"
   ]
  },
  {
   "cell_type": "code",
   "execution_count": null,
   "id": "7a34b168",
   "metadata": {},
   "outputs": [],
   "source": []
  },
  {
   "cell_type": "code",
   "execution_count": null,
   "id": "fb095822",
   "metadata": {},
   "outputs": [],
   "source": [
    "#Merge top movie and trailer data "
   ]
  },
  {
   "cell_type": "code",
   "execution_count": 9,
   "id": "87f00c1d",
   "metadata": {},
   "outputs": [],
   "source": [
    "#Load trailer_clean CSV\n",
    "trailer_clean_data_csv = Path(\"Resources/trailer_clean_data.csv\")\n",
    "movie_worldwide_data_csv = Path(\"Resources/movie_worldwide_data.csv\")\n",
    "#Read CSV\n",
    "trailer_clean_data = pd.read_csv(trailer_clean_data_csv)\n",
    "movie_worldwide_data = pd.read_csv(movie_worldwide_data_csv)"
   ]
  },
  {
   "cell_type": "code",
   "execution_count": 10,
   "id": "554665ad",
   "metadata": {},
   "outputs": [
    {
     "data": {
      "text/html": [
       "<div>\n",
       "<style scoped>\n",
       "    .dataframe tbody tr th:only-of-type {\n",
       "        vertical-align: middle;\n",
       "    }\n",
       "\n",
       "    .dataframe tbody tr th {\n",
       "        vertical-align: top;\n",
       "    }\n",
       "\n",
       "    .dataframe thead th {\n",
       "        text-align: right;\n",
       "    }\n",
       "</style>\n",
       "<table border=\"1\" class=\"dataframe\">\n",
       "  <thead>\n",
       "    <tr style=\"text-align: right;\">\n",
       "      <th></th>\n",
       "      <th>Video Name</th>\n",
       "      <th>viewcount</th>\n",
       "    </tr>\n",
       "  </thead>\n",
       "  <tbody>\n",
       "    <tr>\n",
       "      <th>0</th>\n",
       "      <td>Barbie</td>\n",
       "      <td>79922625</td>\n",
       "    </tr>\n",
       "    <tr>\n",
       "      <th>1</th>\n",
       "      <td>The Super Mario Bros. Movie</td>\n",
       "      <td>30401495</td>\n",
       "    </tr>\n",
       "    <tr>\n",
       "      <th>2</th>\n",
       "      <td>Oppenheimer</td>\n",
       "      <td>113097125</td>\n",
       "    </tr>\n",
       "    <tr>\n",
       "      <th>3</th>\n",
       "      <td>Guardians of the Galaxy Vol.3</td>\n",
       "      <td>53060721</td>\n",
       "    </tr>\n",
       "    <tr>\n",
       "      <th>4</th>\n",
       "      <td>Fast X</td>\n",
       "      <td>85735892</td>\n",
       "    </tr>\n",
       "    <tr>\n",
       "      <th>5</th>\n",
       "      <td>Spider-Man: Across the Spider-Verse</td>\n",
       "      <td>87438940</td>\n",
       "    </tr>\n",
       "    <tr>\n",
       "      <th>6</th>\n",
       "      <td>The Little Mermaid</td>\n",
       "      <td>26057586</td>\n",
       "    </tr>\n",
       "    <tr>\n",
       "      <th>7</th>\n",
       "      <td>Mission: Impossible - Dead Reckoning Part One</td>\n",
       "      <td>34839569</td>\n",
       "    </tr>\n",
       "    <tr>\n",
       "      <th>8</th>\n",
       "      <td>Elemental</td>\n",
       "      <td>46568237</td>\n",
       "    </tr>\n",
       "    <tr>\n",
       "      <th>9</th>\n",
       "      <td>Ant-Man and the Wasp: Quantumania</td>\n",
       "      <td>59840782</td>\n",
       "    </tr>\n",
       "    <tr>\n",
       "      <th>10</th>\n",
       "      <td>John Wick: Chapter 4</td>\n",
       "      <td>80734205</td>\n",
       "    </tr>\n",
       "    <tr>\n",
       "      <th>11</th>\n",
       "      <td>Transformers: Rise of the Beasts</td>\n",
       "      <td>44315621</td>\n",
       "    </tr>\n",
       "    <tr>\n",
       "      <th>12</th>\n",
       "      <td>Meg 2: The Trench</td>\n",
       "      <td>46942856</td>\n",
       "    </tr>\n",
       "    <tr>\n",
       "      <th>13</th>\n",
       "      <td>Indiana Jones and the Dial of Destiny</td>\n",
       "      <td>16408874</td>\n",
       "    </tr>\n",
       "    <tr>\n",
       "      <th>14</th>\n",
       "      <td>The Hunger Games: The Ballad of Songbirds &amp; Sn...</td>\n",
       "      <td>52480356</td>\n",
       "    </tr>\n",
       "    <tr>\n",
       "      <th>15</th>\n",
       "      <td>Five Nights at Freddys</td>\n",
       "      <td>64226929</td>\n",
       "    </tr>\n",
       "    <tr>\n",
       "      <th>16</th>\n",
       "      <td>Creed III</td>\n",
       "      <td>37679312</td>\n",
       "    </tr>\n",
       "    <tr>\n",
       "      <th>17</th>\n",
       "      <td>The Flash</td>\n",
       "      <td>53147143</td>\n",
       "    </tr>\n",
       "    <tr>\n",
       "      <th>18</th>\n",
       "      <td>The Nun II</td>\n",
       "      <td>41725608</td>\n",
       "    </tr>\n",
       "    <tr>\n",
       "      <th>19</th>\n",
       "      <td>Wonka</td>\n",
       "      <td>12626941</td>\n",
       "    </tr>\n",
       "  </tbody>\n",
       "</table>\n",
       "</div>"
      ],
      "text/plain": [
       "                                           Video Name  viewcount\n",
       "0                                              Barbie   79922625\n",
       "1                         The Super Mario Bros. Movie   30401495\n",
       "2                                         Oppenheimer  113097125\n",
       "3                       Guardians of the Galaxy Vol.3   53060721\n",
       "4                                              Fast X   85735892\n",
       "5                 Spider-Man: Across the Spider-Verse   87438940\n",
       "6                                  The Little Mermaid   26057586\n",
       "7       Mission: Impossible - Dead Reckoning Part One   34839569\n",
       "8                                           Elemental   46568237\n",
       "9                   Ant-Man and the Wasp: Quantumania   59840782\n",
       "10                               John Wick: Chapter 4   80734205\n",
       "11                   Transformers: Rise of the Beasts   44315621\n",
       "12                                  Meg 2: The Trench   46942856\n",
       "13              Indiana Jones and the Dial of Destiny   16408874\n",
       "14  The Hunger Games: The Ballad of Songbirds & Sn...   52480356\n",
       "15                             Five Nights at Freddys   64226929\n",
       "16                                          Creed III   37679312\n",
       "17                                          The Flash   53147143\n",
       "18                                         The Nun II   41725608\n",
       "19                                              Wonka   12626941"
      ]
     },
     "execution_count": 10,
     "metadata": {},
     "output_type": "execute_result"
    }
   ],
   "source": [
    "#Rename column video name\n",
    "trailer_clean_data.rename(columns={\"videoname\": \"Video Name\"}, inplace=True)\n",
    "trailer_clean_data"
   ]
  },
  {
   "cell_type": "code",
   "execution_count": 11,
   "id": "0997c003",
   "metadata": {},
   "outputs": [
    {
     "data": {
      "text/html": [
       "<div>\n",
       "<style scoped>\n",
       "    .dataframe tbody tr th:only-of-type {\n",
       "        vertical-align: middle;\n",
       "    }\n",
       "\n",
       "    .dataframe tbody tr th {\n",
       "        vertical-align: top;\n",
       "    }\n",
       "\n",
       "    .dataframe thead th {\n",
       "        text-align: right;\n",
       "    }\n",
       "</style>\n",
       "<table border=\"1\" class=\"dataframe\">\n",
       "  <thead>\n",
       "    <tr style=\"text-align: right;\">\n",
       "      <th></th>\n",
       "      <th>Video Name</th>\n",
       "      <th>viewcount</th>\n",
       "    </tr>\n",
       "  </thead>\n",
       "  <tbody>\n",
       "    <tr>\n",
       "      <th>0</th>\n",
       "      <td>Barbie</td>\n",
       "      <td>79922625</td>\n",
       "    </tr>\n",
       "    <tr>\n",
       "      <th>1</th>\n",
       "      <td>The Super Mario Bros. Movie</td>\n",
       "      <td>30401495</td>\n",
       "    </tr>\n",
       "    <tr>\n",
       "      <th>2</th>\n",
       "      <td>Oppenheimer</td>\n",
       "      <td>113097125</td>\n",
       "    </tr>\n",
       "    <tr>\n",
       "      <th>3</th>\n",
       "      <td>Guardians of the Galaxy Vol.3</td>\n",
       "      <td>53060721</td>\n",
       "    </tr>\n",
       "    <tr>\n",
       "      <th>4</th>\n",
       "      <td>Fast X</td>\n",
       "      <td>85735892</td>\n",
       "    </tr>\n",
       "    <tr>\n",
       "      <th>5</th>\n",
       "      <td>Spider-Man: Across the Spider-Verse</td>\n",
       "      <td>87438940</td>\n",
       "    </tr>\n",
       "    <tr>\n",
       "      <th>6</th>\n",
       "      <td>The Little Mermaid</td>\n",
       "      <td>26057586</td>\n",
       "    </tr>\n",
       "    <tr>\n",
       "      <th>7</th>\n",
       "      <td>Mission: Impossible - Dead Reckoning Part One</td>\n",
       "      <td>34839569</td>\n",
       "    </tr>\n",
       "    <tr>\n",
       "      <th>8</th>\n",
       "      <td>Elemental</td>\n",
       "      <td>46568237</td>\n",
       "    </tr>\n",
       "    <tr>\n",
       "      <th>9</th>\n",
       "      <td>Ant-Man and the Wasp: Quantumania</td>\n",
       "      <td>59840782</td>\n",
       "    </tr>\n",
       "    <tr>\n",
       "      <th>10</th>\n",
       "      <td>John Wick: Chapter 4</td>\n",
       "      <td>80734205</td>\n",
       "    </tr>\n",
       "    <tr>\n",
       "      <th>11</th>\n",
       "      <td>Transformers: Rise of the Beasts</td>\n",
       "      <td>44315621</td>\n",
       "    </tr>\n",
       "    <tr>\n",
       "      <th>12</th>\n",
       "      <td>Meg 2: The Trench</td>\n",
       "      <td>46942856</td>\n",
       "    </tr>\n",
       "    <tr>\n",
       "      <th>13</th>\n",
       "      <td>Indiana Jones and the Dial of Destiny</td>\n",
       "      <td>16408874</td>\n",
       "    </tr>\n",
       "    <tr>\n",
       "      <th>14</th>\n",
       "      <td>The Hunger Games: The Ballad of Songbirds &amp; Sn...</td>\n",
       "      <td>52480356</td>\n",
       "    </tr>\n",
       "    <tr>\n",
       "      <th>15</th>\n",
       "      <td>Five Nights at Freddy's</td>\n",
       "      <td>64226929</td>\n",
       "    </tr>\n",
       "    <tr>\n",
       "      <th>16</th>\n",
       "      <td>Creed III</td>\n",
       "      <td>37679312</td>\n",
       "    </tr>\n",
       "    <tr>\n",
       "      <th>17</th>\n",
       "      <td>The Flash</td>\n",
       "      <td>53147143</td>\n",
       "    </tr>\n",
       "    <tr>\n",
       "      <th>18</th>\n",
       "      <td>The Nun II</td>\n",
       "      <td>41725608</td>\n",
       "    </tr>\n",
       "    <tr>\n",
       "      <th>19</th>\n",
       "      <td>Wonka</td>\n",
       "      <td>12626941</td>\n",
       "    </tr>\n",
       "  </tbody>\n",
       "</table>\n",
       "</div>"
      ],
      "text/plain": [
       "                                           Video Name  viewcount\n",
       "0                                              Barbie   79922625\n",
       "1                         The Super Mario Bros. Movie   30401495\n",
       "2                                         Oppenheimer  113097125\n",
       "3                       Guardians of the Galaxy Vol.3   53060721\n",
       "4                                              Fast X   85735892\n",
       "5                 Spider-Man: Across the Spider-Verse   87438940\n",
       "6                                  The Little Mermaid   26057586\n",
       "7       Mission: Impossible - Dead Reckoning Part One   34839569\n",
       "8                                           Elemental   46568237\n",
       "9                   Ant-Man and the Wasp: Quantumania   59840782\n",
       "10                               John Wick: Chapter 4   80734205\n",
       "11                   Transformers: Rise of the Beasts   44315621\n",
       "12                                  Meg 2: The Trench   46942856\n",
       "13              Indiana Jones and the Dial of Destiny   16408874\n",
       "14  The Hunger Games: The Ballad of Songbirds & Sn...   52480356\n",
       "15                            Five Nights at Freddy's   64226929\n",
       "16                                          Creed III   37679312\n",
       "17                                          The Flash   53147143\n",
       "18                                         The Nun II   41725608\n",
       "19                                              Wonka   12626941"
      ]
     },
     "execution_count": 11,
     "metadata": {},
     "output_type": "execute_result"
    }
   ],
   "source": [
    "trailer_clean_data = trailer_clean_data.replace(\"Five Nights at Freddys\",\"Five Nights at Freddy's\")\n",
    "trailer_clean_data"
   ]
  },
  {
   "cell_type": "code",
   "execution_count": 12,
   "id": "bd7f2b8c",
   "metadata": {},
   "outputs": [
    {
     "data": {
      "text/html": [
       "<div>\n",
       "<style scoped>\n",
       "    .dataframe tbody tr th:only-of-type {\n",
       "        vertical-align: middle;\n",
       "    }\n",
       "\n",
       "    .dataframe tbody tr th {\n",
       "        vertical-align: top;\n",
       "    }\n",
       "\n",
       "    .dataframe thead th {\n",
       "        text-align: right;\n",
       "    }\n",
       "</style>\n",
       "<table border=\"1\" class=\"dataframe\">\n",
       "  <thead>\n",
       "    <tr style=\"text-align: right;\">\n",
       "      <th></th>\n",
       "      <th>Video Name</th>\n",
       "      <th>viewcount</th>\n",
       "    </tr>\n",
       "  </thead>\n",
       "  <tbody>\n",
       "    <tr>\n",
       "      <th>0</th>\n",
       "      <td>Barbie</td>\n",
       "      <td>79922625</td>\n",
       "    </tr>\n",
       "    <tr>\n",
       "      <th>1</th>\n",
       "      <td>The Super Mario Bros. Movie</td>\n",
       "      <td>30401495</td>\n",
       "    </tr>\n",
       "    <tr>\n",
       "      <th>2</th>\n",
       "      <td>Oppenheimer</td>\n",
       "      <td>113097125</td>\n",
       "    </tr>\n",
       "    <tr>\n",
       "      <th>3</th>\n",
       "      <td>Guardians of the Galaxy Vol. 3</td>\n",
       "      <td>53060721</td>\n",
       "    </tr>\n",
       "    <tr>\n",
       "      <th>4</th>\n",
       "      <td>Fast X</td>\n",
       "      <td>85735892</td>\n",
       "    </tr>\n",
       "    <tr>\n",
       "      <th>5</th>\n",
       "      <td>Spider-Man: Across the Spider-Verse</td>\n",
       "      <td>87438940</td>\n",
       "    </tr>\n",
       "    <tr>\n",
       "      <th>6</th>\n",
       "      <td>The Little Mermaid</td>\n",
       "      <td>26057586</td>\n",
       "    </tr>\n",
       "    <tr>\n",
       "      <th>7</th>\n",
       "      <td>Mission: Impossible - Dead Reckoning Part One</td>\n",
       "      <td>34839569</td>\n",
       "    </tr>\n",
       "    <tr>\n",
       "      <th>8</th>\n",
       "      <td>Elemental</td>\n",
       "      <td>46568237</td>\n",
       "    </tr>\n",
       "    <tr>\n",
       "      <th>9</th>\n",
       "      <td>Ant-Man and the Wasp: Quantumania</td>\n",
       "      <td>59840782</td>\n",
       "    </tr>\n",
       "    <tr>\n",
       "      <th>10</th>\n",
       "      <td>John Wick: Chapter 4</td>\n",
       "      <td>80734205</td>\n",
       "    </tr>\n",
       "    <tr>\n",
       "      <th>11</th>\n",
       "      <td>Transformers: Rise of the Beasts</td>\n",
       "      <td>44315621</td>\n",
       "    </tr>\n",
       "    <tr>\n",
       "      <th>12</th>\n",
       "      <td>Meg 2: The Trench</td>\n",
       "      <td>46942856</td>\n",
       "    </tr>\n",
       "    <tr>\n",
       "      <th>13</th>\n",
       "      <td>Indiana Jones and the Dial of Destiny</td>\n",
       "      <td>16408874</td>\n",
       "    </tr>\n",
       "    <tr>\n",
       "      <th>14</th>\n",
       "      <td>The Hunger Games: The Ballad of Songbirds &amp; Sn...</td>\n",
       "      <td>52480356</td>\n",
       "    </tr>\n",
       "    <tr>\n",
       "      <th>15</th>\n",
       "      <td>Five Nights at Freddy's</td>\n",
       "      <td>64226929</td>\n",
       "    </tr>\n",
       "    <tr>\n",
       "      <th>16</th>\n",
       "      <td>Creed III</td>\n",
       "      <td>37679312</td>\n",
       "    </tr>\n",
       "    <tr>\n",
       "      <th>17</th>\n",
       "      <td>The Flash</td>\n",
       "      <td>53147143</td>\n",
       "    </tr>\n",
       "    <tr>\n",
       "      <th>18</th>\n",
       "      <td>The Nun II</td>\n",
       "      <td>41725608</td>\n",
       "    </tr>\n",
       "    <tr>\n",
       "      <th>19</th>\n",
       "      <td>Wonka</td>\n",
       "      <td>12626941</td>\n",
       "    </tr>\n",
       "  </tbody>\n",
       "</table>\n",
       "</div>"
      ],
      "text/plain": [
       "                                           Video Name  viewcount\n",
       "0                                              Barbie   79922625\n",
       "1                         The Super Mario Bros. Movie   30401495\n",
       "2                                         Oppenheimer  113097125\n",
       "3                      Guardians of the Galaxy Vol. 3   53060721\n",
       "4                                              Fast X   85735892\n",
       "5                 Spider-Man: Across the Spider-Verse   87438940\n",
       "6                                  The Little Mermaid   26057586\n",
       "7       Mission: Impossible - Dead Reckoning Part One   34839569\n",
       "8                                           Elemental   46568237\n",
       "9                   Ant-Man and the Wasp: Quantumania   59840782\n",
       "10                               John Wick: Chapter 4   80734205\n",
       "11                   Transformers: Rise of the Beasts   44315621\n",
       "12                                  Meg 2: The Trench   46942856\n",
       "13              Indiana Jones and the Dial of Destiny   16408874\n",
       "14  The Hunger Games: The Ballad of Songbirds & Sn...   52480356\n",
       "15                            Five Nights at Freddy's   64226929\n",
       "16                                          Creed III   37679312\n",
       "17                                          The Flash   53147143\n",
       "18                                         The Nun II   41725608\n",
       "19                                              Wonka   12626941"
      ]
     },
     "execution_count": 12,
     "metadata": {},
     "output_type": "execute_result"
    }
   ],
   "source": [
    "trailer_clean_data = trailer_clean_data.replace(\"Guardians of the Galaxy Vol.3\",\"Guardians of the Galaxy Vol. 3\")\n",
    "trailer_clean_data"
   ]
  },
  {
   "cell_type": "code",
   "execution_count": 13,
   "id": "325e6e3a",
   "metadata": {},
   "outputs": [
    {
     "data": {
      "text/html": [
       "<div>\n",
       "<style scoped>\n",
       "    .dataframe tbody tr th:only-of-type {\n",
       "        vertical-align: middle;\n",
       "    }\n",
       "\n",
       "    .dataframe tbody tr th {\n",
       "        vertical-align: top;\n",
       "    }\n",
       "\n",
       "    .dataframe thead th {\n",
       "        text-align: right;\n",
       "    }\n",
       "</style>\n",
       "<table border=\"1\" class=\"dataframe\">\n",
       "  <thead>\n",
       "    <tr style=\"text-align: right;\">\n",
       "      <th></th>\n",
       "      <th>Rank</th>\n",
       "      <th>Video Name</th>\n",
       "      <th>Worldwide</th>\n",
       "      <th>Domestic</th>\n",
       "      <th>Outside US</th>\n",
       "      <th>viewcount</th>\n",
       "    </tr>\n",
       "  </thead>\n",
       "  <tbody>\n",
       "    <tr>\n",
       "      <th>0</th>\n",
       "      <td>1</td>\n",
       "      <td>Barbie</td>\n",
       "      <td>$1,441,820,453</td>\n",
       "      <td>$636,220,453</td>\n",
       "      <td>$805,600,000</td>\n",
       "      <td>79922625</td>\n",
       "    </tr>\n",
       "    <tr>\n",
       "      <th>1</th>\n",
       "      <td>2</td>\n",
       "      <td>The Super Mario Bros. Movie</td>\n",
       "      <td>$1,361,367,353</td>\n",
       "      <td>$574,934,330</td>\n",
       "      <td>$786,433,023</td>\n",
       "      <td>30401495</td>\n",
       "    </tr>\n",
       "    <tr>\n",
       "      <th>2</th>\n",
       "      <td>3</td>\n",
       "      <td>Oppenheimer</td>\n",
       "      <td>$952,021,870</td>\n",
       "      <td>$326,087,870</td>\n",
       "      <td>$625,934,000</td>\n",
       "      <td>113097125</td>\n",
       "    </tr>\n",
       "    <tr>\n",
       "      <th>3</th>\n",
       "      <td>4</td>\n",
       "      <td>Guardians of the Galaxy Vol. 3</td>\n",
       "      <td>$845,555,777</td>\n",
       "      <td>$358,995,815</td>\n",
       "      <td>$486,559,962</td>\n",
       "      <td>53060721</td>\n",
       "    </tr>\n",
       "    <tr>\n",
       "      <th>4</th>\n",
       "      <td>5</td>\n",
       "      <td>Fast X</td>\n",
       "      <td>$704,875,015</td>\n",
       "      <td>$146,126,015</td>\n",
       "      <td>$558,749,000</td>\n",
       "      <td>85735892</td>\n",
       "    </tr>\n",
       "    <tr>\n",
       "      <th>5</th>\n",
       "      <td>6</td>\n",
       "      <td>Spider-Man: Across the Spider-Verse</td>\n",
       "      <td>$690,516,673</td>\n",
       "      <td>$381,311,319</td>\n",
       "      <td>$309,205,354</td>\n",
       "      <td>87438940</td>\n",
       "    </tr>\n",
       "    <tr>\n",
       "      <th>6</th>\n",
       "      <td>7</td>\n",
       "      <td>The Little Mermaid</td>\n",
       "      <td>$569,626,289</td>\n",
       "      <td>$298,172,056</td>\n",
       "      <td>$271,454,233</td>\n",
       "      <td>26057586</td>\n",
       "    </tr>\n",
       "    <tr>\n",
       "      <th>7</th>\n",
       "      <td>8</td>\n",
       "      <td>Mission: Impossible - Dead Reckoning Part One</td>\n",
       "      <td>$567,535,383</td>\n",
       "      <td>$172,135,383</td>\n",
       "      <td>$395,400,000</td>\n",
       "      <td>34839569</td>\n",
       "    </tr>\n",
       "    <tr>\n",
       "      <th>8</th>\n",
       "      <td>9</td>\n",
       "      <td>Elemental</td>\n",
       "      <td>$496,307,013</td>\n",
       "      <td>$154,426,697</td>\n",
       "      <td>$341,880,316</td>\n",
       "      <td>46568237</td>\n",
       "    </tr>\n",
       "    <tr>\n",
       "      <th>9</th>\n",
       "      <td>10</td>\n",
       "      <td>Ant-Man and the Wasp: Quantumania</td>\n",
       "      <td>$476,071,180</td>\n",
       "      <td>$214,504,909</td>\n",
       "      <td>$261,566,271</td>\n",
       "      <td>59840782</td>\n",
       "    </tr>\n",
       "    <tr>\n",
       "      <th>10</th>\n",
       "      <td>11</td>\n",
       "      <td>John Wick: Chapter 4</td>\n",
       "      <td>$440,146,694</td>\n",
       "      <td>$187,131,806</td>\n",
       "      <td>$253,014,888</td>\n",
       "      <td>80734205</td>\n",
       "    </tr>\n",
       "    <tr>\n",
       "      <th>11</th>\n",
       "      <td>12</td>\n",
       "      <td>Transformers: Rise of the Beasts</td>\n",
       "      <td>$438,966,392</td>\n",
       "      <td>$157,066,392</td>\n",
       "      <td>$281,900,000</td>\n",
       "      <td>44315621</td>\n",
       "    </tr>\n",
       "    <tr>\n",
       "      <th>12</th>\n",
       "      <td>13</td>\n",
       "      <td>Meg 2: The Trench</td>\n",
       "      <td>$395,000,317</td>\n",
       "      <td>$82,600,317</td>\n",
       "      <td>$312,400,000</td>\n",
       "      <td>46942856</td>\n",
       "    </tr>\n",
       "    <tr>\n",
       "      <th>13</th>\n",
       "      <td>14</td>\n",
       "      <td>Indiana Jones and the Dial of Destiny</td>\n",
       "      <td>$383,963,057</td>\n",
       "      <td>$174,480,468</td>\n",
       "      <td>$209,482,589</td>\n",
       "      <td>16408874</td>\n",
       "    </tr>\n",
       "    <tr>\n",
       "      <th>14</th>\n",
       "      <td>15</td>\n",
       "      <td>The Hunger Games: The Ballad of Songbirds &amp; Sn...</td>\n",
       "      <td>$315,337,500</td>\n",
       "      <td>$153,337,500</td>\n",
       "      <td>$162,000,000</td>\n",
       "      <td>52480356</td>\n",
       "    </tr>\n",
       "    <tr>\n",
       "      <th>15</th>\n",
       "      <td>16</td>\n",
       "      <td>Five Nights at Freddy's</td>\n",
       "      <td>$290,501,123</td>\n",
       "      <td>$137,275,620</td>\n",
       "      <td>$153,225,503</td>\n",
       "      <td>64226929</td>\n",
       "    </tr>\n",
       "    <tr>\n",
       "      <th>16</th>\n",
       "      <td>17</td>\n",
       "      <td>Creed III</td>\n",
       "      <td>$275,248,615</td>\n",
       "      <td>$156,248,615</td>\n",
       "      <td>$119,000,000</td>\n",
       "      <td>37679312</td>\n",
       "    </tr>\n",
       "    <tr>\n",
       "      <th>17</th>\n",
       "      <td>18</td>\n",
       "      <td>Wonka</td>\n",
       "      <td>$272,053,000</td>\n",
       "      <td>$94,453,000</td>\n",
       "      <td>$177,600,000</td>\n",
       "      <td>12626941</td>\n",
       "    </tr>\n",
       "    <tr>\n",
       "      <th>18</th>\n",
       "      <td>19</td>\n",
       "      <td>The Flash</td>\n",
       "      <td>$270,633,313</td>\n",
       "      <td>$108,133,313</td>\n",
       "      <td>$162,500,000</td>\n",
       "      <td>53147143</td>\n",
       "    </tr>\n",
       "    <tr>\n",
       "      <th>19</th>\n",
       "      <td>20</td>\n",
       "      <td>The Nun II</td>\n",
       "      <td>$268,067,073</td>\n",
       "      <td>$86,267,073</td>\n",
       "      <td>$181,800,000</td>\n",
       "      <td>41725608</td>\n",
       "    </tr>\n",
       "  </tbody>\n",
       "</table>\n",
       "</div>"
      ],
      "text/plain": [
       "    Rank                                         Video Name       Worldwide  \\\n",
       "0      1                                             Barbie  $1,441,820,453   \n",
       "1      2                        The Super Mario Bros. Movie  $1,361,367,353   \n",
       "2      3                                        Oppenheimer    $952,021,870   \n",
       "3      4                     Guardians of the Galaxy Vol. 3    $845,555,777   \n",
       "4      5                                             Fast X    $704,875,015   \n",
       "5      6                Spider-Man: Across the Spider-Verse    $690,516,673   \n",
       "6      7                                 The Little Mermaid    $569,626,289   \n",
       "7      8      Mission: Impossible - Dead Reckoning Part One    $567,535,383   \n",
       "8      9                                          Elemental    $496,307,013   \n",
       "9     10                  Ant-Man and the Wasp: Quantumania    $476,071,180   \n",
       "10    11                               John Wick: Chapter 4    $440,146,694   \n",
       "11    12                   Transformers: Rise of the Beasts    $438,966,392   \n",
       "12    13                                  Meg 2: The Trench    $395,000,317   \n",
       "13    14              Indiana Jones and the Dial of Destiny    $383,963,057   \n",
       "14    15  The Hunger Games: The Ballad of Songbirds & Sn...    $315,337,500   \n",
       "15    16                            Five Nights at Freddy's    $290,501,123   \n",
       "16    17                                          Creed III    $275,248,615   \n",
       "17    18                                              Wonka    $272,053,000   \n",
       "18    19                                          The Flash    $270,633,313   \n",
       "19    20                                         The Nun II    $268,067,073   \n",
       "\n",
       "        Domestic    Outside US  viewcount  \n",
       "0   $636,220,453  $805,600,000   79922625  \n",
       "1   $574,934,330  $786,433,023   30401495  \n",
       "2   $326,087,870  $625,934,000  113097125  \n",
       "3   $358,995,815  $486,559,962   53060721  \n",
       "4   $146,126,015  $558,749,000   85735892  \n",
       "5   $381,311,319  $309,205,354   87438940  \n",
       "6   $298,172,056  $271,454,233   26057586  \n",
       "7   $172,135,383  $395,400,000   34839569  \n",
       "8   $154,426,697  $341,880,316   46568237  \n",
       "9   $214,504,909  $261,566,271   59840782  \n",
       "10  $187,131,806  $253,014,888   80734205  \n",
       "11  $157,066,392  $281,900,000   44315621  \n",
       "12   $82,600,317  $312,400,000   46942856  \n",
       "13  $174,480,468  $209,482,589   16408874  \n",
       "14  $153,337,500  $162,000,000   52480356  \n",
       "15  $137,275,620  $153,225,503   64226929  \n",
       "16  $156,248,615  $119,000,000   37679312  \n",
       "17   $94,453,000  $177,600,000   12626941  \n",
       "18  $108,133,313  $162,500,000   53147143  \n",
       "19   $86,267,073  $181,800,000   41725608  "
      ]
     },
     "execution_count": 13,
     "metadata": {},
     "output_type": "execute_result"
    }
   ],
   "source": [
    "#Merge movie_clean and trailer_clean \n",
    "movie_trailer_df = movie_worldwide_data.merge(trailer_clean_data, how='inner', on= 'Video Name')\n",
    "movie_trailer_df"
   ]
  },
  {
   "cell_type": "code",
   "execution_count": 14,
   "id": "4169b4c3",
   "metadata": {},
   "outputs": [
    {
     "data": {
      "text/plain": [
       "Rank           int64\n",
       "Video Name    object\n",
       "Worldwide     object\n",
       "Domestic      object\n",
       "Outside US    object\n",
       "viewcount      int64\n",
       "dtype: object"
      ]
     },
     "execution_count": 14,
     "metadata": {},
     "output_type": "execute_result"
    }
   ],
   "source": [
    "movie_trailer_df.dtypes"
   ]
  },
  {
   "cell_type": "code",
   "execution_count": 15,
   "id": "bdaa4dc8",
   "metadata": {},
   "outputs": [],
   "source": [
    "movie_trailer_df['Worldwide'] = movie_trailer_df['Worldwide'].str.replace(',', '').str.replace('$', '').astype(int)"
   ]
  },
  {
   "cell_type": "code",
   "execution_count": 16,
   "id": "7e5fab8e",
   "metadata": {},
   "outputs": [],
   "source": [
    "movie_trailer_df['Domestic'] = movie_trailer_df['Domestic'].str.replace(',', '').str.replace('$', '').astype(int)\n",
    "movie_trailer_df['Outside US'] = movie_trailer_df['Outside US'].str.replace(',', '').str.replace('$', '').astype(int)"
   ]
  },
  {
   "cell_type": "code",
   "execution_count": 17,
   "id": "be899f12",
   "metadata": {},
   "outputs": [
    {
     "data": {
      "text/plain": [
       "Rank           int64\n",
       "Video Name    object\n",
       "Worldwide      int64\n",
       "Domestic       int64\n",
       "Outside US     int64\n",
       "viewcount      int64\n",
       "dtype: object"
      ]
     },
     "execution_count": 17,
     "metadata": {},
     "output_type": "execute_result"
    }
   ],
   "source": [
    "movie_trailer_df.dtypes"
   ]
  },
  {
   "cell_type": "code",
   "execution_count": 18,
   "id": "86b4b0a2",
   "metadata": {},
   "outputs": [],
   "source": [
    "movie_trailer_df.to_csv(\"Resources/movie_trailer_data.csv\", index=False)"
   ]
  },
  {
   "cell_type": "code",
   "execution_count": null,
   "id": "9591de78",
   "metadata": {},
   "outputs": [],
   "source": []
  }
 ],
 "metadata": {
  "kernelspec": {
   "display_name": "Python 3 (ipykernel)",
   "language": "python",
   "name": "python3"
  },
  "language_info": {
   "codemirror_mode": {
    "name": "ipython",
    "version": 3
   },
   "file_extension": ".py",
   "mimetype": "text/x-python",
   "name": "python",
   "nbconvert_exporter": "python",
   "pygments_lexer": "ipython3",
   "version": "3.10.13"
  }
 },
 "nbformat": 4,
 "nbformat_minor": 5
}
